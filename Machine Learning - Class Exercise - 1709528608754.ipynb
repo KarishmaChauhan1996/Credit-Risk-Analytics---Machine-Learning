{
 "cells": [
  {
   "cell_type": "markdown",
   "metadata": {},
   "source": [
    "### Credit Risk Analytics - Machine Learning"
   ]
  },
  {
   "cell_type": "code",
   "execution_count": 1,
   "metadata": {},
   "outputs": [
    {
     "data": {
      "text/plain": [
       "<Figure size 720x540 with 0 Axes>"
      ]
     },
     "metadata": {},
     "output_type": "display_data"
    }
   ],
   "source": [
    "import pandas as pd\n",
    "import numpy as np\n",
    "import seaborn as sns\n",
    "import matplotlib.pyplot as plt\n",
    "\n",
    "import scipy.stats as stats\n",
    "import pandas_profiling   #need to install using anaconda prompt (pip install pandas_profiling)\n",
    "\n",
    "%matplotlib inline\n",
    "plt.rcParams['figure.figsize'] = 10, 7.5\n",
    "plt.rcParams['axes.grid'] = True\n",
    "plt.gray()\n",
    "\n",
    "from statsmodels.stats.outliers_influence import variance_inflation_factor\n",
    "\n",
    "import statsmodels.formula.api as smf"
   ]
  },
  {
   "cell_type": "code",
   "execution_count": 2,
   "metadata": {},
   "outputs": [],
   "source": [
    "from sklearn.model_selection import train_test_split\n",
    "from sklearn import metrics\n",
    "\n",
    "from sklearn.neighbors import KNeighborsClassifier\n",
    "\n",
    "from sklearn.model_selection import GridSearchCV"
   ]
  },
  {
   "cell_type": "code",
   "execution_count": 3,
   "metadata": {},
   "outputs": [],
   "source": [
    "# Load the data\n",
    "bankloans = pd.read_csv( 'bankloans.csv' )"
   ]
  },
  {
   "cell_type": "code",
   "execution_count": 4,
   "metadata": {},
   "outputs": [
    {
     "data": {
      "text/html": [
       "<div>\n",
       "<style scoped>\n",
       "    .dataframe tbody tr th:only-of-type {\n",
       "        vertical-align: middle;\n",
       "    }\n",
       "\n",
       "    .dataframe tbody tr th {\n",
       "        vertical-align: top;\n",
       "    }\n",
       "\n",
       "    .dataframe thead th {\n",
       "        text-align: right;\n",
       "    }\n",
       "</style>\n",
       "<table border=\"1\" class=\"dataframe\">\n",
       "  <thead>\n",
       "    <tr style=\"text-align: right;\">\n",
       "      <th></th>\n",
       "      <th>age</th>\n",
       "      <th>ed</th>\n",
       "      <th>employ</th>\n",
       "      <th>address</th>\n",
       "      <th>income</th>\n",
       "      <th>debtinc</th>\n",
       "      <th>creddebt</th>\n",
       "      <th>othdebt</th>\n",
       "      <th>default</th>\n",
       "    </tr>\n",
       "  </thead>\n",
       "  <tbody>\n",
       "    <tr>\n",
       "      <th>0</th>\n",
       "      <td>41</td>\n",
       "      <td>3</td>\n",
       "      <td>17</td>\n",
       "      <td>12</td>\n",
       "      <td>176</td>\n",
       "      <td>9.3</td>\n",
       "      <td>11.359392</td>\n",
       "      <td>5.008608</td>\n",
       "      <td>1.0</td>\n",
       "    </tr>\n",
       "    <tr>\n",
       "      <th>1</th>\n",
       "      <td>27</td>\n",
       "      <td>1</td>\n",
       "      <td>10</td>\n",
       "      <td>6</td>\n",
       "      <td>31</td>\n",
       "      <td>17.3</td>\n",
       "      <td>1.362202</td>\n",
       "      <td>4.000798</td>\n",
       "      <td>0.0</td>\n",
       "    </tr>\n",
       "    <tr>\n",
       "      <th>2</th>\n",
       "      <td>40</td>\n",
       "      <td>1</td>\n",
       "      <td>15</td>\n",
       "      <td>14</td>\n",
       "      <td>55</td>\n",
       "      <td>5.5</td>\n",
       "      <td>0.856075</td>\n",
       "      <td>2.168925</td>\n",
       "      <td>0.0</td>\n",
       "    </tr>\n",
       "    <tr>\n",
       "      <th>3</th>\n",
       "      <td>41</td>\n",
       "      <td>1</td>\n",
       "      <td>15</td>\n",
       "      <td>14</td>\n",
       "      <td>120</td>\n",
       "      <td>2.9</td>\n",
       "      <td>2.658720</td>\n",
       "      <td>0.821280</td>\n",
       "      <td>0.0</td>\n",
       "    </tr>\n",
       "    <tr>\n",
       "      <th>4</th>\n",
       "      <td>24</td>\n",
       "      <td>2</td>\n",
       "      <td>2</td>\n",
       "      <td>0</td>\n",
       "      <td>28</td>\n",
       "      <td>17.3</td>\n",
       "      <td>1.787436</td>\n",
       "      <td>3.056564</td>\n",
       "      <td>1.0</td>\n",
       "    </tr>\n",
       "  </tbody>\n",
       "</table>\n",
       "</div>"
      ],
      "text/plain": [
       "   age  ed  employ  address  income  debtinc   creddebt   othdebt  default\n",
       "0   41   3      17       12     176      9.3  11.359392  5.008608      1.0\n",
       "1   27   1      10        6      31     17.3   1.362202  4.000798      0.0\n",
       "2   40   1      15       14      55      5.5   0.856075  2.168925      0.0\n",
       "3   41   1      15       14     120      2.9   2.658720  0.821280      0.0\n",
       "4   24   2       2        0      28     17.3   1.787436  3.056564      1.0"
      ]
     },
     "execution_count": 4,
     "metadata": {},
     "output_type": "execute_result"
    }
   ],
   "source": [
    "bankloans.head()"
   ]
  },
  {
   "cell_type": "code",
   "execution_count": 5,
   "metadata": {},
   "outputs": [
    {
     "name": "stdout",
     "output_type": "stream",
     "text": [
      "<class 'pandas.core.frame.DataFrame'>\n",
      "RangeIndex: 850 entries, 0 to 849\n",
      "Data columns (total 9 columns):\n",
      " #   Column    Non-Null Count  Dtype  \n",
      "---  ------    --------------  -----  \n",
      " 0   age       850 non-null    int64  \n",
      " 1   ed        850 non-null    int64  \n",
      " 2   employ    850 non-null    int64  \n",
      " 3   address   850 non-null    int64  \n",
      " 4   income    850 non-null    int64  \n",
      " 5   debtinc   850 non-null    float64\n",
      " 6   creddebt  850 non-null    float64\n",
      " 7   othdebt   850 non-null    float64\n",
      " 8   default   700 non-null    float64\n",
      "dtypes: float64(4), int64(5)\n",
      "memory usage: 59.9 KB\n"
     ]
    }
   ],
   "source": [
    "bankloans.info()"
   ]
  },
  {
   "cell_type": "code",
   "execution_count": 6,
   "metadata": {},
   "outputs": [],
   "source": [
    "bankloans_existing = bankloans[bankloans.default.isnull()==0]\n",
    "bankloans_new = bankloans[bankloans.default.isnull()==1]"
   ]
  },
  {
   "cell_type": "code",
   "execution_count": 7,
   "metadata": {},
   "outputs": [],
   "source": [
    "#Missing vlaue treatment\n",
    "def missings_treat(x):\n",
    "    x = x.fillna(x.median())\n",
    "    return x\n",
    "\n",
    "#Handling Outliers - Method2\n",
    "def outlier_capping(x):\n",
    "    x = x.clip(upper=x.quantile(0.99), lower =x.quantile(0.01) )\n",
    "    return x\n",
    "\n",
    "bankloans_existing=bankloans_existing.apply(lambda x: missings_treat(x))\n",
    "bankloans_existing=bankloans_existing.apply(lambda x: outlier_capping(x))"
   ]
  },
  {
   "cell_type": "code",
   "execution_count": 8,
   "metadata": {},
   "outputs": [
    {
     "name": "stdout",
     "output_type": "stream",
     "text": [
      "Optimization terminated successfully.\n",
      "         Current function value: 0.559856\n",
      "         Iterations 5\n",
      "Optimization terminated successfully.\n",
      "         Current function value: 0.564673\n",
      "         Iterations 5\n",
      "Optimization terminated successfully.\n",
      "         Current function value: 0.548956\n",
      "         Iterations 5\n",
      "Optimization terminated successfully.\n",
      "         Current function value: 0.501389\n",
      "         Iterations 6\n",
      "Optimization terminated successfully.\n",
      "         Current function value: 0.567774\n",
      "         Iterations 5\n",
      "Optimization terminated successfully.\n",
      "         Current function value: 0.527166\n",
      "         Iterations 6\n",
      "Optimization terminated successfully.\n",
      "         Current function value: 0.569055\n",
      "         Iterations 6\n",
      "Optimization terminated successfully.\n",
      "         Current function value: 0.565619\n",
      "         Iterations 5\n"
     ]
    }
   ],
   "source": [
    "gini_df = pd.DataFrame()\n",
    "for col in bankloans_existing.columns.difference(['default']):\n",
    "    model = smf.logit('default~'+str(col), data=bankloans_existing).fit()\n",
    "    gini = 2*metrics.roc_auc_score(bankloans_existing.default, model.predict(bankloans_existing))-1\n",
    "    temp = pd.DataFrame([col, gini]).T\n",
    "    gini_df = pd.concat([gini_df, temp], axis=0)"
   ]
  },
  {
   "cell_type": "code",
   "execution_count": 9,
   "metadata": {},
   "outputs": [],
   "source": [
    "gini_df.columns= ['Feature', 'SomerceD']\n",
    "gini_df.sort_values(by='SomerceD', ascending=False, inplace=True)"
   ]
  },
  {
   "cell_type": "code",
   "execution_count": 10,
   "metadata": {},
   "outputs": [
    {
     "data": {
      "text/html": [
       "<div>\n",
       "<style scoped>\n",
       "    .dataframe tbody tr th:only-of-type {\n",
       "        vertical-align: middle;\n",
       "    }\n",
       "\n",
       "    .dataframe tbody tr th {\n",
       "        vertical-align: top;\n",
       "    }\n",
       "\n",
       "    .dataframe thead th {\n",
       "        text-align: right;\n",
       "    }\n",
       "</style>\n",
       "<table border=\"1\" class=\"dataframe\">\n",
       "  <thead>\n",
       "    <tr style=\"text-align: right;\">\n",
       "      <th></th>\n",
       "      <th>Feature</th>\n",
       "      <th>SomerceD</th>\n",
       "    </tr>\n",
       "  </thead>\n",
       "  <tbody>\n",
       "    <tr>\n",
       "      <th>0</th>\n",
       "      <td>debtinc</td>\n",
       "      <td>0.470506</td>\n",
       "    </tr>\n",
       "    <tr>\n",
       "      <th>0</th>\n",
       "      <td>employ</td>\n",
       "      <td>0.409138</td>\n",
       "    </tr>\n",
       "    <tr>\n",
       "      <th>0</th>\n",
       "      <td>creddebt</td>\n",
       "      <td>0.272378</td>\n",
       "    </tr>\n",
       "    <tr>\n",
       "      <th>0</th>\n",
       "      <td>address</td>\n",
       "      <td>0.222384</td>\n",
       "    </tr>\n",
       "    <tr>\n",
       "      <th>0</th>\n",
       "      <td>age</td>\n",
       "      <td>0.206329</td>\n",
       "    </tr>\n",
       "    <tr>\n",
       "      <th>0</th>\n",
       "      <td>income</td>\n",
       "      <td>0.200273</td>\n",
       "    </tr>\n",
       "    <tr>\n",
       "      <th>0</th>\n",
       "      <td>othdebt</td>\n",
       "      <td>0.173806</td>\n",
       "    </tr>\n",
       "    <tr>\n",
       "      <th>0</th>\n",
       "      <td>ed</td>\n",
       "      <td>0.148302</td>\n",
       "    </tr>\n",
       "  </tbody>\n",
       "</table>\n",
       "</div>"
      ],
      "text/plain": [
       "    Feature  SomerceD\n",
       "0   debtinc  0.470506\n",
       "0    employ  0.409138\n",
       "0  creddebt  0.272378\n",
       "0   address  0.222384\n",
       "0       age  0.206329\n",
       "0    income  0.200273\n",
       "0   othdebt  0.173806\n",
       "0        ed  0.148302"
      ]
     },
     "execution_count": 10,
     "metadata": {},
     "output_type": "execute_result"
    }
   ],
   "source": [
    "gini_df"
   ]
  },
  {
   "cell_type": "code",
   "execution_count": 11,
   "metadata": {},
   "outputs": [
    {
     "name": "stderr",
     "output_type": "stream",
     "text": [
      "C:\\Users\\om\\Anaconda3\\lib\\site-packages\\sklearn\\utils\\validation.py:72: FutureWarning: Pass n_features_to_select=5 as keyword args. From version 1.0 (renaming of 0.25) passing these as positional arguments will result in an error\n",
      "  \"will result in an error\", FutureWarning)\n",
      "C:\\Users\\om\\Anaconda3\\lib\\site-packages\\sklearn\\feature_selection\\_rfe.py:241: DataConversionWarning: A column-vector y was passed when a 1d array was expected. Please change the shape of y to (n_samples,), for example using ravel().\n",
      "  estimator.fit(X[:, features], y)\n",
      "C:\\Users\\om\\Anaconda3\\lib\\site-packages\\sklearn\\feature_selection\\_rfe.py:241: DataConversionWarning: A column-vector y was passed when a 1d array was expected. Please change the shape of y to (n_samples,), for example using ravel().\n",
      "  estimator.fit(X[:, features], y)\n",
      "C:\\Users\\om\\Anaconda3\\lib\\site-packages\\sklearn\\feature_selection\\_rfe.py:241: DataConversionWarning: A column-vector y was passed when a 1d array was expected. Please change the shape of y to (n_samples,), for example using ravel().\n",
      "  estimator.fit(X[:, features], y)\n",
      "C:\\Users\\om\\Anaconda3\\lib\\site-packages\\sklearn\\feature_selection\\_rfe.py:266: DataConversionWarning: A column-vector y was passed when a 1d array was expected. Please change the shape of y to (n_samples,), for example using ravel().\n",
      "  self.estimator_.fit(X[:, features], y)\n"
     ]
    },
    {
     "data": {
      "text/plain": [
       "Index(['creddebt', 'debtinc', 'employ', 'income', 'othdebt'], dtype='object')"
      ]
     },
     "execution_count": 11,
     "metadata": {},
     "output_type": "execute_result"
    }
   ],
   "source": [
    "#RFE\n",
    "from sklearn.feature_selection import RFE\n",
    "from sklearn.ensemble import RandomForestClassifier\n",
    "X = bankloans_existing[bankloans_existing.columns.difference(['default'])]\n",
    "y = bankloans_existing[['default']]\n",
    "\n",
    "rfe = RFE(RandomForestClassifier(), 5)\n",
    "rfe = rfe.fit(X, y)\n",
    "\n",
    "X.columns[rfe.get_support()]"
   ]
  },
  {
   "cell_type": "code",
   "execution_count": 12,
   "metadata": {},
   "outputs": [],
   "source": [
    "Final_list = [\n",
    "#'age',\n",
    "'employ',\n",
    "'address',\n",
    "#'income',\n",
    "'debtinc',\n",
    "'creddebt',\n",
    "'othdebt'\n",
    "]"
   ]
  },
  {
   "cell_type": "code",
   "execution_count": 13,
   "metadata": {},
   "outputs": [],
   "source": [
    "X_new = X[Final_list]\n",
    "### VIF Calculation for variables\n",
    "vif = pd.DataFrame()\n",
    "vif[\"VIF_Factor\"] = [variance_inflation_factor(X_new.values, i) for i in range(X_new.shape[1])]\n",
    "vif[\"features\"] = X_new.columns"
   ]
  },
  {
   "cell_type": "code",
   "execution_count": 14,
   "metadata": {},
   "outputs": [
    {
     "data": {
      "text/html": [
       "<div>\n",
       "<style scoped>\n",
       "    .dataframe tbody tr th:only-of-type {\n",
       "        vertical-align: middle;\n",
       "    }\n",
       "\n",
       "    .dataframe tbody tr th {\n",
       "        vertical-align: top;\n",
       "    }\n",
       "\n",
       "    .dataframe thead th {\n",
       "        text-align: right;\n",
       "    }\n",
       "</style>\n",
       "<table border=\"1\" class=\"dataframe\">\n",
       "  <thead>\n",
       "    <tr style=\"text-align: right;\">\n",
       "      <th></th>\n",
       "      <th>VIF_Factor</th>\n",
       "      <th>features</th>\n",
       "    </tr>\n",
       "  </thead>\n",
       "  <tbody>\n",
       "    <tr>\n",
       "      <th>4</th>\n",
       "      <td>4.436528</td>\n",
       "      <td>othdebt</td>\n",
       "    </tr>\n",
       "    <tr>\n",
       "      <th>2</th>\n",
       "      <td>3.624147</td>\n",
       "      <td>debtinc</td>\n",
       "    </tr>\n",
       "    <tr>\n",
       "      <th>3</th>\n",
       "      <td>3.269440</td>\n",
       "      <td>creddebt</td>\n",
       "    </tr>\n",
       "    <tr>\n",
       "      <th>0</th>\n",
       "      <td>3.073768</td>\n",
       "      <td>employ</td>\n",
       "    </tr>\n",
       "    <tr>\n",
       "      <th>1</th>\n",
       "      <td>2.481654</td>\n",
       "      <td>address</td>\n",
       "    </tr>\n",
       "  </tbody>\n",
       "</table>\n",
       "</div>"
      ],
      "text/plain": [
       "   VIF_Factor  features\n",
       "4    4.436528   othdebt\n",
       "2    3.624147   debtinc\n",
       "3    3.269440  creddebt\n",
       "0    3.073768    employ\n",
       "1    2.481654   address"
      ]
     },
     "execution_count": 14,
     "metadata": {},
     "output_type": "execute_result"
    }
   ],
   "source": [
    "vif.sort_values(by='VIF_Factor',ascending=False)"
   ]
  },
  {
   "cell_type": "code",
   "execution_count": 15,
   "metadata": {},
   "outputs": [],
   "source": [
    "data_final = pd.concat([X_new, y], axis=1)"
   ]
  },
  {
   "cell_type": "code",
   "execution_count": 16,
   "metadata": {},
   "outputs": [
    {
     "data": {
      "text/html": [
       "<div>\n",
       "<style scoped>\n",
       "    .dataframe tbody tr th:only-of-type {\n",
       "        vertical-align: middle;\n",
       "    }\n",
       "\n",
       "    .dataframe tbody tr th {\n",
       "        vertical-align: top;\n",
       "    }\n",
       "\n",
       "    .dataframe thead th {\n",
       "        text-align: right;\n",
       "    }\n",
       "</style>\n",
       "<table border=\"1\" class=\"dataframe\">\n",
       "  <thead>\n",
       "    <tr style=\"text-align: right;\">\n",
       "      <th></th>\n",
       "      <th>employ</th>\n",
       "      <th>address</th>\n",
       "      <th>debtinc</th>\n",
       "      <th>creddebt</th>\n",
       "      <th>othdebt</th>\n",
       "      <th>default</th>\n",
       "    </tr>\n",
       "  </thead>\n",
       "  <tbody>\n",
       "    <tr>\n",
       "      <th>0</th>\n",
       "      <td>17.0</td>\n",
       "      <td>12.0</td>\n",
       "      <td>9.3</td>\n",
       "      <td>9.891428</td>\n",
       "      <td>5.008608</td>\n",
       "      <td>1.0</td>\n",
       "    </tr>\n",
       "    <tr>\n",
       "      <th>1</th>\n",
       "      <td>10.0</td>\n",
       "      <td>6.0</td>\n",
       "      <td>17.3</td>\n",
       "      <td>1.362202</td>\n",
       "      <td>4.000798</td>\n",
       "      <td>0.0</td>\n",
       "    </tr>\n",
       "    <tr>\n",
       "      <th>2</th>\n",
       "      <td>15.0</td>\n",
       "      <td>14.0</td>\n",
       "      <td>5.5</td>\n",
       "      <td>0.856075</td>\n",
       "      <td>2.168925</td>\n",
       "      <td>0.0</td>\n",
       "    </tr>\n",
       "    <tr>\n",
       "      <th>3</th>\n",
       "      <td>15.0</td>\n",
       "      <td>14.0</td>\n",
       "      <td>2.9</td>\n",
       "      <td>2.658720</td>\n",
       "      <td>0.821280</td>\n",
       "      <td>0.0</td>\n",
       "    </tr>\n",
       "    <tr>\n",
       "      <th>4</th>\n",
       "      <td>2.0</td>\n",
       "      <td>0.0</td>\n",
       "      <td>17.3</td>\n",
       "      <td>1.787436</td>\n",
       "      <td>3.056564</td>\n",
       "      <td>1.0</td>\n",
       "    </tr>\n",
       "    <tr>\n",
       "      <th>...</th>\n",
       "      <td>...</td>\n",
       "      <td>...</td>\n",
       "      <td>...</td>\n",
       "      <td>...</td>\n",
       "      <td>...</td>\n",
       "      <td>...</td>\n",
       "    </tr>\n",
       "    <tr>\n",
       "      <th>695</th>\n",
       "      <td>6.0</td>\n",
       "      <td>15.0</td>\n",
       "      <td>4.6</td>\n",
       "      <td>0.262062</td>\n",
       "      <td>0.979938</td>\n",
       "      <td>1.0</td>\n",
       "    </tr>\n",
       "    <tr>\n",
       "      <th>696</th>\n",
       "      <td>6.0</td>\n",
       "      <td>4.0</td>\n",
       "      <td>11.5</td>\n",
       "      <td>0.369495</td>\n",
       "      <td>2.045505</td>\n",
       "      <td>0.0</td>\n",
       "    </tr>\n",
       "    <tr>\n",
       "      <th>697</th>\n",
       "      <td>15.0</td>\n",
       "      <td>3.0</td>\n",
       "      <td>7.6</td>\n",
       "      <td>0.491264</td>\n",
       "      <td>1.940736</td>\n",
       "      <td>0.0</td>\n",
       "    </tr>\n",
       "    <tr>\n",
       "      <th>698</th>\n",
       "      <td>19.0</td>\n",
       "      <td>22.0</td>\n",
       "      <td>8.4</td>\n",
       "      <td>2.302608</td>\n",
       "      <td>4.165392</td>\n",
       "      <td>0.0</td>\n",
       "    </tr>\n",
       "    <tr>\n",
       "      <th>699</th>\n",
       "      <td>12.0</td>\n",
       "      <td>14.0</td>\n",
       "      <td>14.7</td>\n",
       "      <td>2.994684</td>\n",
       "      <td>3.473316</td>\n",
       "      <td>0.0</td>\n",
       "    </tr>\n",
       "  </tbody>\n",
       "</table>\n",
       "<p>700 rows × 6 columns</p>\n",
       "</div>"
      ],
      "text/plain": [
       "     employ  address  debtinc  creddebt   othdebt  default\n",
       "0      17.0     12.0      9.3  9.891428  5.008608      1.0\n",
       "1      10.0      6.0     17.3  1.362202  4.000798      0.0\n",
       "2      15.0     14.0      5.5  0.856075  2.168925      0.0\n",
       "3      15.0     14.0      2.9  2.658720  0.821280      0.0\n",
       "4       2.0      0.0     17.3  1.787436  3.056564      1.0\n",
       "..      ...      ...      ...       ...       ...      ...\n",
       "695     6.0     15.0      4.6  0.262062  0.979938      1.0\n",
       "696     6.0      4.0     11.5  0.369495  2.045505      0.0\n",
       "697    15.0      3.0      7.6  0.491264  1.940736      0.0\n",
       "698    19.0     22.0      8.4  2.302608  4.165392      0.0\n",
       "699    12.0     14.0     14.7  2.994684  3.473316      0.0\n",
       "\n",
       "[700 rows x 6 columns]"
      ]
     },
     "execution_count": 16,
     "metadata": {},
     "output_type": "execute_result"
    }
   ],
   "source": [
    "data_final"
   ]
  },
  {
   "cell_type": "code",
   "execution_count": 17,
   "metadata": {},
   "outputs": [],
   "source": [
    "#split the data into train & test\n",
    "train, test = train_test_split(data_final, test_size=0.3, random_state=123)"
   ]
  },
  {
   "cell_type": "code",
   "execution_count": 18,
   "metadata": {},
   "outputs": [],
   "source": [
    "formula = 'default~address+creddebt+debtinc+employ'"
   ]
  },
  {
   "cell_type": "code",
   "execution_count": 19,
   "metadata": {},
   "outputs": [
    {
     "name": "stdout",
     "output_type": "stream",
     "text": [
      "Optimization terminated successfully.\n",
      "         Current function value: 0.400953\n",
      "         Iterations 7\n"
     ]
    }
   ],
   "source": [
    "model = smf.logit(formula, data=train).fit()"
   ]
  },
  {
   "cell_type": "code",
   "execution_count": 20,
   "metadata": {},
   "outputs": [
    {
     "name": "stdout",
     "output_type": "stream",
     "text": [
      "                           Logit Regression Results                           \n",
      "==============================================================================\n",
      "Dep. Variable:                default   No. Observations:                  490\n",
      "Model:                          Logit   Df Residuals:                      485\n",
      "Method:                           MLE   Df Model:                            4\n",
      "Date:                Sat, 18 Dec 2021   Pseudo R-squ.:                  0.3118\n",
      "Time:                        08:26:14   Log-Likelihood:                -196.47\n",
      "converged:                       True   LL-Null:                       -285.50\n",
      "Covariance Type:            nonrobust   LLR p-value:                 1.944e-37\n",
      "==============================================================================\n",
      "                 coef    std err          z      P>|z|      [0.025      0.975]\n",
      "------------------------------------------------------------------------------\n",
      "Intercept     -0.8974      0.299     -3.000      0.003      -1.484      -0.311\n",
      "address       -0.0724      0.024     -2.995      0.003      -0.120      -0.025\n",
      "creddebt       0.6506      0.106      6.146      0.000       0.443       0.858\n",
      "debtinc        0.0870      0.021      4.063      0.000       0.045       0.129\n",
      "employ        -0.2461      0.033     -7.443      0.000      -0.311      -0.181\n",
      "==============================================================================\n"
     ]
    }
   ],
   "source": [
    "print(model.summary())"
   ]
  },
  {
   "cell_type": "code",
   "execution_count": 21,
   "metadata": {},
   "outputs": [],
   "source": [
    "logreg = model"
   ]
  },
  {
   "cell_type": "code",
   "execution_count": 22,
   "metadata": {},
   "outputs": [
    {
     "name": "stderr",
     "output_type": "stream",
     "text": [
      "C:\\Users\\om\\Anaconda3\\lib\\site-packages\\ipykernel_launcher.py:2: SettingWithCopyWarning: \n",
      "A value is trying to be set on a copy of a slice from a DataFrame.\n",
      "Try using .loc[row_indexer,col_indexer] = value instead\n",
      "\n",
      "See the caveats in the documentation: https://pandas.pydata.org/pandas-docs/stable/user_guide/indexing.html#returning-a-view-versus-a-copy\n",
      "  \n",
      "C:\\Users\\om\\Anaconda3\\lib\\site-packages\\ipykernel_launcher.py:3: SettingWithCopyWarning: \n",
      "A value is trying to be set on a copy of a slice from a DataFrame.\n",
      "Try using .loc[row_indexer,col_indexer] = value instead\n",
      "\n",
      "See the caveats in the documentation: https://pandas.pydata.org/pandas-docs/stable/user_guide/indexing.html#returning-a-view-versus-a-copy\n",
      "  This is separate from the ipykernel package so we can avoid doing imports until\n"
     ]
    }
   ],
   "source": [
    "#Metrics based on the probability - AUC, Gini\n",
    "train['prob'] = model.predict(train)\n",
    "test['prob'] = model.predict(test)"
   ]
  },
  {
   "cell_type": "code",
   "execution_count": 23,
   "metadata": {},
   "outputs": [
    {
     "data": {
      "text/plain": [
       "0.8562510580667005"
      ]
     },
     "execution_count": 23,
     "metadata": {},
     "output_type": "execute_result"
    }
   ],
   "source": [
    "train_auc = metrics.roc_auc_score(train.default, train.prob)\n",
    "train_auc"
   ]
  },
  {
   "cell_type": "code",
   "execution_count": 24,
   "metadata": {},
   "outputs": [
    {
     "data": {
      "text/plain": [
       "0.8403009002343076"
      ]
     },
     "execution_count": 24,
     "metadata": {},
     "output_type": "execute_result"
    }
   ],
   "source": [
    "test_auc = metrics.roc_auc_score(test.default, test.prob)\n",
    "test_auc"
   ]
  },
  {
   "cell_type": "code",
   "execution_count": 25,
   "metadata": {},
   "outputs": [
    {
     "data": {
      "text/plain": [
       "0.7125021161334011"
      ]
     },
     "execution_count": 25,
     "metadata": {},
     "output_type": "execute_result"
    }
   ],
   "source": [
    "#Calculating Gini (somerceD) for train & Test\n",
    "train_gini = 2*metrics.roc_auc_score(train.default, train.prob)-1\n",
    "train_gini"
   ]
  },
  {
   "cell_type": "code",
   "execution_count": 26,
   "metadata": {},
   "outputs": [
    {
     "data": {
      "text/plain": [
       "0.6806018004686152"
      ]
     },
     "execution_count": 26,
     "metadata": {},
     "output_type": "execute_result"
    }
   ],
   "source": [
    "test_gini = 2*metrics.roc_auc_score(test.default, test.prob)-1\n",
    "test_gini"
   ]
  },
  {
   "cell_type": "code",
   "execution_count": 27,
   "metadata": {},
   "outputs": [
    {
     "name": "stderr",
     "output_type": "stream",
     "text": [
      "C:\\Users\\om\\Anaconda3\\lib\\site-packages\\ipykernel_launcher.py:4: SettingWithCopyWarning: \n",
      "A value is trying to be set on a copy of a slice from a DataFrame.\n",
      "Try using .loc[row_indexer,col_indexer] = value instead\n",
      "\n",
      "See the caveats in the documentation: https://pandas.pydata.org/pandas-docs/stable/user_guide/indexing.html#returning-a-view-versus-a-copy\n",
      "  after removing the cwd from sys.path.\n",
      "C:\\Users\\om\\Anaconda3\\lib\\site-packages\\ipykernel_launcher.py:5: SettingWithCopyWarning: \n",
      "A value is trying to be set on a copy of a slice from a DataFrame.\n",
      "Try using .loc[row_indexer,col_indexer] = value instead\n",
      "\n",
      "See the caveats in the documentation: https://pandas.pydata.org/pandas-docs/stable/user_guide/indexing.html#returning-a-view-versus-a-copy\n",
      "  \"\"\"\n",
      "C:\\Users\\om\\Anaconda3\\lib\\site-packages\\ipykernel_launcher.py:6: SettingWithCopyWarning: \n",
      "A value is trying to be set on a copy of a slice from a DataFrame.\n",
      "Try using .loc[row_indexer,col_indexer] = value instead\n",
      "\n",
      "See the caveats in the documentation: https://pandas.pydata.org/pandas-docs/stable/user_guide/indexing.html#returning-a-view-versus-a-copy\n",
      "  \n",
      "C:\\Users\\om\\Anaconda3\\lib\\site-packages\\ipykernel_launcher.py:7: SettingWithCopyWarning: \n",
      "A value is trying to be set on a copy of a slice from a DataFrame.\n",
      "Try using .loc[row_indexer,col_indexer] = value instead\n",
      "\n",
      "See the caveats in the documentation: https://pandas.pydata.org/pandas-docs/stable/user_guide/indexing.html#returning-a-view-versus-a-copy\n",
      "  import sys\n",
      "C:\\Users\\om\\Anaconda3\\lib\\site-packages\\ipykernel_launcher.py:8: SettingWithCopyWarning: \n",
      "A value is trying to be set on a copy of a slice from a DataFrame.\n",
      "Try using .loc[row_indexer,col_indexer] = value instead\n",
      "\n",
      "See the caveats in the documentation: https://pandas.pydata.org/pandas-docs/stable/user_guide/indexing.html#returning-a-view-versus-a-copy\n",
      "  \n",
      "C:\\Users\\om\\Anaconda3\\lib\\site-packages\\ipykernel_launcher.py:4: SettingWithCopyWarning: \n",
      "A value is trying to be set on a copy of a slice from a DataFrame.\n",
      "Try using .loc[row_indexer,col_indexer] = value instead\n",
      "\n",
      "See the caveats in the documentation: https://pandas.pydata.org/pandas-docs/stable/user_guide/indexing.html#returning-a-view-versus-a-copy\n",
      "  after removing the cwd from sys.path.\n",
      "C:\\Users\\om\\Anaconda3\\lib\\site-packages\\ipykernel_launcher.py:5: SettingWithCopyWarning: \n",
      "A value is trying to be set on a copy of a slice from a DataFrame.\n",
      "Try using .loc[row_indexer,col_indexer] = value instead\n",
      "\n",
      "See the caveats in the documentation: https://pandas.pydata.org/pandas-docs/stable/user_guide/indexing.html#returning-a-view-versus-a-copy\n",
      "  \"\"\"\n",
      "C:\\Users\\om\\Anaconda3\\lib\\site-packages\\ipykernel_launcher.py:6: SettingWithCopyWarning: \n",
      "A value is trying to be set on a copy of a slice from a DataFrame.\n",
      "Try using .loc[row_indexer,col_indexer] = value instead\n",
      "\n",
      "See the caveats in the documentation: https://pandas.pydata.org/pandas-docs/stable/user_guide/indexing.html#returning-a-view-versus-a-copy\n",
      "  \n",
      "C:\\Users\\om\\Anaconda3\\lib\\site-packages\\ipykernel_launcher.py:7: SettingWithCopyWarning: \n",
      "A value is trying to be set on a copy of a slice from a DataFrame.\n",
      "Try using .loc[row_indexer,col_indexer] = value instead\n",
      "\n",
      "See the caveats in the documentation: https://pandas.pydata.org/pandas-docs/stable/user_guide/indexing.html#returning-a-view-versus-a-copy\n",
      "  import sys\n",
      "C:\\Users\\om\\Anaconda3\\lib\\site-packages\\ipykernel_launcher.py:8: SettingWithCopyWarning: \n",
      "A value is trying to be set on a copy of a slice from a DataFrame.\n",
      "Try using .loc[row_indexer,col_indexer] = value instead\n",
      "\n",
      "See the caveats in the documentation: https://pandas.pydata.org/pandas-docs/stable/user_guide/indexing.html#returning-a-view-versus-a-copy\n",
      "  \n",
      "C:\\Users\\om\\Anaconda3\\lib\\site-packages\\ipykernel_launcher.py:4: SettingWithCopyWarning: \n",
      "A value is trying to be set on a copy of a slice from a DataFrame.\n",
      "Try using .loc[row_indexer,col_indexer] = value instead\n",
      "\n",
      "See the caveats in the documentation: https://pandas.pydata.org/pandas-docs/stable/user_guide/indexing.html#returning-a-view-versus-a-copy\n",
      "  after removing the cwd from sys.path.\n",
      "C:\\Users\\om\\Anaconda3\\lib\\site-packages\\ipykernel_launcher.py:5: SettingWithCopyWarning: \n",
      "A value is trying to be set on a copy of a slice from a DataFrame.\n",
      "Try using .loc[row_indexer,col_indexer] = value instead\n",
      "\n",
      "See the caveats in the documentation: https://pandas.pydata.org/pandas-docs/stable/user_guide/indexing.html#returning-a-view-versus-a-copy\n",
      "  \"\"\"\n",
      "C:\\Users\\om\\Anaconda3\\lib\\site-packages\\ipykernel_launcher.py:6: SettingWithCopyWarning: \n",
      "A value is trying to be set on a copy of a slice from a DataFrame.\n",
      "Try using .loc[row_indexer,col_indexer] = value instead\n",
      "\n",
      "See the caveats in the documentation: https://pandas.pydata.org/pandas-docs/stable/user_guide/indexing.html#returning-a-view-versus-a-copy\n",
      "  \n",
      "C:\\Users\\om\\Anaconda3\\lib\\site-packages\\ipykernel_launcher.py:7: SettingWithCopyWarning: \n",
      "A value is trying to be set on a copy of a slice from a DataFrame.\n",
      "Try using .loc[row_indexer,col_indexer] = value instead\n",
      "\n",
      "See the caveats in the documentation: https://pandas.pydata.org/pandas-docs/stable/user_guide/indexing.html#returning-a-view-versus-a-copy\n",
      "  import sys\n",
      "C:\\Users\\om\\Anaconda3\\lib\\site-packages\\ipykernel_launcher.py:8: SettingWithCopyWarning: \n",
      "A value is trying to be set on a copy of a slice from a DataFrame.\n",
      "Try using .loc[row_indexer,col_indexer] = value instead\n",
      "\n",
      "See the caveats in the documentation: https://pandas.pydata.org/pandas-docs/stable/user_guide/indexing.html#returning-a-view-versus-a-copy\n",
      "  \n",
      "C:\\Users\\om\\Anaconda3\\lib\\site-packages\\ipykernel_launcher.py:4: SettingWithCopyWarning: \n",
      "A value is trying to be set on a copy of a slice from a DataFrame.\n",
      "Try using .loc[row_indexer,col_indexer] = value instead\n",
      "\n",
      "See the caveats in the documentation: https://pandas.pydata.org/pandas-docs/stable/user_guide/indexing.html#returning-a-view-versus-a-copy\n",
      "  after removing the cwd from sys.path.\n",
      "C:\\Users\\om\\Anaconda3\\lib\\site-packages\\ipykernel_launcher.py:5: SettingWithCopyWarning: \n",
      "A value is trying to be set on a copy of a slice from a DataFrame.\n",
      "Try using .loc[row_indexer,col_indexer] = value instead\n",
      "\n",
      "See the caveats in the documentation: https://pandas.pydata.org/pandas-docs/stable/user_guide/indexing.html#returning-a-view-versus-a-copy\n",
      "  \"\"\"\n",
      "C:\\Users\\om\\Anaconda3\\lib\\site-packages\\ipykernel_launcher.py:6: SettingWithCopyWarning: \n",
      "A value is trying to be set on a copy of a slice from a DataFrame.\n",
      "Try using .loc[row_indexer,col_indexer] = value instead\n",
      "\n",
      "See the caveats in the documentation: https://pandas.pydata.org/pandas-docs/stable/user_guide/indexing.html#returning-a-view-versus-a-copy\n",
      "  \n",
      "C:\\Users\\om\\Anaconda3\\lib\\site-packages\\ipykernel_launcher.py:7: SettingWithCopyWarning: \n",
      "A value is trying to be set on a copy of a slice from a DataFrame.\n",
      "Try using .loc[row_indexer,col_indexer] = value instead\n",
      "\n",
      "See the caveats in the documentation: https://pandas.pydata.org/pandas-docs/stable/user_guide/indexing.html#returning-a-view-versus-a-copy\n",
      "  import sys\n",
      "C:\\Users\\om\\Anaconda3\\lib\\site-packages\\ipykernel_launcher.py:8: SettingWithCopyWarning: \n",
      "A value is trying to be set on a copy of a slice from a DataFrame.\n",
      "Try using .loc[row_indexer,col_indexer] = value instead\n",
      "\n",
      "See the caveats in the documentation: https://pandas.pydata.org/pandas-docs/stable/user_guide/indexing.html#returning-a-view-versus-a-copy\n",
      "  \n",
      "C:\\Users\\om\\Anaconda3\\lib\\site-packages\\ipykernel_launcher.py:4: SettingWithCopyWarning: \n",
      "A value is trying to be set on a copy of a slice from a DataFrame.\n",
      "Try using .loc[row_indexer,col_indexer] = value instead\n",
      "\n",
      "See the caveats in the documentation: https://pandas.pydata.org/pandas-docs/stable/user_guide/indexing.html#returning-a-view-versus-a-copy\n",
      "  after removing the cwd from sys.path.\n",
      "C:\\Users\\om\\Anaconda3\\lib\\site-packages\\ipykernel_launcher.py:5: SettingWithCopyWarning: \n",
      "A value is trying to be set on a copy of a slice from a DataFrame.\n",
      "Try using .loc[row_indexer,col_indexer] = value instead\n",
      "\n",
      "See the caveats in the documentation: https://pandas.pydata.org/pandas-docs/stable/user_guide/indexing.html#returning-a-view-versus-a-copy\n",
      "  \"\"\"\n",
      "C:\\Users\\om\\Anaconda3\\lib\\site-packages\\ipykernel_launcher.py:6: SettingWithCopyWarning: \n",
      "A value is trying to be set on a copy of a slice from a DataFrame.\n",
      "Try using .loc[row_indexer,col_indexer] = value instead\n",
      "\n",
      "See the caveats in the documentation: https://pandas.pydata.org/pandas-docs/stable/user_guide/indexing.html#returning-a-view-versus-a-copy\n",
      "  \n",
      "C:\\Users\\om\\Anaconda3\\lib\\site-packages\\ipykernel_launcher.py:7: SettingWithCopyWarning: \n",
      "A value is trying to be set on a copy of a slice from a DataFrame.\n",
      "Try using .loc[row_indexer,col_indexer] = value instead\n",
      "\n",
      "See the caveats in the documentation: https://pandas.pydata.org/pandas-docs/stable/user_guide/indexing.html#returning-a-view-versus-a-copy\n",
      "  import sys\n",
      "C:\\Users\\om\\Anaconda3\\lib\\site-packages\\ipykernel_launcher.py:8: SettingWithCopyWarning: \n",
      "A value is trying to be set on a copy of a slice from a DataFrame.\n",
      "Try using .loc[row_indexer,col_indexer] = value instead\n",
      "\n",
      "See the caveats in the documentation: https://pandas.pydata.org/pandas-docs/stable/user_guide/indexing.html#returning-a-view-versus-a-copy\n",
      "  \n",
      "C:\\Users\\om\\Anaconda3\\lib\\site-packages\\ipykernel_launcher.py:4: SettingWithCopyWarning: \n",
      "A value is trying to be set on a copy of a slice from a DataFrame.\n",
      "Try using .loc[row_indexer,col_indexer] = value instead\n",
      "\n",
      "See the caveats in the documentation: https://pandas.pydata.org/pandas-docs/stable/user_guide/indexing.html#returning-a-view-versus-a-copy\n",
      "  after removing the cwd from sys.path.\n",
      "C:\\Users\\om\\Anaconda3\\lib\\site-packages\\ipykernel_launcher.py:5: SettingWithCopyWarning: \n",
      "A value is trying to be set on a copy of a slice from a DataFrame.\n",
      "Try using .loc[row_indexer,col_indexer] = value instead\n",
      "\n",
      "See the caveats in the documentation: https://pandas.pydata.org/pandas-docs/stable/user_guide/indexing.html#returning-a-view-versus-a-copy\n",
      "  \"\"\"\n",
      "C:\\Users\\om\\Anaconda3\\lib\\site-packages\\ipykernel_launcher.py:6: SettingWithCopyWarning: \n",
      "A value is trying to be set on a copy of a slice from a DataFrame.\n",
      "Try using .loc[row_indexer,col_indexer] = value instead\n",
      "\n",
      "See the caveats in the documentation: https://pandas.pydata.org/pandas-docs/stable/user_guide/indexing.html#returning-a-view-versus-a-copy\n",
      "  \n",
      "C:\\Users\\om\\Anaconda3\\lib\\site-packages\\ipykernel_launcher.py:7: SettingWithCopyWarning: \n",
      "A value is trying to be set on a copy of a slice from a DataFrame.\n",
      "Try using .loc[row_indexer,col_indexer] = value instead\n",
      "\n",
      "See the caveats in the documentation: https://pandas.pydata.org/pandas-docs/stable/user_guide/indexing.html#returning-a-view-versus-a-copy\n",
      "  import sys\n",
      "C:\\Users\\om\\Anaconda3\\lib\\site-packages\\ipykernel_launcher.py:8: SettingWithCopyWarning: \n",
      "A value is trying to be set on a copy of a slice from a DataFrame.\n",
      "Try using .loc[row_indexer,col_indexer] = value instead\n",
      "\n",
      "See the caveats in the documentation: https://pandas.pydata.org/pandas-docs/stable/user_guide/indexing.html#returning-a-view-versus-a-copy\n",
      "  \n",
      "C:\\Users\\om\\Anaconda3\\lib\\site-packages\\ipykernel_launcher.py:4: SettingWithCopyWarning: \n",
      "A value is trying to be set on a copy of a slice from a DataFrame.\n",
      "Try using .loc[row_indexer,col_indexer] = value instead\n",
      "\n",
      "See the caveats in the documentation: https://pandas.pydata.org/pandas-docs/stable/user_guide/indexing.html#returning-a-view-versus-a-copy\n",
      "  after removing the cwd from sys.path.\n",
      "C:\\Users\\om\\Anaconda3\\lib\\site-packages\\ipykernel_launcher.py:5: SettingWithCopyWarning: \n",
      "A value is trying to be set on a copy of a slice from a DataFrame.\n",
      "Try using .loc[row_indexer,col_indexer] = value instead\n",
      "\n",
      "See the caveats in the documentation: https://pandas.pydata.org/pandas-docs/stable/user_guide/indexing.html#returning-a-view-versus-a-copy\n",
      "  \"\"\"\n",
      "C:\\Users\\om\\Anaconda3\\lib\\site-packages\\ipykernel_launcher.py:6: SettingWithCopyWarning: \n",
      "A value is trying to be set on a copy of a slice from a DataFrame.\n",
      "Try using .loc[row_indexer,col_indexer] = value instead\n",
      "\n",
      "See the caveats in the documentation: https://pandas.pydata.org/pandas-docs/stable/user_guide/indexing.html#returning-a-view-versus-a-copy\n",
      "  \n",
      "C:\\Users\\om\\Anaconda3\\lib\\site-packages\\ipykernel_launcher.py:7: SettingWithCopyWarning: \n",
      "A value is trying to be set on a copy of a slice from a DataFrame.\n",
      "Try using .loc[row_indexer,col_indexer] = value instead\n",
      "\n",
      "See the caveats in the documentation: https://pandas.pydata.org/pandas-docs/stable/user_guide/indexing.html#returning-a-view-versus-a-copy\n",
      "  import sys\n",
      "C:\\Users\\om\\Anaconda3\\lib\\site-packages\\ipykernel_launcher.py:8: SettingWithCopyWarning: \n",
      "A value is trying to be set on a copy of a slice from a DataFrame.\n",
      "Try using .loc[row_indexer,col_indexer] = value instead\n",
      "\n",
      "See the caveats in the documentation: https://pandas.pydata.org/pandas-docs/stable/user_guide/indexing.html#returning-a-view-versus-a-copy\n",
      "  \n"
     ]
    },
    {
     "name": "stderr",
     "output_type": "stream",
     "text": [
      "C:\\Users\\om\\Anaconda3\\lib\\site-packages\\ipykernel_launcher.py:4: SettingWithCopyWarning: \n",
      "A value is trying to be set on a copy of a slice from a DataFrame.\n",
      "Try using .loc[row_indexer,col_indexer] = value instead\n",
      "\n",
      "See the caveats in the documentation: https://pandas.pydata.org/pandas-docs/stable/user_guide/indexing.html#returning-a-view-versus-a-copy\n",
      "  after removing the cwd from sys.path.\n",
      "C:\\Users\\om\\Anaconda3\\lib\\site-packages\\ipykernel_launcher.py:5: SettingWithCopyWarning: \n",
      "A value is trying to be set on a copy of a slice from a DataFrame.\n",
      "Try using .loc[row_indexer,col_indexer] = value instead\n",
      "\n",
      "See the caveats in the documentation: https://pandas.pydata.org/pandas-docs/stable/user_guide/indexing.html#returning-a-view-versus-a-copy\n",
      "  \"\"\"\n",
      "C:\\Users\\om\\Anaconda3\\lib\\site-packages\\ipykernel_launcher.py:6: SettingWithCopyWarning: \n",
      "A value is trying to be set on a copy of a slice from a DataFrame.\n",
      "Try using .loc[row_indexer,col_indexer] = value instead\n",
      "\n",
      "See the caveats in the documentation: https://pandas.pydata.org/pandas-docs/stable/user_guide/indexing.html#returning-a-view-versus-a-copy\n",
      "  \n",
      "C:\\Users\\om\\Anaconda3\\lib\\site-packages\\ipykernel_launcher.py:7: SettingWithCopyWarning: \n",
      "A value is trying to be set on a copy of a slice from a DataFrame.\n",
      "Try using .loc[row_indexer,col_indexer] = value instead\n",
      "\n",
      "See the caveats in the documentation: https://pandas.pydata.org/pandas-docs/stable/user_guide/indexing.html#returning-a-view-versus-a-copy\n",
      "  import sys\n",
      "C:\\Users\\om\\Anaconda3\\lib\\site-packages\\ipykernel_launcher.py:8: SettingWithCopyWarning: \n",
      "A value is trying to be set on a copy of a slice from a DataFrame.\n",
      "Try using .loc[row_indexer,col_indexer] = value instead\n",
      "\n",
      "See the caveats in the documentation: https://pandas.pydata.org/pandas-docs/stable/user_guide/indexing.html#returning-a-view-versus-a-copy\n",
      "  \n",
      "C:\\Users\\om\\Anaconda3\\lib\\site-packages\\ipykernel_launcher.py:4: SettingWithCopyWarning: \n",
      "A value is trying to be set on a copy of a slice from a DataFrame.\n",
      "Try using .loc[row_indexer,col_indexer] = value instead\n",
      "\n",
      "See the caveats in the documentation: https://pandas.pydata.org/pandas-docs/stable/user_guide/indexing.html#returning-a-view-versus-a-copy\n",
      "  after removing the cwd from sys.path.\n",
      "C:\\Users\\om\\Anaconda3\\lib\\site-packages\\ipykernel_launcher.py:5: SettingWithCopyWarning: \n",
      "A value is trying to be set on a copy of a slice from a DataFrame.\n",
      "Try using .loc[row_indexer,col_indexer] = value instead\n",
      "\n",
      "See the caveats in the documentation: https://pandas.pydata.org/pandas-docs/stable/user_guide/indexing.html#returning-a-view-versus-a-copy\n",
      "  \"\"\"\n",
      "C:\\Users\\om\\Anaconda3\\lib\\site-packages\\ipykernel_launcher.py:6: SettingWithCopyWarning: \n",
      "A value is trying to be set on a copy of a slice from a DataFrame.\n",
      "Try using .loc[row_indexer,col_indexer] = value instead\n",
      "\n",
      "See the caveats in the documentation: https://pandas.pydata.org/pandas-docs/stable/user_guide/indexing.html#returning-a-view-versus-a-copy\n",
      "  \n",
      "C:\\Users\\om\\Anaconda3\\lib\\site-packages\\ipykernel_launcher.py:7: SettingWithCopyWarning: \n",
      "A value is trying to be set on a copy of a slice from a DataFrame.\n",
      "Try using .loc[row_indexer,col_indexer] = value instead\n",
      "\n",
      "See the caveats in the documentation: https://pandas.pydata.org/pandas-docs/stable/user_guide/indexing.html#returning-a-view-versus-a-copy\n",
      "  import sys\n",
      "C:\\Users\\om\\Anaconda3\\lib\\site-packages\\ipykernel_launcher.py:8: SettingWithCopyWarning: \n",
      "A value is trying to be set on a copy of a slice from a DataFrame.\n",
      "Try using .loc[row_indexer,col_indexer] = value instead\n",
      "\n",
      "See the caveats in the documentation: https://pandas.pydata.org/pandas-docs/stable/user_guide/indexing.html#returning-a-view-versus-a-copy\n",
      "  \n",
      "C:\\Users\\om\\Anaconda3\\lib\\site-packages\\ipykernel_launcher.py:4: SettingWithCopyWarning: \n",
      "A value is trying to be set on a copy of a slice from a DataFrame.\n",
      "Try using .loc[row_indexer,col_indexer] = value instead\n",
      "\n",
      "See the caveats in the documentation: https://pandas.pydata.org/pandas-docs/stable/user_guide/indexing.html#returning-a-view-versus-a-copy\n",
      "  after removing the cwd from sys.path.\n",
      "C:\\Users\\om\\Anaconda3\\lib\\site-packages\\ipykernel_launcher.py:5: SettingWithCopyWarning: \n",
      "A value is trying to be set on a copy of a slice from a DataFrame.\n",
      "Try using .loc[row_indexer,col_indexer] = value instead\n",
      "\n",
      "See the caveats in the documentation: https://pandas.pydata.org/pandas-docs/stable/user_guide/indexing.html#returning-a-view-versus-a-copy\n",
      "  \"\"\"\n",
      "C:\\Users\\om\\Anaconda3\\lib\\site-packages\\ipykernel_launcher.py:6: SettingWithCopyWarning: \n",
      "A value is trying to be set on a copy of a slice from a DataFrame.\n",
      "Try using .loc[row_indexer,col_indexer] = value instead\n",
      "\n",
      "See the caveats in the documentation: https://pandas.pydata.org/pandas-docs/stable/user_guide/indexing.html#returning-a-view-versus-a-copy\n",
      "  \n",
      "C:\\Users\\om\\Anaconda3\\lib\\site-packages\\ipykernel_launcher.py:7: SettingWithCopyWarning: \n",
      "A value is trying to be set on a copy of a slice from a DataFrame.\n",
      "Try using .loc[row_indexer,col_indexer] = value instead\n",
      "\n",
      "See the caveats in the documentation: https://pandas.pydata.org/pandas-docs/stable/user_guide/indexing.html#returning-a-view-versus-a-copy\n",
      "  import sys\n",
      "C:\\Users\\om\\Anaconda3\\lib\\site-packages\\ipykernel_launcher.py:8: SettingWithCopyWarning: \n",
      "A value is trying to be set on a copy of a slice from a DataFrame.\n",
      "Try using .loc[row_indexer,col_indexer] = value instead\n",
      "\n",
      "See the caveats in the documentation: https://pandas.pydata.org/pandas-docs/stable/user_guide/indexing.html#returning-a-view-versus-a-copy\n",
      "  \n",
      "C:\\Users\\om\\Anaconda3\\lib\\site-packages\\ipykernel_launcher.py:4: SettingWithCopyWarning: \n",
      "A value is trying to be set on a copy of a slice from a DataFrame.\n",
      "Try using .loc[row_indexer,col_indexer] = value instead\n",
      "\n",
      "See the caveats in the documentation: https://pandas.pydata.org/pandas-docs/stable/user_guide/indexing.html#returning-a-view-versus-a-copy\n",
      "  after removing the cwd from sys.path.\n",
      "C:\\Users\\om\\Anaconda3\\lib\\site-packages\\ipykernel_launcher.py:5: SettingWithCopyWarning: \n",
      "A value is trying to be set on a copy of a slice from a DataFrame.\n",
      "Try using .loc[row_indexer,col_indexer] = value instead\n",
      "\n",
      "See the caveats in the documentation: https://pandas.pydata.org/pandas-docs/stable/user_guide/indexing.html#returning-a-view-versus-a-copy\n",
      "  \"\"\"\n",
      "C:\\Users\\om\\Anaconda3\\lib\\site-packages\\ipykernel_launcher.py:6: SettingWithCopyWarning: \n",
      "A value is trying to be set on a copy of a slice from a DataFrame.\n",
      "Try using .loc[row_indexer,col_indexer] = value instead\n",
      "\n",
      "See the caveats in the documentation: https://pandas.pydata.org/pandas-docs/stable/user_guide/indexing.html#returning-a-view-versus-a-copy\n",
      "  \n",
      "C:\\Users\\om\\Anaconda3\\lib\\site-packages\\ipykernel_launcher.py:7: SettingWithCopyWarning: \n",
      "A value is trying to be set on a copy of a slice from a DataFrame.\n",
      "Try using .loc[row_indexer,col_indexer] = value instead\n",
      "\n",
      "See the caveats in the documentation: https://pandas.pydata.org/pandas-docs/stable/user_guide/indexing.html#returning-a-view-versus-a-copy\n",
      "  import sys\n",
      "C:\\Users\\om\\Anaconda3\\lib\\site-packages\\ipykernel_launcher.py:8: SettingWithCopyWarning: \n",
      "A value is trying to be set on a copy of a slice from a DataFrame.\n",
      "Try using .loc[row_indexer,col_indexer] = value instead\n",
      "\n",
      "See the caveats in the documentation: https://pandas.pydata.org/pandas-docs/stable/user_guide/indexing.html#returning-a-view-versus-a-copy\n",
      "  \n",
      "C:\\Users\\om\\Anaconda3\\lib\\site-packages\\ipykernel_launcher.py:4: SettingWithCopyWarning: \n",
      "A value is trying to be set on a copy of a slice from a DataFrame.\n",
      "Try using .loc[row_indexer,col_indexer] = value instead\n",
      "\n",
      "See the caveats in the documentation: https://pandas.pydata.org/pandas-docs/stable/user_guide/indexing.html#returning-a-view-versus-a-copy\n",
      "  after removing the cwd from sys.path.\n",
      "C:\\Users\\om\\Anaconda3\\lib\\site-packages\\ipykernel_launcher.py:5: SettingWithCopyWarning: \n",
      "A value is trying to be set on a copy of a slice from a DataFrame.\n",
      "Try using .loc[row_indexer,col_indexer] = value instead\n",
      "\n",
      "See the caveats in the documentation: https://pandas.pydata.org/pandas-docs/stable/user_guide/indexing.html#returning-a-view-versus-a-copy\n",
      "  \"\"\"\n",
      "C:\\Users\\om\\Anaconda3\\lib\\site-packages\\ipykernel_launcher.py:6: SettingWithCopyWarning: \n",
      "A value is trying to be set on a copy of a slice from a DataFrame.\n",
      "Try using .loc[row_indexer,col_indexer] = value instead\n",
      "\n",
      "See the caveats in the documentation: https://pandas.pydata.org/pandas-docs/stable/user_guide/indexing.html#returning-a-view-versus-a-copy\n",
      "  \n",
      "C:\\Users\\om\\Anaconda3\\lib\\site-packages\\ipykernel_launcher.py:7: SettingWithCopyWarning: \n",
      "A value is trying to be set on a copy of a slice from a DataFrame.\n",
      "Try using .loc[row_indexer,col_indexer] = value instead\n",
      "\n",
      "See the caveats in the documentation: https://pandas.pydata.org/pandas-docs/stable/user_guide/indexing.html#returning-a-view-versus-a-copy\n",
      "  import sys\n",
      "C:\\Users\\om\\Anaconda3\\lib\\site-packages\\ipykernel_launcher.py:8: SettingWithCopyWarning: \n",
      "A value is trying to be set on a copy of a slice from a DataFrame.\n",
      "Try using .loc[row_indexer,col_indexer] = value instead\n",
      "\n",
      "See the caveats in the documentation: https://pandas.pydata.org/pandas-docs/stable/user_guide/indexing.html#returning-a-view-versus-a-copy\n",
      "  \n",
      "C:\\Users\\om\\Anaconda3\\lib\\site-packages\\ipykernel_launcher.py:4: SettingWithCopyWarning: \n",
      "A value is trying to be set on a copy of a slice from a DataFrame.\n",
      "Try using .loc[row_indexer,col_indexer] = value instead\n",
      "\n",
      "See the caveats in the documentation: https://pandas.pydata.org/pandas-docs/stable/user_guide/indexing.html#returning-a-view-versus-a-copy\n",
      "  after removing the cwd from sys.path.\n",
      "C:\\Users\\om\\Anaconda3\\lib\\site-packages\\ipykernel_launcher.py:5: SettingWithCopyWarning: \n",
      "A value is trying to be set on a copy of a slice from a DataFrame.\n",
      "Try using .loc[row_indexer,col_indexer] = value instead\n",
      "\n",
      "See the caveats in the documentation: https://pandas.pydata.org/pandas-docs/stable/user_guide/indexing.html#returning-a-view-versus-a-copy\n",
      "  \"\"\"\n",
      "C:\\Users\\om\\Anaconda3\\lib\\site-packages\\ipykernel_launcher.py:6: SettingWithCopyWarning: \n",
      "A value is trying to be set on a copy of a slice from a DataFrame.\n",
      "Try using .loc[row_indexer,col_indexer] = value instead\n",
      "\n",
      "See the caveats in the documentation: https://pandas.pydata.org/pandas-docs/stable/user_guide/indexing.html#returning-a-view-versus-a-copy\n",
      "  \n",
      "C:\\Users\\om\\Anaconda3\\lib\\site-packages\\ipykernel_launcher.py:7: SettingWithCopyWarning: \n",
      "A value is trying to be set on a copy of a slice from a DataFrame.\n",
      "Try using .loc[row_indexer,col_indexer] = value instead\n",
      "\n",
      "See the caveats in the documentation: https://pandas.pydata.org/pandas-docs/stable/user_guide/indexing.html#returning-a-view-versus-a-copy\n",
      "  import sys\n",
      "C:\\Users\\om\\Anaconda3\\lib\\site-packages\\ipykernel_launcher.py:8: SettingWithCopyWarning: \n",
      "A value is trying to be set on a copy of a slice from a DataFrame.\n",
      "Try using .loc[row_indexer,col_indexer] = value instead\n",
      "\n",
      "See the caveats in the documentation: https://pandas.pydata.org/pandas-docs/stable/user_guide/indexing.html#returning-a-view-versus-a-copy\n",
      "  \n",
      "C:\\Users\\om\\Anaconda3\\lib\\site-packages\\ipykernel_launcher.py:4: SettingWithCopyWarning: \n",
      "A value is trying to be set on a copy of a slice from a DataFrame.\n",
      "Try using .loc[row_indexer,col_indexer] = value instead\n",
      "\n",
      "See the caveats in the documentation: https://pandas.pydata.org/pandas-docs/stable/user_guide/indexing.html#returning-a-view-versus-a-copy\n",
      "  after removing the cwd from sys.path.\n",
      "C:\\Users\\om\\Anaconda3\\lib\\site-packages\\ipykernel_launcher.py:5: SettingWithCopyWarning: \n",
      "A value is trying to be set on a copy of a slice from a DataFrame.\n",
      "Try using .loc[row_indexer,col_indexer] = value instead\n",
      "\n",
      "See the caveats in the documentation: https://pandas.pydata.org/pandas-docs/stable/user_guide/indexing.html#returning-a-view-versus-a-copy\n",
      "  \"\"\"\n",
      "C:\\Users\\om\\Anaconda3\\lib\\site-packages\\ipykernel_launcher.py:6: SettingWithCopyWarning: \n",
      "A value is trying to be set on a copy of a slice from a DataFrame.\n",
      "Try using .loc[row_indexer,col_indexer] = value instead\n",
      "\n",
      "See the caveats in the documentation: https://pandas.pydata.org/pandas-docs/stable/user_guide/indexing.html#returning-a-view-versus-a-copy\n",
      "  \n",
      "C:\\Users\\om\\Anaconda3\\lib\\site-packages\\ipykernel_launcher.py:7: SettingWithCopyWarning: \n",
      "A value is trying to be set on a copy of a slice from a DataFrame.\n",
      "Try using .loc[row_indexer,col_indexer] = value instead\n",
      "\n",
      "See the caveats in the documentation: https://pandas.pydata.org/pandas-docs/stable/user_guide/indexing.html#returning-a-view-versus-a-copy\n",
      "  import sys\n",
      "C:\\Users\\om\\Anaconda3\\lib\\site-packages\\ipykernel_launcher.py:8: SettingWithCopyWarning: \n",
      "A value is trying to be set on a copy of a slice from a DataFrame.\n",
      "Try using .loc[row_indexer,col_indexer] = value instead\n",
      "\n",
      "See the caveats in the documentation: https://pandas.pydata.org/pandas-docs/stable/user_guide/indexing.html#returning-a-view-versus-a-copy\n",
      "  \n",
      "C:\\Users\\om\\Anaconda3\\lib\\site-packages\\ipykernel_launcher.py:4: SettingWithCopyWarning: \n",
      "A value is trying to be set on a copy of a slice from a DataFrame.\n",
      "Try using .loc[row_indexer,col_indexer] = value instead\n",
      "\n",
      "See the caveats in the documentation: https://pandas.pydata.org/pandas-docs/stable/user_guide/indexing.html#returning-a-view-versus-a-copy\n",
      "  after removing the cwd from sys.path.\n",
      "C:\\Users\\om\\Anaconda3\\lib\\site-packages\\ipykernel_launcher.py:5: SettingWithCopyWarning: \n",
      "A value is trying to be set on a copy of a slice from a DataFrame.\n",
      "Try using .loc[row_indexer,col_indexer] = value instead\n",
      "\n",
      "See the caveats in the documentation: https://pandas.pydata.org/pandas-docs/stable/user_guide/indexing.html#returning-a-view-versus-a-copy\n",
      "  \"\"\"\n",
      "C:\\Users\\om\\Anaconda3\\lib\\site-packages\\ipykernel_launcher.py:6: SettingWithCopyWarning: \n",
      "A value is trying to be set on a copy of a slice from a DataFrame.\n",
      "Try using .loc[row_indexer,col_indexer] = value instead\n",
      "\n",
      "See the caveats in the documentation: https://pandas.pydata.org/pandas-docs/stable/user_guide/indexing.html#returning-a-view-versus-a-copy\n",
      "  \n",
      "C:\\Users\\om\\Anaconda3\\lib\\site-packages\\ipykernel_launcher.py:7: SettingWithCopyWarning: \n",
      "A value is trying to be set on a copy of a slice from a DataFrame.\n",
      "Try using .loc[row_indexer,col_indexer] = value instead\n",
      "\n",
      "See the caveats in the documentation: https://pandas.pydata.org/pandas-docs/stable/user_guide/indexing.html#returning-a-view-versus-a-copy\n",
      "  import sys\n",
      "C:\\Users\\om\\Anaconda3\\lib\\site-packages\\ipykernel_launcher.py:8: SettingWithCopyWarning: \n",
      "A value is trying to be set on a copy of a slice from a DataFrame.\n",
      "Try using .loc[row_indexer,col_indexer] = value instead\n",
      "\n",
      "See the caveats in the documentation: https://pandas.pydata.org/pandas-docs/stable/user_guide/indexing.html#returning-a-view-versus-a-copy\n",
      "  \n",
      "C:\\Users\\om\\Anaconda3\\lib\\site-packages\\ipykernel_launcher.py:4: SettingWithCopyWarning: \n",
      "A value is trying to be set on a copy of a slice from a DataFrame.\n",
      "Try using .loc[row_indexer,col_indexer] = value instead\n",
      "\n",
      "See the caveats in the documentation: https://pandas.pydata.org/pandas-docs/stable/user_guide/indexing.html#returning-a-view-versus-a-copy\n",
      "  after removing the cwd from sys.path.\n",
      "C:\\Users\\om\\Anaconda3\\lib\\site-packages\\ipykernel_launcher.py:5: SettingWithCopyWarning: \n",
      "A value is trying to be set on a copy of a slice from a DataFrame.\n",
      "Try using .loc[row_indexer,col_indexer] = value instead\n",
      "\n",
      "See the caveats in the documentation: https://pandas.pydata.org/pandas-docs/stable/user_guide/indexing.html#returning-a-view-versus-a-copy\n",
      "  \"\"\"\n",
      "C:\\Users\\om\\Anaconda3\\lib\\site-packages\\ipykernel_launcher.py:6: SettingWithCopyWarning: \n",
      "A value is trying to be set on a copy of a slice from a DataFrame.\n",
      "Try using .loc[row_indexer,col_indexer] = value instead\n",
      "\n",
      "See the caveats in the documentation: https://pandas.pydata.org/pandas-docs/stable/user_guide/indexing.html#returning-a-view-versus-a-copy\n",
      "  \n",
      "C:\\Users\\om\\Anaconda3\\lib\\site-packages\\ipykernel_launcher.py:7: SettingWithCopyWarning: \n",
      "A value is trying to be set on a copy of a slice from a DataFrame.\n",
      "Try using .loc[row_indexer,col_indexer] = value instead\n",
      "\n",
      "See the caveats in the documentation: https://pandas.pydata.org/pandas-docs/stable/user_guide/indexing.html#returning-a-view-versus-a-copy\n",
      "  import sys\n",
      "C:\\Users\\om\\Anaconda3\\lib\\site-packages\\ipykernel_launcher.py:8: SettingWithCopyWarning: \n",
      "A value is trying to be set on a copy of a slice from a DataFrame.\n",
      "Try using .loc[row_indexer,col_indexer] = value instead\n",
      "\n",
      "See the caveats in the documentation: https://pandas.pydata.org/pandas-docs/stable/user_guide/indexing.html#returning-a-view-versus-a-copy\n",
      "  \n",
      "C:\\Users\\om\\Anaconda3\\lib\\site-packages\\ipykernel_launcher.py:4: SettingWithCopyWarning: \n",
      "A value is trying to be set on a copy of a slice from a DataFrame.\n",
      "Try using .loc[row_indexer,col_indexer] = value instead\n",
      "\n",
      "See the caveats in the documentation: https://pandas.pydata.org/pandas-docs/stable/user_guide/indexing.html#returning-a-view-versus-a-copy\n",
      "  after removing the cwd from sys.path.\n"
     ]
    },
    {
     "name": "stderr",
     "output_type": "stream",
     "text": [
      "C:\\Users\\om\\Anaconda3\\lib\\site-packages\\ipykernel_launcher.py:5: SettingWithCopyWarning: \n",
      "A value is trying to be set on a copy of a slice from a DataFrame.\n",
      "Try using .loc[row_indexer,col_indexer] = value instead\n",
      "\n",
      "See the caveats in the documentation: https://pandas.pydata.org/pandas-docs/stable/user_guide/indexing.html#returning-a-view-versus-a-copy\n",
      "  \"\"\"\n",
      "C:\\Users\\om\\Anaconda3\\lib\\site-packages\\ipykernel_launcher.py:6: SettingWithCopyWarning: \n",
      "A value is trying to be set on a copy of a slice from a DataFrame.\n",
      "Try using .loc[row_indexer,col_indexer] = value instead\n",
      "\n",
      "See the caveats in the documentation: https://pandas.pydata.org/pandas-docs/stable/user_guide/indexing.html#returning-a-view-versus-a-copy\n",
      "  \n",
      "C:\\Users\\om\\Anaconda3\\lib\\site-packages\\ipykernel_launcher.py:7: SettingWithCopyWarning: \n",
      "A value is trying to be set on a copy of a slice from a DataFrame.\n",
      "Try using .loc[row_indexer,col_indexer] = value instead\n",
      "\n",
      "See the caveats in the documentation: https://pandas.pydata.org/pandas-docs/stable/user_guide/indexing.html#returning-a-view-versus-a-copy\n",
      "  import sys\n",
      "C:\\Users\\om\\Anaconda3\\lib\\site-packages\\ipykernel_launcher.py:8: SettingWithCopyWarning: \n",
      "A value is trying to be set on a copy of a slice from a DataFrame.\n",
      "Try using .loc[row_indexer,col_indexer] = value instead\n",
      "\n",
      "See the caveats in the documentation: https://pandas.pydata.org/pandas-docs/stable/user_guide/indexing.html#returning-a-view-versus-a-copy\n",
      "  \n",
      "C:\\Users\\om\\Anaconda3\\lib\\site-packages\\ipykernel_launcher.py:4: SettingWithCopyWarning: \n",
      "A value is trying to be set on a copy of a slice from a DataFrame.\n",
      "Try using .loc[row_indexer,col_indexer] = value instead\n",
      "\n",
      "See the caveats in the documentation: https://pandas.pydata.org/pandas-docs/stable/user_guide/indexing.html#returning-a-view-versus-a-copy\n",
      "  after removing the cwd from sys.path.\n",
      "C:\\Users\\om\\Anaconda3\\lib\\site-packages\\ipykernel_launcher.py:5: SettingWithCopyWarning: \n",
      "A value is trying to be set on a copy of a slice from a DataFrame.\n",
      "Try using .loc[row_indexer,col_indexer] = value instead\n",
      "\n",
      "See the caveats in the documentation: https://pandas.pydata.org/pandas-docs/stable/user_guide/indexing.html#returning-a-view-versus-a-copy\n",
      "  \"\"\"\n",
      "C:\\Users\\om\\Anaconda3\\lib\\site-packages\\ipykernel_launcher.py:6: SettingWithCopyWarning: \n",
      "A value is trying to be set on a copy of a slice from a DataFrame.\n",
      "Try using .loc[row_indexer,col_indexer] = value instead\n",
      "\n",
      "See the caveats in the documentation: https://pandas.pydata.org/pandas-docs/stable/user_guide/indexing.html#returning-a-view-versus-a-copy\n",
      "  \n",
      "C:\\Users\\om\\Anaconda3\\lib\\site-packages\\ipykernel_launcher.py:7: SettingWithCopyWarning: \n",
      "A value is trying to be set on a copy of a slice from a DataFrame.\n",
      "Try using .loc[row_indexer,col_indexer] = value instead\n",
      "\n",
      "See the caveats in the documentation: https://pandas.pydata.org/pandas-docs/stable/user_guide/indexing.html#returning-a-view-versus-a-copy\n",
      "  import sys\n",
      "C:\\Users\\om\\Anaconda3\\lib\\site-packages\\ipykernel_launcher.py:8: SettingWithCopyWarning: \n",
      "A value is trying to be set on a copy of a slice from a DataFrame.\n",
      "Try using .loc[row_indexer,col_indexer] = value instead\n",
      "\n",
      "See the caveats in the documentation: https://pandas.pydata.org/pandas-docs/stable/user_guide/indexing.html#returning-a-view-versus-a-copy\n",
      "  \n",
      "C:\\Users\\om\\Anaconda3\\lib\\site-packages\\ipykernel_launcher.py:4: SettingWithCopyWarning: \n",
      "A value is trying to be set on a copy of a slice from a DataFrame.\n",
      "Try using .loc[row_indexer,col_indexer] = value instead\n",
      "\n",
      "See the caveats in the documentation: https://pandas.pydata.org/pandas-docs/stable/user_guide/indexing.html#returning-a-view-versus-a-copy\n",
      "  after removing the cwd from sys.path.\n",
      "C:\\Users\\om\\Anaconda3\\lib\\site-packages\\ipykernel_launcher.py:5: SettingWithCopyWarning: \n",
      "A value is trying to be set on a copy of a slice from a DataFrame.\n",
      "Try using .loc[row_indexer,col_indexer] = value instead\n",
      "\n",
      "See the caveats in the documentation: https://pandas.pydata.org/pandas-docs/stable/user_guide/indexing.html#returning-a-view-versus-a-copy\n",
      "  \"\"\"\n",
      "C:\\Users\\om\\Anaconda3\\lib\\site-packages\\ipykernel_launcher.py:6: SettingWithCopyWarning: \n",
      "A value is trying to be set on a copy of a slice from a DataFrame.\n",
      "Try using .loc[row_indexer,col_indexer] = value instead\n",
      "\n",
      "See the caveats in the documentation: https://pandas.pydata.org/pandas-docs/stable/user_guide/indexing.html#returning-a-view-versus-a-copy\n",
      "  \n",
      "C:\\Users\\om\\Anaconda3\\lib\\site-packages\\ipykernel_launcher.py:7: SettingWithCopyWarning: \n",
      "A value is trying to be set on a copy of a slice from a DataFrame.\n",
      "Try using .loc[row_indexer,col_indexer] = value instead\n",
      "\n",
      "See the caveats in the documentation: https://pandas.pydata.org/pandas-docs/stable/user_guide/indexing.html#returning-a-view-versus-a-copy\n",
      "  import sys\n",
      "C:\\Users\\om\\Anaconda3\\lib\\site-packages\\ipykernel_launcher.py:8: SettingWithCopyWarning: \n",
      "A value is trying to be set on a copy of a slice from a DataFrame.\n",
      "Try using .loc[row_indexer,col_indexer] = value instead\n",
      "\n",
      "See the caveats in the documentation: https://pandas.pydata.org/pandas-docs/stable/user_guide/indexing.html#returning-a-view-versus-a-copy\n",
      "  \n",
      "C:\\Users\\om\\Anaconda3\\lib\\site-packages\\ipykernel_launcher.py:4: SettingWithCopyWarning: \n",
      "A value is trying to be set on a copy of a slice from a DataFrame.\n",
      "Try using .loc[row_indexer,col_indexer] = value instead\n",
      "\n",
      "See the caveats in the documentation: https://pandas.pydata.org/pandas-docs/stable/user_guide/indexing.html#returning-a-view-versus-a-copy\n",
      "  after removing the cwd from sys.path.\n",
      "C:\\Users\\om\\Anaconda3\\lib\\site-packages\\ipykernel_launcher.py:5: SettingWithCopyWarning: \n",
      "A value is trying to be set on a copy of a slice from a DataFrame.\n",
      "Try using .loc[row_indexer,col_indexer] = value instead\n",
      "\n",
      "See the caveats in the documentation: https://pandas.pydata.org/pandas-docs/stable/user_guide/indexing.html#returning-a-view-versus-a-copy\n",
      "  \"\"\"\n",
      "C:\\Users\\om\\Anaconda3\\lib\\site-packages\\ipykernel_launcher.py:6: SettingWithCopyWarning: \n",
      "A value is trying to be set on a copy of a slice from a DataFrame.\n",
      "Try using .loc[row_indexer,col_indexer] = value instead\n",
      "\n",
      "See the caveats in the documentation: https://pandas.pydata.org/pandas-docs/stable/user_guide/indexing.html#returning-a-view-versus-a-copy\n",
      "  \n",
      "C:\\Users\\om\\Anaconda3\\lib\\site-packages\\ipykernel_launcher.py:7: SettingWithCopyWarning: \n",
      "A value is trying to be set on a copy of a slice from a DataFrame.\n",
      "Try using .loc[row_indexer,col_indexer] = value instead\n",
      "\n",
      "See the caveats in the documentation: https://pandas.pydata.org/pandas-docs/stable/user_guide/indexing.html#returning-a-view-versus-a-copy\n",
      "  import sys\n",
      "C:\\Users\\om\\Anaconda3\\lib\\site-packages\\ipykernel_launcher.py:8: SettingWithCopyWarning: \n",
      "A value is trying to be set on a copy of a slice from a DataFrame.\n",
      "Try using .loc[row_indexer,col_indexer] = value instead\n",
      "\n",
      "See the caveats in the documentation: https://pandas.pydata.org/pandas-docs/stable/user_guide/indexing.html#returning-a-view-versus-a-copy\n",
      "  \n",
      "C:\\Users\\om\\Anaconda3\\lib\\site-packages\\ipykernel_launcher.py:4: SettingWithCopyWarning: \n",
      "A value is trying to be set on a copy of a slice from a DataFrame.\n",
      "Try using .loc[row_indexer,col_indexer] = value instead\n",
      "\n",
      "See the caveats in the documentation: https://pandas.pydata.org/pandas-docs/stable/user_guide/indexing.html#returning-a-view-versus-a-copy\n",
      "  after removing the cwd from sys.path.\n",
      "C:\\Users\\om\\Anaconda3\\lib\\site-packages\\ipykernel_launcher.py:5: SettingWithCopyWarning: \n",
      "A value is trying to be set on a copy of a slice from a DataFrame.\n",
      "Try using .loc[row_indexer,col_indexer] = value instead\n",
      "\n",
      "See the caveats in the documentation: https://pandas.pydata.org/pandas-docs/stable/user_guide/indexing.html#returning-a-view-versus-a-copy\n",
      "  \"\"\"\n",
      "C:\\Users\\om\\Anaconda3\\lib\\site-packages\\ipykernel_launcher.py:6: SettingWithCopyWarning: \n",
      "A value is trying to be set on a copy of a slice from a DataFrame.\n",
      "Try using .loc[row_indexer,col_indexer] = value instead\n",
      "\n",
      "See the caveats in the documentation: https://pandas.pydata.org/pandas-docs/stable/user_guide/indexing.html#returning-a-view-versus-a-copy\n",
      "  \n",
      "C:\\Users\\om\\Anaconda3\\lib\\site-packages\\ipykernel_launcher.py:7: SettingWithCopyWarning: \n",
      "A value is trying to be set on a copy of a slice from a DataFrame.\n",
      "Try using .loc[row_indexer,col_indexer] = value instead\n",
      "\n",
      "See the caveats in the documentation: https://pandas.pydata.org/pandas-docs/stable/user_guide/indexing.html#returning-a-view-versus-a-copy\n",
      "  import sys\n",
      "C:\\Users\\om\\Anaconda3\\lib\\site-packages\\ipykernel_launcher.py:8: SettingWithCopyWarning: \n",
      "A value is trying to be set on a copy of a slice from a DataFrame.\n",
      "Try using .loc[row_indexer,col_indexer] = value instead\n",
      "\n",
      "See the caveats in the documentation: https://pandas.pydata.org/pandas-docs/stable/user_guide/indexing.html#returning-a-view-versus-a-copy\n",
      "  \n",
      "C:\\Users\\om\\Anaconda3\\lib\\site-packages\\ipykernel_launcher.py:4: SettingWithCopyWarning: \n",
      "A value is trying to be set on a copy of a slice from a DataFrame.\n",
      "Try using .loc[row_indexer,col_indexer] = value instead\n",
      "\n",
      "See the caveats in the documentation: https://pandas.pydata.org/pandas-docs/stable/user_guide/indexing.html#returning-a-view-versus-a-copy\n",
      "  after removing the cwd from sys.path.\n",
      "C:\\Users\\om\\Anaconda3\\lib\\site-packages\\ipykernel_launcher.py:5: SettingWithCopyWarning: \n",
      "A value is trying to be set on a copy of a slice from a DataFrame.\n",
      "Try using .loc[row_indexer,col_indexer] = value instead\n",
      "\n",
      "See the caveats in the documentation: https://pandas.pydata.org/pandas-docs/stable/user_guide/indexing.html#returning-a-view-versus-a-copy\n",
      "  \"\"\"\n",
      "C:\\Users\\om\\Anaconda3\\lib\\site-packages\\ipykernel_launcher.py:6: SettingWithCopyWarning: \n",
      "A value is trying to be set on a copy of a slice from a DataFrame.\n",
      "Try using .loc[row_indexer,col_indexer] = value instead\n",
      "\n",
      "See the caveats in the documentation: https://pandas.pydata.org/pandas-docs/stable/user_guide/indexing.html#returning-a-view-versus-a-copy\n",
      "  \n",
      "C:\\Users\\om\\Anaconda3\\lib\\site-packages\\ipykernel_launcher.py:7: SettingWithCopyWarning: \n",
      "A value is trying to be set on a copy of a slice from a DataFrame.\n",
      "Try using .loc[row_indexer,col_indexer] = value instead\n",
      "\n",
      "See the caveats in the documentation: https://pandas.pydata.org/pandas-docs/stable/user_guide/indexing.html#returning-a-view-versus-a-copy\n",
      "  import sys\n",
      "C:\\Users\\om\\Anaconda3\\lib\\site-packages\\ipykernel_launcher.py:8: SettingWithCopyWarning: \n",
      "A value is trying to be set on a copy of a slice from a DataFrame.\n",
      "Try using .loc[row_indexer,col_indexer] = value instead\n",
      "\n",
      "See the caveats in the documentation: https://pandas.pydata.org/pandas-docs/stable/user_guide/indexing.html#returning-a-view-versus-a-copy\n",
      "  \n",
      "C:\\Users\\om\\Anaconda3\\lib\\site-packages\\ipykernel_launcher.py:4: SettingWithCopyWarning: \n",
      "A value is trying to be set on a copy of a slice from a DataFrame.\n",
      "Try using .loc[row_indexer,col_indexer] = value instead\n",
      "\n",
      "See the caveats in the documentation: https://pandas.pydata.org/pandas-docs/stable/user_guide/indexing.html#returning-a-view-versus-a-copy\n",
      "  after removing the cwd from sys.path.\n"
     ]
    },
    {
     "name": "stderr",
     "output_type": "stream",
     "text": [
      "C:\\Users\\om\\Anaconda3\\lib\\site-packages\\ipykernel_launcher.py:5: SettingWithCopyWarning: \n",
      "A value is trying to be set on a copy of a slice from a DataFrame.\n",
      "Try using .loc[row_indexer,col_indexer] = value instead\n",
      "\n",
      "See the caveats in the documentation: https://pandas.pydata.org/pandas-docs/stable/user_guide/indexing.html#returning-a-view-versus-a-copy\n",
      "  \"\"\"\n",
      "C:\\Users\\om\\Anaconda3\\lib\\site-packages\\ipykernel_launcher.py:6: SettingWithCopyWarning: \n",
      "A value is trying to be set on a copy of a slice from a DataFrame.\n",
      "Try using .loc[row_indexer,col_indexer] = value instead\n",
      "\n",
      "See the caveats in the documentation: https://pandas.pydata.org/pandas-docs/stable/user_guide/indexing.html#returning-a-view-versus-a-copy\n",
      "  \n",
      "C:\\Users\\om\\Anaconda3\\lib\\site-packages\\ipykernel_launcher.py:7: SettingWithCopyWarning: \n",
      "A value is trying to be set on a copy of a slice from a DataFrame.\n",
      "Try using .loc[row_indexer,col_indexer] = value instead\n",
      "\n",
      "See the caveats in the documentation: https://pandas.pydata.org/pandas-docs/stable/user_guide/indexing.html#returning-a-view-versus-a-copy\n",
      "  import sys\n",
      "C:\\Users\\om\\Anaconda3\\lib\\site-packages\\ipykernel_launcher.py:8: SettingWithCopyWarning: \n",
      "A value is trying to be set on a copy of a slice from a DataFrame.\n",
      "Try using .loc[row_indexer,col_indexer] = value instead\n",
      "\n",
      "See the caveats in the documentation: https://pandas.pydata.org/pandas-docs/stable/user_guide/indexing.html#returning-a-view-versus-a-copy\n",
      "  \n",
      "C:\\Users\\om\\Anaconda3\\lib\\site-packages\\ipykernel_launcher.py:4: SettingWithCopyWarning: \n",
      "A value is trying to be set on a copy of a slice from a DataFrame.\n",
      "Try using .loc[row_indexer,col_indexer] = value instead\n",
      "\n",
      "See the caveats in the documentation: https://pandas.pydata.org/pandas-docs/stable/user_guide/indexing.html#returning-a-view-versus-a-copy\n",
      "  after removing the cwd from sys.path.\n",
      "C:\\Users\\om\\Anaconda3\\lib\\site-packages\\ipykernel_launcher.py:5: SettingWithCopyWarning: \n",
      "A value is trying to be set on a copy of a slice from a DataFrame.\n",
      "Try using .loc[row_indexer,col_indexer] = value instead\n",
      "\n",
      "See the caveats in the documentation: https://pandas.pydata.org/pandas-docs/stable/user_guide/indexing.html#returning-a-view-versus-a-copy\n",
      "  \"\"\"\n",
      "C:\\Users\\om\\Anaconda3\\lib\\site-packages\\ipykernel_launcher.py:6: SettingWithCopyWarning: \n",
      "A value is trying to be set on a copy of a slice from a DataFrame.\n",
      "Try using .loc[row_indexer,col_indexer] = value instead\n",
      "\n",
      "See the caveats in the documentation: https://pandas.pydata.org/pandas-docs/stable/user_guide/indexing.html#returning-a-view-versus-a-copy\n",
      "  \n",
      "C:\\Users\\om\\Anaconda3\\lib\\site-packages\\ipykernel_launcher.py:7: SettingWithCopyWarning: \n",
      "A value is trying to be set on a copy of a slice from a DataFrame.\n",
      "Try using .loc[row_indexer,col_indexer] = value instead\n",
      "\n",
      "See the caveats in the documentation: https://pandas.pydata.org/pandas-docs/stable/user_guide/indexing.html#returning-a-view-versus-a-copy\n",
      "  import sys\n",
      "C:\\Users\\om\\Anaconda3\\lib\\site-packages\\ipykernel_launcher.py:8: SettingWithCopyWarning: \n",
      "A value is trying to be set on a copy of a slice from a DataFrame.\n",
      "Try using .loc[row_indexer,col_indexer] = value instead\n",
      "\n",
      "See the caveats in the documentation: https://pandas.pydata.org/pandas-docs/stable/user_guide/indexing.html#returning-a-view-versus-a-copy\n",
      "  \n",
      "C:\\Users\\om\\Anaconda3\\lib\\site-packages\\ipykernel_launcher.py:4: SettingWithCopyWarning: \n",
      "A value is trying to be set on a copy of a slice from a DataFrame.\n",
      "Try using .loc[row_indexer,col_indexer] = value instead\n",
      "\n",
      "See the caveats in the documentation: https://pandas.pydata.org/pandas-docs/stable/user_guide/indexing.html#returning-a-view-versus-a-copy\n",
      "  after removing the cwd from sys.path.\n",
      "C:\\Users\\om\\Anaconda3\\lib\\site-packages\\ipykernel_launcher.py:5: SettingWithCopyWarning: \n",
      "A value is trying to be set on a copy of a slice from a DataFrame.\n",
      "Try using .loc[row_indexer,col_indexer] = value instead\n",
      "\n",
      "See the caveats in the documentation: https://pandas.pydata.org/pandas-docs/stable/user_guide/indexing.html#returning-a-view-versus-a-copy\n",
      "  \"\"\"\n",
      "C:\\Users\\om\\Anaconda3\\lib\\site-packages\\ipykernel_launcher.py:6: SettingWithCopyWarning: \n",
      "A value is trying to be set on a copy of a slice from a DataFrame.\n",
      "Try using .loc[row_indexer,col_indexer] = value instead\n",
      "\n",
      "See the caveats in the documentation: https://pandas.pydata.org/pandas-docs/stable/user_guide/indexing.html#returning-a-view-versus-a-copy\n",
      "  \n",
      "C:\\Users\\om\\Anaconda3\\lib\\site-packages\\ipykernel_launcher.py:7: SettingWithCopyWarning: \n",
      "A value is trying to be set on a copy of a slice from a DataFrame.\n",
      "Try using .loc[row_indexer,col_indexer] = value instead\n",
      "\n",
      "See the caveats in the documentation: https://pandas.pydata.org/pandas-docs/stable/user_guide/indexing.html#returning-a-view-versus-a-copy\n",
      "  import sys\n",
      "C:\\Users\\om\\Anaconda3\\lib\\site-packages\\ipykernel_launcher.py:8: SettingWithCopyWarning: \n",
      "A value is trying to be set on a copy of a slice from a DataFrame.\n",
      "Try using .loc[row_indexer,col_indexer] = value instead\n",
      "\n",
      "See the caveats in the documentation: https://pandas.pydata.org/pandas-docs/stable/user_guide/indexing.html#returning-a-view-versus-a-copy\n",
      "  \n",
      "C:\\Users\\om\\Anaconda3\\lib\\site-packages\\ipykernel_launcher.py:4: SettingWithCopyWarning: \n",
      "A value is trying to be set on a copy of a slice from a DataFrame.\n",
      "Try using .loc[row_indexer,col_indexer] = value instead\n",
      "\n",
      "See the caveats in the documentation: https://pandas.pydata.org/pandas-docs/stable/user_guide/indexing.html#returning-a-view-versus-a-copy\n",
      "  after removing the cwd from sys.path.\n",
      "C:\\Users\\om\\Anaconda3\\lib\\site-packages\\ipykernel_launcher.py:5: SettingWithCopyWarning: \n",
      "A value is trying to be set on a copy of a slice from a DataFrame.\n",
      "Try using .loc[row_indexer,col_indexer] = value instead\n",
      "\n",
      "See the caveats in the documentation: https://pandas.pydata.org/pandas-docs/stable/user_guide/indexing.html#returning-a-view-versus-a-copy\n",
      "  \"\"\"\n",
      "C:\\Users\\om\\Anaconda3\\lib\\site-packages\\ipykernel_launcher.py:6: SettingWithCopyWarning: \n",
      "A value is trying to be set on a copy of a slice from a DataFrame.\n",
      "Try using .loc[row_indexer,col_indexer] = value instead\n",
      "\n",
      "See the caveats in the documentation: https://pandas.pydata.org/pandas-docs/stable/user_guide/indexing.html#returning-a-view-versus-a-copy\n",
      "  \n",
      "C:\\Users\\om\\Anaconda3\\lib\\site-packages\\ipykernel_launcher.py:7: SettingWithCopyWarning: \n",
      "A value is trying to be set on a copy of a slice from a DataFrame.\n",
      "Try using .loc[row_indexer,col_indexer] = value instead\n",
      "\n",
      "See the caveats in the documentation: https://pandas.pydata.org/pandas-docs/stable/user_guide/indexing.html#returning-a-view-versus-a-copy\n",
      "  import sys\n",
      "C:\\Users\\om\\Anaconda3\\lib\\site-packages\\ipykernel_launcher.py:8: SettingWithCopyWarning: \n",
      "A value is trying to be set on a copy of a slice from a DataFrame.\n",
      "Try using .loc[row_indexer,col_indexer] = value instead\n",
      "\n",
      "See the caveats in the documentation: https://pandas.pydata.org/pandas-docs/stable/user_guide/indexing.html#returning-a-view-versus-a-copy\n",
      "  \n",
      "C:\\Users\\om\\Anaconda3\\lib\\site-packages\\ipykernel_launcher.py:4: SettingWithCopyWarning: \n",
      "A value is trying to be set on a copy of a slice from a DataFrame.\n",
      "Try using .loc[row_indexer,col_indexer] = value instead\n",
      "\n",
      "See the caveats in the documentation: https://pandas.pydata.org/pandas-docs/stable/user_guide/indexing.html#returning-a-view-versus-a-copy\n",
      "  after removing the cwd from sys.path.\n",
      "C:\\Users\\om\\Anaconda3\\lib\\site-packages\\ipykernel_launcher.py:5: SettingWithCopyWarning: \n",
      "A value is trying to be set on a copy of a slice from a DataFrame.\n",
      "Try using .loc[row_indexer,col_indexer] = value instead\n",
      "\n",
      "See the caveats in the documentation: https://pandas.pydata.org/pandas-docs/stable/user_guide/indexing.html#returning-a-view-versus-a-copy\n",
      "  \"\"\"\n",
      "C:\\Users\\om\\Anaconda3\\lib\\site-packages\\ipykernel_launcher.py:6: SettingWithCopyWarning: \n",
      "A value is trying to be set on a copy of a slice from a DataFrame.\n",
      "Try using .loc[row_indexer,col_indexer] = value instead\n",
      "\n",
      "See the caveats in the documentation: https://pandas.pydata.org/pandas-docs/stable/user_guide/indexing.html#returning-a-view-versus-a-copy\n",
      "  \n",
      "C:\\Users\\om\\Anaconda3\\lib\\site-packages\\ipykernel_launcher.py:7: SettingWithCopyWarning: \n",
      "A value is trying to be set on a copy of a slice from a DataFrame.\n",
      "Try using .loc[row_indexer,col_indexer] = value instead\n",
      "\n",
      "See the caveats in the documentation: https://pandas.pydata.org/pandas-docs/stable/user_guide/indexing.html#returning-a-view-versus-a-copy\n",
      "  import sys\n",
      "C:\\Users\\om\\Anaconda3\\lib\\site-packages\\ipykernel_launcher.py:8: SettingWithCopyWarning: \n",
      "A value is trying to be set on a copy of a slice from a DataFrame.\n",
      "Try using .loc[row_indexer,col_indexer] = value instead\n",
      "\n",
      "See the caveats in the documentation: https://pandas.pydata.org/pandas-docs/stable/user_guide/indexing.html#returning-a-view-versus-a-copy\n",
      "  \n",
      "C:\\Users\\om\\Anaconda3\\lib\\site-packages\\ipykernel_launcher.py:4: SettingWithCopyWarning: \n",
      "A value is trying to be set on a copy of a slice from a DataFrame.\n",
      "Try using .loc[row_indexer,col_indexer] = value instead\n",
      "\n",
      "See the caveats in the documentation: https://pandas.pydata.org/pandas-docs/stable/user_guide/indexing.html#returning-a-view-versus-a-copy\n",
      "  after removing the cwd from sys.path.\n",
      "C:\\Users\\om\\Anaconda3\\lib\\site-packages\\ipykernel_launcher.py:5: SettingWithCopyWarning: \n",
      "A value is trying to be set on a copy of a slice from a DataFrame.\n",
      "Try using .loc[row_indexer,col_indexer] = value instead\n",
      "\n",
      "See the caveats in the documentation: https://pandas.pydata.org/pandas-docs/stable/user_guide/indexing.html#returning-a-view-versus-a-copy\n",
      "  \"\"\"\n",
      "C:\\Users\\om\\Anaconda3\\lib\\site-packages\\ipykernel_launcher.py:6: SettingWithCopyWarning: \n",
      "A value is trying to be set on a copy of a slice from a DataFrame.\n",
      "Try using .loc[row_indexer,col_indexer] = value instead\n",
      "\n",
      "See the caveats in the documentation: https://pandas.pydata.org/pandas-docs/stable/user_guide/indexing.html#returning-a-view-versus-a-copy\n",
      "  \n",
      "C:\\Users\\om\\Anaconda3\\lib\\site-packages\\ipykernel_launcher.py:7: SettingWithCopyWarning: \n",
      "A value is trying to be set on a copy of a slice from a DataFrame.\n",
      "Try using .loc[row_indexer,col_indexer] = value instead\n",
      "\n",
      "See the caveats in the documentation: https://pandas.pydata.org/pandas-docs/stable/user_guide/indexing.html#returning-a-view-versus-a-copy\n",
      "  import sys\n",
      "C:\\Users\\om\\Anaconda3\\lib\\site-packages\\ipykernel_launcher.py:8: SettingWithCopyWarning: \n",
      "A value is trying to be set on a copy of a slice from a DataFrame.\n",
      "Try using .loc[row_indexer,col_indexer] = value instead\n",
      "\n",
      "See the caveats in the documentation: https://pandas.pydata.org/pandas-docs/stable/user_guide/indexing.html#returning-a-view-versus-a-copy\n",
      "  \n",
      "C:\\Users\\om\\Anaconda3\\lib\\site-packages\\ipykernel_launcher.py:4: SettingWithCopyWarning: \n",
      "A value is trying to be set on a copy of a slice from a DataFrame.\n",
      "Try using .loc[row_indexer,col_indexer] = value instead\n",
      "\n",
      "See the caveats in the documentation: https://pandas.pydata.org/pandas-docs/stable/user_guide/indexing.html#returning-a-view-versus-a-copy\n",
      "  after removing the cwd from sys.path.\n",
      "C:\\Users\\om\\Anaconda3\\lib\\site-packages\\ipykernel_launcher.py:5: SettingWithCopyWarning: \n",
      "A value is trying to be set on a copy of a slice from a DataFrame.\n",
      "Try using .loc[row_indexer,col_indexer] = value instead\n",
      "\n",
      "See the caveats in the documentation: https://pandas.pydata.org/pandas-docs/stable/user_guide/indexing.html#returning-a-view-versus-a-copy\n",
      "  \"\"\"\n",
      "C:\\Users\\om\\Anaconda3\\lib\\site-packages\\ipykernel_launcher.py:6: SettingWithCopyWarning: \n",
      "A value is trying to be set on a copy of a slice from a DataFrame.\n",
      "Try using .loc[row_indexer,col_indexer] = value instead\n",
      "\n",
      "See the caveats in the documentation: https://pandas.pydata.org/pandas-docs/stable/user_guide/indexing.html#returning-a-view-versus-a-copy\n",
      "  \n",
      "C:\\Users\\om\\Anaconda3\\lib\\site-packages\\ipykernel_launcher.py:7: SettingWithCopyWarning: \n",
      "A value is trying to be set on a copy of a slice from a DataFrame.\n",
      "Try using .loc[row_indexer,col_indexer] = value instead\n",
      "\n",
      "See the caveats in the documentation: https://pandas.pydata.org/pandas-docs/stable/user_guide/indexing.html#returning-a-view-versus-a-copy\n",
      "  import sys\n",
      "C:\\Users\\om\\Anaconda3\\lib\\site-packages\\ipykernel_launcher.py:8: SettingWithCopyWarning: \n",
      "A value is trying to be set on a copy of a slice from a DataFrame.\n",
      "Try using .loc[row_indexer,col_indexer] = value instead\n",
      "\n",
      "See the caveats in the documentation: https://pandas.pydata.org/pandas-docs/stable/user_guide/indexing.html#returning-a-view-versus-a-copy\n",
      "  \n",
      "C:\\Users\\om\\Anaconda3\\lib\\site-packages\\ipykernel_launcher.py:4: SettingWithCopyWarning: \n",
      "A value is trying to be set on a copy of a slice from a DataFrame.\n",
      "Try using .loc[row_indexer,col_indexer] = value instead\n",
      "\n",
      "See the caveats in the documentation: https://pandas.pydata.org/pandas-docs/stable/user_guide/indexing.html#returning-a-view-versus-a-copy\n",
      "  after removing the cwd from sys.path.\n",
      "C:\\Users\\om\\Anaconda3\\lib\\site-packages\\ipykernel_launcher.py:5: SettingWithCopyWarning: \n",
      "A value is trying to be set on a copy of a slice from a DataFrame.\n",
      "Try using .loc[row_indexer,col_indexer] = value instead\n",
      "\n",
      "See the caveats in the documentation: https://pandas.pydata.org/pandas-docs/stable/user_guide/indexing.html#returning-a-view-versus-a-copy\n",
      "  \"\"\"\n",
      "C:\\Users\\om\\Anaconda3\\lib\\site-packages\\ipykernel_launcher.py:6: SettingWithCopyWarning: \n",
      "A value is trying to be set on a copy of a slice from a DataFrame.\n",
      "Try using .loc[row_indexer,col_indexer] = value instead\n",
      "\n",
      "See the caveats in the documentation: https://pandas.pydata.org/pandas-docs/stable/user_guide/indexing.html#returning-a-view-versus-a-copy\n",
      "  \n",
      "C:\\Users\\om\\Anaconda3\\lib\\site-packages\\ipykernel_launcher.py:7: SettingWithCopyWarning: \n",
      "A value is trying to be set on a copy of a slice from a DataFrame.\n",
      "Try using .loc[row_indexer,col_indexer] = value instead\n",
      "\n",
      "See the caveats in the documentation: https://pandas.pydata.org/pandas-docs/stable/user_guide/indexing.html#returning-a-view-versus-a-copy\n",
      "  import sys\n",
      "C:\\Users\\om\\Anaconda3\\lib\\site-packages\\ipykernel_launcher.py:8: SettingWithCopyWarning: \n",
      "A value is trying to be set on a copy of a slice from a DataFrame.\n",
      "Try using .loc[row_indexer,col_indexer] = value instead\n",
      "\n",
      "See the caveats in the documentation: https://pandas.pydata.org/pandas-docs/stable/user_guide/indexing.html#returning-a-view-versus-a-copy\n",
      "  \n",
      "C:\\Users\\om\\Anaconda3\\lib\\site-packages\\ipykernel_launcher.py:4: SettingWithCopyWarning: \n",
      "A value is trying to be set on a copy of a slice from a DataFrame.\n",
      "Try using .loc[row_indexer,col_indexer] = value instead\n",
      "\n",
      "See the caveats in the documentation: https://pandas.pydata.org/pandas-docs/stable/user_guide/indexing.html#returning-a-view-versus-a-copy\n",
      "  after removing the cwd from sys.path.\n",
      "C:\\Users\\om\\Anaconda3\\lib\\site-packages\\ipykernel_launcher.py:5: SettingWithCopyWarning: \n",
      "A value is trying to be set on a copy of a slice from a DataFrame.\n",
      "Try using .loc[row_indexer,col_indexer] = value instead\n",
      "\n",
      "See the caveats in the documentation: https://pandas.pydata.org/pandas-docs/stable/user_guide/indexing.html#returning-a-view-versus-a-copy\n",
      "  \"\"\"\n",
      "C:\\Users\\om\\Anaconda3\\lib\\site-packages\\ipykernel_launcher.py:6: SettingWithCopyWarning: \n",
      "A value is trying to be set on a copy of a slice from a DataFrame.\n",
      "Try using .loc[row_indexer,col_indexer] = value instead\n",
      "\n",
      "See the caveats in the documentation: https://pandas.pydata.org/pandas-docs/stable/user_guide/indexing.html#returning-a-view-versus-a-copy\n",
      "  \n",
      "C:\\Users\\om\\Anaconda3\\lib\\site-packages\\ipykernel_launcher.py:7: SettingWithCopyWarning: \n",
      "A value is trying to be set on a copy of a slice from a DataFrame.\n",
      "Try using .loc[row_indexer,col_indexer] = value instead\n",
      "\n",
      "See the caveats in the documentation: https://pandas.pydata.org/pandas-docs/stable/user_guide/indexing.html#returning-a-view-versus-a-copy\n",
      "  import sys\n",
      "C:\\Users\\om\\Anaconda3\\lib\\site-packages\\ipykernel_launcher.py:8: SettingWithCopyWarning: \n",
      "A value is trying to be set on a copy of a slice from a DataFrame.\n",
      "Try using .loc[row_indexer,col_indexer] = value instead\n",
      "\n",
      "See the caveats in the documentation: https://pandas.pydata.org/pandas-docs/stable/user_guide/indexing.html#returning-a-view-versus-a-copy\n",
      "  \n",
      "C:\\Users\\om\\Anaconda3\\lib\\site-packages\\ipykernel_launcher.py:4: SettingWithCopyWarning: \n",
      "A value is trying to be set on a copy of a slice from a DataFrame.\n",
      "Try using .loc[row_indexer,col_indexer] = value instead\n",
      "\n",
      "See the caveats in the documentation: https://pandas.pydata.org/pandas-docs/stable/user_guide/indexing.html#returning-a-view-versus-a-copy\n",
      "  after removing the cwd from sys.path.\n",
      "C:\\Users\\om\\Anaconda3\\lib\\site-packages\\ipykernel_launcher.py:5: SettingWithCopyWarning: \n",
      "A value is trying to be set on a copy of a slice from a DataFrame.\n",
      "Try using .loc[row_indexer,col_indexer] = value instead\n",
      "\n",
      "See the caveats in the documentation: https://pandas.pydata.org/pandas-docs/stable/user_guide/indexing.html#returning-a-view-versus-a-copy\n",
      "  \"\"\"\n",
      "C:\\Users\\om\\Anaconda3\\lib\\site-packages\\ipykernel_launcher.py:6: SettingWithCopyWarning: \n",
      "A value is trying to be set on a copy of a slice from a DataFrame.\n",
      "Try using .loc[row_indexer,col_indexer] = value instead\n",
      "\n",
      "See the caveats in the documentation: https://pandas.pydata.org/pandas-docs/stable/user_guide/indexing.html#returning-a-view-versus-a-copy\n",
      "  \n",
      "C:\\Users\\om\\Anaconda3\\lib\\site-packages\\ipykernel_launcher.py:7: SettingWithCopyWarning: \n",
      "A value is trying to be set on a copy of a slice from a DataFrame.\n",
      "Try using .loc[row_indexer,col_indexer] = value instead\n",
      "\n",
      "See the caveats in the documentation: https://pandas.pydata.org/pandas-docs/stable/user_guide/indexing.html#returning-a-view-versus-a-copy\n",
      "  import sys\n",
      "C:\\Users\\om\\Anaconda3\\lib\\site-packages\\ipykernel_launcher.py:8: SettingWithCopyWarning: \n",
      "A value is trying to be set on a copy of a slice from a DataFrame.\n",
      "Try using .loc[row_indexer,col_indexer] = value instead\n",
      "\n",
      "See the caveats in the documentation: https://pandas.pydata.org/pandas-docs/stable/user_guide/indexing.html#returning-a-view-versus-a-copy\n",
      "  \n",
      "C:\\Users\\om\\Anaconda3\\lib\\site-packages\\ipykernel_launcher.py:4: SettingWithCopyWarning: \n",
      "A value is trying to be set on a copy of a slice from a DataFrame.\n",
      "Try using .loc[row_indexer,col_indexer] = value instead\n",
      "\n",
      "See the caveats in the documentation: https://pandas.pydata.org/pandas-docs/stable/user_guide/indexing.html#returning-a-view-versus-a-copy\n",
      "  after removing the cwd from sys.path.\n"
     ]
    },
    {
     "name": "stderr",
     "output_type": "stream",
     "text": [
      "C:\\Users\\om\\Anaconda3\\lib\\site-packages\\ipykernel_launcher.py:5: SettingWithCopyWarning: \n",
      "A value is trying to be set on a copy of a slice from a DataFrame.\n",
      "Try using .loc[row_indexer,col_indexer] = value instead\n",
      "\n",
      "See the caveats in the documentation: https://pandas.pydata.org/pandas-docs/stable/user_guide/indexing.html#returning-a-view-versus-a-copy\n",
      "  \"\"\"\n",
      "C:\\Users\\om\\Anaconda3\\lib\\site-packages\\ipykernel_launcher.py:6: SettingWithCopyWarning: \n",
      "A value is trying to be set on a copy of a slice from a DataFrame.\n",
      "Try using .loc[row_indexer,col_indexer] = value instead\n",
      "\n",
      "See the caveats in the documentation: https://pandas.pydata.org/pandas-docs/stable/user_guide/indexing.html#returning-a-view-versus-a-copy\n",
      "  \n",
      "C:\\Users\\om\\Anaconda3\\lib\\site-packages\\ipykernel_launcher.py:7: SettingWithCopyWarning: \n",
      "A value is trying to be set on a copy of a slice from a DataFrame.\n",
      "Try using .loc[row_indexer,col_indexer] = value instead\n",
      "\n",
      "See the caveats in the documentation: https://pandas.pydata.org/pandas-docs/stable/user_guide/indexing.html#returning-a-view-versus-a-copy\n",
      "  import sys\n",
      "C:\\Users\\om\\Anaconda3\\lib\\site-packages\\ipykernel_launcher.py:8: SettingWithCopyWarning: \n",
      "A value is trying to be set on a copy of a slice from a DataFrame.\n",
      "Try using .loc[row_indexer,col_indexer] = value instead\n",
      "\n",
      "See the caveats in the documentation: https://pandas.pydata.org/pandas-docs/stable/user_guide/indexing.html#returning-a-view-versus-a-copy\n",
      "  \n",
      "C:\\Users\\om\\Anaconda3\\lib\\site-packages\\ipykernel_launcher.py:4: SettingWithCopyWarning: \n",
      "A value is trying to be set on a copy of a slice from a DataFrame.\n",
      "Try using .loc[row_indexer,col_indexer] = value instead\n",
      "\n",
      "See the caveats in the documentation: https://pandas.pydata.org/pandas-docs/stable/user_guide/indexing.html#returning-a-view-versus-a-copy\n",
      "  after removing the cwd from sys.path.\n",
      "C:\\Users\\om\\Anaconda3\\lib\\site-packages\\ipykernel_launcher.py:5: SettingWithCopyWarning: \n",
      "A value is trying to be set on a copy of a slice from a DataFrame.\n",
      "Try using .loc[row_indexer,col_indexer] = value instead\n",
      "\n",
      "See the caveats in the documentation: https://pandas.pydata.org/pandas-docs/stable/user_guide/indexing.html#returning-a-view-versus-a-copy\n",
      "  \"\"\"\n",
      "C:\\Users\\om\\Anaconda3\\lib\\site-packages\\ipykernel_launcher.py:6: SettingWithCopyWarning: \n",
      "A value is trying to be set on a copy of a slice from a DataFrame.\n",
      "Try using .loc[row_indexer,col_indexer] = value instead\n",
      "\n",
      "See the caveats in the documentation: https://pandas.pydata.org/pandas-docs/stable/user_guide/indexing.html#returning-a-view-versus-a-copy\n",
      "  \n",
      "C:\\Users\\om\\Anaconda3\\lib\\site-packages\\ipykernel_launcher.py:7: SettingWithCopyWarning: \n",
      "A value is trying to be set on a copy of a slice from a DataFrame.\n",
      "Try using .loc[row_indexer,col_indexer] = value instead\n",
      "\n",
      "See the caveats in the documentation: https://pandas.pydata.org/pandas-docs/stable/user_guide/indexing.html#returning-a-view-versus-a-copy\n",
      "  import sys\n",
      "C:\\Users\\om\\Anaconda3\\lib\\site-packages\\ipykernel_launcher.py:8: SettingWithCopyWarning: \n",
      "A value is trying to be set on a copy of a slice from a DataFrame.\n",
      "Try using .loc[row_indexer,col_indexer] = value instead\n",
      "\n",
      "See the caveats in the documentation: https://pandas.pydata.org/pandas-docs/stable/user_guide/indexing.html#returning-a-view-versus-a-copy\n",
      "  \n",
      "C:\\Users\\om\\Anaconda3\\lib\\site-packages\\ipykernel_launcher.py:4: SettingWithCopyWarning: \n",
      "A value is trying to be set on a copy of a slice from a DataFrame.\n",
      "Try using .loc[row_indexer,col_indexer] = value instead\n",
      "\n",
      "See the caveats in the documentation: https://pandas.pydata.org/pandas-docs/stable/user_guide/indexing.html#returning-a-view-versus-a-copy\n",
      "  after removing the cwd from sys.path.\n",
      "C:\\Users\\om\\Anaconda3\\lib\\site-packages\\ipykernel_launcher.py:5: SettingWithCopyWarning: \n",
      "A value is trying to be set on a copy of a slice from a DataFrame.\n",
      "Try using .loc[row_indexer,col_indexer] = value instead\n",
      "\n",
      "See the caveats in the documentation: https://pandas.pydata.org/pandas-docs/stable/user_guide/indexing.html#returning-a-view-versus-a-copy\n",
      "  \"\"\"\n",
      "C:\\Users\\om\\Anaconda3\\lib\\site-packages\\ipykernel_launcher.py:6: SettingWithCopyWarning: \n",
      "A value is trying to be set on a copy of a slice from a DataFrame.\n",
      "Try using .loc[row_indexer,col_indexer] = value instead\n",
      "\n",
      "See the caveats in the documentation: https://pandas.pydata.org/pandas-docs/stable/user_guide/indexing.html#returning-a-view-versus-a-copy\n",
      "  \n",
      "C:\\Users\\om\\Anaconda3\\lib\\site-packages\\ipykernel_launcher.py:7: SettingWithCopyWarning: \n",
      "A value is trying to be set on a copy of a slice from a DataFrame.\n",
      "Try using .loc[row_indexer,col_indexer] = value instead\n",
      "\n",
      "See the caveats in the documentation: https://pandas.pydata.org/pandas-docs/stable/user_guide/indexing.html#returning-a-view-versus-a-copy\n",
      "  import sys\n",
      "C:\\Users\\om\\Anaconda3\\lib\\site-packages\\ipykernel_launcher.py:8: SettingWithCopyWarning: \n",
      "A value is trying to be set on a copy of a slice from a DataFrame.\n",
      "Try using .loc[row_indexer,col_indexer] = value instead\n",
      "\n",
      "See the caveats in the documentation: https://pandas.pydata.org/pandas-docs/stable/user_guide/indexing.html#returning-a-view-versus-a-copy\n",
      "  \n",
      "C:\\Users\\om\\Anaconda3\\lib\\site-packages\\ipykernel_launcher.py:4: SettingWithCopyWarning: \n",
      "A value is trying to be set on a copy of a slice from a DataFrame.\n",
      "Try using .loc[row_indexer,col_indexer] = value instead\n",
      "\n",
      "See the caveats in the documentation: https://pandas.pydata.org/pandas-docs/stable/user_guide/indexing.html#returning-a-view-versus-a-copy\n",
      "  after removing the cwd from sys.path.\n",
      "C:\\Users\\om\\Anaconda3\\lib\\site-packages\\ipykernel_launcher.py:5: SettingWithCopyWarning: \n",
      "A value is trying to be set on a copy of a slice from a DataFrame.\n",
      "Try using .loc[row_indexer,col_indexer] = value instead\n",
      "\n",
      "See the caveats in the documentation: https://pandas.pydata.org/pandas-docs/stable/user_guide/indexing.html#returning-a-view-versus-a-copy\n",
      "  \"\"\"\n",
      "C:\\Users\\om\\Anaconda3\\lib\\site-packages\\ipykernel_launcher.py:6: SettingWithCopyWarning: \n",
      "A value is trying to be set on a copy of a slice from a DataFrame.\n",
      "Try using .loc[row_indexer,col_indexer] = value instead\n",
      "\n",
      "See the caveats in the documentation: https://pandas.pydata.org/pandas-docs/stable/user_guide/indexing.html#returning-a-view-versus-a-copy\n",
      "  \n",
      "C:\\Users\\om\\Anaconda3\\lib\\site-packages\\ipykernel_launcher.py:7: SettingWithCopyWarning: \n",
      "A value is trying to be set on a copy of a slice from a DataFrame.\n",
      "Try using .loc[row_indexer,col_indexer] = value instead\n",
      "\n",
      "See the caveats in the documentation: https://pandas.pydata.org/pandas-docs/stable/user_guide/indexing.html#returning-a-view-versus-a-copy\n",
      "  import sys\n",
      "C:\\Users\\om\\Anaconda3\\lib\\site-packages\\ipykernel_launcher.py:8: SettingWithCopyWarning: \n",
      "A value is trying to be set on a copy of a slice from a DataFrame.\n",
      "Try using .loc[row_indexer,col_indexer] = value instead\n",
      "\n",
      "See the caveats in the documentation: https://pandas.pydata.org/pandas-docs/stable/user_guide/indexing.html#returning-a-view-versus-a-copy\n",
      "  \n",
      "C:\\Users\\om\\Anaconda3\\lib\\site-packages\\ipykernel_launcher.py:4: SettingWithCopyWarning: \n",
      "A value is trying to be set on a copy of a slice from a DataFrame.\n",
      "Try using .loc[row_indexer,col_indexer] = value instead\n",
      "\n",
      "See the caveats in the documentation: https://pandas.pydata.org/pandas-docs/stable/user_guide/indexing.html#returning-a-view-versus-a-copy\n",
      "  after removing the cwd from sys.path.\n",
      "C:\\Users\\om\\Anaconda3\\lib\\site-packages\\ipykernel_launcher.py:5: SettingWithCopyWarning: \n",
      "A value is trying to be set on a copy of a slice from a DataFrame.\n",
      "Try using .loc[row_indexer,col_indexer] = value instead\n",
      "\n",
      "See the caveats in the documentation: https://pandas.pydata.org/pandas-docs/stable/user_guide/indexing.html#returning-a-view-versus-a-copy\n",
      "  \"\"\"\n",
      "C:\\Users\\om\\Anaconda3\\lib\\site-packages\\ipykernel_launcher.py:6: SettingWithCopyWarning: \n",
      "A value is trying to be set on a copy of a slice from a DataFrame.\n",
      "Try using .loc[row_indexer,col_indexer] = value instead\n",
      "\n",
      "See the caveats in the documentation: https://pandas.pydata.org/pandas-docs/stable/user_guide/indexing.html#returning-a-view-versus-a-copy\n",
      "  \n",
      "C:\\Users\\om\\Anaconda3\\lib\\site-packages\\ipykernel_launcher.py:7: SettingWithCopyWarning: \n",
      "A value is trying to be set on a copy of a slice from a DataFrame.\n",
      "Try using .loc[row_indexer,col_indexer] = value instead\n",
      "\n",
      "See the caveats in the documentation: https://pandas.pydata.org/pandas-docs/stable/user_guide/indexing.html#returning-a-view-versus-a-copy\n",
      "  import sys\n",
      "C:\\Users\\om\\Anaconda3\\lib\\site-packages\\ipykernel_launcher.py:8: SettingWithCopyWarning: \n",
      "A value is trying to be set on a copy of a slice from a DataFrame.\n",
      "Try using .loc[row_indexer,col_indexer] = value instead\n",
      "\n",
      "See the caveats in the documentation: https://pandas.pydata.org/pandas-docs/stable/user_guide/indexing.html#returning-a-view-versus-a-copy\n",
      "  \n",
      "C:\\Users\\om\\Anaconda3\\lib\\site-packages\\ipykernel_launcher.py:4: SettingWithCopyWarning: \n",
      "A value is trying to be set on a copy of a slice from a DataFrame.\n",
      "Try using .loc[row_indexer,col_indexer] = value instead\n",
      "\n",
      "See the caveats in the documentation: https://pandas.pydata.org/pandas-docs/stable/user_guide/indexing.html#returning-a-view-versus-a-copy\n",
      "  after removing the cwd from sys.path.\n",
      "C:\\Users\\om\\Anaconda3\\lib\\site-packages\\ipykernel_launcher.py:5: SettingWithCopyWarning: \n",
      "A value is trying to be set on a copy of a slice from a DataFrame.\n",
      "Try using .loc[row_indexer,col_indexer] = value instead\n",
      "\n",
      "See the caveats in the documentation: https://pandas.pydata.org/pandas-docs/stable/user_guide/indexing.html#returning-a-view-versus-a-copy\n",
      "  \"\"\"\n",
      "C:\\Users\\om\\Anaconda3\\lib\\site-packages\\ipykernel_launcher.py:6: SettingWithCopyWarning: \n",
      "A value is trying to be set on a copy of a slice from a DataFrame.\n",
      "Try using .loc[row_indexer,col_indexer] = value instead\n",
      "\n",
      "See the caveats in the documentation: https://pandas.pydata.org/pandas-docs/stable/user_guide/indexing.html#returning-a-view-versus-a-copy\n",
      "  \n",
      "C:\\Users\\om\\Anaconda3\\lib\\site-packages\\ipykernel_launcher.py:7: SettingWithCopyWarning: \n",
      "A value is trying to be set on a copy of a slice from a DataFrame.\n",
      "Try using .loc[row_indexer,col_indexer] = value instead\n",
      "\n",
      "See the caveats in the documentation: https://pandas.pydata.org/pandas-docs/stable/user_guide/indexing.html#returning-a-view-versus-a-copy\n",
      "  import sys\n",
      "C:\\Users\\om\\Anaconda3\\lib\\site-packages\\ipykernel_launcher.py:8: SettingWithCopyWarning: \n",
      "A value is trying to be set on a copy of a slice from a DataFrame.\n",
      "Try using .loc[row_indexer,col_indexer] = value instead\n",
      "\n",
      "See the caveats in the documentation: https://pandas.pydata.org/pandas-docs/stable/user_guide/indexing.html#returning-a-view-versus-a-copy\n",
      "  \n",
      "C:\\Users\\om\\Anaconda3\\lib\\site-packages\\ipykernel_launcher.py:4: SettingWithCopyWarning: \n",
      "A value is trying to be set on a copy of a slice from a DataFrame.\n",
      "Try using .loc[row_indexer,col_indexer] = value instead\n",
      "\n",
      "See the caveats in the documentation: https://pandas.pydata.org/pandas-docs/stable/user_guide/indexing.html#returning-a-view-versus-a-copy\n",
      "  after removing the cwd from sys.path.\n"
     ]
    },
    {
     "name": "stderr",
     "output_type": "stream",
     "text": [
      "C:\\Users\\om\\Anaconda3\\lib\\site-packages\\ipykernel_launcher.py:5: SettingWithCopyWarning: \n",
      "A value is trying to be set on a copy of a slice from a DataFrame.\n",
      "Try using .loc[row_indexer,col_indexer] = value instead\n",
      "\n",
      "See the caveats in the documentation: https://pandas.pydata.org/pandas-docs/stable/user_guide/indexing.html#returning-a-view-versus-a-copy\n",
      "  \"\"\"\n",
      "C:\\Users\\om\\Anaconda3\\lib\\site-packages\\ipykernel_launcher.py:6: SettingWithCopyWarning: \n",
      "A value is trying to be set on a copy of a slice from a DataFrame.\n",
      "Try using .loc[row_indexer,col_indexer] = value instead\n",
      "\n",
      "See the caveats in the documentation: https://pandas.pydata.org/pandas-docs/stable/user_guide/indexing.html#returning-a-view-versus-a-copy\n",
      "  \n",
      "C:\\Users\\om\\Anaconda3\\lib\\site-packages\\ipykernel_launcher.py:7: SettingWithCopyWarning: \n",
      "A value is trying to be set on a copy of a slice from a DataFrame.\n",
      "Try using .loc[row_indexer,col_indexer] = value instead\n",
      "\n",
      "See the caveats in the documentation: https://pandas.pydata.org/pandas-docs/stable/user_guide/indexing.html#returning-a-view-versus-a-copy\n",
      "  import sys\n",
      "C:\\Users\\om\\Anaconda3\\lib\\site-packages\\ipykernel_launcher.py:8: SettingWithCopyWarning: \n",
      "A value is trying to be set on a copy of a slice from a DataFrame.\n",
      "Try using .loc[row_indexer,col_indexer] = value instead\n",
      "\n",
      "See the caveats in the documentation: https://pandas.pydata.org/pandas-docs/stable/user_guide/indexing.html#returning-a-view-versus-a-copy\n",
      "  \n",
      "C:\\Users\\om\\Anaconda3\\lib\\site-packages\\ipykernel_launcher.py:4: SettingWithCopyWarning: \n",
      "A value is trying to be set on a copy of a slice from a DataFrame.\n",
      "Try using .loc[row_indexer,col_indexer] = value instead\n",
      "\n",
      "See the caveats in the documentation: https://pandas.pydata.org/pandas-docs/stable/user_guide/indexing.html#returning-a-view-versus-a-copy\n",
      "  after removing the cwd from sys.path.\n",
      "C:\\Users\\om\\Anaconda3\\lib\\site-packages\\ipykernel_launcher.py:5: SettingWithCopyWarning: \n",
      "A value is trying to be set on a copy of a slice from a DataFrame.\n",
      "Try using .loc[row_indexer,col_indexer] = value instead\n",
      "\n",
      "See the caveats in the documentation: https://pandas.pydata.org/pandas-docs/stable/user_guide/indexing.html#returning-a-view-versus-a-copy\n",
      "  \"\"\"\n",
      "C:\\Users\\om\\Anaconda3\\lib\\site-packages\\ipykernel_launcher.py:6: SettingWithCopyWarning: \n",
      "A value is trying to be set on a copy of a slice from a DataFrame.\n",
      "Try using .loc[row_indexer,col_indexer] = value instead\n",
      "\n",
      "See the caveats in the documentation: https://pandas.pydata.org/pandas-docs/stable/user_guide/indexing.html#returning-a-view-versus-a-copy\n",
      "  \n",
      "C:\\Users\\om\\Anaconda3\\lib\\site-packages\\ipykernel_launcher.py:7: SettingWithCopyWarning: \n",
      "A value is trying to be set on a copy of a slice from a DataFrame.\n",
      "Try using .loc[row_indexer,col_indexer] = value instead\n",
      "\n",
      "See the caveats in the documentation: https://pandas.pydata.org/pandas-docs/stable/user_guide/indexing.html#returning-a-view-versus-a-copy\n",
      "  import sys\n",
      "C:\\Users\\om\\Anaconda3\\lib\\site-packages\\ipykernel_launcher.py:8: SettingWithCopyWarning: \n",
      "A value is trying to be set on a copy of a slice from a DataFrame.\n",
      "Try using .loc[row_indexer,col_indexer] = value instead\n",
      "\n",
      "See the caveats in the documentation: https://pandas.pydata.org/pandas-docs/stable/user_guide/indexing.html#returning-a-view-versus-a-copy\n",
      "  \n",
      "C:\\Users\\om\\Anaconda3\\lib\\site-packages\\ipykernel_launcher.py:4: SettingWithCopyWarning: \n",
      "A value is trying to be set on a copy of a slice from a DataFrame.\n",
      "Try using .loc[row_indexer,col_indexer] = value instead\n",
      "\n",
      "See the caveats in the documentation: https://pandas.pydata.org/pandas-docs/stable/user_guide/indexing.html#returning-a-view-versus-a-copy\n",
      "  after removing the cwd from sys.path.\n",
      "C:\\Users\\om\\Anaconda3\\lib\\site-packages\\ipykernel_launcher.py:5: SettingWithCopyWarning: \n",
      "A value is trying to be set on a copy of a slice from a DataFrame.\n",
      "Try using .loc[row_indexer,col_indexer] = value instead\n",
      "\n",
      "See the caveats in the documentation: https://pandas.pydata.org/pandas-docs/stable/user_guide/indexing.html#returning-a-view-versus-a-copy\n",
      "  \"\"\"\n",
      "C:\\Users\\om\\Anaconda3\\lib\\site-packages\\ipykernel_launcher.py:6: SettingWithCopyWarning: \n",
      "A value is trying to be set on a copy of a slice from a DataFrame.\n",
      "Try using .loc[row_indexer,col_indexer] = value instead\n",
      "\n",
      "See the caveats in the documentation: https://pandas.pydata.org/pandas-docs/stable/user_guide/indexing.html#returning-a-view-versus-a-copy\n",
      "  \n",
      "C:\\Users\\om\\Anaconda3\\lib\\site-packages\\ipykernel_launcher.py:7: SettingWithCopyWarning: \n",
      "A value is trying to be set on a copy of a slice from a DataFrame.\n",
      "Try using .loc[row_indexer,col_indexer] = value instead\n",
      "\n",
      "See the caveats in the documentation: https://pandas.pydata.org/pandas-docs/stable/user_guide/indexing.html#returning-a-view-versus-a-copy\n",
      "  import sys\n",
      "C:\\Users\\om\\Anaconda3\\lib\\site-packages\\ipykernel_launcher.py:8: SettingWithCopyWarning: \n",
      "A value is trying to be set on a copy of a slice from a DataFrame.\n",
      "Try using .loc[row_indexer,col_indexer] = value instead\n",
      "\n",
      "See the caveats in the documentation: https://pandas.pydata.org/pandas-docs/stable/user_guide/indexing.html#returning-a-view-versus-a-copy\n",
      "  \n",
      "C:\\Users\\om\\Anaconda3\\lib\\site-packages\\ipykernel_launcher.py:4: SettingWithCopyWarning: \n",
      "A value is trying to be set on a copy of a slice from a DataFrame.\n",
      "Try using .loc[row_indexer,col_indexer] = value instead\n",
      "\n",
      "See the caveats in the documentation: https://pandas.pydata.org/pandas-docs/stable/user_guide/indexing.html#returning-a-view-versus-a-copy\n",
      "  after removing the cwd from sys.path.\n",
      "C:\\Users\\om\\Anaconda3\\lib\\site-packages\\ipykernel_launcher.py:5: SettingWithCopyWarning: \n",
      "A value is trying to be set on a copy of a slice from a DataFrame.\n",
      "Try using .loc[row_indexer,col_indexer] = value instead\n",
      "\n",
      "See the caveats in the documentation: https://pandas.pydata.org/pandas-docs/stable/user_guide/indexing.html#returning-a-view-versus-a-copy\n",
      "  \"\"\"\n",
      "C:\\Users\\om\\Anaconda3\\lib\\site-packages\\ipykernel_launcher.py:6: SettingWithCopyWarning: \n",
      "A value is trying to be set on a copy of a slice from a DataFrame.\n",
      "Try using .loc[row_indexer,col_indexer] = value instead\n",
      "\n",
      "See the caveats in the documentation: https://pandas.pydata.org/pandas-docs/stable/user_guide/indexing.html#returning-a-view-versus-a-copy\n",
      "  \n",
      "C:\\Users\\om\\Anaconda3\\lib\\site-packages\\ipykernel_launcher.py:7: SettingWithCopyWarning: \n",
      "A value is trying to be set on a copy of a slice from a DataFrame.\n",
      "Try using .loc[row_indexer,col_indexer] = value instead\n",
      "\n",
      "See the caveats in the documentation: https://pandas.pydata.org/pandas-docs/stable/user_guide/indexing.html#returning-a-view-versus-a-copy\n",
      "  import sys\n",
      "C:\\Users\\om\\Anaconda3\\lib\\site-packages\\ipykernel_launcher.py:8: SettingWithCopyWarning: \n",
      "A value is trying to be set on a copy of a slice from a DataFrame.\n",
      "Try using .loc[row_indexer,col_indexer] = value instead\n",
      "\n",
      "See the caveats in the documentation: https://pandas.pydata.org/pandas-docs/stable/user_guide/indexing.html#returning-a-view-versus-a-copy\n",
      "  \n",
      "C:\\Users\\om\\Anaconda3\\lib\\site-packages\\ipykernel_launcher.py:4: SettingWithCopyWarning: \n",
      "A value is trying to be set on a copy of a slice from a DataFrame.\n",
      "Try using .loc[row_indexer,col_indexer] = value instead\n",
      "\n",
      "See the caveats in the documentation: https://pandas.pydata.org/pandas-docs/stable/user_guide/indexing.html#returning-a-view-versus-a-copy\n",
      "  after removing the cwd from sys.path.\n",
      "C:\\Users\\om\\Anaconda3\\lib\\site-packages\\ipykernel_launcher.py:5: SettingWithCopyWarning: \n",
      "A value is trying to be set on a copy of a slice from a DataFrame.\n",
      "Try using .loc[row_indexer,col_indexer] = value instead\n",
      "\n",
      "See the caveats in the documentation: https://pandas.pydata.org/pandas-docs/stable/user_guide/indexing.html#returning-a-view-versus-a-copy\n",
      "  \"\"\"\n",
      "C:\\Users\\om\\Anaconda3\\lib\\site-packages\\ipykernel_launcher.py:6: SettingWithCopyWarning: \n",
      "A value is trying to be set on a copy of a slice from a DataFrame.\n",
      "Try using .loc[row_indexer,col_indexer] = value instead\n",
      "\n",
      "See the caveats in the documentation: https://pandas.pydata.org/pandas-docs/stable/user_guide/indexing.html#returning-a-view-versus-a-copy\n",
      "  \n",
      "C:\\Users\\om\\Anaconda3\\lib\\site-packages\\ipykernel_launcher.py:7: SettingWithCopyWarning: \n",
      "A value is trying to be set on a copy of a slice from a DataFrame.\n",
      "Try using .loc[row_indexer,col_indexer] = value instead\n",
      "\n",
      "See the caveats in the documentation: https://pandas.pydata.org/pandas-docs/stable/user_guide/indexing.html#returning-a-view-versus-a-copy\n",
      "  import sys\n",
      "C:\\Users\\om\\Anaconda3\\lib\\site-packages\\ipykernel_launcher.py:8: SettingWithCopyWarning: \n",
      "A value is trying to be set on a copy of a slice from a DataFrame.\n",
      "Try using .loc[row_indexer,col_indexer] = value instead\n",
      "\n",
      "See the caveats in the documentation: https://pandas.pydata.org/pandas-docs/stable/user_guide/indexing.html#returning-a-view-versus-a-copy\n",
      "  \n",
      "C:\\Users\\om\\Anaconda3\\lib\\site-packages\\ipykernel_launcher.py:4: SettingWithCopyWarning: \n",
      "A value is trying to be set on a copy of a slice from a DataFrame.\n",
      "Try using .loc[row_indexer,col_indexer] = value instead\n",
      "\n",
      "See the caveats in the documentation: https://pandas.pydata.org/pandas-docs/stable/user_guide/indexing.html#returning-a-view-versus-a-copy\n",
      "  after removing the cwd from sys.path.\n",
      "C:\\Users\\om\\Anaconda3\\lib\\site-packages\\ipykernel_launcher.py:5: SettingWithCopyWarning: \n",
      "A value is trying to be set on a copy of a slice from a DataFrame.\n",
      "Try using .loc[row_indexer,col_indexer] = value instead\n",
      "\n",
      "See the caveats in the documentation: https://pandas.pydata.org/pandas-docs/stable/user_guide/indexing.html#returning-a-view-versus-a-copy\n",
      "  \"\"\"\n",
      "C:\\Users\\om\\Anaconda3\\lib\\site-packages\\ipykernel_launcher.py:6: SettingWithCopyWarning: \n",
      "A value is trying to be set on a copy of a slice from a DataFrame.\n",
      "Try using .loc[row_indexer,col_indexer] = value instead\n",
      "\n",
      "See the caveats in the documentation: https://pandas.pydata.org/pandas-docs/stable/user_guide/indexing.html#returning-a-view-versus-a-copy\n",
      "  \n",
      "C:\\Users\\om\\Anaconda3\\lib\\site-packages\\ipykernel_launcher.py:7: SettingWithCopyWarning: \n",
      "A value is trying to be set on a copy of a slice from a DataFrame.\n",
      "Try using .loc[row_indexer,col_indexer] = value instead\n",
      "\n",
      "See the caveats in the documentation: https://pandas.pydata.org/pandas-docs/stable/user_guide/indexing.html#returning-a-view-versus-a-copy\n",
      "  import sys\n",
      "C:\\Users\\om\\Anaconda3\\lib\\site-packages\\ipykernel_launcher.py:8: SettingWithCopyWarning: \n",
      "A value is trying to be set on a copy of a slice from a DataFrame.\n",
      "Try using .loc[row_indexer,col_indexer] = value instead\n",
      "\n",
      "See the caveats in the documentation: https://pandas.pydata.org/pandas-docs/stable/user_guide/indexing.html#returning-a-view-versus-a-copy\n",
      "  \n",
      "C:\\Users\\om\\Anaconda3\\lib\\site-packages\\ipykernel_launcher.py:4: SettingWithCopyWarning: \n",
      "A value is trying to be set on a copy of a slice from a DataFrame.\n",
      "Try using .loc[row_indexer,col_indexer] = value instead\n",
      "\n",
      "See the caveats in the documentation: https://pandas.pydata.org/pandas-docs/stable/user_guide/indexing.html#returning-a-view-versus-a-copy\n",
      "  after removing the cwd from sys.path.\n",
      "C:\\Users\\om\\Anaconda3\\lib\\site-packages\\ipykernel_launcher.py:5: SettingWithCopyWarning: \n",
      "A value is trying to be set on a copy of a slice from a DataFrame.\n",
      "Try using .loc[row_indexer,col_indexer] = value instead\n",
      "\n",
      "See the caveats in the documentation: https://pandas.pydata.org/pandas-docs/stable/user_guide/indexing.html#returning-a-view-versus-a-copy\n",
      "  \"\"\"\n",
      "C:\\Users\\om\\Anaconda3\\lib\\site-packages\\ipykernel_launcher.py:6: SettingWithCopyWarning: \n",
      "A value is trying to be set on a copy of a slice from a DataFrame.\n",
      "Try using .loc[row_indexer,col_indexer] = value instead\n",
      "\n",
      "See the caveats in the documentation: https://pandas.pydata.org/pandas-docs/stable/user_guide/indexing.html#returning-a-view-versus-a-copy\n",
      "  \n",
      "C:\\Users\\om\\Anaconda3\\lib\\site-packages\\ipykernel_launcher.py:7: SettingWithCopyWarning: \n",
      "A value is trying to be set on a copy of a slice from a DataFrame.\n",
      "Try using .loc[row_indexer,col_indexer] = value instead\n",
      "\n",
      "See the caveats in the documentation: https://pandas.pydata.org/pandas-docs/stable/user_guide/indexing.html#returning-a-view-versus-a-copy\n",
      "  import sys\n",
      "C:\\Users\\om\\Anaconda3\\lib\\site-packages\\ipykernel_launcher.py:8: SettingWithCopyWarning: \n",
      "A value is trying to be set on a copy of a slice from a DataFrame.\n",
      "Try using .loc[row_indexer,col_indexer] = value instead\n",
      "\n",
      "See the caveats in the documentation: https://pandas.pydata.org/pandas-docs/stable/user_guide/indexing.html#returning-a-view-versus-a-copy\n",
      "  \n",
      "C:\\Users\\om\\Anaconda3\\lib\\site-packages\\ipykernel_launcher.py:4: SettingWithCopyWarning: \n",
      "A value is trying to be set on a copy of a slice from a DataFrame.\n",
      "Try using .loc[row_indexer,col_indexer] = value instead\n",
      "\n",
      "See the caveats in the documentation: https://pandas.pydata.org/pandas-docs/stable/user_guide/indexing.html#returning-a-view-versus-a-copy\n",
      "  after removing the cwd from sys.path.\n",
      "C:\\Users\\om\\Anaconda3\\lib\\site-packages\\ipykernel_launcher.py:5: SettingWithCopyWarning: \n",
      "A value is trying to be set on a copy of a slice from a DataFrame.\n",
      "Try using .loc[row_indexer,col_indexer] = value instead\n",
      "\n",
      "See the caveats in the documentation: https://pandas.pydata.org/pandas-docs/stable/user_guide/indexing.html#returning-a-view-versus-a-copy\n",
      "  \"\"\"\n",
      "C:\\Users\\om\\Anaconda3\\lib\\site-packages\\ipykernel_launcher.py:6: SettingWithCopyWarning: \n",
      "A value is trying to be set on a copy of a slice from a DataFrame.\n",
      "Try using .loc[row_indexer,col_indexer] = value instead\n",
      "\n",
      "See the caveats in the documentation: https://pandas.pydata.org/pandas-docs/stable/user_guide/indexing.html#returning-a-view-versus-a-copy\n",
      "  \n",
      "C:\\Users\\om\\Anaconda3\\lib\\site-packages\\ipykernel_launcher.py:7: SettingWithCopyWarning: \n",
      "A value is trying to be set on a copy of a slice from a DataFrame.\n",
      "Try using .loc[row_indexer,col_indexer] = value instead\n",
      "\n",
      "See the caveats in the documentation: https://pandas.pydata.org/pandas-docs/stable/user_guide/indexing.html#returning-a-view-versus-a-copy\n",
      "  import sys\n",
      "C:\\Users\\om\\Anaconda3\\lib\\site-packages\\ipykernel_launcher.py:8: SettingWithCopyWarning: \n",
      "A value is trying to be set on a copy of a slice from a DataFrame.\n",
      "Try using .loc[row_indexer,col_indexer] = value instead\n",
      "\n",
      "See the caveats in the documentation: https://pandas.pydata.org/pandas-docs/stable/user_guide/indexing.html#returning-a-view-versus-a-copy\n",
      "  \n",
      "C:\\Users\\om\\Anaconda3\\lib\\site-packages\\ipykernel_launcher.py:4: SettingWithCopyWarning: \n",
      "A value is trying to be set on a copy of a slice from a DataFrame.\n",
      "Try using .loc[row_indexer,col_indexer] = value instead\n",
      "\n",
      "See the caveats in the documentation: https://pandas.pydata.org/pandas-docs/stable/user_guide/indexing.html#returning-a-view-versus-a-copy\n",
      "  after removing the cwd from sys.path.\n",
      "C:\\Users\\om\\Anaconda3\\lib\\site-packages\\ipykernel_launcher.py:5: SettingWithCopyWarning: \n",
      "A value is trying to be set on a copy of a slice from a DataFrame.\n",
      "Try using .loc[row_indexer,col_indexer] = value instead\n",
      "\n",
      "See the caveats in the documentation: https://pandas.pydata.org/pandas-docs/stable/user_guide/indexing.html#returning-a-view-versus-a-copy\n",
      "  \"\"\"\n",
      "C:\\Users\\om\\Anaconda3\\lib\\site-packages\\ipykernel_launcher.py:6: SettingWithCopyWarning: \n",
      "A value is trying to be set on a copy of a slice from a DataFrame.\n",
      "Try using .loc[row_indexer,col_indexer] = value instead\n",
      "\n",
      "See the caveats in the documentation: https://pandas.pydata.org/pandas-docs/stable/user_guide/indexing.html#returning-a-view-versus-a-copy\n",
      "  \n",
      "C:\\Users\\om\\Anaconda3\\lib\\site-packages\\ipykernel_launcher.py:7: SettingWithCopyWarning: \n",
      "A value is trying to be set on a copy of a slice from a DataFrame.\n",
      "Try using .loc[row_indexer,col_indexer] = value instead\n",
      "\n",
      "See the caveats in the documentation: https://pandas.pydata.org/pandas-docs/stable/user_guide/indexing.html#returning-a-view-versus-a-copy\n",
      "  import sys\n",
      "C:\\Users\\om\\Anaconda3\\lib\\site-packages\\ipykernel_launcher.py:8: SettingWithCopyWarning: \n",
      "A value is trying to be set on a copy of a slice from a DataFrame.\n",
      "Try using .loc[row_indexer,col_indexer] = value instead\n",
      "\n",
      "See the caveats in the documentation: https://pandas.pydata.org/pandas-docs/stable/user_guide/indexing.html#returning-a-view-versus-a-copy\n",
      "  \n",
      "C:\\Users\\om\\Anaconda3\\lib\\site-packages\\ipykernel_launcher.py:4: SettingWithCopyWarning: \n",
      "A value is trying to be set on a copy of a slice from a DataFrame.\n",
      "Try using .loc[row_indexer,col_indexer] = value instead\n",
      "\n",
      "See the caveats in the documentation: https://pandas.pydata.org/pandas-docs/stable/user_guide/indexing.html#returning-a-view-versus-a-copy\n",
      "  after removing the cwd from sys.path.\n",
      "C:\\Users\\om\\Anaconda3\\lib\\site-packages\\ipykernel_launcher.py:5: SettingWithCopyWarning: \n",
      "A value is trying to be set on a copy of a slice from a DataFrame.\n",
      "Try using .loc[row_indexer,col_indexer] = value instead\n",
      "\n",
      "See the caveats in the documentation: https://pandas.pydata.org/pandas-docs/stable/user_guide/indexing.html#returning-a-view-versus-a-copy\n",
      "  \"\"\"\n",
      "C:\\Users\\om\\Anaconda3\\lib\\site-packages\\ipykernel_launcher.py:6: SettingWithCopyWarning: \n",
      "A value is trying to be set on a copy of a slice from a DataFrame.\n",
      "Try using .loc[row_indexer,col_indexer] = value instead\n",
      "\n",
      "See the caveats in the documentation: https://pandas.pydata.org/pandas-docs/stable/user_guide/indexing.html#returning-a-view-versus-a-copy\n",
      "  \n",
      "C:\\Users\\om\\Anaconda3\\lib\\site-packages\\ipykernel_launcher.py:7: SettingWithCopyWarning: \n",
      "A value is trying to be set on a copy of a slice from a DataFrame.\n",
      "Try using .loc[row_indexer,col_indexer] = value instead\n",
      "\n",
      "See the caveats in the documentation: https://pandas.pydata.org/pandas-docs/stable/user_guide/indexing.html#returning-a-view-versus-a-copy\n",
      "  import sys\n",
      "C:\\Users\\om\\Anaconda3\\lib\\site-packages\\ipykernel_launcher.py:8: SettingWithCopyWarning: \n",
      "A value is trying to be set on a copy of a slice from a DataFrame.\n",
      "Try using .loc[row_indexer,col_indexer] = value instead\n",
      "\n",
      "See the caveats in the documentation: https://pandas.pydata.org/pandas-docs/stable/user_guide/indexing.html#returning-a-view-versus-a-copy\n",
      "  \n",
      "C:\\Users\\om\\Anaconda3\\lib\\site-packages\\ipykernel_launcher.py:4: SettingWithCopyWarning: \n",
      "A value is trying to be set on a copy of a slice from a DataFrame.\n",
      "Try using .loc[row_indexer,col_indexer] = value instead\n",
      "\n",
      "See the caveats in the documentation: https://pandas.pydata.org/pandas-docs/stable/user_guide/indexing.html#returning-a-view-versus-a-copy\n",
      "  after removing the cwd from sys.path.\n",
      "C:\\Users\\om\\Anaconda3\\lib\\site-packages\\ipykernel_launcher.py:5: SettingWithCopyWarning: \n",
      "A value is trying to be set on a copy of a slice from a DataFrame.\n",
      "Try using .loc[row_indexer,col_indexer] = value instead\n",
      "\n",
      "See the caveats in the documentation: https://pandas.pydata.org/pandas-docs/stable/user_guide/indexing.html#returning-a-view-versus-a-copy\n",
      "  \"\"\"\n",
      "C:\\Users\\om\\Anaconda3\\lib\\site-packages\\ipykernel_launcher.py:6: SettingWithCopyWarning: \n",
      "A value is trying to be set on a copy of a slice from a DataFrame.\n",
      "Try using .loc[row_indexer,col_indexer] = value instead\n",
      "\n",
      "See the caveats in the documentation: https://pandas.pydata.org/pandas-docs/stable/user_guide/indexing.html#returning-a-view-versus-a-copy\n",
      "  \n",
      "C:\\Users\\om\\Anaconda3\\lib\\site-packages\\ipykernel_launcher.py:7: SettingWithCopyWarning: \n",
      "A value is trying to be set on a copy of a slice from a DataFrame.\n",
      "Try using .loc[row_indexer,col_indexer] = value instead\n",
      "\n",
      "See the caveats in the documentation: https://pandas.pydata.org/pandas-docs/stable/user_guide/indexing.html#returning-a-view-versus-a-copy\n",
      "  import sys\n",
      "C:\\Users\\om\\Anaconda3\\lib\\site-packages\\ipykernel_launcher.py:8: SettingWithCopyWarning: \n",
      "A value is trying to be set on a copy of a slice from a DataFrame.\n",
      "Try using .loc[row_indexer,col_indexer] = value instead\n",
      "\n",
      "See the caveats in the documentation: https://pandas.pydata.org/pandas-docs/stable/user_guide/indexing.html#returning-a-view-versus-a-copy\n",
      "  \n",
      "C:\\Users\\om\\Anaconda3\\lib\\site-packages\\ipykernel_launcher.py:4: SettingWithCopyWarning: \n",
      "A value is trying to be set on a copy of a slice from a DataFrame.\n",
      "Try using .loc[row_indexer,col_indexer] = value instead\n",
      "\n",
      "See the caveats in the documentation: https://pandas.pydata.org/pandas-docs/stable/user_guide/indexing.html#returning-a-view-versus-a-copy\n",
      "  after removing the cwd from sys.path.\n",
      "C:\\Users\\om\\Anaconda3\\lib\\site-packages\\ipykernel_launcher.py:5: SettingWithCopyWarning: \n",
      "A value is trying to be set on a copy of a slice from a DataFrame.\n",
      "Try using .loc[row_indexer,col_indexer] = value instead\n",
      "\n",
      "See the caveats in the documentation: https://pandas.pydata.org/pandas-docs/stable/user_guide/indexing.html#returning-a-view-versus-a-copy\n",
      "  \"\"\"\n",
      "C:\\Users\\om\\Anaconda3\\lib\\site-packages\\ipykernel_launcher.py:6: SettingWithCopyWarning: \n",
      "A value is trying to be set on a copy of a slice from a DataFrame.\n",
      "Try using .loc[row_indexer,col_indexer] = value instead\n",
      "\n",
      "See the caveats in the documentation: https://pandas.pydata.org/pandas-docs/stable/user_guide/indexing.html#returning-a-view-versus-a-copy\n",
      "  \n",
      "C:\\Users\\om\\Anaconda3\\lib\\site-packages\\ipykernel_launcher.py:7: SettingWithCopyWarning: \n",
      "A value is trying to be set on a copy of a slice from a DataFrame.\n",
      "Try using .loc[row_indexer,col_indexer] = value instead\n",
      "\n",
      "See the caveats in the documentation: https://pandas.pydata.org/pandas-docs/stable/user_guide/indexing.html#returning-a-view-versus-a-copy\n",
      "  import sys\n",
      "C:\\Users\\om\\Anaconda3\\lib\\site-packages\\ipykernel_launcher.py:8: SettingWithCopyWarning: \n",
      "A value is trying to be set on a copy of a slice from a DataFrame.\n",
      "Try using .loc[row_indexer,col_indexer] = value instead\n",
      "\n",
      "See the caveats in the documentation: https://pandas.pydata.org/pandas-docs/stable/user_guide/indexing.html#returning-a-view-versus-a-copy\n",
      "  \n"
     ]
    }
   ],
   "source": [
    "temp = train\n",
    "roc_df = pd.DataFrame()\n",
    "for cut_off in np.linspace(0,1):\n",
    "    temp['y_pred'] = np.where(train.prob>cut_off, 1, 0)\n",
    "    temp['TP'] = np.where(((train.default ==1) & (train.y_pred==1)), 1,0)\n",
    "    temp['TN'] = np.where(((train.default ==0) & (train.y_pred==0)), 1,0)\n",
    "    temp['FP'] = np.where(((train.default ==0) & (train.y_pred==1)), 1,0)\n",
    "    temp['FN'] = np.where(((train.default ==1) & (train.y_pred==0)), 1,0)\n",
    "    sensitivity = temp.TP.sum()/(temp.TP.sum()+temp.FN.sum())\n",
    "    specificity = temp.TN.sum()/(temp.TN.sum()+temp.FP.sum())\n",
    "    accuracy = (temp.TN.sum()+temp.TP.sum())/(temp.y_pred.count())\n",
    "    temp_df = pd.DataFrame([cut_off, sensitivity, specificity, accuracy]).T\n",
    "    temp_df.columns = ['cutoff', 'sensitivity', 'specificity', 'accuracy']\n",
    "    roc_df = pd.concat([roc_df, temp_df], axis=0)"
   ]
  },
  {
   "cell_type": "code",
   "execution_count": 28,
   "metadata": {},
   "outputs": [],
   "source": [
    "roc_df['total'] = roc_df.sensitivity + roc_df.specificity"
   ]
  },
  {
   "cell_type": "code",
   "execution_count": 29,
   "metadata": {},
   "outputs": [
    {
     "data": {
      "text/html": [
       "<div>\n",
       "<style scoped>\n",
       "    .dataframe tbody tr th:only-of-type {\n",
       "        vertical-align: middle;\n",
       "    }\n",
       "\n",
       "    .dataframe tbody tr th {\n",
       "        vertical-align: top;\n",
       "    }\n",
       "\n",
       "    .dataframe thead th {\n",
       "        text-align: right;\n",
       "    }\n",
       "</style>\n",
       "<table border=\"1\" class=\"dataframe\">\n",
       "  <thead>\n",
       "    <tr style=\"text-align: right;\">\n",
       "      <th></th>\n",
       "      <th>cutoff</th>\n",
       "      <th>sensitivity</th>\n",
       "      <th>specificity</th>\n",
       "      <th>accuracy</th>\n",
       "      <th>total</th>\n",
       "    </tr>\n",
       "  </thead>\n",
       "  <tbody>\n",
       "    <tr>\n",
       "      <th>0</th>\n",
       "      <td>0.265306</td>\n",
       "      <td>0.795455</td>\n",
       "      <td>0.756983</td>\n",
       "      <td>0.767347</td>\n",
       "      <td>1.552438</td>\n",
       "    </tr>\n",
       "  </tbody>\n",
       "</table>\n",
       "</div>"
      ],
      "text/plain": [
       "     cutoff  sensitivity  specificity  accuracy     total\n",
       "0  0.265306     0.795455     0.756983  0.767347  1.552438"
      ]
     },
     "execution_count": 29,
     "metadata": {},
     "output_type": "execute_result"
    }
   ],
   "source": [
    "roc_df.sort_values(by = 'total', ascending=False).head(1)"
   ]
  },
  {
   "cell_type": "code",
   "execution_count": 30,
   "metadata": {},
   "outputs": [
    {
     "name": "stderr",
     "output_type": "stream",
     "text": [
      "C:\\Users\\om\\Anaconda3\\lib\\site-packages\\ipykernel_launcher.py:2: SettingWithCopyWarning: \n",
      "A value is trying to be set on a copy of a slice from a DataFrame.\n",
      "Try using .loc[row_indexer,col_indexer] = value instead\n",
      "\n",
      "See the caveats in the documentation: https://pandas.pydata.org/pandas-docs/stable/user_guide/indexing.html#returning-a-view-versus-a-copy\n",
      "  \n",
      "C:\\Users\\om\\Anaconda3\\lib\\site-packages\\ipykernel_launcher.py:3: SettingWithCopyWarning: \n",
      "A value is trying to be set on a copy of a slice from a DataFrame.\n",
      "Try using .loc[row_indexer,col_indexer] = value instead\n",
      "\n",
      "See the caveats in the documentation: https://pandas.pydata.org/pandas-docs/stable/user_guide/indexing.html#returning-a-view-versus-a-copy\n",
      "  This is separate from the ipykernel package so we can avoid doing imports until\n"
     ]
    }
   ],
   "source": [
    "#From above step, the cut-off is: 0.265306\n",
    "train['default_pred'] = np.where(train.prob>0.265306, 1, 0)\n",
    "test['default_pred'] = np.where(test.prob>0.265306, 1, 0)"
   ]
  },
  {
   "cell_type": "code",
   "execution_count": 31,
   "metadata": {},
   "outputs": [
    {
     "name": "stdout",
     "output_type": "stream",
     "text": [
      "              precision    recall  f1-score   support\n",
      "\n",
      "         0.0       0.91      0.76      0.83       358\n",
      "         1.0       0.55      0.80      0.65       132\n",
      "\n",
      "    accuracy                           0.77       490\n",
      "   macro avg       0.73      0.78      0.74       490\n",
      "weighted avg       0.81      0.77      0.78       490\n",
      "\n"
     ]
    }
   ],
   "source": [
    "#Good ness of fit metrics based on categorical predicted output for train & test\n",
    "\n",
    "print(metrics.classification_report(train.default, train.default_pred))"
   ]
  },
  {
   "cell_type": "code",
   "execution_count": 32,
   "metadata": {},
   "outputs": [
    {
     "name": "stdout",
     "output_type": "stream",
     "text": [
      "              precision    recall  f1-score   support\n",
      "\n",
      "         0.0       0.91      0.77      0.83       159\n",
      "         1.0       0.51      0.76      0.61        51\n",
      "\n",
      "    accuracy                           0.77       210\n",
      "   macro avg       0.71      0.77      0.72       210\n",
      "weighted avg       0.81      0.77      0.78       210\n",
      "\n"
     ]
    }
   ],
   "source": [
    "print(metrics.classification_report(test.default, test.default_pred))"
   ]
  },
  {
   "cell_type": "code",
   "execution_count": 33,
   "metadata": {},
   "outputs": [
    {
     "data": {
      "text/html": [
       "<div>\n",
       "<style scoped>\n",
       "    .dataframe tbody tr th:only-of-type {\n",
       "        vertical-align: middle;\n",
       "    }\n",
       "\n",
       "    .dataframe tbody tr th {\n",
       "        vertical-align: top;\n",
       "    }\n",
       "\n",
       "    .dataframe thead th {\n",
       "        text-align: right;\n",
       "    }\n",
       "</style>\n",
       "<table border=\"1\" class=\"dataframe\">\n",
       "  <thead>\n",
       "    <tr style=\"text-align: right;\">\n",
       "      <th></th>\n",
       "      <th>employ</th>\n",
       "      <th>address</th>\n",
       "      <th>debtinc</th>\n",
       "      <th>creddebt</th>\n",
       "      <th>othdebt</th>\n",
       "      <th>default</th>\n",
       "    </tr>\n",
       "  </thead>\n",
       "  <tbody>\n",
       "    <tr>\n",
       "      <th>0</th>\n",
       "      <td>17.0</td>\n",
       "      <td>12.0</td>\n",
       "      <td>9.3</td>\n",
       "      <td>9.891428</td>\n",
       "      <td>5.008608</td>\n",
       "      <td>1.0</td>\n",
       "    </tr>\n",
       "    <tr>\n",
       "      <th>1</th>\n",
       "      <td>10.0</td>\n",
       "      <td>6.0</td>\n",
       "      <td>17.3</td>\n",
       "      <td>1.362202</td>\n",
       "      <td>4.000798</td>\n",
       "      <td>0.0</td>\n",
       "    </tr>\n",
       "    <tr>\n",
       "      <th>2</th>\n",
       "      <td>15.0</td>\n",
       "      <td>14.0</td>\n",
       "      <td>5.5</td>\n",
       "      <td>0.856075</td>\n",
       "      <td>2.168925</td>\n",
       "      <td>0.0</td>\n",
       "    </tr>\n",
       "    <tr>\n",
       "      <th>3</th>\n",
       "      <td>15.0</td>\n",
       "      <td>14.0</td>\n",
       "      <td>2.9</td>\n",
       "      <td>2.658720</td>\n",
       "      <td>0.821280</td>\n",
       "      <td>0.0</td>\n",
       "    </tr>\n",
       "    <tr>\n",
       "      <th>4</th>\n",
       "      <td>2.0</td>\n",
       "      <td>0.0</td>\n",
       "      <td>17.3</td>\n",
       "      <td>1.787436</td>\n",
       "      <td>3.056564</td>\n",
       "      <td>1.0</td>\n",
       "    </tr>\n",
       "    <tr>\n",
       "      <th>...</th>\n",
       "      <td>...</td>\n",
       "      <td>...</td>\n",
       "      <td>...</td>\n",
       "      <td>...</td>\n",
       "      <td>...</td>\n",
       "      <td>...</td>\n",
       "    </tr>\n",
       "    <tr>\n",
       "      <th>695</th>\n",
       "      <td>6.0</td>\n",
       "      <td>15.0</td>\n",
       "      <td>4.6</td>\n",
       "      <td>0.262062</td>\n",
       "      <td>0.979938</td>\n",
       "      <td>1.0</td>\n",
       "    </tr>\n",
       "    <tr>\n",
       "      <th>696</th>\n",
       "      <td>6.0</td>\n",
       "      <td>4.0</td>\n",
       "      <td>11.5</td>\n",
       "      <td>0.369495</td>\n",
       "      <td>2.045505</td>\n",
       "      <td>0.0</td>\n",
       "    </tr>\n",
       "    <tr>\n",
       "      <th>697</th>\n",
       "      <td>15.0</td>\n",
       "      <td>3.0</td>\n",
       "      <td>7.6</td>\n",
       "      <td>0.491264</td>\n",
       "      <td>1.940736</td>\n",
       "      <td>0.0</td>\n",
       "    </tr>\n",
       "    <tr>\n",
       "      <th>698</th>\n",
       "      <td>19.0</td>\n",
       "      <td>22.0</td>\n",
       "      <td>8.4</td>\n",
       "      <td>2.302608</td>\n",
       "      <td>4.165392</td>\n",
       "      <td>0.0</td>\n",
       "    </tr>\n",
       "    <tr>\n",
       "      <th>699</th>\n",
       "      <td>12.0</td>\n",
       "      <td>14.0</td>\n",
       "      <td>14.7</td>\n",
       "      <td>2.994684</td>\n",
       "      <td>3.473316</td>\n",
       "      <td>0.0</td>\n",
       "    </tr>\n",
       "  </tbody>\n",
       "</table>\n",
       "<p>700 rows × 6 columns</p>\n",
       "</div>"
      ],
      "text/plain": [
       "     employ  address  debtinc  creddebt   othdebt  default\n",
       "0      17.0     12.0      9.3  9.891428  5.008608      1.0\n",
       "1      10.0      6.0     17.3  1.362202  4.000798      0.0\n",
       "2      15.0     14.0      5.5  0.856075  2.168925      0.0\n",
       "3      15.0     14.0      2.9  2.658720  0.821280      0.0\n",
       "4       2.0      0.0     17.3  1.787436  3.056564      1.0\n",
       "..      ...      ...      ...       ...       ...      ...\n",
       "695     6.0     15.0      4.6  0.262062  0.979938      1.0\n",
       "696     6.0      4.0     11.5  0.369495  2.045505      0.0\n",
       "697    15.0      3.0      7.6  0.491264  1.940736      0.0\n",
       "698    19.0     22.0      8.4  2.302608  4.165392      0.0\n",
       "699    12.0     14.0     14.7  2.994684  3.473316      0.0\n",
       "\n",
       "[700 rows x 6 columns]"
      ]
     },
     "execution_count": 33,
     "metadata": {},
     "output_type": "execute_result"
    }
   ],
   "source": [
    "data_final"
   ]
  },
  {
   "cell_type": "markdown",
   "metadata": {},
   "source": [
    "###  K-Nearest Neighbors"
   ]
  },
  {
   "cell_type": "code",
   "execution_count": 34,
   "metadata": {},
   "outputs": [],
   "source": [
    "X = data_final[data_final.columns.difference(['default'])]\n",
    "y = data_final.default"
   ]
  },
  {
   "cell_type": "code",
   "execution_count": 35,
   "metadata": {},
   "outputs": [],
   "source": [
    "train_X, test_X, train_y, test_y=train_test_split(X,y, test_size=0.3, random_state=123)"
   ]
  },
  {
   "cell_type": "code",
   "execution_count": 36,
   "metadata": {},
   "outputs": [],
   "source": [
    "#Pre-requisite:standardization of data\n",
    "from sklearn.preprocessing import StandardScaler"
   ]
  },
  {
   "cell_type": "code",
   "execution_count": 37,
   "metadata": {},
   "outputs": [],
   "source": [
    "std_data = StandardScaler()\n",
    "std_data = std_data.fit(train_X)"
   ]
  },
  {
   "cell_type": "code",
   "execution_count": 38,
   "metadata": {},
   "outputs": [],
   "source": [
    "train_X_std = std_data.transform(train_X)"
   ]
  },
  {
   "cell_type": "code",
   "execution_count": 39,
   "metadata": {},
   "outputs": [
    {
     "data": {
      "text/plain": [
       "array([[ 0.32057956,  0.31810255,  0.76137551,  1.47581129,  0.04054641],\n",
       "       [ 0.16865494,  0.35129104, -0.48294763, -0.67369464, -0.43598686],\n",
       "       [-1.04674207, -0.79664794, -1.09029582, -0.05955009, -0.6838694 ],\n",
       "       ...,\n",
       "       [ 0.62442882,  1.36765337,  0.85025573, -0.98076691,  0.11297006],\n",
       "       [ 0.77635344, -0.60290971, -1.23842953, -0.82723078, -0.83988954],\n",
       "       [-1.04674207,  0.35843758,  1.30947022, -0.82723078, -0.19840329]])"
      ]
     },
     "execution_count": 39,
     "metadata": {},
     "output_type": "execute_result"
    }
   ],
   "source": [
    "train_X_std"
   ]
  },
  {
   "cell_type": "code",
   "execution_count": 40,
   "metadata": {},
   "outputs": [],
   "source": [
    "test_X_std = std_data.transform(test_X)"
   ]
  },
  {
   "cell_type": "code",
   "execution_count": 41,
   "metadata": {},
   "outputs": [],
   "source": [
    "train_X_std = pd.DataFrame(train_X_std, columns = train_X.columns)"
   ]
  },
  {
   "cell_type": "code",
   "execution_count": 42,
   "metadata": {},
   "outputs": [],
   "source": [
    "test_X_std = pd.DataFrame(test_X_std, columns = test_X.columns)"
   ]
  },
  {
   "cell_type": "code",
   "execution_count": 43,
   "metadata": {},
   "outputs": [],
   "source": [
    "#if we know parameter values\n",
    "#k=5, weight=distance"
   ]
  },
  {
   "cell_type": "code",
   "execution_count": 44,
   "metadata": {},
   "outputs": [],
   "source": [
    "from sklearn.neighbors import KNeighborsClassifier"
   ]
  },
  {
   "cell_type": "code",
   "execution_count": 45,
   "metadata": {},
   "outputs": [],
   "source": [
    "knn_model = KNeighborsClassifier(n_neighbors=5, weights='distance', n_jobs=-1)"
   ]
  },
  {
   "cell_type": "code",
   "execution_count": 46,
   "metadata": {},
   "outputs": [
    {
     "data": {
      "text/plain": [
       "KNeighborsClassifier(n_jobs=-1, weights='distance')"
      ]
     },
     "execution_count": 46,
     "metadata": {},
     "output_type": "execute_result"
    }
   ],
   "source": [
    "knn_model.fit(train_X_std,train_y)"
   ]
  },
  {
   "cell_type": "code",
   "execution_count": 47,
   "metadata": {},
   "outputs": [],
   "source": [
    "train_pred = knn_model.predict(train_X_std)"
   ]
  },
  {
   "cell_type": "code",
   "execution_count": 48,
   "metadata": {},
   "outputs": [],
   "source": [
    "test_pred = knn_model.predict(test_X_std)"
   ]
  },
  {
   "cell_type": "code",
   "execution_count": 49,
   "metadata": {},
   "outputs": [
    {
     "name": "stdout",
     "output_type": "stream",
     "text": [
      "              precision    recall  f1-score   support\n",
      "\n",
      "         0.0       1.00      1.00      1.00       358\n",
      "         1.0       1.00      1.00      1.00       132\n",
      "\n",
      "    accuracy                           1.00       490\n",
      "   macro avg       1.00      1.00      1.00       490\n",
      "weighted avg       1.00      1.00      1.00       490\n",
      "\n"
     ]
    }
   ],
   "source": [
    "print(metrics.classification_report(train_y, train_pred))"
   ]
  },
  {
   "cell_type": "code",
   "execution_count": 50,
   "metadata": {},
   "outputs": [
    {
     "name": "stdout",
     "output_type": "stream",
     "text": [
      "              precision    recall  f1-score   support\n",
      "\n",
      "         0.0       0.82      0.90      0.86       159\n",
      "         1.0       0.56      0.39      0.46        51\n",
      "\n",
      "    accuracy                           0.78       210\n",
      "   macro avg       0.69      0.65      0.66       210\n",
      "weighted avg       0.76      0.78      0.76       210\n",
      "\n"
     ]
    }
   ],
   "source": [
    "print(metrics.classification_report(test_y, test_pred))"
   ]
  },
  {
   "cell_type": "code",
   "execution_count": 51,
   "metadata": {},
   "outputs": [
    {
     "data": {
      "text/plain": [
       "0.7530578127645166"
      ]
     },
     "execution_count": 51,
     "metadata": {},
     "output_type": "execute_result"
    }
   ],
   "source": [
    "metrics.roc_auc_score(train_y, pd.DataFrame(knn_model.predict_proba(train_X))[1])"
   ]
  },
  {
   "cell_type": "code",
   "execution_count": 52,
   "metadata": {},
   "outputs": [
    {
     "data": {
      "text/plain": [
       "0.6474904427179677"
      ]
     },
     "execution_count": 52,
     "metadata": {},
     "output_type": "execute_result"
    }
   ],
   "source": [
    "metrics.roc_auc_score(test_y, pd.DataFrame(knn_model.predict_proba(test_X))[1])"
   ]
  },
  {
   "cell_type": "code",
   "execution_count": 53,
   "metadata": {},
   "outputs": [],
   "source": [
    "#if we don't tuning parameters\n",
    "param_grid = {'n_neighbors':[3,4,5,6,7,8,9,10], \n",
    "              'weights':['uniform', 'distance']    \n",
    "}"
   ]
  },
  {
   "cell_type": "code",
   "execution_count": 54,
   "metadata": {},
   "outputs": [],
   "source": [
    "from sklearn.model_selection import GridSearchCV"
   ]
  },
  {
   "cell_type": "code",
   "execution_count": 55,
   "metadata": {},
   "outputs": [
    {
     "name": "stdout",
     "output_type": "stream",
     "text": [
      "Fitting 5 folds for each of 16 candidates, totalling 80 fits\n"
     ]
    },
    {
     "data": {
      "text/plain": [
       "GridSearchCV(cv=5, estimator=KNeighborsClassifier(),\n",
       "             param_grid={'n_neighbors': [3, 4, 5, 6, 7, 8, 9, 10],\n",
       "                         'weights': ['uniform', 'distance']},\n",
       "             scoring='roc_auc', verbose=True)"
      ]
     },
     "execution_count": 55,
     "metadata": {},
     "output_type": "execute_result"
    }
   ],
   "source": [
    "knn_model_gcv = GridSearchCV(KNeighborsClassifier(), param_grid, scoring='roc_auc', cv=5, verbose=True)\n",
    "knn_model_gcv.fit(train_X_std, train_y)"
   ]
  },
  {
   "cell_type": "code",
   "execution_count": 56,
   "metadata": {},
   "outputs": [
    {
     "data": {
      "text/plain": [
       "{'n_neighbors': 10, 'weights': 'distance'}"
      ]
     },
     "execution_count": 56,
     "metadata": {},
     "output_type": "execute_result"
    }
   ],
   "source": [
    "knn_model_gcv.best_params_"
   ]
  },
  {
   "cell_type": "code",
   "execution_count": 57,
   "metadata": {},
   "outputs": [
    {
     "data": {
      "text/plain": [
       "0.7812660507202761"
      ]
     },
     "execution_count": 57,
     "metadata": {},
     "output_type": "execute_result"
    }
   ],
   "source": [
    "knn_model_gcv.best_score_"
   ]
  },
  {
   "cell_type": "code",
   "execution_count": 58,
   "metadata": {},
   "outputs": [
    {
     "data": {
      "text/plain": [
       "KNeighborsClassifier(n_jobs=-1, n_neighbors=10, weights='distance')"
      ]
     },
     "execution_count": 58,
     "metadata": {},
     "output_type": "execute_result"
    }
   ],
   "source": [
    "knn_model = KNeighborsClassifier(n_neighbors=10, weights='distance', n_jobs=-1)\n",
    "\n",
    "knn_model.fit(train_X_std,train_y)"
   ]
  },
  {
   "cell_type": "code",
   "execution_count": 59,
   "metadata": {},
   "outputs": [
    {
     "name": "stdout",
     "output_type": "stream",
     "text": [
      "0.8085216692060267\n",
      "0.7565667776544579\n"
     ]
    }
   ],
   "source": [
    "print(metrics.roc_auc_score(train_y, pd.DataFrame(knn_model.predict_proba(train_X))[1]))\n",
    "\n",
    "\n",
    "print(metrics.roc_auc_score(test_y, pd.DataFrame(knn_model.predict_proba(test_X))[1]))"
   ]
  },
  {
   "cell_type": "code",
   "execution_count": 60,
   "metadata": {},
   "outputs": [],
   "source": [
    "#if we know parameters of values of KNN\n",
    "knn_model = KNeighborsClassifier(n_neighbors=5, weights='distance', n_jobs=-1)"
   ]
  },
  {
   "cell_type": "code",
   "execution_count": 61,
   "metadata": {},
   "outputs": [
    {
     "data": {
      "text/plain": [
       "KNeighborsClassifier(n_jobs=-1, weights='distance')"
      ]
     },
     "execution_count": 61,
     "metadata": {},
     "output_type": "execute_result"
    }
   ],
   "source": [
    "knn_model.fit(train_X_std, train_y)"
   ]
  },
  {
   "cell_type": "code",
   "execution_count": 62,
   "metadata": {},
   "outputs": [],
   "source": [
    "test_pred = knn_model.predict(test_X)"
   ]
  },
  {
   "cell_type": "code",
   "execution_count": 63,
   "metadata": {},
   "outputs": [],
   "source": [
    "train_pred = knn_model.predict(train_X)"
   ]
  },
  {
   "cell_type": "code",
   "execution_count": 64,
   "metadata": {},
   "outputs": [
    {
     "name": "stdout",
     "output_type": "stream",
     "text": [
      "              precision    recall  f1-score   support\n",
      "\n",
      "         0.0       0.86      0.67      0.76       358\n",
      "         1.0       0.45      0.71      0.55       132\n",
      "\n",
      "    accuracy                           0.68       490\n",
      "   macro avg       0.65      0.69      0.65       490\n",
      "weighted avg       0.75      0.68      0.70       490\n",
      "\n"
     ]
    }
   ],
   "source": [
    "print(metrics.classification_report(train_y, train_pred))"
   ]
  },
  {
   "cell_type": "code",
   "execution_count": 65,
   "metadata": {},
   "outputs": [
    {
     "name": "stdout",
     "output_type": "stream",
     "text": [
      "              precision    recall  f1-score   support\n",
      "\n",
      "         0.0       0.85      0.58      0.69       159\n",
      "         1.0       0.34      0.67      0.45        51\n",
      "\n",
      "    accuracy                           0.60       210\n",
      "   macro avg       0.59      0.63      0.57       210\n",
      "weighted avg       0.72      0.60      0.63       210\n",
      "\n"
     ]
    }
   ],
   "source": [
    "print(metrics.classification_report(test_y, test_pred))"
   ]
  },
  {
   "cell_type": "code",
   "execution_count": 66,
   "metadata": {},
   "outputs": [],
   "source": [
    "#if we don't know the parameters\n",
    "\n",
    "para_grid = {'n_neighbors': [3,4,5,6,7,8,9,10], \n",
    "             'weights': ['uniform', 'distance']}  #16 combinations\n",
    "\n",
    "knn_model_gcv = GridSearchCV(KNeighborsClassifier(), para_grid, cv = 5, scoring='accuracy')"
   ]
  },
  {
   "cell_type": "code",
   "execution_count": 67,
   "metadata": {},
   "outputs": [
    {
     "data": {
      "text/plain": [
       "GridSearchCV(cv=5, estimator=KNeighborsClassifier(),\n",
       "             param_grid={'n_neighbors': [3, 4, 5, 6, 7, 8, 9, 10],\n",
       "                         'weights': ['uniform', 'distance']},\n",
       "             scoring='accuracy')"
      ]
     },
     "execution_count": 67,
     "metadata": {},
     "output_type": "execute_result"
    }
   ],
   "source": [
    "knn_model_gcv.fit(train_X_std, train_y)"
   ]
  },
  {
   "cell_type": "code",
   "execution_count": 68,
   "metadata": {},
   "outputs": [
    {
     "data": {
      "text/plain": [
       "{'n_neighbors': 9, 'weights': 'uniform'}"
      ]
     },
     "execution_count": 68,
     "metadata": {},
     "output_type": "execute_result"
    }
   ],
   "source": [
    "knn_model_gcv.best_params_"
   ]
  },
  {
   "cell_type": "code",
   "execution_count": 69,
   "metadata": {},
   "outputs": [
    {
     "data": {
      "text/plain": [
       "0.7795918367346939"
      ]
     },
     "execution_count": 69,
     "metadata": {},
     "output_type": "execute_result"
    }
   ],
   "source": [
    "knn_model_gcv.best_score_"
   ]
  },
  {
   "cell_type": "code",
   "execution_count": 70,
   "metadata": {},
   "outputs": [],
   "source": [
    "#if we know parameters of values of KNN\n",
    "knn_model_final = KNeighborsClassifier(n_neighbors=9, weights='uniform', n_jobs=-1)"
   ]
  },
  {
   "cell_type": "code",
   "execution_count": 71,
   "metadata": {},
   "outputs": [
    {
     "data": {
      "text/plain": [
       "KNeighborsClassifier(n_jobs=-1, n_neighbors=9)"
      ]
     },
     "execution_count": 71,
     "metadata": {},
     "output_type": "execute_result"
    }
   ],
   "source": [
    "knn_model_final.fit(train_X_std, train_y)"
   ]
  },
  {
   "cell_type": "code",
   "execution_count": 72,
   "metadata": {},
   "outputs": [],
   "source": [
    "test_pred = knn_model_final.predict(test_X)"
   ]
  },
  {
   "cell_type": "code",
   "execution_count": 73,
   "metadata": {},
   "outputs": [],
   "source": [
    "train_pred = knn_model_final.predict(train_X)"
   ]
  },
  {
   "cell_type": "code",
   "execution_count": 74,
   "metadata": {},
   "outputs": [
    {
     "name": "stdout",
     "output_type": "stream",
     "text": [
      "              precision    recall  f1-score   support\n",
      "\n",
      "         0.0       0.91      0.72      0.80       358\n",
      "         1.0       0.51      0.80      0.62       132\n",
      "\n",
      "    accuracy                           0.74       490\n",
      "   macro avg       0.71      0.76      0.71       490\n",
      "weighted avg       0.80      0.74      0.75       490\n",
      "\n"
     ]
    }
   ],
   "source": [
    "print(metrics.classification_report(train_y, train_pred))"
   ]
  },
  {
   "cell_type": "code",
   "execution_count": 75,
   "metadata": {},
   "outputs": [
    {
     "name": "stdout",
     "output_type": "stream",
     "text": [
      "              precision    recall  f1-score   support\n",
      "\n",
      "         0.0       0.89      0.69      0.78       159\n",
      "         1.0       0.43      0.75      0.55        51\n",
      "\n",
      "    accuracy                           0.70       210\n",
      "   macro avg       0.66      0.72      0.66       210\n",
      "weighted avg       0.78      0.70      0.72       210\n",
      "\n"
     ]
    }
   ],
   "source": [
    "print(metrics.classification_report(test_y, test_pred))"
   ]
  },
  {
   "cell_type": "raw",
   "metadata": {},
   "source": [
    "#Exercise: Take the regression problem (peer group lending data, automobile data), using KNNRegressor, build the model\n",
    "\n",
    "from sklearn.neighbors import KNeighborsRegressor\n",
    "\n",
    "scoring= 'r-squre'\n",
    "\n",
    "metrics: MAPE/RMSE/RMSPE, Corr(Actual, pred)"
   ]
  },
  {
   "cell_type": "code",
   "execution_count": 76,
   "metadata": {},
   "outputs": [],
   "source": [
    "from sklearn.naive_bayes import MultinomialNB, GaussianNB, BernoulliNB"
   ]
  },
  {
   "cell_type": "code",
   "execution_count": 77,
   "metadata": {},
   "outputs": [
    {
     "data": {
      "text/plain": [
       "<AxesSubplot:>"
      ]
     },
     "execution_count": 77,
     "metadata": {},
     "output_type": "execute_result"
    },
    {
     "data": {
      "image/png": "[encoded data removed]",
      "text/plain": [
       "<Figure size 432x288 with 1 Axes>"
      ]
     },
     "metadata": {
      "needs_background": "light"
     },
     "output_type": "display_data"
    }
   ],
   "source": [
    "train_X.address.hist()"
   ]
  },
  {
   "cell_type": "code",
   "execution_count": 78,
   "metadata": {},
   "outputs": [
    {
     "name": "stderr",
     "output_type": "stream",
     "text": [
      "C:\\Users\\om\\Anaconda3\\lib\\site-packages\\pandas\\core\\arraylike.py:358: RuntimeWarning: divide by zero encountered in log\n",
      "  result = getattr(ufunc, method)(*inputs, **kwargs)\n"
     ]
    },
    {
     "data": {
      "text/plain": [
       "<AxesSubplot:>"
      ]
     },
     "execution_count": 78,
     "metadata": {},
     "output_type": "execute_result"
    },
    {
     "data": {
      "image/png": "[encoded data removed]",
      "text/plain": [
       "<Figure size 432x288 with 1 Axes>"
      ]
     },
     "metadata": {
      "needs_background": "light"
     },
     "output_type": "display_data"
    }
   ],
   "source": [
    "#train_X.address.hist()\n",
    "ln_address = np.where(train_X.address>0,np.log(train_X.address),0)\n",
    "pd.Series(ln_address).hist()"
   ]
  },
  {
   "cell_type": "code",
   "execution_count": 79,
   "metadata": {},
   "outputs": [],
   "source": [
    "nb_model = MultinomialNB()"
   ]
  },
  {
   "cell_type": "code",
   "execution_count": 80,
   "metadata": {},
   "outputs": [
    {
     "data": {
      "text/plain": [
       "MultinomialNB()"
      ]
     },
     "execution_count": 80,
     "metadata": {},
     "output_type": "execute_result"
    }
   ],
   "source": [
    "nb_model.fit(train_X, train_y)"
   ]
  },
  {
   "cell_type": "code",
   "execution_count": 81,
   "metadata": {},
   "outputs": [],
   "source": [
    "train_pred = nb_model.predict(train_X)"
   ]
  },
  {
   "cell_type": "code",
   "execution_count": 82,
   "metadata": {},
   "outputs": [],
   "source": [
    "test_pred = nb_model.predict(test_X)"
   ]
  },
  {
   "cell_type": "code",
   "execution_count": 83,
   "metadata": {},
   "outputs": [
    {
     "name": "stdout",
     "output_type": "stream",
     "text": [
      "              precision    recall  f1-score   support\n",
      "\n",
      "         0.0       0.87      0.77      0.82       358\n",
      "         1.0       0.53      0.70      0.60       132\n",
      "\n",
      "    accuracy                           0.75       490\n",
      "   macro avg       0.70      0.73      0.71       490\n",
      "weighted avg       0.78      0.75      0.76       490\n",
      "\n"
     ]
    }
   ],
   "source": [
    "print(metrics.classification_report(train_y, train_pred))"
   ]
  },
  {
   "cell_type": "code",
   "execution_count": 84,
   "metadata": {},
   "outputs": [
    {
     "name": "stdout",
     "output_type": "stream",
     "text": [
      "              precision    recall  f1-score   support\n",
      "\n",
      "         0.0       0.90      0.77      0.83       159\n",
      "         1.0       0.50      0.73      0.59        51\n",
      "\n",
      "    accuracy                           0.76       210\n",
      "   macro avg       0.70      0.75      0.71       210\n",
      "weighted avg       0.80      0.76      0.77       210\n",
      "\n"
     ]
    }
   ],
   "source": [
    "print(metrics.classification_report(test_y, test_pred))"
   ]
  },
  {
   "cell_type": "code",
   "execution_count": 85,
   "metadata": {},
   "outputs": [
    {
     "data": {
      "text/html": [
       "<div>\n",
       "<style scoped>\n",
       "    .dataframe tbody tr th:only-of-type {\n",
       "        vertical-align: middle;\n",
       "    }\n",
       "\n",
       "    .dataframe tbody tr th {\n",
       "        vertical-align: top;\n",
       "    }\n",
       "\n",
       "    .dataframe thead th {\n",
       "        text-align: right;\n",
       "    }\n",
       "</style>\n",
       "<table border=\"1\" class=\"dataframe\">\n",
       "  <thead>\n",
       "    <tr style=\"text-align: right;\">\n",
       "      <th></th>\n",
       "      <th>address</th>\n",
       "      <th>creddebt</th>\n",
       "      <th>debtinc</th>\n",
       "      <th>employ</th>\n",
       "      <th>othdebt</th>\n",
       "    </tr>\n",
       "  </thead>\n",
       "  <tbody>\n",
       "    <tr>\n",
       "      <th>404</th>\n",
       "      <td>10.0</td>\n",
       "      <td>2.099636</td>\n",
       "      <td>15.400</td>\n",
       "      <td>18.0</td>\n",
       "      <td>3.136364</td>\n",
       "    </tr>\n",
       "    <tr>\n",
       "      <th>63</th>\n",
       "      <td>9.0</td>\n",
       "      <td>2.159850</td>\n",
       "      <td>7.000</td>\n",
       "      <td>4.0</td>\n",
       "      <td>1.690150</td>\n",
       "    </tr>\n",
       "    <tr>\n",
       "      <th>34</th>\n",
       "      <td>1.0</td>\n",
       "      <td>0.077140</td>\n",
       "      <td>2.900</td>\n",
       "      <td>8.0</td>\n",
       "      <td>0.937860</td>\n",
       "    </tr>\n",
       "    <tr>\n",
       "      <th>33</th>\n",
       "      <td>4.0</td>\n",
       "      <td>1.018656</td>\n",
       "      <td>14.400</td>\n",
       "      <td>8.0</td>\n",
       "      <td>2.869344</td>\n",
       "    </tr>\n",
       "    <tr>\n",
       "      <th>583</th>\n",
       "      <td>14.0</td>\n",
       "      <td>7.320000</td>\n",
       "      <td>30.701</td>\n",
       "      <td>16.0</td>\n",
       "      <td>10.980000</td>\n",
       "    </tr>\n",
       "    <tr>\n",
       "      <th>...</th>\n",
       "      <td>...</td>\n",
       "      <td>...</td>\n",
       "      <td>...</td>\n",
       "      <td>...</td>\n",
       "      <td>...</td>\n",
       "    </tr>\n",
       "    <tr>\n",
       "      <th>98</th>\n",
       "      <td>9.0</td>\n",
       "      <td>0.681093</td>\n",
       "      <td>6.300</td>\n",
       "      <td>4.0</td>\n",
       "      <td>0.515907</td>\n",
       "    </tr>\n",
       "    <tr>\n",
       "      <th>322</th>\n",
       "      <td>22.0</td>\n",
       "      <td>0.431200</td>\n",
       "      <td>1.600</td>\n",
       "      <td>16.0</td>\n",
       "      <td>0.352800</td>\n",
       "    </tr>\n",
       "    <tr>\n",
       "      <th>382</th>\n",
       "      <td>12.0</td>\n",
       "      <td>4.003840</td>\n",
       "      <td>16.000</td>\n",
       "      <td>2.0</td>\n",
       "      <td>3.356160</td>\n",
       "    </tr>\n",
       "    <tr>\n",
       "      <th>365</th>\n",
       "      <td>13.0</td>\n",
       "      <td>0.428640</td>\n",
       "      <td>1.900</td>\n",
       "      <td>3.0</td>\n",
       "      <td>0.464360</td>\n",
       "    </tr>\n",
       "    <tr>\n",
       "      <th>510</th>\n",
       "      <td>1.0</td>\n",
       "      <td>2.172816</td>\n",
       "      <td>19.100</td>\n",
       "      <td>3.0</td>\n",
       "      <td>2.411184</td>\n",
       "    </tr>\n",
       "  </tbody>\n",
       "</table>\n",
       "<p>490 rows × 5 columns</p>\n",
       "</div>"
      ],
      "text/plain": [
       "     address  creddebt  debtinc  employ    othdebt\n",
       "404     10.0  2.099636   15.400    18.0   3.136364\n",
       "63       9.0  2.159850    7.000     4.0   1.690150\n",
       "34       1.0  0.077140    2.900     8.0   0.937860\n",
       "33       4.0  1.018656   14.400     8.0   2.869344\n",
       "583     14.0  7.320000   30.701    16.0  10.980000\n",
       "..       ...       ...      ...     ...        ...\n",
       "98       9.0  0.681093    6.300     4.0   0.515907\n",
       "322     22.0  0.431200    1.600    16.0   0.352800\n",
       "382     12.0  4.003840   16.000     2.0   3.356160\n",
       "365     13.0  0.428640    1.900     3.0   0.464360\n",
       "510      1.0  2.172816   19.100     3.0   2.411184\n",
       "\n",
       "[490 rows x 5 columns]"
      ]
     },
     "execution_count": 85,
     "metadata": {},
     "output_type": "execute_result"
    }
   ],
   "source": [
    "train_X"
   ]
  },
  {
   "cell_type": "markdown",
   "metadata": {},
   "source": [
    "### Decision Trees"
   ]
  },
  {
   "cell_type": "code",
   "execution_count": 86,
   "metadata": {},
   "outputs": [],
   "source": [
    "from sklearn.tree import DecisionTreeClassifier, export_graphviz, export_text"
   ]
  },
  {
   "cell_type": "code",
   "execution_count": 87,
   "metadata": {},
   "outputs": [
    {
     "data": {
      "text/plain": [
       "DecisionTreeClassifier(max_depth=5, max_leaf_nodes=10)"
      ]
     },
     "execution_count": 87,
     "metadata": {},
     "output_type": "execute_result"
    }
   ],
   "source": [
    "model = DecisionTreeClassifier(max_depth=5, max_leaf_nodes=10)\n",
    "model.fit(train_X, train_y)"
   ]
  },
  {
   "cell_type": "code",
   "execution_count": 88,
   "metadata": {},
   "outputs": [],
   "source": [
    "pred_prob_train = pd.DataFrame(model.predict_proba(train_X))[1]"
   ]
  },
  {
   "cell_type": "code",
   "execution_count": 89,
   "metadata": {},
   "outputs": [
    {
     "data": {
      "text/plain": [
       "0.8345818520399526"
      ]
     },
     "execution_count": 89,
     "metadata": {},
     "output_type": "execute_result"
    }
   ],
   "source": [
    "metrics.roc_auc_score(train_y, pred_prob_train)"
   ]
  },
  {
   "cell_type": "code",
   "execution_count": 90,
   "metadata": {},
   "outputs": [
    {
     "data": {
      "text/plain": [
       "0.7477494142311013"
      ]
     },
     "execution_count": 90,
     "metadata": {},
     "output_type": "execute_result"
    }
   ],
   "source": [
    "pred_prob_test = pd.DataFrame(model.predict_proba(test_X))[1]\n",
    "metrics.roc_auc_score(test_y, pred_prob_test)"
   ]
  },
  {
   "cell_type": "code",
   "execution_count": 91,
   "metadata": {},
   "outputs": [
    {
     "name": "stdout",
     "output_type": "stream",
     "text": [
      "              precision    recall  f1-score   support\n",
      "\n",
      "         0.0       0.84      0.94      0.88       358\n",
      "         1.0       0.75      0.50      0.60       132\n",
      "\n",
      "    accuracy                           0.82       490\n",
      "   macro avg       0.79      0.72      0.74       490\n",
      "weighted avg       0.81      0.82      0.81       490\n",
      "\n"
     ]
    }
   ],
   "source": [
    "print(metrics.classification_report(train_y, model.predict(train_X)))"
   ]
  },
  {
   "cell_type": "code",
   "execution_count": 92,
   "metadata": {},
   "outputs": [
    {
     "name": "stdout",
     "output_type": "stream",
     "text": [
      "              precision    recall  f1-score   support\n",
      "\n",
      "         0.0       0.81      0.92      0.86       159\n",
      "         1.0       0.59      0.33      0.42        51\n",
      "\n",
      "    accuracy                           0.78       210\n",
      "   macro avg       0.70      0.63      0.64       210\n",
      "weighted avg       0.76      0.78      0.76       210\n",
      "\n"
     ]
    }
   ],
   "source": [
    "print(metrics.classification_report(test_y, model.predict(test_X)))"
   ]
  },
  {
   "cell_type": "code",
   "execution_count": 93,
   "metadata": {},
   "outputs": [
    {
     "name": "stdout",
     "output_type": "stream",
     "text": [
      "0.8345818520399526\n",
      "0.7477494142311013\n"
     ]
    }
   ],
   "source": [
    "#Train data - AUC Score\n",
    "print(metrics.roc_auc_score(train_y, pd.DataFrame(model.predict_proba(train_X))[1]))\n",
    "\n",
    "#Test data - AUC Score\n",
    "print(metrics.roc_auc_score(test_y, pd.DataFrame(model.predict_proba(test_X))[1]))"
   ]
  },
  {
   "cell_type": "code",
   "execution_count": 94,
   "metadata": {},
   "outputs": [
    {
     "data": {
      "text/plain": [
       "GridSearchCV(cv=5, estimator=DecisionTreeClassifier(),\n",
       "             param_grid={'max_depth': [3, 4, 5, 6, 7, 8, 9, 10],\n",
       "                         'max_leaf_nodes': [5, 6, 7, 8, 9, 10, 11, 12]},\n",
       "             scoring='roc_auc')"
      ]
     },
     "execution_count": 94,
     "metadata": {},
     "output_type": "execute_result"
    }
   ],
   "source": [
    "param_grid = {'max_depth': [3,4,5,6,7,8,9,10],\n",
    "              'max_leaf_nodes': [5,6,7,8,9,10,11,12]\n",
    "}\n",
    "#model = GridSearchCV(DecisionTreeClassifier(), param_grid, cv=5, scoring='f1_weighted')\n",
    "model = GridSearchCV(DecisionTreeClassifier(), param_grid, cv=5, scoring='roc_auc')\n",
    "model.fit(train_X, train_y)"
   ]
  },
  {
   "cell_type": "code",
   "execution_count": 95,
   "metadata": {},
   "outputs": [
    {
     "data": {
      "text/plain": [
       "{'max_depth': 4, 'max_leaf_nodes': 8}"
      ]
     },
     "execution_count": 95,
     "metadata": {},
     "output_type": "execute_result"
    }
   ],
   "source": [
    "model.best_params_"
   ]
  },
  {
   "cell_type": "code",
   "execution_count": 96,
   "metadata": {},
   "outputs": [
    {
     "data": {
      "text/plain": [
       "0.7765413707315116"
      ]
     },
     "execution_count": 96,
     "metadata": {},
     "output_type": "execute_result"
    }
   ],
   "source": [
    "model.best_score_"
   ]
  },
  {
   "cell_type": "code",
   "execution_count": 97,
   "metadata": {},
   "outputs": [
    {
     "data": {
      "text/plain": [
       "DecisionTreeClassifier(max_depth=4, max_leaf_nodes=8)"
      ]
     },
     "execution_count": 97,
     "metadata": {},
     "output_type": "execute_result"
    }
   ],
   "source": [
    "model = DecisionTreeClassifier(max_depth=4, max_leaf_nodes=8)\n",
    "model.fit(train_X, train_y)"
   ]
  },
  {
   "cell_type": "code",
   "execution_count": 98,
   "metadata": {},
   "outputs": [
    {
     "name": "stdout",
     "output_type": "stream",
     "text": [
      "0.8192187235483326\n",
      "0.7677272166728326\n"
     ]
    }
   ],
   "source": [
    "#Train data - AUC Score\n",
    "print(metrics.roc_auc_score(train_y, pd.DataFrame(model.predict_proba(train_X))[1]))\n",
    "\n",
    "#Test data - AUC Score\n",
    "print(metrics.roc_auc_score(test_y, pd.DataFrame(model.predict_proba(test_X))[1]))"
   ]
  },
  {
   "cell_type": "code",
   "execution_count": 99,
   "metadata": {},
   "outputs": [
    {
     "data": {
      "text/plain": [
       "array([0.12810265, 0.17678112, 0.45213554, 0.24298068, 0.        ])"
      ]
     },
     "execution_count": 99,
     "metadata": {},
     "output_type": "execute_result"
    }
   ],
   "source": [
    "model.feature_importances_"
   ]
  },
  {
   "cell_type": "code",
   "execution_count": 100,
   "metadata": {},
   "outputs": [
    {
     "data": {
      "text/plain": [
       "Index(['address', 'creddebt', 'debtinc', 'employ', 'othdebt'], dtype='object')"
      ]
     },
     "execution_count": 100,
     "metadata": {},
     "output_type": "execute_result"
    }
   ],
   "source": [
    "train_X.columns"
   ]
  },
  {
   "cell_type": "code",
   "execution_count": 101,
   "metadata": {},
   "outputs": [],
   "source": [
    "var_imp = pd.DataFrame([train_X.columns, model.feature_importances_]).T"
   ]
  },
  {
   "cell_type": "code",
   "execution_count": 102,
   "metadata": {},
   "outputs": [],
   "source": [
    "var_imp.columns = ['var', 'imp']"
   ]
  },
  {
   "cell_type": "code",
   "execution_count": 103,
   "metadata": {},
   "outputs": [],
   "source": [
    "var_imp.sort_values(by= 'imp', ascending=False, inplace=True)"
   ]
  },
  {
   "cell_type": "code",
   "execution_count": 104,
   "metadata": {},
   "outputs": [
    {
     "data": {
      "text/plain": [
       "<AxesSubplot:>"
      ]
     },
     "execution_count": 104,
     "metadata": {},
     "output_type": "execute_result"
    },
    {
     "data": {
      "image/png": "[encoded data removed]",
      "text/plain": [
       "<Figure size 432x288 with 1 Axes>"
      ]
     },
     "metadata": {
      "needs_background": "light"
     },
     "output_type": "display_data"
    }
   ],
   "source": [
    "var_imp.plot(kind='barh')"
   ]
  },
  {
   "cell_type": "code",
   "execution_count": 105,
   "metadata": {},
   "outputs": [
    {
     "data": {
      "text/html": [
       "<div>\n",
       "<style scoped>\n",
       "    .dataframe tbody tr th:only-of-type {\n",
       "        vertical-align: middle;\n",
       "    }\n",
       "\n",
       "    .dataframe tbody tr th {\n",
       "        vertical-align: top;\n",
       "    }\n",
       "\n",
       "    .dataframe thead th {\n",
       "        text-align: right;\n",
       "    }\n",
       "</style>\n",
       "<table border=\"1\" class=\"dataframe\">\n",
       "  <thead>\n",
       "    <tr style=\"text-align: right;\">\n",
       "      <th></th>\n",
       "      <th>var</th>\n",
       "      <th>imp</th>\n",
       "    </tr>\n",
       "  </thead>\n",
       "  <tbody>\n",
       "    <tr>\n",
       "      <th>2</th>\n",
       "      <td>debtinc</td>\n",
       "      <td>0.452136</td>\n",
       "    </tr>\n",
       "    <tr>\n",
       "      <th>3</th>\n",
       "      <td>employ</td>\n",
       "      <td>0.242981</td>\n",
       "    </tr>\n",
       "    <tr>\n",
       "      <th>1</th>\n",
       "      <td>creddebt</td>\n",
       "      <td>0.176781</td>\n",
       "    </tr>\n",
       "    <tr>\n",
       "      <th>0</th>\n",
       "      <td>address</td>\n",
       "      <td>0.128103</td>\n",
       "    </tr>\n",
       "    <tr>\n",
       "      <th>4</th>\n",
       "      <td>othdebt</td>\n",
       "      <td>0.0</td>\n",
       "    </tr>\n",
       "  </tbody>\n",
       "</table>\n",
       "</div>"
      ],
      "text/plain": [
       "        var       imp\n",
       "2   debtinc  0.452136\n",
       "3    employ  0.242981\n",
       "1  creddebt  0.176781\n",
       "0   address  0.128103\n",
       "4   othdebt       0.0"
      ]
     },
     "execution_count": 105,
     "metadata": {},
     "output_type": "execute_result"
    }
   ],
   "source": [
    "var_imp"
   ]
  },
  {
   "cell_type": "markdown",
   "metadata": {},
   "source": [
    "### Generate Rules from Decision Trees (Out put as graph)\n",
    "\n",
    "#### To create a decision tree visualization graph.\n",
    "- Install GraphViz (As per the OS and version you are using)\n",
    "- pip install pydotplus\n",
    "- Add the path to environmental variables\n",
    "- Note: The notebook needs a restart."
   ]
  },
  {
   "cell_type": "code",
   "execution_count": 106,
   "metadata": {},
   "outputs": [],
   "source": [
    "import os     \n",
    "os.environ[\"PATH\"] += os.pathsep + 'D:/graphviz-2.38/release/bin'"
   ]
  },
  {
   "cell_type": "code",
   "execution_count": 107,
   "metadata": {},
   "outputs": [
    {
     "name": "stdout",
     "output_type": "stream",
     "text": [
      "Requirement already satisfied: pydotplus in c:\\users\\om\\anaconda3\\lib\\site-packages (2.0.2)\n",
      "Requirement already satisfied: pyparsing>=2.0.1 in c:\\users\\om\\anaconda3\\lib\\site-packages (from pydotplus) (2.4.2)\n"
     ]
    },
    {
     "name": "stderr",
     "output_type": "stream",
     "text": [
      "WARNING: You are using pip version 20.3.1; however, version 21.3.1 is available.\n",
      "You should consider upgrading via the 'c:\\users\\om\\anaconda3\\python.exe -m pip install --upgrade pip' command.\n"
     ]
    }
   ],
   "source": [
    "!pip install pydotplus"
   ]
  },
  {
   "cell_type": "code",
   "execution_count": 108,
   "metadata": {},
   "outputs": [],
   "source": [
    "from sklearn.tree import export_graphviz"
   ]
  },
  {
   "cell_type": "code",
   "execution_count": 109,
   "metadata": {},
   "outputs": [],
   "source": [
    "# Exporting the tree output in the form opendocument\n",
    "export_graphviz( model,\n",
    "              out_file = \"model_tree.odt\",\n",
    "              feature_names = train_X.columns )"
   ]
  },
  {
   "cell_type": "code",
   "execution_count": 110,
   "metadata": {},
   "outputs": [],
   "source": [
    "# Converting open document file to jpg imanage\n",
    "\n",
    "import pydotplus as pdot\n",
    "chd_tree_graph = pdot.graphviz.graph_from_dot_file( 'model_tree.odt' )"
   ]
  },
  {
   "cell_type": "code",
   "execution_count": 111,
   "metadata": {},
   "outputs": [
    {
     "data": {
      "text/plain": [
       "True"
      ]
     },
     "execution_count": 111,
     "metadata": {},
     "output_type": "execute_result"
    }
   ],
   "source": [
    "chd_tree_graph.write_jpg( 'model_tree.jpg' )"
   ]
  },
  {
   "cell_type": "code",
   "execution_count": 112,
   "metadata": {},
   "outputs": [
    {
     "data": {
      "image/jpeg": "[encoded data removed]",
      "text/plain": [
       "<IPython.core.display.Image object>"
      ]
     },
     "execution_count": 112,
     "metadata": {},
     "output_type": "execute_result"
    }
   ],
   "source": [
    "# Viewing the image in the notebook (display the image)\n",
    "from IPython.display import Image\n",
    "Image(filename='model_tree.jpg')"
   ]
  },
  {
   "cell_type": "code",
   "execution_count": 113,
   "metadata": {},
   "outputs": [
    {
     "data": {
      "text/plain": [
       "DecisionTreeClassifier(max_depth=4, max_leaf_nodes=8)"
      ]
     },
     "execution_count": 113,
     "metadata": {},
     "output_type": "execute_result"
    }
   ],
   "source": [
    "model"
   ]
  },
  {
   "cell_type": "code",
   "execution_count": 114,
   "metadata": {},
   "outputs": [],
   "source": [
    "export_graphviz(model, 'dot_data.odt',  \n",
    "                filled=True, rounded=True,\n",
    "                special_characters=True,feature_names = train_X.columns,class_names=['0','1'])"
   ]
  },
  {
   "cell_type": "code",
   "execution_count": 115,
   "metadata": {},
   "outputs": [],
   "source": [
    "import pydotplus\n",
    "graph = pydotplus.graphviz.graph_from_dot_file('dot_data.odt')  "
   ]
  },
  {
   "cell_type": "code",
   "execution_count": 116,
   "metadata": {},
   "outputs": [
    {
     "data": {
      "text/plain": [
       "True"
      ]
     },
     "execution_count": 116,
     "metadata": {},
     "output_type": "execute_result"
    }
   ],
   "source": [
    "graph.write_png('tree_final.png')"
   ]
  },
  {
   "cell_type": "code",
   "execution_count": 117,
   "metadata": {},
   "outputs": [
    {
     "data": {
      "image/png": "[encoded data removed]",
      "text/plain": [
       "<IPython.core.display.Image object>"
      ]
     },
     "execution_count": 117,
     "metadata": {},
     "output_type": "execute_result"
    }
   ],
   "source": [
    "Image('tree_final.png')"
   ]
  },
  {
   "cell_type": "code",
   "execution_count": 118,
   "metadata": {},
   "outputs": [],
   "source": [
    "from sklearn.tree import export_text"
   ]
  },
  {
   "cell_type": "code",
   "execution_count": 119,
   "metadata": {},
   "outputs": [
    {
     "name": "stdout",
     "output_type": "stream",
     "text": [
      "|--- debtinc <= 14.75\n",
      "|   |--- employ <= 5.50\n",
      "|   |   |--- creddebt <= 2.35\n",
      "|   |   |   |--- address <= 8.50\n",
      "|   |   |   |   |--- class: 0.0\n",
      "|   |   |   |--- address >  8.50\n",
      "|   |   |   |   |--- class: 0.0\n",
      "|   |   |--- creddebt >  2.35\n",
      "|   |   |   |--- class: 1.0\n",
      "|   |--- employ >  5.50\n",
      "|   |   |--- class: 0.0\n",
      "|--- debtinc >  14.75\n",
      "|   |--- employ <= 2.50\n",
      "|   |   |--- class: 1.0\n",
      "|   |--- employ >  2.50\n",
      "|   |   |--- creddebt <= 4.85\n",
      "|   |   |   |--- address <= 6.50\n",
      "|   |   |   |   |--- class: 1.0\n",
      "|   |   |   |--- address >  6.50\n",
      "|   |   |   |   |--- class: 0.0\n",
      "|   |   |--- creddebt >  4.85\n",
      "|   |   |   |--- class: 1.0\n",
      "\n"
     ]
    }
   ],
   "source": [
    "text_representation = export_text(model, feature_names = ['address', 'creddebt', 'debtinc', 'employ', 'othdebt'])\n",
    "print(text_representation)"
   ]
  },
  {
   "cell_type": "code",
   "execution_count": 120,
   "metadata": {},
   "outputs": [],
   "source": [
    "with open(\"decistion_tree.log\", \"w\") as fout:\n",
    "    fout.write(text_representation)"
   ]
  },
  {
   "cell_type": "code",
   "execution_count": 121,
   "metadata": {},
   "outputs": [],
   "source": [
    "import sklearn.tree as tree"
   ]
  },
  {
   "cell_type": "code",
   "execution_count": 122,
   "metadata": {},
   "outputs": [],
   "source": [
    "from sklearn.tree import plot_tree"
   ]
  },
  {
   "cell_type": "code",
   "execution_count": 123,
   "metadata": {},
   "outputs": [],
   "source": [
    "import matplotlib.pyplot as plt"
   ]
  },
  {
   "cell_type": "code",
   "execution_count": 124,
   "metadata": {},
   "outputs": [
    {
     "data": {
      "text/plain": [
       "[Text(182.61818181818182, 195.696, 'debtinc <= 14.75\\ngini = 0.394\\nsamples = 490\\nvalue = [358, 132]\\nclass = y'),\n",
       " Text(121.74545454545455, 152.208, 'employ <= 5.5\\ngini = 0.289\\nsamples = 376\\nvalue = [310, 66]\\nclass = y'),\n",
       " Text(91.30909090909091, 108.72, 'creddebt <= 2.348\\ngini = 0.441\\nsamples = 140\\nvalue = [94, 46]\\nclass = y'),\n",
       " Text(60.872727272727275, 65.232, 'address <= 8.5\\ngini = 0.427\\nsamples = 136\\nvalue = [94, 42]\\nclass = y'),\n",
       " Text(30.436363636363637, 21.744, 'gini = 0.469\\nsamples = 101\\nvalue = [63, 38]\\nclass = y'),\n",
       " Text(91.30909090909091, 21.744, 'gini = 0.202\\nsamples = 35\\nvalue = [31, 4]\\nclass = y'),\n",
       " Text(121.74545454545455, 65.232, 'gini = 0.0\\nsamples = 4\\nvalue = [0, 4]\\nclass = e'),\n",
       " Text(152.1818181818182, 108.72, 'gini = 0.155\\nsamples = 236\\nvalue = [216, 20]\\nclass = y'),\n",
       " Text(243.4909090909091, 152.208, 'employ <= 2.5\\ngini = 0.488\\nsamples = 114\\nvalue = [48, 66]\\nclass = e'),\n",
       " Text(213.05454545454546, 108.72, 'gini = 0.305\\nsamples = 32\\nvalue = [6, 26]\\nclass = e'),\n",
       " Text(273.92727272727274, 108.72, 'creddebt <= 4.85\\ngini = 0.5\\nsamples = 82\\nvalue = [42, 40]\\nclass = y'),\n",
       " Text(243.4909090909091, 65.232, 'address <= 6.5\\ngini = 0.469\\nsamples = 64\\nvalue = [40, 24]\\nclass = y'),\n",
       " Text(213.05454545454546, 21.744, 'gini = 0.492\\nsamples = 32\\nvalue = [14, 18]\\nclass = e'),\n",
       " Text(273.92727272727274, 21.744, 'gini = 0.305\\nsamples = 32\\nvalue = [26, 6]\\nclass = y'),\n",
       " Text(304.3636363636364, 65.232, 'gini = 0.198\\nsamples = 18\\nvalue = [2, 16]\\nclass = e')]"
      ]
     },
     "execution_count": 124,
     "metadata": {},
     "output_type": "execute_result"
    },
    {
     "data": {
      "image/png": "[encoded data removed]",
      "text/plain": [
       "<Figure size 432x288 with 1 Axes>"
      ]
     },
     "metadata": {
      "needs_background": "light"
     },
     "output_type": "display_data"
    }
   ],
   "source": [
    "tree.plot_tree(model, \n",
    "                   feature_names=train_X.columns,  \n",
    "                   class_names='yes',\n",
    "                   filled=True)"
   ]
  },
  {
   "cell_type": "code",
   "execution_count": 125,
   "metadata": {},
   "outputs": [
    {
     "data": {
      "text/plain": [
       "15"
      ]
     },
     "execution_count": 125,
     "metadata": {},
     "output_type": "execute_result"
    }
   ],
   "source": [
    "model.tree_.node_count"
   ]
  },
  {
   "cell_type": "code",
   "execution_count": 126,
   "metadata": {},
   "outputs": [
    {
     "data": {
      "text/plain": [
       "8"
      ]
     },
     "execution_count": 126,
     "metadata": {},
     "output_type": "execute_result"
    }
   ],
   "source": [
    "model.tree_.n_leaves"
   ]
  },
  {
   "cell_type": "code",
   "execution_count": 127,
   "metadata": {},
   "outputs": [],
   "source": [
    "n_nodes = model.tree_.node_count\n",
    "\n",
    "children_left = model.tree_.children_left\n",
    "\n",
    "children_right = model.tree_.children_right\n",
    "\n",
    "feature = model.tree_.feature\n",
    "\n",
    "threshold = model.tree_.threshold"
   ]
  },
  {
   "cell_type": "code",
   "execution_count": 128,
   "metadata": {},
   "outputs": [
    {
     "name": "stdout",
     "output_type": "stream",
     "text": [
      "15\n",
      "[ 1  3  5 11 -1 -1  7  9 -1 -1 -1 13 -1 -1 -1]\n",
      "[ 2  4  6 12 -1 -1  8 10 -1 -1 -1 14 -1 -1 -1]\n",
      "[ 2  3  3  1 -2 -2  1  0 -2 -2 -2  0 -2 -2 -2]\n",
      "[14.75        5.5         2.5         2.34770405 -2.         -2.\n",
      "  4.85020256  6.5        -2.         -2.         -2.          8.5\n",
      " -2.         -2.         -2.        ]\n"
     ]
    }
   ],
   "source": [
    "print(n_nodes)\n",
    "print(children_left)\n",
    "print(children_right)\n",
    "print(feature)\n",
    "print(threshold)"
   ]
  },
  {
   "cell_type": "code",
   "execution_count": 129,
   "metadata": {},
   "outputs": [],
   "source": [
    "def find_path(node_numb, path, x):\n",
    "        path.append(node_numb)\n",
    "        if node_numb == x:\n",
    "            return True\n",
    "        left = False\n",
    "        right = False\n",
    "\n",
    "        if (children_left[node_numb] !=-1):\n",
    "            left = find_path(children_left[node_numb], path, x)\n",
    "\n",
    "        if (children_right[node_numb] !=-1):\n",
    "            right = find_path(children_right[node_numb], path, x)\n",
    "\n",
    "        if left or right :\n",
    "            return True\n",
    "\n",
    "        path.remove(node_numb)\n",
    "        return False"
   ]
  },
  {
   "cell_type": "code",
   "execution_count": 130,
   "metadata": {},
   "outputs": [],
   "source": [
    "def get_rule(path, column_names):\n",
    "\n",
    "    mask = ''\n",
    "    for index, node in enumerate(path):\n",
    "        #We check if we are not in the leaf\n",
    "\n",
    "        if index!=len(path)-1:\n",
    "            # Do we go under or over the threshold ?\n",
    "\n",
    "            if (children_left[node] == path[index+1]):\n",
    "                mask += \"(df['{}']<= {}) \\t \".format(column_names[feature[node]], threshold[node])\n",
    "\n",
    "            else:\n",
    "                mask += \"(df['{}']> {}) \\t \".format(column_names[feature[node]], threshold[node])\n",
    "\n",
    "    # We insert the & at the right places\n",
    "\n",
    "    mask = mask.replace(\"\\t\", \"&\", mask.count(\"\\t\") - 1)\n",
    "    mask = mask.replace(\"\\t\", \"\")\n",
    "\n",
    "    return mask"
   ]
  },
  {
   "cell_type": "code",
   "execution_count": 131,
   "metadata": {},
   "outputs": [],
   "source": [
    "# Leaves\n",
    "\n",
    "leave_id = model.apply(train_X)"
   ]
  },
  {
   "cell_type": "code",
   "execution_count": 132,
   "metadata": {},
   "outputs": [],
   "source": [
    "paths ={}\n",
    "for leaf in np.unique(leave_id):\n",
    "    path_leaf = []\n",
    "    find_path(0, path_leaf, leaf)\n",
    "    paths[leaf] = np.unique(np.sort(path_leaf))\n",
    "rules = {}"
   ]
  },
  {
   "cell_type": "code",
   "execution_count": 133,
   "metadata": {},
   "outputs": [],
   "source": [
    "for key in paths:\n",
    "    rules[key] = get_rule(paths[key], train_X.columns)\n"
   ]
  },
  {
   "cell_type": "code",
   "execution_count": 134,
   "metadata": {},
   "outputs": [
    {
     "data": {
      "text/plain": [
       "{4: \"(df['debtinc']<= 14.75) & (df['employ']> 5.5)  \",\n",
       " 5: \"(df['debtinc']> 14.75) & (df['employ']<= 2.5)  \",\n",
       " 8: \"(df['debtinc']> 14.75) & (df['employ']> 2.5) & (df['creddebt']> 4.850202560424805)  \",\n",
       " 9: \"(df['debtinc']> 14.75) & (df['employ']> 2.5) & (df['creddebt']<= 4.850202560424805) & (df['address']<= 6.5)  \",\n",
       " 10: \"(df['debtinc']> 14.75) & (df['employ']> 2.5) & (df['creddebt']<= 4.850202560424805) & (df['address']> 6.5)  \",\n",
       " 12: \"(df['debtinc']<= 14.75) & (df['employ']<= 5.5) & (df['creddebt']> 2.34770405292511)  \",\n",
       " 13: \"(df['debtinc']<= 14.75) & (df['employ']<= 5.5) & (df['creddebt']<= 2.34770405292511) & (df['address']<= 8.5)  \",\n",
       " 14: \"(df['debtinc']<= 14.75) & (df['employ']<= 5.5) & (df['creddebt']<= 2.34770405292511) & (df['address']> 8.5)  \"}"
      ]
     },
     "execution_count": 134,
     "metadata": {},
     "output_type": "execute_result"
    }
   ],
   "source": [
    "rules"
   ]
  },
  {
   "cell_type": "code",
   "execution_count": 135,
   "metadata": {},
   "outputs": [],
   "source": [
    "#Exercise: Apply Decision trees, KNN, Naive Bayes\n",
    "#1. You need to implement on HR Data set  - Classificaiton\n",
    "#2. Take the regression problem (predicting intrest rate) - Regression"
   ]
  },
  {
   "cell_type": "markdown",
   "metadata": {},
   "source": [
    "# Ensemble Learning"
   ]
  },
  {
   "cell_type": "markdown",
   "metadata": {},
   "source": [
    "### Bagging"
   ]
  },
  {
   "cell_type": "code",
   "execution_count": 136,
   "metadata": {},
   "outputs": [],
   "source": [
    "from sklearn.ensemble import BaggingClassifier, BaggingRegressor,RandomForestClassifier,RandomForestRegressor\n",
    "from sklearn.ensemble import GradientBoostingClassifier,GradientBoostingRegressor, AdaBoostClassifier, AdaBoostRegressor "
   ]
  },
  {
   "cell_type": "markdown",
   "metadata": {},
   "source": [
    "### Tuning parameters"
   ]
  },
  {
   "cell_type": "code",
   "execution_count": 137,
   "metadata": {},
   "outputs": [
    {
     "data": {
      "text/plain": [
       "['accuracy',\n",
       " 'adjusted_mutual_info_score',\n",
       " 'adjusted_rand_score',\n",
       " 'average_precision',\n",
       " 'balanced_accuracy',\n",
       " 'completeness_score',\n",
       " 'explained_variance',\n",
       " 'f1',\n",
       " 'f1_macro',\n",
       " 'f1_micro',\n",
       " 'f1_samples',\n",
       " 'f1_weighted',\n",
       " 'fowlkes_mallows_score',\n",
       " 'homogeneity_score',\n",
       " 'jaccard',\n",
       " 'jaccard_macro',\n",
       " 'jaccard_micro',\n",
       " 'jaccard_samples',\n",
       " 'jaccard_weighted',\n",
       " 'max_error',\n",
       " 'mutual_info_score',\n",
       " 'neg_brier_score',\n",
       " 'neg_log_loss',\n",
       " 'neg_mean_absolute_error',\n",
       " 'neg_mean_absolute_percentage_error',\n",
       " 'neg_mean_gamma_deviance',\n",
       " 'neg_mean_poisson_deviance',\n",
       " 'neg_mean_squared_error',\n",
       " 'neg_mean_squared_log_error',\n",
       " 'neg_median_absolute_error',\n",
       " 'neg_root_mean_squared_error',\n",
       " 'normalized_mutual_info_score',\n",
       " 'precision',\n",
       " 'precision_macro',\n",
       " 'precision_micro',\n",
       " 'precision_samples',\n",
       " 'precision_weighted',\n",
       " 'r2',\n",
       " 'rand_score',\n",
       " 'recall',\n",
       " 'recall_macro',\n",
       " 'recall_micro',\n",
       " 'recall_samples',\n",
       " 'recall_weighted',\n",
       " 'roc_auc',\n",
       " 'roc_auc_ovo',\n",
       " 'roc_auc_ovo_weighted',\n",
       " 'roc_auc_ovr',\n",
       " 'roc_auc_ovr_weighted',\n",
       " 'top_k_accuracy',\n",
       " 'v_measure_score']"
      ]
     },
     "execution_count": 137,
     "metadata": {},
     "output_type": "execute_result"
    }
   ],
   "source": [
    "import sklearn\n",
    "sorted(sklearn.metrics.SCORERS.keys()) "
   ]
  },
  {
   "cell_type": "code",
   "execution_count": 138,
   "metadata": {},
   "outputs": [],
   "source": [
    "pargrid_ada = {'n_estimators': [50, 60, 70, 80, 90, 100]}\n",
    "\n",
    "gscv_bagging = GridSearchCV(estimator=BaggingClassifier(), \n",
    "                        param_grid=pargrid_ada, \n",
    "                        cv=5,\n",
    "                        verbose=True, n_jobs=-1, scoring='roc_auc')"
   ]
  },
  {
   "cell_type": "code",
   "execution_count": 139,
   "metadata": {},
   "outputs": [
    {
     "name": "stdout",
     "output_type": "stream",
     "text": [
      "Fitting 5 folds for each of 6 candidates, totalling 30 fits\n"
     ]
    }
   ],
   "source": [
    "gscv_results = gscv_bagging.fit(train_X, train_y)"
   ]
  },
  {
   "cell_type": "code",
   "execution_count": 140,
   "metadata": {},
   "outputs": [
    {
     "data": {
      "text/plain": [
       "{'n_estimators': 90}"
      ]
     },
     "execution_count": 140,
     "metadata": {},
     "output_type": "execute_result"
    }
   ],
   "source": [
    "gscv_results.best_params_"
   ]
  },
  {
   "cell_type": "code",
   "execution_count": 141,
   "metadata": {},
   "outputs": [
    {
     "data": {
      "text/plain": [
       "0.8064864973315677"
      ]
     },
     "execution_count": 141,
     "metadata": {},
     "output_type": "execute_result"
    }
   ],
   "source": [
    "gscv_results.best_score_"
   ]
  },
  {
   "cell_type": "code",
   "execution_count": 142,
   "metadata": {},
   "outputs": [
    {
     "name": "stdout",
     "output_type": "stream",
     "text": [
      "1.0\n",
      "0.7898014551732643\n"
     ]
    }
   ],
   "source": [
    "#Train data - AUC Score\n",
    "print(metrics.roc_auc_score(train_y, pd.DataFrame(gscv_results.predict_proba(train_X))[1]))\n",
    "\n",
    "#Test data - AUC Score\n",
    "print(metrics.roc_auc_score(test_y, pd.DataFrame(gscv_results.predict_proba(test_X))[1]))"
   ]
  },
  {
   "cell_type": "markdown",
   "metadata": {},
   "source": [
    "## Random Forest"
   ]
  },
  {
   "cell_type": "markdown",
   "metadata": {},
   "source": [
    "##### Important Tuning Parameters for Random Forest: \n",
    "- criterion - measure for quality of a split\n",
    "- max_depth - The maximum depth of the tree.\n",
    "- max_leaf_nodes - Number of features to consider when looking for the best split\n",
    "- min_samples_leaf - The minimum number of samples required to be a leaf node. This may have effect of smoothing the model.\n",
    "- min_sample_split - The minimum number of samples required to split an internal node.\n",
    "- n_estimators - The number of trees in the forest\n",
    "- max_features - Number of features to consider when looking for the best split"
   ]
  },
  {
   "cell_type": "code",
   "execution_count": 143,
   "metadata": {},
   "outputs": [
    {
     "data": {
      "text/plain": [
       "RandomForestClassifier(max_depth=10, max_features=4, n_jobs=-1, oob_score=True)"
      ]
     },
     "execution_count": 143,
     "metadata": {},
     "output_type": "execute_result"
    }
   ],
   "source": [
    "from sklearn.ensemble import RandomForestClassifier\n",
    "\n",
    "radm_clf = RandomForestClassifier(oob_score=True,n_estimators=100 , max_depth = 10, max_features=4, n_jobs=-1)\n",
    "radm_clf.fit( train_X, train_y )"
   ]
  },
  {
   "cell_type": "code",
   "execution_count": 144,
   "metadata": {},
   "outputs": [
    {
     "name": "stdout",
     "output_type": "stream",
     "text": [
      "1.0\n",
      "0.7936243679861882\n"
     ]
    }
   ],
   "source": [
    "#Train data - AUC Score\n",
    "print(metrics.roc_auc_score(train_y, pd.DataFrame(radm_clf.predict_proba(train_X))[1]))\n",
    "\n",
    "#Test data - AUC Score\n",
    "print(metrics.roc_auc_score(test_y, pd.DataFrame(radm_clf.predict_proba(test_X))[1]))"
   ]
  },
  {
   "cell_type": "markdown",
   "metadata": {},
   "source": [
    "### Feature importance from the Random Forest Model"
   ]
  },
  {
   "cell_type": "code",
   "execution_count": 145,
   "metadata": {},
   "outputs": [
    {
     "data": {
      "text/plain": [
       "array([0.11003148, 0.21096093, 0.31104896, 0.18944056, 0.17851806])"
      ]
     },
     "execution_count": 145,
     "metadata": {},
     "output_type": "execute_result"
    }
   ],
   "source": [
    "radm_clf.feature_importances_"
   ]
  },
  {
   "cell_type": "code",
   "execution_count": 146,
   "metadata": {},
   "outputs": [
    {
     "data": {
      "text/plain": [
       "Index(['address', 'creddebt', 'debtinc', 'employ', 'othdebt'], dtype='object')"
      ]
     },
     "execution_count": 146,
     "metadata": {},
     "output_type": "execute_result"
    }
   ],
   "source": [
    "train_X.columns"
   ]
  },
  {
   "cell_type": "code",
   "execution_count": 147,
   "metadata": {},
   "outputs": [],
   "source": [
    "radm_clf.feature_importances_\n",
    "\n",
    "indices = np.argsort(radm_clf.feature_importances_)[::-1]"
   ]
  },
  {
   "cell_type": "code",
   "execution_count": 148,
   "metadata": {},
   "outputs": [],
   "source": [
    "import seaborn as sn"
   ]
  },
  {
   "cell_type": "code",
   "execution_count": 149,
   "metadata": {},
   "outputs": [
    {
     "data": {
      "text/plain": [
       "<AxesSubplot:xlabel='importance', ylabel='feature'>"
      ]
     },
     "execution_count": 149,
     "metadata": {},
     "output_type": "execute_result"
    },
    {
     "data": {
      "image/png": "[encoded data removed]",
      "text/plain": [
       "<Figure size 432x288 with 1 Axes>"
      ]
     },
     "metadata": {
      "needs_background": "light"
     },
     "output_type": "display_data"
    }
   ],
   "source": [
    "indices = np.argsort(radm_clf.feature_importances_)[::-1]\n",
    "feature_rank = pd.DataFrame( columns = ['rank', 'feature', 'importance'] )\n",
    "for f in range(train_X.shape[1]):\n",
    "  feature_rank.loc[f] = [f+1,\n",
    "                         train_X.columns[indices[f]],\n",
    "                         radm_clf.feature_importances_[indices[f]]]\n",
    "sn.barplot( y = 'feature', x = 'importance', data = feature_rank )"
   ]
  },
  {
   "cell_type": "markdown",
   "metadata": {},
   "source": [
    "### Tuning parameters"
   ]
  },
  {
   "cell_type": "code",
   "execution_count": 150,
   "metadata": {},
   "outputs": [],
   "source": [
    "pargrid_ada = {'n_estimators': [50, 60, 70, 80, 90, 100],\n",
    "                'max_features': [2,3,4],\n",
    "              'max_depth': [2,3,4,5,6]}\n",
    "gscv_Rf = GridSearchCV(estimator=RandomForestClassifier(), \n",
    "                        param_grid=pargrid_ada, \n",
    "                        cv=5,\n",
    "                        verbose=True, n_jobs=-1, scoring='roc_auc')"
   ]
  },
  {
   "cell_type": "code",
   "execution_count": 151,
   "metadata": {},
   "outputs": [
    {
     "name": "stdout",
     "output_type": "stream",
     "text": [
      "Fitting 5 folds for each of 90 candidates, totalling 450 fits\n"
     ]
    },
    {
     "data": {
      "text/plain": [
       "0.830716564343325"
      ]
     },
     "execution_count": 151,
     "metadata": {},
     "output_type": "execute_result"
    }
   ],
   "source": [
    "gscv_results = gscv_Rf.fit(train_X, train_y)\n",
    "gscv_results.best_score_"
   ]
  },
  {
   "cell_type": "code",
   "execution_count": 152,
   "metadata": {},
   "outputs": [
    {
     "data": {
      "text/plain": [
       "{'max_depth': 4, 'max_features': 2, 'n_estimators': 100}"
      ]
     },
     "execution_count": 152,
     "metadata": {},
     "output_type": "execute_result"
    }
   ],
   "source": [
    "gscv_results.best_params_"
   ]
  },
  {
   "cell_type": "code",
   "execution_count": 153,
   "metadata": {},
   "outputs": [
    {
     "data": {
      "text/plain": [
       "array([0., 0., 0., 0., 1., 0., 0., 1., 0., 0., 0., 0., 0., 0., 0., 0., 1.,\n",
       "       0., 0., 0., 1., 0., 0., 0., 0., 0., 0., 0., 0., 0., 0., 0., 0., 0.,\n",
       "       0., 0., 0., 0., 0., 0., 0., 0., 0., 0., 0., 0., 1., 1., 1., 0., 0.,\n",
       "       0., 1., 0., 1., 0., 0., 0., 0., 0., 0., 0., 1., 0., 0., 0., 1., 0.,\n",
       "       1., 0., 0., 0., 0., 0., 0., 0., 0., 0., 0., 1., 0., 0., 0., 1., 0.,\n",
       "       0., 1., 0., 0., 1., 0., 0., 0., 0., 0., 0., 0., 0., 0., 0., 0., 0.,\n",
       "       0., 1., 0., 0., 0., 0., 1., 0., 1., 0., 0., 0., 0., 0., 0., 0., 0.,\n",
       "       0., 1., 0., 0., 1., 0., 0., 0., 1., 0., 0., 1., 0., 0., 0., 0., 0.,\n",
       "       1., 1., 0., 0., 0., 1., 0., 1., 0., 0., 0., 0., 0., 0., 1., 0., 0.,\n",
       "       0., 0., 0., 0., 1., 0., 0., 0., 0., 0., 1., 0., 0., 0., 0., 0., 0.,\n",
       "       0., 1., 0., 1., 0., 0., 0., 0., 0., 0., 0., 0., 0., 0., 0., 0., 1.,\n",
       "       0., 1., 0., 1., 1., 0., 0., 0., 0., 0., 0., 0., 0., 1., 0., 1., 0.,\n",
       "       0., 0., 0., 0., 0., 0., 0., 0., 0., 0., 0., 1., 0., 1., 0., 0., 0.,\n",
       "       0., 0., 0., 0., 0., 0., 0., 0., 0., 1., 0., 0., 1., 0., 0., 0., 0.,\n",
       "       0., 0., 0., 0., 1., 1., 0., 0., 0., 0., 0., 0., 0., 0., 0., 0., 0.,\n",
       "       1., 0., 0., 0., 0., 0., 0., 0., 0., 0., 0., 0., 0., 0., 0., 0., 0.,\n",
       "       0., 0., 1., 0., 0., 0., 0., 0., 0., 0., 0., 0., 1., 0., 0., 0., 1.,\n",
       "       0., 1., 0., 0., 0., 0., 0., 0., 0., 0., 0., 0., 0., 0., 0., 0., 0.,\n",
       "       0., 0., 0., 0., 1., 1., 0., 0., 0., 1., 1., 0., 0., 0., 0., 0., 0.,\n",
       "       1., 0., 0., 0., 0., 0., 0., 0., 0., 0., 1., 0., 1., 0., 0., 0., 0.,\n",
       "       0., 1., 0., 0., 0., 0., 0., 0., 0., 0., 0., 0., 0., 0., 0., 1., 0.,\n",
       "       0., 1., 0., 0., 0., 0., 1., 0., 0., 0., 0., 0., 1., 0., 1., 0., 0.,\n",
       "       0., 0., 0., 0., 0., 1., 0., 1., 0., 0., 0., 0., 1., 0., 0., 0., 1.,\n",
       "       0., 0., 0., 1., 0., 1., 0., 0., 0., 0., 0., 0., 0., 0., 0., 1., 0.,\n",
       "       0., 0., 0., 0., 0., 0., 0., 0., 0., 0., 0., 0., 0., 0., 1., 1., 0.,\n",
       "       0., 0., 0., 0., 0., 0., 0., 0., 0., 0., 0., 0., 0., 0., 0., 0., 1.,\n",
       "       1., 0., 1., 0., 0., 0., 0., 0., 0., 0., 0., 0., 0., 0., 1., 0., 0.,\n",
       "       0., 0., 0., 0., 0., 0., 0., 0., 1., 0., 0., 0., 0., 1., 0., 0., 0.,\n",
       "       0., 0., 0., 0., 0., 1., 0., 0., 0., 0., 0., 1., 0., 1.])"
      ]
     },
     "execution_count": 153,
     "metadata": {},
     "output_type": "execute_result"
    }
   ],
   "source": [
    "gscv_results.predict(train_X)"
   ]
  },
  {
   "cell_type": "code",
   "execution_count": 154,
   "metadata": {},
   "outputs": [
    {
     "name": "stdout",
     "output_type": "stream",
     "text": [
      "0.9199043507702725\n",
      "0.8140337896164755\n"
     ]
    }
   ],
   "source": [
    "#Train data - AUC Score\n",
    "print(metrics.roc_auc_score(train_y, pd.DataFrame(gscv_results.predict_proba(train_X))[1]))\n",
    "\n",
    "#Test data - AUC Score\n",
    "print(metrics.roc_auc_score(test_y, pd.DataFrame(gscv_results.predict_proba(test_X))[1]))"
   ]
  },
  {
   "cell_type": "code",
   "execution_count": 155,
   "metadata": {},
   "outputs": [],
   "source": [
    "import pickle"
   ]
  },
  {
   "cell_type": "code",
   "execution_count": 156,
   "metadata": {},
   "outputs": [
    {
     "data": {
      "text/plain": [
       "'C:\\\\Users\\\\om\\\\Desktop\\\\Bootcamp - Aug\\\\1. Case Study - Bank Loans'"
      ]
     },
     "execution_count": 156,
     "metadata": {},
     "output_type": "execute_result"
    }
   ],
   "source": [
    "%pwd"
   ]
  },
  {
   "cell_type": "code",
   "execution_count": 157,
   "metadata": {},
   "outputs": [],
   "source": [
    "# now you can save it to a file\n",
    "with open('RF_Model.pkl', 'wb') as f:\n",
    "    pickle.dump(gscv_results, f)"
   ]
  },
  {
   "cell_type": "code",
   "execution_count": 158,
   "metadata": {},
   "outputs": [],
   "source": [
    "with open('RF_Model.pkl', 'rb') as f:\n",
    "    model1 = pickle.load(f)"
   ]
  },
  {
   "cell_type": "markdown",
   "metadata": {},
   "source": [
    "### Boosting"
   ]
  },
  {
   "cell_type": "markdown",
   "metadata": {},
   "source": [
    "#### Ada Boosting"
   ]
  },
  {
   "cell_type": "code",
   "execution_count": 159,
   "metadata": {},
   "outputs": [],
   "source": [
    "pargrid_ada = {'n_estimators': [100, 200, 400, 600, 800],\n",
    "               'learning_rate': [10 ** x for x in range(-3, 3)]}"
   ]
  },
  {
   "cell_type": "code",
   "execution_count": 160,
   "metadata": {},
   "outputs": [],
   "source": [
    "gscv_ada = GridSearchCV(estimator=AdaBoostClassifier(), \n",
    "                        param_grid=pargrid_ada, \n",
    "                        cv=5,\n",
    "                        verbose=True, n_jobs=-1)"
   ]
  },
  {
   "cell_type": "code",
   "execution_count": 161,
   "metadata": {},
   "outputs": [
    {
     "name": "stdout",
     "output_type": "stream",
     "text": [
      "Fitting 5 folds for each of 30 candidates, totalling 150 fits\n"
     ]
    },
    {
     "name": "stderr",
     "output_type": "stream",
     "text": [
      "C:\\Users\\om\\Anaconda3\\lib\\site-packages\\sklearn\\model_selection\\_search.py:925: UserWarning: One or more of the test scores are non-finite: [0.76734694 0.76938776 0.75102041 0.75102041 0.77346939 0.77346939\n",
      " 0.77755102 0.78571429 0.79387755 0.79591837 0.8        0.79795918\n",
      " 0.79795918 0.8        0.79387755 0.76734694 0.76326531 0.76938776\n",
      " 0.76530612 0.75918367 0.23877551 0.23877551 0.23877551 0.23877551\n",
      " 0.23877551        nan        nan        nan        nan        nan]\n",
      "  category=UserWarning\n"
     ]
    },
    {
     "data": {
      "text/plain": [
       "GridSearchCV(cv=5, estimator=AdaBoostClassifier(), n_jobs=-1,\n",
       "             param_grid={'learning_rate': [0.001, 0.01, 0.1, 1, 10, 100],\n",
       "                         'n_estimators': [100, 200, 400, 600, 800]},\n",
       "             verbose=True)"
      ]
     },
     "execution_count": 161,
     "metadata": {},
     "output_type": "execute_result"
    }
   ],
   "source": [
    "gscv_ada.fit(train_X, train_y)"
   ]
  },
  {
   "cell_type": "code",
   "execution_count": 162,
   "metadata": {},
   "outputs": [
    {
     "data": {
      "text/plain": [
       "{'learning_rate': 0.1, 'n_estimators': 100}"
      ]
     },
     "execution_count": 162,
     "metadata": {},
     "output_type": "execute_result"
    }
   ],
   "source": [
    "gscv_ada.best_params_"
   ]
  },
  {
   "cell_type": "code",
   "execution_count": 163,
   "metadata": {},
   "outputs": [],
   "source": [
    "clf_ada = gscv_ada.best_estimator_"
   ]
  },
  {
   "cell_type": "code",
   "execution_count": 164,
   "metadata": {},
   "outputs": [
    {
     "data": {
      "text/plain": [
       "0.8"
      ]
     },
     "execution_count": 164,
     "metadata": {},
     "output_type": "execute_result"
    }
   ],
   "source": [
    "gscv_ada.best_score_"
   ]
  },
  {
   "cell_type": "code",
   "execution_count": 165,
   "metadata": {},
   "outputs": [
    {
     "name": "stdout",
     "output_type": "stream",
     "text": [
      "0.8942039106145251\n",
      "0.8347515106671599\n"
     ]
    }
   ],
   "source": [
    "#Train data - AUC Score\n",
    "print(metrics.roc_auc_score(train_y, pd.DataFrame(gscv_ada.predict_proba(train_X))[1]))\n",
    "\n",
    "#Test data - AUC Score\n",
    "print(metrics.roc_auc_score(test_y, pd.DataFrame(gscv_ada.predict_proba(test_X))[1]))"
   ]
  },
  {
   "cell_type": "code",
   "execution_count": 166,
   "metadata": {},
   "outputs": [
    {
     "data": {
      "text/plain": [
       "AdaBoostClassifier(learning_rate=0.1, n_estimators=100)"
      ]
     },
     "execution_count": 166,
     "metadata": {},
     "output_type": "execute_result"
    }
   ],
   "source": [
    "ad=AdaBoostClassifier(learning_rate = 0.1, n_estimators=100)\n",
    "ad.fit(train_X, train_y )"
   ]
  },
  {
   "cell_type": "code",
   "execution_count": 167,
   "metadata": {},
   "outputs": [
    {
     "name": "stdout",
     "output_type": "stream",
     "text": [
      "0.8942039106145251\n",
      "0.8347515106671599\n"
     ]
    }
   ],
   "source": [
    "#Train data - AUC Score\n",
    "print(metrics.roc_auc_score(train_y, pd.DataFrame(ad.predict_proba(train_X))[1]))\n",
    "\n",
    "#Test data - AUC Score\n",
    "print(metrics.roc_auc_score(test_y, pd.DataFrame(ad.predict_proba(test_X))[1]))"
   ]
  },
  {
   "cell_type": "markdown",
   "metadata": {},
   "source": [
    "### Gradient Boost"
   ]
  },
  {
   "cell_type": "markdown",
   "metadata": {},
   "source": [
    "##### Important Tuning Parameters for GBM: \n",
    "- learning_rate - the effect of each tree on the outcome is shrunk by this factor.\n",
    "- criterion - measure for quality of a split\n",
    "- max_depth - The maximum depth of the tree.\n",
    "- max_leaf_nodes - Number of features to consider when looking for the best split\n",
    "- min_samples_leaf - The minimum number of samples required to be a leaf node. This may have effect of smoothing the model.\n",
    "- min_sample_split - The minimum number of samples required to split an internal node.\n",
    "- n_estimators - The number of trees in the forest\n",
    "- max_features - Number of features to consider when looking for the best split"
   ]
  },
  {
   "cell_type": "code",
   "execution_count": 168,
   "metadata": {},
   "outputs": [],
   "source": [
    "pargrid_ada = {'n_estimators': [100, 200, 400, 600, 800],\n",
    "               'learning_rate': [10 ** x for x in range(-3, 3)],\n",
    "              'max_features' : [2,3,4]}"
   ]
  },
  {
   "cell_type": "code",
   "execution_count": 169,
   "metadata": {},
   "outputs": [
    {
     "name": "stdout",
     "output_type": "stream",
     "text": [
      "Fitting 5 folds for each of 90 candidates, totalling 450 fits\n"
     ]
    },
    {
     "data": {
      "text/plain": [
       "GridSearchCV(cv=5, estimator=GradientBoostingClassifier(), n_jobs=-1,\n",
       "             param_grid={'learning_rate': [0.001, 0.01, 0.1, 1, 10, 100],\n",
       "                         'max_features': [2, 3, 4],\n",
       "                         'n_estimators': [100, 200, 400, 600, 800]},\n",
       "             verbose=True)"
      ]
     },
     "execution_count": 169,
     "metadata": {},
     "output_type": "execute_result"
    }
   ],
   "source": [
    "gscv_gbm = GridSearchCV(estimator=GradientBoostingClassifier(), \n",
    "                        param_grid=pargrid_ada, \n",
    "                        cv=5,\n",
    "                        verbose=True, n_jobs=-1)\n",
    "\n",
    "gscv_gbm.fit(train_X, train_y)"
   ]
  },
  {
   "cell_type": "code",
   "execution_count": 170,
   "metadata": {},
   "outputs": [
    {
     "data": {
      "text/plain": [
       "{'learning_rate': 0.01, 'max_features': 4, 'n_estimators': 800}"
      ]
     },
     "execution_count": 170,
     "metadata": {},
     "output_type": "execute_result"
    }
   ],
   "source": [
    "gscv_gbm.best_params_"
   ]
  },
  {
   "cell_type": "code",
   "execution_count": 171,
   "metadata": {},
   "outputs": [
    {
     "data": {
      "text/plain": [
       "0.7959183673469388"
      ]
     },
     "execution_count": 171,
     "metadata": {},
     "output_type": "execute_result"
    }
   ],
   "source": [
    "clf_gbm = gscv_gbm.best_estimator_\n",
    "\n",
    "gscv_gbm.best_score_"
   ]
  },
  {
   "cell_type": "code",
   "execution_count": 172,
   "metadata": {},
   "outputs": [
    {
     "name": "stdout",
     "output_type": "stream",
     "text": [
      "0.9822456407651938\n",
      "0.8155136268343816\n"
     ]
    }
   ],
   "source": [
    "#Train data - AUC Score\n",
    "print(metrics.roc_auc_score(train_y, pd.DataFrame(gscv_gbm.predict_proba(train_X))[1]))\n",
    "\n",
    "#Test data - AUC Score\n",
    "print(metrics.roc_auc_score(test_y, pd.DataFrame(gscv_gbm.predict_proba(test_X))[1]))"
   ]
  },
  {
   "cell_type": "code",
   "execution_count": 173,
   "metadata": {},
   "outputs": [
    {
     "data": {
      "text/plain": [
       "GradientBoostingClassifier(learning_rate=0.01, n_estimators=400)"
      ]
     },
     "execution_count": 173,
     "metadata": {},
     "output_type": "execute_result"
    }
   ],
   "source": [
    "gbm=GradientBoostingClassifier(learning_rate = 0.01, n_estimators=400)\n",
    "gbm.fit(train_X, train_y )"
   ]
  },
  {
   "cell_type": "code",
   "execution_count": 174,
   "metadata": {},
   "outputs": [
    {
     "name": "stdout",
     "output_type": "stream",
     "text": [
      "0.9822456407651938\n",
      "0.8155136268343816\n"
     ]
    }
   ],
   "source": [
    "#Train data - AUC Score\n",
    "print(metrics.roc_auc_score(train_y, pd.DataFrame(gscv_gbm.predict_proba(train_X))[1]))\n",
    "\n",
    "#Test data - AUC Score\n",
    "print(metrics.roc_auc_score(test_y, pd.DataFrame(gscv_gbm.predict_proba(test_X))[1]))"
   ]
  },
  {
   "cell_type": "markdown",
   "metadata": {},
   "source": [
    "## XGBOOSt"
   ]
  },
  {
   "cell_type": "markdown",
   "metadata": {},
   "source": [
    "XGBoost (extreme Gradient Boosting) is an advanced implementation of the gradient boosting algorithm. XGBoost has proved to be a highly effective ML algorithm, extensively used in machine learning competitions and hackathons. XGBoost has high predictive power and is almost 10 times faster than the other gradient boosting techniques. It also includes a variety of regularization which reduces overfitting and improves overall performance. Hence it is also known as ‘regularized boosting‘ technique.\n",
    "\n",
    "Let us see how XGBoost is comparatively better than other techniques:\n",
    "\n",
    "#### Regularization:\n",
    "Standard GBM implementation has no regularisation like XGBoost.\n",
    "Thus XGBoost also helps to reduce overfitting.\n",
    "#### Parallel Processing:\n",
    "XGBoost implements parallel processing and is faster than GBM .\n",
    "XGBoost also supports implementation on Hadoop.\n",
    "#### High Flexibility:\n",
    "XGBoost allows users to define custom optimization objectives and evaluation criteria adding a whole new dimension to the model.\n",
    "#### Handling Missing Values:\n",
    "XGBoost has an in-built routine to handle missing values.\n",
    "#### Tree Pruning:\n",
    "XGBoost makes splits up to the max_depth specified and then starts pruning the tree backwards and removes splits beyond which there is no positive gain.\n",
    "#### Built-in Cross-Validation:\n",
    "XGBoost allows a user to run a cross-validation at each iteration of the boosting process and thus it is easy to get the exact optimum number of boosting iterations in a single run.\n",
    "\n",
    "Since XGBoost takes care of the missing values itself, you do not have to impute the missing values. You can skip the step for missing value imputation. "
   ]
  },
  {
   "cell_type": "code",
   "execution_count": 175,
   "metadata": {},
   "outputs": [
    {
     "name": "stdout",
     "output_type": "stream",
     "text": [
      "Requirement already satisfied: xgboost in c:\\users\\om\\appdata\\roaming\\python\\python37\\site-packages (0.90)\n",
      "Requirement already satisfied: numpy in c:\\users\\om\\anaconda3\\lib\\site-packages (from xgboost) (1.20.3)\n",
      "Requirement already satisfied: scipy in c:\\users\\om\\appdata\\roaming\\python\\python37\\site-packages (from xgboost) (1.5.4)\n",
      "Requirement already satisfied: numpy in c:\\users\\om\\anaconda3\\lib\\site-packages (from xgboost) (1.20.3)\n"
     ]
    },
    {
     "name": "stderr",
     "output_type": "stream",
     "text": [
      "WARNING: You are using pip version 20.3.1; however, version 21.3.1 is available.\n",
      "You should consider upgrading via the 'c:\\users\\om\\anaconda3\\python.exe -m pip install --upgrade pip' command.\n"
     ]
    }
   ],
   "source": [
    "!pip install xgboost"
   ]
  },
  {
   "cell_type": "code",
   "execution_count": 176,
   "metadata": {},
   "outputs": [],
   "source": [
    "from xgboost import XGBClassifier, XGBRegressor"
   ]
  },
  {
   "cell_type": "markdown",
   "metadata": {},
   "source": [
    "##### Important Tuning Parameters for XGBOOST: \n",
    "- nthread: This is used for parallel processing and the number of cores in the system should be entered.If you wish to run on all cores, do not input this value. The algorithm will detect it automatically\n",
    "- eta: Analogous to learning rate in GBM.Makes the model more robust by shrinking the weights on each step.\n",
    "- min_child_weight: Defines the minimum sum of weights of all observations required in a child. Used to control over-fitting. Higher values prevent a model from learning relations which might be highly specific to the particular sample selected for a tree.\n",
    "- learning_rate - Boosting Learning rate.\n",
    "- criterion - measure for quality of a split\n",
    "- max_depth - The maximum depth of the tree.\n",
    "- max_leaf_nodes - Number of features to consider when looking for the best split\n",
    "- min_samples_leaf - The minimum number of samples required to be a leaf node. This may have effect of smoothing the model.\n",
    "- min_sample_split - The minimum number of samples required to split an internal node.\n",
    "- n_estimators - The number of trees in the forest\n",
    "- max_features - Number of features to consider when looking for the best split\n",
    "- gamma - Minimum loss reduction required to make a further partition on a leaf node of the tree.\n",
    "- subsample - Denotes the fraction of observations to be randomly samples for each tree.\n",
    "- colsample_bytree - It is the subsample ratio of columns when constructing each tree. Subsampling occurs once for every tree constructed.\n",
    "- reg_alpa - L1 regularization term on weights. Increasing this value will make model more conservative. \n",
    "- reg_lambda - L2 regularization term on weights. Increasing this value will make model more conservative.\n",
    "- scale_pos_weight - Control the balance of positive and negative weights, useful for unbalanced classes. A typical value to consider: sum(negative instances) / sum(positive instances).\n",
    "\n"
   ]
  },
  {
   "cell_type": "code",
   "execution_count": 177,
   "metadata": {},
   "outputs": [],
   "source": [
    "#All Columns\n",
    "xgb_estimator = XGBClassifier(n_estimators=200,\n",
    "                         random_state = 42,\n",
    "                        n_jobs=-1,\n",
    "                        verbose=1)\n"
   ]
  },
  {
   "cell_type": "code",
   "execution_count": 178,
   "metadata": {},
   "outputs": [],
   "source": [
    "test_X = test_X[test_X.columns.difference(['pred_prob'])]"
   ]
  },
  {
   "cell_type": "code",
   "execution_count": 179,
   "metadata": {},
   "outputs": [
    {
     "data": {
      "text/plain": [
       "XGBClassifier(n_estimators=200, n_jobs=-1, random_state=42, verbose=1)"
      ]
     },
     "execution_count": 179,
     "metadata": {},
     "output_type": "execute_result"
    }
   ],
   "source": [
    "xgb_estimator.fit(train_X, train_y)"
   ]
  },
  {
   "cell_type": "code",
   "execution_count": 180,
   "metadata": {},
   "outputs": [
    {
     "data": {
      "text/plain": [
       "array([0., 0., 0., 0., 1., 0., 0., 1., 0., 0., 0., 0., 0., 0., 0., 0., 1.,\n",
       "       0., 1., 0., 1., 0., 0., 0., 0., 0., 0., 1., 0., 0., 0., 0., 0., 0.,\n",
       "       0., 0., 0., 1., 1., 0., 1., 0., 1., 0., 0., 0., 1., 1., 1., 0., 0.,\n",
       "       0., 1., 0., 1., 0., 0., 1., 1., 0., 0., 0., 1., 0., 0., 0., 1., 0.,\n",
       "       1., 0., 0., 0., 0., 0., 0., 0., 0., 0., 0., 1., 0., 1., 0., 1., 0.,\n",
       "       0., 1., 0., 0., 0., 0., 0., 0., 0., 0., 0., 0., 0., 0., 0., 0., 0.,\n",
       "       0., 1., 0., 0., 1., 0., 1., 0., 0., 0., 0., 0., 0., 0., 0., 0., 0.,\n",
       "       0., 1., 0., 0., 1., 0., 0., 0., 1., 0., 0., 1., 0., 0., 0., 0., 0.,\n",
       "       1., 0., 0., 0., 0., 1., 0., 1., 0., 0., 0., 0., 0., 0., 1., 0., 0.,\n",
       "       1., 0., 0., 0., 1., 0., 0., 1., 0., 0., 1., 0., 0., 0., 0., 0., 0.,\n",
       "       0., 1., 0., 1., 1., 1., 0., 0., 0., 0., 0., 0., 0., 0., 1., 0., 1.,\n",
       "       0., 1., 0., 1., 0., 0., 0., 0., 0., 0., 0., 0., 0., 1., 0., 0., 0.,\n",
       "       0., 0., 0., 0., 0., 1., 0., 0., 0., 0., 0., 1., 0., 0., 0., 0., 0.,\n",
       "       0., 1., 0., 0., 1., 0., 0., 0., 0., 1., 0., 0., 1., 0., 0., 0., 1.,\n",
       "       0., 0., 0., 0., 1., 1., 0., 1., 0., 0., 0., 1., 0., 1., 0., 0., 0.,\n",
       "       1., 0., 0., 0., 0., 0., 0., 0., 0., 0., 0., 0., 0., 0., 0., 0., 1.,\n",
       "       0., 0., 1., 0., 0., 0., 1., 0., 0., 0., 0., 0., 1., 0., 0., 0., 1.,\n",
       "       0., 1., 0., 0., 1., 0., 0., 0., 0., 0., 1., 0., 0., 0., 0., 0., 0.,\n",
       "       0., 0., 1., 0., 1., 1., 0., 0., 0., 1., 1., 0., 0., 0., 0., 0., 0.,\n",
       "       1., 0., 0., 0., 0., 0., 0., 0., 0., 0., 0., 0., 1., 0., 0., 0., 0.,\n",
       "       0., 1., 1., 0., 0., 0., 1., 0., 0., 0., 0., 0., 0., 0., 0., 1., 0.,\n",
       "       0., 1., 0., 0., 0., 0., 1., 0., 0., 0., 0., 0., 1., 0., 1., 0., 1.,\n",
       "       0., 0., 0., 0., 0., 1., 0., 1., 0., 0., 0., 0., 1., 0., 0., 1., 1.,\n",
       "       1., 0., 0., 1., 0., 1., 0., 0., 0., 0., 0., 0., 0., 0., 0., 1., 0.,\n",
       "       0., 0., 0., 0., 0., 0., 0., 0., 0., 0., 0., 0., 0., 0., 1., 1., 1.,\n",
       "       0., 0., 0., 1., 0., 0., 0., 0., 0., 0., 0., 1., 0., 0., 1., 0., 1.,\n",
       "       1., 1., 1., 0., 0., 0., 0., 0., 0., 0., 0., 1., 0., 0., 1., 0., 1.,\n",
       "       0., 0., 0., 0., 0., 0., 0., 0., 1., 0., 0., 0., 0., 1., 0., 0., 0.,\n",
       "       0., 0., 0., 0., 0., 1., 0., 0., 0., 0., 0., 1., 0., 0.])"
      ]
     },
     "execution_count": 180,
     "metadata": {},
     "output_type": "execute_result"
    }
   ],
   "source": [
    "xgb_estimator.predict(train_X)"
   ]
  },
  {
   "cell_type": "code",
   "execution_count": 181,
   "metadata": {},
   "outputs": [
    {
     "name": "stdout",
     "output_type": "stream",
     "text": [
      "0.9941171491450821\n",
      "0.807004562831422\n"
     ]
    }
   ],
   "source": [
    "#Train data - AUC Score\n",
    "print(metrics.roc_auc_score(train_y, pd.DataFrame(xgb_estimator.predict_proba(train_X))[1]))\n",
    "\n",
    "#Test data - AUC Score\n",
    "print(metrics.roc_auc_score(test_y, pd.DataFrame(xgb_estimator.predict_proba(test_X))[1]))"
   ]
  },
  {
   "cell_type": "code",
   "execution_count": 182,
   "metadata": {},
   "outputs": [],
   "source": [
    "# with all tuning parameters"
   ]
  },
  {
   "cell_type": "code",
   "execution_count": 183,
   "metadata": {},
   "outputs": [],
   "source": [
    "xgb_estimator = XGBClassifier( learning_rate=0.01,\n",
    "                               n_estimators=1000,\n",
    "                               max_depth=5,\n",
    "                               min_child_weight=1,\n",
    "                               gamma=1,\n",
    "                               subsample=0.8,\n",
    "                               colsample_bytree=0.8,\n",
    "                               n_jobs=-1,\n",
    "                               reg_alpa=1,\n",
    "                               scale_pos_weight=1,\n",
    "                               random_state=42,\n",
    "                               verbose=1)"
   ]
  },
  {
   "cell_type": "code",
   "execution_count": 184,
   "metadata": {},
   "outputs": [
    {
     "data": {
      "text/plain": [
       "XGBClassifier(colsample_bytree=0.8, gamma=1, learning_rate=0.01, max_depth=5,\n",
       "              n_estimators=1000, n_jobs=-1, random_state=42, reg_alpa=1,\n",
       "              subsample=0.8, verbose=1)"
      ]
     },
     "execution_count": 184,
     "metadata": {},
     "output_type": "execute_result"
    }
   ],
   "source": [
    "xgb_estimator.fit(train_X, train_y)"
   ]
  },
  {
   "cell_type": "code",
   "execution_count": 185,
   "metadata": {},
   "outputs": [
    {
     "name": "stdout",
     "output_type": "stream",
     "text": [
      "0.9967199932283731\n",
      "0.8081144407448514\n"
     ]
    }
   ],
   "source": [
    "#Train data - AUC Score\n",
    "print(metrics.roc_auc_score(train_y, pd.DataFrame(xgb_estimator.predict_proba(train_X))[1]))\n",
    "\n",
    "#Test data - AUC Score\n",
    "print(metrics.roc_auc_score(test_y, pd.DataFrame(xgb_estimator.predict_proba(test_X))[1]))"
   ]
  },
  {
   "cell_type": "code",
   "execution_count": 186,
   "metadata": {},
   "outputs": [
    {
     "name": "stdout",
     "output_type": "stream",
     "text": [
      "              precision    recall  f1-score   support\n",
      "\n",
      "         0.0       0.96      1.00      0.98       358\n",
      "         1.0       1.00      0.89      0.94       132\n",
      "\n",
      "    accuracy                           0.97       490\n",
      "   macro avg       0.98      0.94      0.96       490\n",
      "weighted avg       0.97      0.97      0.97       490\n",
      "\n",
      "              precision    recall  f1-score   support\n",
      "\n",
      "         0.0       0.83      0.91      0.87       159\n",
      "         1.0       0.61      0.43      0.51        51\n",
      "\n",
      "    accuracy                           0.80       210\n",
      "   macro avg       0.72      0.67      0.69       210\n",
      "weighted avg       0.78      0.80      0.78       210\n",
      "\n"
     ]
    }
   ],
   "source": [
    "print(metrics.classification_report(train_y, xgb_estimator.predict(train_X)))\n",
    "\n",
    "print(metrics.classification_report(test_y, xgb_estimator.predict(test_X)))"
   ]
  },
  {
   "cell_type": "code",
   "execution_count": 187,
   "metadata": {},
   "outputs": [
    {
     "name": "stdout",
     "output_type": "stream",
     "text": [
      "{'learning_rate': 0.01, 'n_estimators': 100}\n",
      "0.7979591836734693\n",
      "0.8846072456407652\n",
      "0.7811074115180664\n"
     ]
    }
   ],
   "source": [
    "param_grid = {'learning_rate' : [0.01, 0.05, 0.1],\n",
    "                               'n_estimators' : [100,200,300]}\n",
    "\n",
    "#param_grid = {'learning_rate' : [0.01, 0.05, 0.1],\n",
    "#                               'n_estimators' : [100,200,300],\n",
    "#                               'max_depth' : [2,3,4],\n",
    "#                               'min_child_weight' :[0.3,0.4,0.5],\n",
    "#                               'gamma' : [0.5,0.6, 1],\n",
    "#                               'subsample' : [0.6,0.7, 0.8],\n",
    "#                               'colsample_bytree': [0.7,0.8],\n",
    "#                               'reg_alpa': [0.4,0.5, 0.7, 0.8,1]}\n",
    "\n",
    "xgcv = GridSearchCV(XGBClassifier(), param_grid, cv=5)\n",
    "\n",
    "xgcv.fit(train_X, train_y)\n",
    "\n",
    "print(xgcv.best_params_)\n",
    "\n",
    "print(xgcv.best_score_)\n",
    "\n",
    "#Train data - AUC Score\n",
    "print(metrics.roc_auc_score(train_y, pd.DataFrame(xgcv.predict_proba(train_X))[1]))\n",
    "\n",
    "#Test data - AUC Score\n",
    "print(metrics.roc_auc_score(test_y, pd.DataFrame(xgcv.predict_proba(test_X))[1]))"
   ]
  },
  {
   "cell_type": "markdown",
   "metadata": {},
   "source": [
    "### Hetrogenious Ensemble Models"
   ]
  },
  {
   "cell_type": "code",
   "execution_count": 188,
   "metadata": {},
   "outputs": [],
   "source": [
    "from sklearn.ensemble import VotingClassifier, VotingRegressor"
   ]
  },
  {
   "cell_type": "code",
   "execution_count": 189,
   "metadata": {},
   "outputs": [
    {
     "data": {
      "text/plain": [
       "VotingClassifier(estimators=[('logreg',\n",
       "                              DecisionTreeClassifier(max_depth=4,\n",
       "                                                     max_leaf_nodes=8)),\n",
       "                             ('radm_clf',\n",
       "                              RandomForestClassifier(max_depth=10,\n",
       "                                                     max_features=4, n_jobs=-1,\n",
       "                                                     oob_score=True)),\n",
       "                             ('adaboost',\n",
       "                              AdaBoostClassifier(learning_rate=0.1,\n",
       "                                                 n_estimators=100)),\n",
       "                             ('xgbm',\n",
       "                              XGBClassifier(colsample_bytree=0.8, gamma=1,\n",
       "                                            learning_rate=0.01, max_depth=5,\n",
       "                                            n_estimators=1000, n_jobs=-1,\n",
       "                                            random_state=42, reg_alpa=1,\n",
       "                                            subsample=0.8, verbose=1))])"
      ]
     },
     "execution_count": 189,
     "metadata": {},
     "output_type": "execute_result"
    }
   ],
   "source": [
    "voting_clf = VotingClassifier(estimators = [('logreg',model), ('radm_clf',radm_clf), ('adaboost', ad), ('xgbm',xgb_estimator)], voting = 'hard')\n",
    "voting_clf.fit(train_X, train_y)"
   ]
  },
  {
   "cell_type": "code",
   "execution_count": 190,
   "metadata": {},
   "outputs": [
    {
     "name": "stdout",
     "output_type": "stream",
     "text": [
      "0.8285714285714286\n",
      "0.6870144284128745\n"
     ]
    }
   ],
   "source": [
    "print(metrics.accuracy_score(test_y,voting_clf.predict(test_X)))\n",
    "print(metrics.roc_auc_score(test_y,voting_clf.predict(test_X)))"
   ]
  },
  {
   "cell_type": "markdown",
   "metadata": {},
   "source": [
    "### Light GBM\n",
    "Light GBM beats all the other algorithms when the dataset is extremely large. Compared to the other algorithms, Light GBM takes lesser time to run on a huge dataset.\n",
    "\n",
    "LightGBM is a gradient boosting framework that uses tree-based algorithms and follows leaf-wise approach while other algorithms work in a level-wise approach pattern. "
   ]
  },
  {
   "cell_type": "code",
   "execution_count": 191,
   "metadata": {},
   "outputs": [
    {
     "data": {
      "image/png": "[encoded data removed]",
      "text/plain": [
       "<IPython.core.display.Image object>"
      ]
     },
     "execution_count": 191,
     "metadata": {},
     "output_type": "execute_result"
    }
   ],
   "source": [
    "Image('lightGBM.png')"
   ]
  },
  {
   "cell_type": "markdown",
   "metadata": {},
   "source": [
    "Leaf-wise growth may cause over-fitting on smaller datasets but that can be avoided by using the ‘max_depth’ parameter for learning. \n",
    "\n",
    "Parameters\n",
    "\n",
    "#### num_iterations:\n",
    "It defines the number of boosting iterations to be performed.\n",
    "#### num_leaves :\n",
    "This parameter is used to set the number of leaves to be formed in a tree.\n",
    "In case of Light GBM, since splitting takes place leaf-wise rather than depth-wise, num_leaves must be smaller than 2^(max_depth), otherwise, it may lead to overfitting.\n",
    "#### min_data_in_leaf :\n",
    "A very small value may cause overfitting.\n",
    "It is also one of the most important parameters in dealing with overfitting.\n",
    "#### max_depth:\n",
    "It specifies the maximum depth or level up to which a tree can grow.\n",
    "A very high value for this parameter can cause overfitting.\n",
    "#### bagging_fraction:\n",
    "It is used to specify the fraction of data to be used for each iteration.\n",
    "This parameter is generally used to speed up the training.\n",
    "#### max_bin :\n",
    "Defines the max number of bins that feature values will be bucketed in.\n",
    "A smaller value of max_bin can save a lot of time as it buckets the feature values in discrete bins which is computationally inexpensive."
   ]
  },
  {
   "cell_type": "code",
   "execution_count": 193,
   "metadata": {},
   "outputs": [
    {
     "name": "stdout",
     "output_type": "stream",
     "text": [
      "Requirement already satisfied: lightgbm in c:\\users\\om\\anaconda3\\lib\\site-packages (2.3.1)\n",
      "Requirement already satisfied: scikit-learn in c:\\users\\om\\anaconda3\\lib\\site-packages (from lightgbm) (0.24.2)\n",
      "Requirement already satisfied: scipy in c:\\users\\om\\appdata\\roaming\\python\\python37\\site-packages (from lightgbm) (1.5.4)\n",
      "Requirement already satisfied: numpy in c:\\users\\om\\anaconda3\\lib\\site-packages (from lightgbm) (1.20.3)\n",
      "Requirement already satisfied: numpy in c:\\users\\om\\anaconda3\\lib\\site-packages (from lightgbm) (1.20.3)\n",
      "Requirement already satisfied: joblib>=0.11 in c:\\users\\om\\anaconda3\\lib\\site-packages (from scikit-learn->lightgbm) (0.14.1)\n",
      "Requirement already satisfied: scipy in c:\\users\\om\\appdata\\roaming\\python\\python37\\site-packages (from lightgbm) (1.5.4)\n",
      "Requirement already satisfied: threadpoolctl>=2.0.0 in c:\\users\\om\\appdata\\roaming\\python\\python37\\site-packages (from scikit-learn->lightgbm) (2.1.0)\n",
      "Requirement already satisfied: numpy in c:\\users\\om\\anaconda3\\lib\\site-packages (from lightgbm) (1.20.3)\n"
     ]
    },
    {
     "name": "stderr",
     "output_type": "stream",
     "text": [
      "WARNING: You are using pip version 20.3.1; however, version 21.3.1 is available.\n",
      "You should consider upgrading via the 'c:\\users\\om\\anaconda3\\python.exe -m pip install --upgrade pip' command.\n"
     ]
    }
   ],
   "source": [
    "!pip install lightgbm"
   ]
  },
  {
   "cell_type": "code",
   "execution_count": 194,
   "metadata": {},
   "outputs": [],
   "source": [
    "import lightgbm as lgb\n",
    "train_data=lgb.Dataset(train_X,label=train_y)\n",
    "#define parameters\n",
    "params = {'learning_rate':0.001}\n",
    "model= lgb.train(params, train_data, 100) \n",
    "y_pred=model.predict(test_X)"
   ]
  },
  {
   "cell_type": "code",
   "execution_count": 195,
   "metadata": {},
   "outputs": [
    {
     "data": {
      "text/plain": [
       "array([0.24372609, 0.24608578, 0.29062191, 0.29900323, 0.24715205,\n",
       "       0.266249  , 0.24715205, 0.28960017, 0.25498967, 0.31222745,\n",
       "       0.29490695, 0.32088483, 0.25772644, 0.27738417, 0.27305864,\n",
       "       0.28954715, 0.25017282, 0.2635391 , 0.28735911, 0.24801154,\n",
       "       0.3128611 , 0.24373081, 0.24715205, 0.26467226, 0.25144648,\n",
       "       0.266249  , 0.28937092, 0.28954715, 0.29696917, 0.24715205,\n",
       "       0.31222745, 0.25017282, 0.25928409, 0.24370067, 0.24560373,\n",
       "       0.24372414, 0.24370305, 0.24372536, 0.24372417, 0.25724908,\n",
       "       0.2437386 , 0.24374016, 0.24372534, 0.24541884, 0.27738417,\n",
       "       0.24750814, 0.25144648, 0.24373075, 0.32118061, 0.26798432,\n",
       "       0.28735911, 0.28735911, 0.26467226, 0.29923248, 0.25394183,\n",
       "       0.24371516, 0.27715492, 0.26467226, 0.2589999 , 0.28937092,\n",
       "       0.2626382 , 0.2626382 , 0.27305864, 0.29696917, 0.29923248,\n",
       "       0.27512086, 0.2454248 , 0.27305864, 0.27738417, 0.25498967,\n",
       "       0.25340091, 0.29923248, 0.32088483, 0.26135106, 0.24608578,\n",
       "       0.27738417, 0.24608578, 0.266249  , 0.24372245, 0.32088483,\n",
       "       0.24374016, 0.24750814, 0.2626382 , 0.27305864, 0.28735911,\n",
       "       0.29062191, 0.25772644, 0.27305864, 0.24733269, 0.31222745,\n",
       "       0.29039316, 0.2589999 , 0.27360445, 0.3128611 , 0.2626382 ,\n",
       "       0.25446725, 0.28850089, 0.27715492, 0.28780022, 0.25498967,\n",
       "       0.25144648, 0.24371549, 0.25340091, 0.29039316, 0.25144648,\n",
       "       0.26135106, 0.24453766, 0.29923248, 0.27715492, 0.29490695,\n",
       "       0.25344123, 0.26177944, 0.24833609, 0.27305864, 0.26135106,\n",
       "       0.25951551, 0.24642984, 0.26143012, 0.28735911, 0.28612878,\n",
       "       0.31222745, 0.27715492, 0.25340091, 0.28735911, 0.27360445,\n",
       "       0.29490695, 0.25340091, 0.2626382 , 0.28612878, 0.24453766,\n",
       "       0.27305864, 0.28733685, 0.2589999 , 0.29696917, 0.29923248,\n",
       "       0.266249  , 0.24371134, 0.26177944, 0.29923248, 0.25810474,\n",
       "       0.25446725, 0.266249  , 0.24369914, 0.28612878, 0.24374015,\n",
       "       0.25340091, 0.24801154, 0.24542482, 0.26135106, 0.27738417,\n",
       "       0.24560968, 0.28937092, 0.32088483, 0.25263961, 0.25343976,\n",
       "       0.25951551, 0.29068893, 0.26143012, 0.29696917, 0.29923248,\n",
       "       0.28954715, 0.25144648, 0.25017282, 0.28954715, 0.25144648,\n",
       "       0.31222745, 0.26258274, 0.28937092, 0.29923248, 0.27738417,\n",
       "       0.31222745, 0.27738417, 0.25340091, 0.26461386, 0.31222745,\n",
       "       0.25928409, 0.24541645, 0.24372573, 0.25144648, 0.26177944,\n",
       "       0.26177944, 0.24833609, 0.25144648, 0.24372759, 0.29900323,\n",
       "       0.24374018, 0.24642454, 0.24372527, 0.27715492, 0.31222745,\n",
       "       0.28612878, 0.24370305, 0.27305864, 0.2462569 , 0.26179217,\n",
       "       0.26177944, 0.2456089 , 0.32088483, 0.31222745, 0.2635391 ,\n",
       "       0.2626382 , 0.2626382 , 0.32118061, 0.24370302, 0.24416693,\n",
       "       0.24452668, 0.25017282, 0.31222745, 0.25409451, 0.25340091])"
      ]
     },
     "execution_count": 195,
     "metadata": {},
     "output_type": "execute_result"
    }
   ],
   "source": [
    "y_pred"
   ]
  },
  {
   "cell_type": "markdown",
   "metadata": {},
   "source": [
    "### CatBoost\n",
    "Handling categorical variables is a tedious process, especially when you have a large number of such variables. When your categorical variables have too many labels (i.e. they are highly cardinal), performing one-hot-encoding on them exponentially increases the dimensionality and it becomes really difficult to work with the dataset.\n",
    "\n",
    "CatBoost can automatically deal with categorical variables and does not require extensive data preprocessing like other machine learning algorithms\n",
    "\n",
    "CatBoost algorithm effectively deals with categorical variables. Thus, you should not perform one-hot encoding for categorical variables. Just load the files, impute missing values, and you’re good to go.\n",
    "\n",
    "Parameters\n",
    "\n",
    "#### loss_function:\n",
    "Defines the metric to be used for training.\n",
    "#### iterations:\n",
    "The maximum number of trees that can be built.\n",
    "The final number of trees may be less than or equal to this number.\n",
    "#### learning_rate:\n",
    "Defines the learning rate.\n",
    "Used for reducing the gradient step.\n",
    "#### border_count:\n",
    "It specifies the number of splits for numerical features.\n",
    "It is similar to the max_bin parameter.\n",
    "#### depth:\n",
    "Defines the depth of the trees.\n",
    "#### random_seed:\n",
    "This parameter is similar to the ‘random_state’ parameter we have seen previously.\n",
    "It is an integer value to define the random seed for training."
   ]
  },
  {
   "cell_type": "code",
   "execution_count": 197,
   "metadata": {},
   "outputs": [
    {
     "name": "stdout",
     "output_type": "stream",
     "text": [
      "Collecting catboost\n",
      "  Downloading catboost-1.0.3-cp37-none-win_amd64.whl (77.3 MB)\n",
      "Requirement already satisfied: pandas>=0.24.0 in c:\\users\\om\\anaconda3\\lib\\site-packages (from catboost) (1.2.4)\n",
      "Requirement already satisfied: numpy>=1.16.0 in c:\\users\\om\\anaconda3\\lib\\site-packages (from catboost) (1.20.3)\n",
      "Requirement already satisfied: plotly in c:\\users\\om\\anaconda3\\lib\\site-packages (from catboost) (5.3.1)\n",
      "Requirement already satisfied: scipy in c:\\users\\om\\appdata\\roaming\\python\\python37\\site-packages (from catboost) (1.5.4)\n",
      "Requirement already satisfied: six in c:\\users\\om\\anaconda3\\lib\\site-packages (from catboost) (1.14.0)\n",
      "Requirement already satisfied: matplotlib in c:\\users\\om\\appdata\\roaming\\python\\python37\\site-packages (from catboost) (3.4.1)\n",
      "Collecting graphviz\n",
      "  Downloading graphviz-0.19.1-py3-none-any.whl (46 kB)\n",
      "Requirement already satisfied: pillow>=6.2.0 in c:\\users\\om\\anaconda3\\lib\\site-packages (from matplotlib->catboost) (7.0.0)\n",
      "Requirement already satisfied: cycler>=0.10 in c:\\users\\om\\anaconda3\\lib\\site-packages (from matplotlib->catboost) (0.10.0)\n",
      "Requirement already satisfied: numpy>=1.16.0 in c:\\users\\om\\anaconda3\\lib\\site-packages (from catboost) (1.20.3)\n",
      "Requirement already satisfied: python-dateutil>=2.7 in c:\\users\\om\\anaconda3\\lib\\site-packages (from matplotlib->catboost) (2.8.1)\n",
      "Requirement already satisfied: pyparsing>=2.2.1 in c:\\users\\om\\anaconda3\\lib\\site-packages (from matplotlib->catboost) (2.4.2)\n",
      "Requirement already satisfied: kiwisolver>=1.0.1 in c:\\users\\om\\anaconda3\\lib\\site-packages (from matplotlib->catboost) (1.1.0)\n",
      "Requirement already satisfied: six in c:\\users\\om\\anaconda3\\lib\\site-packages (from catboost) (1.14.0)\n",
      "Requirement already satisfied: setuptools in c:\\users\\om\\anaconda3\\lib\\site-packages (from kiwisolver>=1.0.1->matplotlib->catboost) (41.4.0)\n",
      "Requirement already satisfied: numpy>=1.16.0 in c:\\users\\om\\anaconda3\\lib\\site-packages (from catboost) (1.20.3)\n",
      "Requirement already satisfied: pytz>=2017.3 in c:\\users\\om\\anaconda3\\lib\\site-packages (from pandas>=0.24.0->catboost) (2019.3)\n",
      "Requirement already satisfied: python-dateutil>=2.7 in c:\\users\\om\\anaconda3\\lib\\site-packages (from matplotlib->catboost) (2.8.1)\n",
      "Requirement already satisfied: tenacity>=6.2.0 in c:\\users\\om\\anaconda3\\lib\\site-packages (from plotly->catboost) (8.0.1)\n",
      "Requirement already satisfied: six in c:\\users\\om\\anaconda3\\lib\\site-packages (from catboost) (1.14.0)\n",
      "Requirement already satisfied: six in c:\\users\\om\\anaconda3\\lib\\site-packages (from catboost) (1.14.0)\n",
      "Requirement already satisfied: numpy>=1.16.0 in c:\\users\\om\\anaconda3\\lib\\site-packages (from catboost) (1.20.3)\n",
      "Installing collected packages: graphviz, catboost\n",
      "Successfully installed catboost-1.0.3 graphviz-0.19.1\n"
     ]
    },
    {
     "name": "stderr",
     "output_type": "stream",
     "text": [
      "WARNING: You are using pip version 20.3.1; however, version 21.3.1 is available.\n",
      "You should consider upgrading via the 'c:\\users\\om\\anaconda3\\python.exe -m pip install --upgrade pip' command.\n"
     ]
    }
   ],
   "source": [
    "!pip install catboost"
   ]
  },
  {
   "cell_type": "code",
   "execution_count": 199,
   "metadata": {},
   "outputs": [
    {
     "name": "stderr",
     "output_type": "stream",
     "text": [
      "C:\\Users\\om\\Anaconda3\\lib\\site-packages\\ipykernel_launcher.py:3: DeprecationWarning: `np.float` is a deprecated alias for the builtin `float`. To silence this warning, use `float` by itself. Doing this will not modify any behavior and is safe. If you specifically wanted the numpy scalar type, use `np.float64` here.\n",
      "Deprecated in NumPy 1.20; for more details and guidance: https://numpy.org/devdocs/release/1.20.0-notes.html#deprecations\n",
      "  This is separate from the ipykernel package so we can avoid doing imports until\n"
     ]
    },
    {
     "name": "stdout",
     "output_type": "stream",
     "text": [
      "Learning rate set to 0.02657\n",
      "0:\tlearn: 0.6771241\ttest: 0.6785437\tbest: 0.6785437 (0)\ttotal: 57.3ms\tremaining: 57.3s\n",
      "1:\tlearn: 0.6605780\ttest: 0.6654168\tbest: 0.6654168 (1)\ttotal: 59.9ms\tremaining: 29.9s\n",
      "2:\tlearn: 0.6463679\ttest: 0.6516797\tbest: 0.6516797 (2)\ttotal: 62.2ms\tremaining: 20.7s\n",
      "3:\tlearn: 0.6325668\ttest: 0.6384606\tbest: 0.6384606 (3)\ttotal: 64.6ms\tremaining: 16.1s\n",
      "4:\tlearn: 0.6208951\ttest: 0.6264990\tbest: 0.6264990 (4)\ttotal: 67.3ms\tremaining: 13.4s\n",
      "5:\tlearn: 0.6092613\ttest: 0.6153195\tbest: 0.6153195 (5)\ttotal: 69.6ms\tremaining: 11.5s\n",
      "6:\tlearn: 0.5993430\ttest: 0.6068125\tbest: 0.6068125 (6)\ttotal: 72.3ms\tremaining: 10.3s\n",
      "7:\tlearn: 0.5867753\ttest: 0.5965354\tbest: 0.5965354 (7)\ttotal: 74.8ms\tremaining: 9.27s\n",
      "8:\tlearn: 0.5772622\ttest: 0.5886158\tbest: 0.5886158 (8)\ttotal: 77.1ms\tremaining: 8.49s\n",
      "9:\tlearn: 0.5677598\ttest: 0.5801350\tbest: 0.5801350 (9)\ttotal: 79.4ms\tremaining: 7.86s\n",
      "10:\tlearn: 0.5590822\ttest: 0.5721585\tbest: 0.5721585 (10)\ttotal: 81.8ms\tremaining: 7.36s\n",
      "11:\tlearn: 0.5514155\ttest: 0.5657173\tbest: 0.5657173 (11)\ttotal: 84.2ms\tremaining: 6.93s\n",
      "12:\tlearn: 0.5436258\ttest: 0.5589958\tbest: 0.5589958 (12)\ttotal: 86.6ms\tremaining: 6.57s\n",
      "13:\tlearn: 0.5366195\ttest: 0.5531295\tbest: 0.5531295 (13)\ttotal: 88.8ms\tremaining: 6.26s\n",
      "14:\tlearn: 0.5288647\ttest: 0.5459321\tbest: 0.5459321 (14)\ttotal: 91.2ms\tremaining: 5.99s\n",
      "15:\tlearn: 0.5213079\ttest: 0.5389041\tbest: 0.5389041 (15)\ttotal: 94.8ms\tremaining: 5.83s\n",
      "16:\tlearn: 0.5138063\ttest: 0.5320747\tbest: 0.5320747 (16)\ttotal: 97.5ms\tremaining: 5.63s\n",
      "17:\tlearn: 0.5080583\ttest: 0.5273663\tbest: 0.5273663 (17)\ttotal: 100ms\tremaining: 5.48s\n",
      "18:\tlearn: 0.5018045\ttest: 0.5232852\tbest: 0.5232852 (18)\ttotal: 103ms\tremaining: 5.31s\n",
      "19:\tlearn: 0.4975214\ttest: 0.5202548\tbest: 0.5202548 (19)\ttotal: 105ms\tremaining: 5.15s\n",
      "20:\tlearn: 0.4934606\ttest: 0.5168593\tbest: 0.5168593 (20)\ttotal: 108ms\tremaining: 5.03s\n",
      "21:\tlearn: 0.4882346\ttest: 0.5125859\tbest: 0.5125859 (21)\ttotal: 110ms\tremaining: 4.9s\n",
      "22:\tlearn: 0.4834457\ttest: 0.5099070\tbest: 0.5099070 (22)\ttotal: 112ms\tremaining: 4.77s\n",
      "23:\tlearn: 0.4796536\ttest: 0.5068623\tbest: 0.5068623 (23)\ttotal: 114ms\tremaining: 4.64s\n",
      "24:\tlearn: 0.4760537\ttest: 0.5040492\tbest: 0.5040492 (24)\ttotal: 116ms\tremaining: 4.53s\n",
      "25:\tlearn: 0.4707032\ttest: 0.4993275\tbest: 0.4993275 (25)\ttotal: 118ms\tremaining: 4.42s\n",
      "26:\tlearn: 0.4661193\ttest: 0.4959579\tbest: 0.4959579 (26)\ttotal: 120ms\tremaining: 4.33s\n",
      "27:\tlearn: 0.4622554\ttest: 0.4935099\tbest: 0.4935099 (27)\ttotal: 122ms\tremaining: 4.23s\n",
      "28:\tlearn: 0.4582609\ttest: 0.4908888\tbest: 0.4908888 (28)\ttotal: 124ms\tremaining: 4.14s\n",
      "29:\tlearn: 0.4547688\ttest: 0.4881626\tbest: 0.4881626 (29)\ttotal: 126ms\tremaining: 4.07s\n",
      "30:\tlearn: 0.4514757\ttest: 0.4862366\tbest: 0.4862366 (30)\ttotal: 128ms\tremaining: 3.99s\n",
      "31:\tlearn: 0.4477235\ttest: 0.4837105\tbest: 0.4837105 (31)\ttotal: 130ms\tremaining: 3.92s\n",
      "32:\tlearn: 0.4452126\ttest: 0.4814178\tbest: 0.4814178 (32)\ttotal: 132ms\tremaining: 3.85s\n",
      "33:\tlearn: 0.4425281\ttest: 0.4799567\tbest: 0.4799567 (33)\ttotal: 135ms\tremaining: 3.82s\n",
      "34:\tlearn: 0.4393901\ttest: 0.4788838\tbest: 0.4788838 (34)\ttotal: 137ms\tremaining: 3.77s\n",
      "35:\tlearn: 0.4365398\ttest: 0.4773899\tbest: 0.4773899 (35)\ttotal: 139ms\tremaining: 3.73s\n",
      "36:\tlearn: 0.4337715\ttest: 0.4754697\tbest: 0.4754697 (36)\ttotal: 142ms\tremaining: 3.69s\n",
      "37:\tlearn: 0.4309669\ttest: 0.4734808\tbest: 0.4734808 (37)\ttotal: 144ms\tremaining: 3.65s\n",
      "38:\tlearn: 0.4275988\ttest: 0.4708616\tbest: 0.4708616 (38)\ttotal: 147ms\tremaining: 3.61s\n",
      "39:\tlearn: 0.4247388\ttest: 0.4697560\tbest: 0.4697560 (39)\ttotal: 149ms\tremaining: 3.57s\n",
      "40:\tlearn: 0.4234023\ttest: 0.4684975\tbest: 0.4684975 (40)\ttotal: 151ms\tremaining: 3.54s\n",
      "41:\tlearn: 0.4211409\ttest: 0.4681966\tbest: 0.4681966 (41)\ttotal: 154ms\tremaining: 3.51s\n",
      "42:\tlearn: 0.4183876\ttest: 0.4667566\tbest: 0.4667566 (42)\ttotal: 156ms\tremaining: 3.47s\n",
      "43:\tlearn: 0.4158654\ttest: 0.4660456\tbest: 0.4660456 (43)\ttotal: 160ms\tremaining: 3.47s\n",
      "44:\tlearn: 0.4145715\ttest: 0.4648787\tbest: 0.4648787 (44)\ttotal: 165ms\tremaining: 3.49s\n",
      "45:\tlearn: 0.4111731\ttest: 0.4631800\tbest: 0.4631800 (45)\ttotal: 167ms\tremaining: 3.47s\n",
      "46:\tlearn: 0.4086249\ttest: 0.4616329\tbest: 0.4616329 (46)\ttotal: 170ms\tremaining: 3.44s\n",
      "47:\tlearn: 0.4065581\ttest: 0.4603464\tbest: 0.4603464 (47)\ttotal: 172ms\tremaining: 3.41s\n",
      "48:\tlearn: 0.4036566\ttest: 0.4595515\tbest: 0.4595515 (48)\ttotal: 174ms\tremaining: 3.38s\n",
      "49:\tlearn: 0.4012510\ttest: 0.4572851\tbest: 0.4572851 (49)\ttotal: 177ms\tremaining: 3.36s\n",
      "50:\tlearn: 0.3996331\ttest: 0.4561631\tbest: 0.4561631 (50)\ttotal: 179ms\tremaining: 3.33s\n",
      "51:\tlearn: 0.3978373\ttest: 0.4547500\tbest: 0.4547500 (51)\ttotal: 181ms\tremaining: 3.3s\n",
      "52:\tlearn: 0.3949128\ttest: 0.4536095\tbest: 0.4536095 (52)\ttotal: 183ms\tremaining: 3.28s\n",
      "53:\tlearn: 0.3930883\ttest: 0.4525498\tbest: 0.4525498 (53)\ttotal: 186ms\tremaining: 3.25s\n",
      "54:\tlearn: 0.3904781\ttest: 0.4525965\tbest: 0.4525498 (53)\ttotal: 189ms\tremaining: 3.24s\n",
      "55:\tlearn: 0.3876046\ttest: 0.4521013\tbest: 0.4521013 (55)\ttotal: 191ms\tremaining: 3.23s\n",
      "56:\tlearn: 0.3859291\ttest: 0.4510631\tbest: 0.4510631 (56)\ttotal: 193ms\tremaining: 3.2s\n",
      "57:\tlearn: 0.3841160\ttest: 0.4513516\tbest: 0.4510631 (56)\ttotal: 195ms\tremaining: 3.17s\n",
      "58:\tlearn: 0.3827833\ttest: 0.4508065\tbest: 0.4508065 (58)\ttotal: 197ms\tremaining: 3.15s\n",
      "59:\tlearn: 0.3813037\ttest: 0.4497205\tbest: 0.4497205 (59)\ttotal: 199ms\tremaining: 3.12s\n",
      "60:\tlearn: 0.3798738\ttest: 0.4493879\tbest: 0.4493879 (60)\ttotal: 201ms\tremaining: 3.09s\n",
      "61:\tlearn: 0.3780485\ttest: 0.4490823\tbest: 0.4490823 (61)\ttotal: 203ms\tremaining: 3.07s\n",
      "62:\tlearn: 0.3762996\ttest: 0.4483610\tbest: 0.4483610 (62)\ttotal: 205ms\tremaining: 3.04s\n",
      "63:\tlearn: 0.3746418\ttest: 0.4481813\tbest: 0.4481813 (63)\ttotal: 207ms\tremaining: 3.02s\n",
      "64:\tlearn: 0.3733799\ttest: 0.4474955\tbest: 0.4474955 (64)\ttotal: 209ms\tremaining: 3s\n",
      "65:\tlearn: 0.3717536\ttest: 0.4470618\tbest: 0.4470618 (65)\ttotal: 211ms\tremaining: 2.98s\n",
      "66:\tlearn: 0.3700699\ttest: 0.4459951\tbest: 0.4459951 (66)\ttotal: 212ms\tremaining: 2.96s\n",
      "67:\tlearn: 0.3691623\ttest: 0.4455055\tbest: 0.4455055 (67)\ttotal: 214ms\tremaining: 2.94s\n",
      "68:\tlearn: 0.3678307\ttest: 0.4449101\tbest: 0.4449101 (68)\ttotal: 216ms\tremaining: 2.92s\n",
      "69:\tlearn: 0.3660316\ttest: 0.4445884\tbest: 0.4445884 (69)\ttotal: 218ms\tremaining: 2.9s\n",
      "70:\tlearn: 0.3643611\ttest: 0.4442623\tbest: 0.4442623 (70)\ttotal: 220ms\tremaining: 2.88s\n",
      "71:\tlearn: 0.3625028\ttest: 0.4431687\tbest: 0.4431687 (71)\ttotal: 222ms\tremaining: 2.86s\n",
      "72:\tlearn: 0.3613360\ttest: 0.4429159\tbest: 0.4429159 (72)\ttotal: 224ms\tremaining: 2.84s\n",
      "73:\tlearn: 0.3597751\ttest: 0.4424925\tbest: 0.4424925 (73)\ttotal: 226ms\tremaining: 2.83s\n",
      "74:\tlearn: 0.3585412\ttest: 0.4419560\tbest: 0.4419560 (74)\ttotal: 228ms\tremaining: 2.81s\n",
      "75:\tlearn: 0.3578206\ttest: 0.4418351\tbest: 0.4418351 (75)\ttotal: 229ms\tremaining: 2.79s\n",
      "76:\tlearn: 0.3567221\ttest: 0.4413490\tbest: 0.4413490 (76)\ttotal: 231ms\tremaining: 2.77s\n",
      "77:\tlearn: 0.3553359\ttest: 0.4409014\tbest: 0.4409014 (77)\ttotal: 233ms\tremaining: 2.76s\n",
      "78:\tlearn: 0.3547786\ttest: 0.4408330\tbest: 0.4408330 (78)\ttotal: 235ms\tremaining: 2.74s\n",
      "79:\tlearn: 0.3537624\ttest: 0.4403152\tbest: 0.4403152 (79)\ttotal: 237ms\tremaining: 2.73s\n",
      "80:\tlearn: 0.3521406\ttest: 0.4409911\tbest: 0.4403152 (79)\ttotal: 239ms\tremaining: 2.71s\n",
      "81:\tlearn: 0.3510263\ttest: 0.4405525\tbest: 0.4403152 (79)\ttotal: 241ms\tremaining: 2.7s\n",
      "82:\tlearn: 0.3492599\ttest: 0.4402959\tbest: 0.4402959 (82)\ttotal: 243ms\tremaining: 2.68s\n",
      "83:\tlearn: 0.3476869\ttest: 0.4399332\tbest: 0.4399332 (83)\ttotal: 245ms\tremaining: 2.67s\n",
      "84:\tlearn: 0.3467278\ttest: 0.4389788\tbest: 0.4389788 (84)\ttotal: 247ms\tremaining: 2.65s\n",
      "85:\tlearn: 0.3456806\ttest: 0.4388647\tbest: 0.4388647 (85)\ttotal: 248ms\tremaining: 2.64s\n",
      "86:\tlearn: 0.3448523\ttest: 0.4384810\tbest: 0.4384810 (86)\ttotal: 250ms\tremaining: 2.63s\n",
      "87:\tlearn: 0.3436809\ttest: 0.4383132\tbest: 0.4383132 (87)\ttotal: 252ms\tremaining: 2.61s\n",
      "88:\tlearn: 0.3425419\ttest: 0.4383119\tbest: 0.4383119 (88)\ttotal: 254ms\tremaining: 2.6s\n",
      "89:\tlearn: 0.3418223\ttest: 0.4373353\tbest: 0.4373353 (89)\ttotal: 256ms\tremaining: 2.59s\n",
      "90:\tlearn: 0.3411646\ttest: 0.4369804\tbest: 0.4369804 (90)\ttotal: 258ms\tremaining: 2.58s\n",
      "91:\tlearn: 0.3402210\ttest: 0.4367470\tbest: 0.4367470 (91)\ttotal: 260ms\tremaining: 2.56s\n",
      "92:\tlearn: 0.3393242\ttest: 0.4366584\tbest: 0.4366584 (92)\ttotal: 262ms\tremaining: 2.55s\n",
      "93:\tlearn: 0.3383522\ttest: 0.4367358\tbest: 0.4366584 (92)\ttotal: 264ms\tremaining: 2.54s\n",
      "94:\tlearn: 0.3375245\ttest: 0.4366193\tbest: 0.4366193 (94)\ttotal: 265ms\tremaining: 2.53s\n",
      "95:\tlearn: 0.3367846\ttest: 0.4369857\tbest: 0.4366193 (94)\ttotal: 267ms\tremaining: 2.52s\n",
      "96:\tlearn: 0.3358323\ttest: 0.4370460\tbest: 0.4366193 (94)\ttotal: 269ms\tremaining: 2.51s\n",
      "97:\tlearn: 0.3347486\ttest: 0.4367349\tbest: 0.4366193 (94)\ttotal: 271ms\tremaining: 2.5s\n",
      "98:\tlearn: 0.3340398\ttest: 0.4365188\tbest: 0.4365188 (98)\ttotal: 273ms\tremaining: 2.48s\n",
      "99:\tlearn: 0.3328980\ttest: 0.4364849\tbest: 0.4364849 (99)\ttotal: 275ms\tremaining: 2.48s\n",
      "100:\tlearn: 0.3316273\ttest: 0.4367393\tbest: 0.4364849 (99)\ttotal: 277ms\tremaining: 2.46s\n",
      "101:\tlearn: 0.3304244\ttest: 0.4371552\tbest: 0.4364849 (99)\ttotal: 279ms\tremaining: 2.45s\n",
      "102:\tlearn: 0.3296379\ttest: 0.4369359\tbest: 0.4364849 (99)\ttotal: 281ms\tremaining: 2.45s\n",
      "103:\tlearn: 0.3294458\ttest: 0.4364421\tbest: 0.4364421 (103)\ttotal: 282ms\tremaining: 2.43s\n",
      "104:\tlearn: 0.3282929\ttest: 0.4365002\tbest: 0.4364421 (103)\ttotal: 284ms\tremaining: 2.42s\n",
      "105:\tlearn: 0.3276262\ttest: 0.4366485\tbest: 0.4364421 (103)\ttotal: 285ms\tremaining: 2.41s\n",
      "106:\tlearn: 0.3267547\ttest: 0.4363514\tbest: 0.4363514 (106)\ttotal: 287ms\tremaining: 2.4s\n",
      "107:\tlearn: 0.3256723\ttest: 0.4363821\tbest: 0.4363514 (106)\ttotal: 290ms\tremaining: 2.39s\n",
      "108:\tlearn: 0.3249024\ttest: 0.4367151\tbest: 0.4363514 (106)\ttotal: 291ms\tremaining: 2.38s\n",
      "109:\tlearn: 0.3236740\ttest: 0.4366798\tbest: 0.4363514 (106)\ttotal: 293ms\tremaining: 2.37s\n",
      "110:\tlearn: 0.3227193\ttest: 0.4366118\tbest: 0.4363514 (106)\ttotal: 295ms\tremaining: 2.36s\n",
      "111:\tlearn: 0.3218634\ttest: 0.4364566\tbest: 0.4363514 (106)\ttotal: 297ms\tremaining: 2.35s\n",
      "112:\tlearn: 0.3205380\ttest: 0.4368730\tbest: 0.4363514 (106)\ttotal: 299ms\tremaining: 2.35s\n",
      "113:\tlearn: 0.3196661\ttest: 0.4371238\tbest: 0.4363514 (106)\ttotal: 301ms\tremaining: 2.34s\n",
      "114:\tlearn: 0.3192805\ttest: 0.4372777\tbest: 0.4363514 (106)\ttotal: 303ms\tremaining: 2.33s\n",
      "115:\tlearn: 0.3187357\ttest: 0.4370178\tbest: 0.4363514 (106)\ttotal: 305ms\tremaining: 2.32s\n",
      "116:\tlearn: 0.3181006\ttest: 0.4373553\tbest: 0.4363514 (106)\ttotal: 306ms\tremaining: 2.31s\n",
      "117:\tlearn: 0.3172558\ttest: 0.4367478\tbest: 0.4363514 (106)\ttotal: 309ms\tremaining: 2.31s\n",
      "118:\tlearn: 0.3167561\ttest: 0.4365716\tbest: 0.4363514 (106)\ttotal: 311ms\tremaining: 2.3s\n",
      "119:\tlearn: 0.3161211\ttest: 0.4366488\tbest: 0.4363514 (106)\ttotal: 312ms\tremaining: 2.29s\n"
     ]
    },
    {
     "name": "stdout",
     "output_type": "stream",
     "text": [
      "120:\tlearn: 0.3148351\ttest: 0.4373191\tbest: 0.4363514 (106)\ttotal: 315ms\tremaining: 2.29s\n",
      "121:\tlearn: 0.3142054\ttest: 0.4375044\tbest: 0.4363514 (106)\ttotal: 318ms\tremaining: 2.29s\n",
      "122:\tlearn: 0.3133575\ttest: 0.4374406\tbest: 0.4363514 (106)\ttotal: 320ms\tremaining: 2.28s\n",
      "123:\tlearn: 0.3130048\ttest: 0.4376647\tbest: 0.4363514 (106)\ttotal: 323ms\tremaining: 2.28s\n",
      "124:\tlearn: 0.3124479\ttest: 0.4372298\tbest: 0.4363514 (106)\ttotal: 325ms\tremaining: 2.27s\n",
      "125:\tlearn: 0.3116080\ttest: 0.4371509\tbest: 0.4363514 (106)\ttotal: 327ms\tremaining: 2.27s\n",
      "126:\tlearn: 0.3110173\ttest: 0.4371470\tbest: 0.4363514 (106)\ttotal: 330ms\tremaining: 2.27s\n",
      "127:\tlearn: 0.3094730\ttest: 0.4368367\tbest: 0.4363514 (106)\ttotal: 333ms\tremaining: 2.27s\n",
      "128:\tlearn: 0.3087478\ttest: 0.4365613\tbest: 0.4363514 (106)\ttotal: 335ms\tremaining: 2.26s\n",
      "129:\tlearn: 0.3081706\ttest: 0.4370190\tbest: 0.4363514 (106)\ttotal: 337ms\tremaining: 2.26s\n",
      "130:\tlearn: 0.3071711\ttest: 0.4367900\tbest: 0.4363514 (106)\ttotal: 340ms\tremaining: 2.25s\n",
      "131:\tlearn: 0.3062915\ttest: 0.4364128\tbest: 0.4363514 (106)\ttotal: 342ms\tremaining: 2.25s\n",
      "132:\tlearn: 0.3059722\ttest: 0.4367337\tbest: 0.4363514 (106)\ttotal: 345ms\tremaining: 2.25s\n",
      "133:\tlearn: 0.3054585\ttest: 0.4365496\tbest: 0.4363514 (106)\ttotal: 347ms\tremaining: 2.24s\n",
      "134:\tlearn: 0.3049608\ttest: 0.4367216\tbest: 0.4363514 (106)\ttotal: 349ms\tremaining: 2.24s\n",
      "135:\tlearn: 0.3041692\ttest: 0.4369048\tbest: 0.4363514 (106)\ttotal: 352ms\tremaining: 2.23s\n",
      "136:\tlearn: 0.3032538\ttest: 0.4375402\tbest: 0.4363514 (106)\ttotal: 354ms\tremaining: 2.23s\n",
      "137:\tlearn: 0.3026894\ttest: 0.4378569\tbest: 0.4363514 (106)\ttotal: 357ms\tremaining: 2.23s\n",
      "138:\tlearn: 0.3020637\ttest: 0.4373822\tbest: 0.4363514 (106)\ttotal: 360ms\tremaining: 2.23s\n",
      "139:\tlearn: 0.3015101\ttest: 0.4372475\tbest: 0.4363514 (106)\ttotal: 363ms\tremaining: 2.23s\n",
      "140:\tlearn: 0.3005823\ttest: 0.4372906\tbest: 0.4363514 (106)\ttotal: 365ms\tremaining: 2.22s\n",
      "141:\tlearn: 0.2996747\ttest: 0.4367599\tbest: 0.4363514 (106)\ttotal: 367ms\tremaining: 2.22s\n",
      "142:\tlearn: 0.2990626\ttest: 0.4369784\tbest: 0.4363514 (106)\ttotal: 370ms\tremaining: 2.21s\n",
      "143:\tlearn: 0.2977511\ttest: 0.4375078\tbest: 0.4363514 (106)\ttotal: 372ms\tremaining: 2.21s\n",
      "144:\tlearn: 0.2964005\ttest: 0.4380663\tbest: 0.4363514 (106)\ttotal: 375ms\tremaining: 2.21s\n",
      "145:\tlearn: 0.2958349\ttest: 0.4380995\tbest: 0.4363514 (106)\ttotal: 377ms\tremaining: 2.21s\n",
      "146:\tlearn: 0.2950698\ttest: 0.4388240\tbest: 0.4363514 (106)\ttotal: 380ms\tremaining: 2.2s\n",
      "147:\tlearn: 0.2944845\ttest: 0.4388740\tbest: 0.4363514 (106)\ttotal: 382ms\tremaining: 2.2s\n",
      "148:\tlearn: 0.2940001\ttest: 0.4384342\tbest: 0.4363514 (106)\ttotal: 384ms\tremaining: 2.19s\n",
      "149:\tlearn: 0.2929564\ttest: 0.4391716\tbest: 0.4363514 (106)\ttotal: 387ms\tremaining: 2.19s\n",
      "150:\tlearn: 0.2923918\ttest: 0.4387645\tbest: 0.4363514 (106)\ttotal: 389ms\tremaining: 2.19s\n",
      "151:\tlearn: 0.2917225\ttest: 0.4393452\tbest: 0.4363514 (106)\ttotal: 392ms\tremaining: 2.19s\n",
      "152:\tlearn: 0.2907645\ttest: 0.4399157\tbest: 0.4363514 (106)\ttotal: 395ms\tremaining: 2.19s\n",
      "153:\tlearn: 0.2894844\ttest: 0.4402656\tbest: 0.4363514 (106)\ttotal: 397ms\tremaining: 2.18s\n",
      "154:\tlearn: 0.2885530\ttest: 0.4404296\tbest: 0.4363514 (106)\ttotal: 399ms\tremaining: 2.17s\n",
      "155:\tlearn: 0.2880954\ttest: 0.4405394\tbest: 0.4363514 (106)\ttotal: 401ms\tremaining: 2.17s\n",
      "156:\tlearn: 0.2874421\ttest: 0.4400438\tbest: 0.4363514 (106)\ttotal: 403ms\tremaining: 2.16s\n",
      "157:\tlearn: 0.2866283\ttest: 0.4398929\tbest: 0.4363514 (106)\ttotal: 405ms\tremaining: 2.16s\n",
      "158:\tlearn: 0.2856384\ttest: 0.4407660\tbest: 0.4363514 (106)\ttotal: 407ms\tremaining: 2.15s\n",
      "159:\tlearn: 0.2851485\ttest: 0.4403846\tbest: 0.4363514 (106)\ttotal: 409ms\tremaining: 2.15s\n",
      "160:\tlearn: 0.2845174\ttest: 0.4401058\tbest: 0.4363514 (106)\ttotal: 411ms\tremaining: 2.14s\n",
      "161:\tlearn: 0.2838981\ttest: 0.4407914\tbest: 0.4363514 (106)\ttotal: 413ms\tremaining: 2.13s\n",
      "162:\tlearn: 0.2834097\ttest: 0.4404414\tbest: 0.4363514 (106)\ttotal: 415ms\tremaining: 2.13s\n",
      "163:\tlearn: 0.2830038\ttest: 0.4402832\tbest: 0.4363514 (106)\ttotal: 416ms\tremaining: 2.12s\n",
      "164:\tlearn: 0.2822976\ttest: 0.4409406\tbest: 0.4363514 (106)\ttotal: 418ms\tremaining: 2.12s\n",
      "165:\tlearn: 0.2816441\ttest: 0.4413283\tbest: 0.4363514 (106)\ttotal: 420ms\tremaining: 2.11s\n",
      "166:\tlearn: 0.2808258\ttest: 0.4411391\tbest: 0.4363514 (106)\ttotal: 422ms\tremaining: 2.1s\n",
      "167:\tlearn: 0.2798194\ttest: 0.4413486\tbest: 0.4363514 (106)\ttotal: 424ms\tremaining: 2.1s\n",
      "168:\tlearn: 0.2788248\ttest: 0.4414885\tbest: 0.4363514 (106)\ttotal: 426ms\tremaining: 2.09s\n",
      "169:\tlearn: 0.2781095\ttest: 0.4416182\tbest: 0.4363514 (106)\ttotal: 428ms\tremaining: 2.09s\n",
      "170:\tlearn: 0.2772730\ttest: 0.4421631\tbest: 0.4363514 (106)\ttotal: 429ms\tremaining: 2.08s\n",
      "171:\tlearn: 0.2766414\ttest: 0.4428403\tbest: 0.4363514 (106)\ttotal: 431ms\tremaining: 2.08s\n",
      "172:\tlearn: 0.2760218\ttest: 0.4426345\tbest: 0.4363514 (106)\ttotal: 433ms\tremaining: 2.07s\n",
      "173:\tlearn: 0.2759503\ttest: 0.4425862\tbest: 0.4363514 (106)\ttotal: 434ms\tremaining: 2.06s\n",
      "174:\tlearn: 0.2755235\ttest: 0.4425821\tbest: 0.4363514 (106)\ttotal: 436ms\tremaining: 2.06s\n",
      "175:\tlearn: 0.2750929\ttest: 0.4426289\tbest: 0.4363514 (106)\ttotal: 438ms\tremaining: 2.05s\n",
      "176:\tlearn: 0.2743960\ttest: 0.4422059\tbest: 0.4363514 (106)\ttotal: 440ms\tremaining: 2.04s\n",
      "177:\tlearn: 0.2739605\ttest: 0.4421794\tbest: 0.4363514 (106)\ttotal: 442ms\tremaining: 2.04s\n",
      "178:\tlearn: 0.2735943\ttest: 0.4423813\tbest: 0.4363514 (106)\ttotal: 444ms\tremaining: 2.04s\n",
      "179:\tlearn: 0.2729881\ttest: 0.4424817\tbest: 0.4363514 (106)\ttotal: 446ms\tremaining: 2.03s\n",
      "180:\tlearn: 0.2721384\ttest: 0.4422847\tbest: 0.4363514 (106)\ttotal: 447ms\tremaining: 2.02s\n",
      "181:\tlearn: 0.2716427\ttest: 0.4422450\tbest: 0.4363514 (106)\ttotal: 449ms\tremaining: 2.02s\n",
      "182:\tlearn: 0.2710053\ttest: 0.4425588\tbest: 0.4363514 (106)\ttotal: 451ms\tremaining: 2.01s\n",
      "183:\tlearn: 0.2703941\ttest: 0.4427944\tbest: 0.4363514 (106)\ttotal: 453ms\tremaining: 2.01s\n",
      "184:\tlearn: 0.2696247\ttest: 0.4425365\tbest: 0.4363514 (106)\ttotal: 455ms\tremaining: 2s\n",
      "185:\tlearn: 0.2693948\ttest: 0.4426076\tbest: 0.4363514 (106)\ttotal: 457ms\tremaining: 2s\n",
      "186:\tlearn: 0.2686803\ttest: 0.4420672\tbest: 0.4363514 (106)\ttotal: 459ms\tremaining: 2s\n",
      "187:\tlearn: 0.2680404\ttest: 0.4424672\tbest: 0.4363514 (106)\ttotal: 461ms\tremaining: 1.99s\n",
      "188:\tlearn: 0.2675111\ttest: 0.4427016\tbest: 0.4363514 (106)\ttotal: 463ms\tremaining: 1.99s\n",
      "189:\tlearn: 0.2667600\ttest: 0.4426357\tbest: 0.4363514 (106)\ttotal: 465ms\tremaining: 1.98s\n",
      "190:\tlearn: 0.2660173\ttest: 0.4424865\tbest: 0.4363514 (106)\ttotal: 467ms\tremaining: 1.98s\n",
      "191:\tlearn: 0.2649084\ttest: 0.4424907\tbest: 0.4363514 (106)\ttotal: 469ms\tremaining: 1.98s\n",
      "192:\tlearn: 0.2642204\ttest: 0.4423469\tbest: 0.4363514 (106)\ttotal: 472ms\tremaining: 1.97s\n",
      "193:\tlearn: 0.2631562\ttest: 0.4426184\tbest: 0.4363514 (106)\ttotal: 474ms\tremaining: 1.97s\n",
      "194:\tlearn: 0.2627160\ttest: 0.4427330\tbest: 0.4363514 (106)\ttotal: 477ms\tremaining: 1.97s\n",
      "195:\tlearn: 0.2617673\ttest: 0.4441590\tbest: 0.4363514 (106)\ttotal: 479ms\tremaining: 1.97s\n",
      "196:\tlearn: 0.2613654\ttest: 0.4439314\tbest: 0.4363514 (106)\ttotal: 482ms\tremaining: 1.96s\n",
      "197:\tlearn: 0.2605323\ttest: 0.4441448\tbest: 0.4363514 (106)\ttotal: 484ms\tremaining: 1.96s\n",
      "198:\tlearn: 0.2599953\ttest: 0.4441598\tbest: 0.4363514 (106)\ttotal: 487ms\tremaining: 1.96s\n",
      "199:\tlearn: 0.2594342\ttest: 0.4443387\tbest: 0.4363514 (106)\ttotal: 489ms\tremaining: 1.96s\n",
      "200:\tlearn: 0.2589622\ttest: 0.4445916\tbest: 0.4363514 (106)\ttotal: 491ms\tremaining: 1.95s\n",
      "201:\tlearn: 0.2583395\ttest: 0.4442499\tbest: 0.4363514 (106)\ttotal: 494ms\tremaining: 1.95s\n",
      "202:\tlearn: 0.2578671\ttest: 0.4441398\tbest: 0.4363514 (106)\ttotal: 497ms\tremaining: 1.95s\n",
      "203:\tlearn: 0.2570019\ttest: 0.4445235\tbest: 0.4363514 (106)\ttotal: 499ms\tremaining: 1.95s\n",
      "204:\tlearn: 0.2563324\ttest: 0.4446087\tbest: 0.4363514 (106)\ttotal: 501ms\tremaining: 1.94s\n",
      "205:\tlearn: 0.2559721\ttest: 0.4446065\tbest: 0.4363514 (106)\ttotal: 503ms\tremaining: 1.94s\n",
      "206:\tlearn: 0.2554363\ttest: 0.4446508\tbest: 0.4363514 (106)\ttotal: 505ms\tremaining: 1.93s\n",
      "207:\tlearn: 0.2548303\ttest: 0.4445187\tbest: 0.4363514 (106)\ttotal: 506ms\tremaining: 1.93s\n",
      "208:\tlearn: 0.2541914\ttest: 0.4441047\tbest: 0.4363514 (106)\ttotal: 508ms\tremaining: 1.92s\n",
      "209:\tlearn: 0.2536332\ttest: 0.4446365\tbest: 0.4363514 (106)\ttotal: 511ms\tremaining: 1.92s\n",
      "210:\tlearn: 0.2526741\ttest: 0.4451884\tbest: 0.4363514 (106)\ttotal: 513ms\tremaining: 1.92s\n",
      "211:\tlearn: 0.2520834\ttest: 0.4452433\tbest: 0.4363514 (106)\ttotal: 515ms\tremaining: 1.91s\n",
      "212:\tlearn: 0.2514221\ttest: 0.4453480\tbest: 0.4363514 (106)\ttotal: 517ms\tremaining: 1.91s\n",
      "213:\tlearn: 0.2509443\ttest: 0.4447758\tbest: 0.4363514 (106)\ttotal: 519ms\tremaining: 1.9s\n",
      "214:\tlearn: 0.2499104\ttest: 0.4450616\tbest: 0.4363514 (106)\ttotal: 521ms\tremaining: 1.9s\n",
      "215:\tlearn: 0.2492960\ttest: 0.4450574\tbest: 0.4363514 (106)\ttotal: 522ms\tremaining: 1.9s\n",
      "216:\tlearn: 0.2488384\ttest: 0.4454664\tbest: 0.4363514 (106)\ttotal: 524ms\tremaining: 1.89s\n",
      "217:\tlearn: 0.2483995\ttest: 0.4453683\tbest: 0.4363514 (106)\ttotal: 526ms\tremaining: 1.89s\n",
      "218:\tlearn: 0.2478245\ttest: 0.4455683\tbest: 0.4363514 (106)\ttotal: 528ms\tremaining: 1.88s\n",
      "219:\tlearn: 0.2472252\ttest: 0.4460701\tbest: 0.4363514 (106)\ttotal: 530ms\tremaining: 1.88s\n",
      "220:\tlearn: 0.2469161\ttest: 0.4465599\tbest: 0.4363514 (106)\ttotal: 532ms\tremaining: 1.87s\n",
      "221:\tlearn: 0.2463249\ttest: 0.4462943\tbest: 0.4363514 (106)\ttotal: 533ms\tremaining: 1.87s\n",
      "222:\tlearn: 0.2459984\ttest: 0.4461273\tbest: 0.4363514 (106)\ttotal: 535ms\tremaining: 1.86s\n",
      "223:\tlearn: 0.2453220\ttest: 0.4460557\tbest: 0.4363514 (106)\ttotal: 537ms\tremaining: 1.86s\n",
      "224:\tlearn: 0.2447101\ttest: 0.4466208\tbest: 0.4363514 (106)\ttotal: 539ms\tremaining: 1.86s\n",
      "225:\tlearn: 0.2437963\ttest: 0.4466496\tbest: 0.4363514 (106)\ttotal: 541ms\tremaining: 1.85s\n",
      "226:\tlearn: 0.2432796\ttest: 0.4468402\tbest: 0.4363514 (106)\ttotal: 543ms\tremaining: 1.85s\n",
      "227:\tlearn: 0.2427975\ttest: 0.4464905\tbest: 0.4363514 (106)\ttotal: 545ms\tremaining: 1.84s\n",
      "228:\tlearn: 0.2418417\ttest: 0.4465846\tbest: 0.4363514 (106)\ttotal: 547ms\tremaining: 1.84s\n",
      "229:\tlearn: 0.2412039\ttest: 0.4463305\tbest: 0.4363514 (106)\ttotal: 549ms\tremaining: 1.84s\n",
      "230:\tlearn: 0.2409652\ttest: 0.4459424\tbest: 0.4363514 (106)\ttotal: 550ms\tremaining: 1.83s\n",
      "231:\tlearn: 0.2407090\ttest: 0.4457077\tbest: 0.4363514 (106)\ttotal: 552ms\tremaining: 1.83s\n",
      "232:\tlearn: 0.2402615\ttest: 0.4456992\tbest: 0.4363514 (106)\ttotal: 556ms\tremaining: 1.83s\n",
      "233:\tlearn: 0.2397318\ttest: 0.4459654\tbest: 0.4363514 (106)\ttotal: 558ms\tremaining: 1.82s\n",
      "234:\tlearn: 0.2388068\ttest: 0.4459591\tbest: 0.4363514 (106)\ttotal: 560ms\tremaining: 1.82s\n",
      "235:\tlearn: 0.2377125\ttest: 0.4464523\tbest: 0.4363514 (106)\ttotal: 561ms\tremaining: 1.82s\n",
      "236:\tlearn: 0.2369361\ttest: 0.4465670\tbest: 0.4363514 (106)\ttotal: 563ms\tremaining: 1.81s\n",
      "237:\tlearn: 0.2358987\ttest: 0.4463555\tbest: 0.4363514 (106)\ttotal: 565ms\tremaining: 1.81s\n",
      "238:\tlearn: 0.2352851\ttest: 0.4464821\tbest: 0.4363514 (106)\ttotal: 567ms\tremaining: 1.8s\n",
      "239:\tlearn: 0.2347844\ttest: 0.4471046\tbest: 0.4363514 (106)\ttotal: 569ms\tremaining: 1.8s\n",
      "240:\tlearn: 0.2339104\ttest: 0.4478811\tbest: 0.4363514 (106)\ttotal: 571ms\tremaining: 1.8s\n",
      "241:\tlearn: 0.2330375\ttest: 0.4481560\tbest: 0.4363514 (106)\ttotal: 572ms\tremaining: 1.79s\n",
      "242:\tlearn: 0.2322682\ttest: 0.4486432\tbest: 0.4363514 (106)\ttotal: 574ms\tremaining: 1.79s\n",
      "243:\tlearn: 0.2316656\ttest: 0.4486771\tbest: 0.4363514 (106)\ttotal: 576ms\tremaining: 1.78s\n",
      "244:\tlearn: 0.2311396\ttest: 0.4488534\tbest: 0.4363514 (106)\ttotal: 578ms\tremaining: 1.78s\n",
      "245:\tlearn: 0.2306746\ttest: 0.4489626\tbest: 0.4363514 (106)\ttotal: 580ms\tremaining: 1.78s\n",
      "246:\tlearn: 0.2301655\ttest: 0.4494881\tbest: 0.4363514 (106)\ttotal: 582ms\tremaining: 1.77s\n",
      "247:\tlearn: 0.2295516\ttest: 0.4498216\tbest: 0.4363514 (106)\ttotal: 584ms\tremaining: 1.77s\n",
      "248:\tlearn: 0.2290392\ttest: 0.4497823\tbest: 0.4363514 (106)\ttotal: 586ms\tremaining: 1.77s\n",
      "249:\tlearn: 0.2286281\ttest: 0.4496634\tbest: 0.4363514 (106)\ttotal: 587ms\tremaining: 1.76s\n",
      "250:\tlearn: 0.2282855\ttest: 0.4494692\tbest: 0.4363514 (106)\ttotal: 589ms\tremaining: 1.76s\n",
      "251:\tlearn: 0.2275565\ttest: 0.4497013\tbest: 0.4363514 (106)\ttotal: 591ms\tremaining: 1.75s\n",
      "252:\tlearn: 0.2268224\ttest: 0.4499992\tbest: 0.4363514 (106)\ttotal: 593ms\tremaining: 1.75s\n",
      "253:\tlearn: 0.2258291\ttest: 0.4502790\tbest: 0.4363514 (106)\ttotal: 595ms\tremaining: 1.75s\n",
      "254:\tlearn: 0.2252886\ttest: 0.4501162\tbest: 0.4363514 (106)\ttotal: 597ms\tremaining: 1.74s\n",
      "255:\tlearn: 0.2248961\ttest: 0.4499777\tbest: 0.4363514 (106)\ttotal: 599ms\tremaining: 1.74s\n",
      "256:\tlearn: 0.2236424\ttest: 0.4502560\tbest: 0.4363514 (106)\ttotal: 601ms\tremaining: 1.74s\n",
      "257:\tlearn: 0.2230345\ttest: 0.4503175\tbest: 0.4363514 (106)\ttotal: 602ms\tremaining: 1.73s\n",
      "258:\tlearn: 0.2225035\ttest: 0.4503348\tbest: 0.4363514 (106)\ttotal: 604ms\tremaining: 1.73s\n",
      "259:\tlearn: 0.2218729\ttest: 0.4509484\tbest: 0.4363514 (106)\ttotal: 606ms\tremaining: 1.72s\n",
      "260:\tlearn: 0.2210809\ttest: 0.4508090\tbest: 0.4363514 (106)\ttotal: 608ms\tremaining: 1.72s\n",
      "261:\tlearn: 0.2206412\ttest: 0.4505784\tbest: 0.4363514 (106)\ttotal: 610ms\tremaining: 1.72s\n",
      "262:\tlearn: 0.2202186\ttest: 0.4507359\tbest: 0.4363514 (106)\ttotal: 612ms\tremaining: 1.71s\n",
      "263:\tlearn: 0.2195640\ttest: 0.4507339\tbest: 0.4363514 (106)\ttotal: 614ms\tremaining: 1.71s\n",
      "264:\tlearn: 0.2191461\ttest: 0.4507158\tbest: 0.4363514 (106)\ttotal: 616ms\tremaining: 1.71s\n",
      "265:\tlearn: 0.2186696\ttest: 0.4509340\tbest: 0.4363514 (106)\ttotal: 618ms\tremaining: 1.7s\n",
      "266:\tlearn: 0.2182116\ttest: 0.4509914\tbest: 0.4363514 (106)\ttotal: 620ms\tremaining: 1.7s\n"
     ]
    },
    {
     "name": "stdout",
     "output_type": "stream",
     "text": [
      "267:\tlearn: 0.2173888\ttest: 0.4513295\tbest: 0.4363514 (106)\ttotal: 622ms\tremaining: 1.7s\n",
      "268:\tlearn: 0.2168916\ttest: 0.4515594\tbest: 0.4363514 (106)\ttotal: 625ms\tremaining: 1.7s\n",
      "269:\tlearn: 0.2164473\ttest: 0.4517421\tbest: 0.4363514 (106)\ttotal: 627ms\tremaining: 1.7s\n",
      "270:\tlearn: 0.2159001\ttest: 0.4519616\tbest: 0.4363514 (106)\ttotal: 630ms\tremaining: 1.69s\n",
      "271:\tlearn: 0.2155091\ttest: 0.4521370\tbest: 0.4363514 (106)\ttotal: 632ms\tremaining: 1.69s\n",
      "272:\tlearn: 0.2153269\ttest: 0.4520822\tbest: 0.4363514 (106)\ttotal: 635ms\tremaining: 1.69s\n",
      "273:\tlearn: 0.2145257\ttest: 0.4519190\tbest: 0.4363514 (106)\ttotal: 637ms\tremaining: 1.69s\n",
      "274:\tlearn: 0.2137539\ttest: 0.4523282\tbest: 0.4363514 (106)\ttotal: 639ms\tremaining: 1.69s\n",
      "275:\tlearn: 0.2129424\ttest: 0.4521820\tbest: 0.4363514 (106)\ttotal: 642ms\tremaining: 1.68s\n",
      "276:\tlearn: 0.2124406\ttest: 0.4523823\tbest: 0.4363514 (106)\ttotal: 644ms\tremaining: 1.68s\n",
      "277:\tlearn: 0.2121483\ttest: 0.4524398\tbest: 0.4363514 (106)\ttotal: 647ms\tremaining: 1.68s\n",
      "278:\tlearn: 0.2113778\ttest: 0.4527728\tbest: 0.4363514 (106)\ttotal: 649ms\tremaining: 1.68s\n",
      "279:\tlearn: 0.2108330\ttest: 0.4525713\tbest: 0.4363514 (106)\ttotal: 651ms\tremaining: 1.67s\n",
      "280:\tlearn: 0.2101502\ttest: 0.4523902\tbest: 0.4363514 (106)\ttotal: 654ms\tremaining: 1.67s\n",
      "281:\tlearn: 0.2094863\ttest: 0.4519840\tbest: 0.4363514 (106)\ttotal: 656ms\tremaining: 1.67s\n",
      "282:\tlearn: 0.2090142\ttest: 0.4519645\tbest: 0.4363514 (106)\ttotal: 658ms\tremaining: 1.67s\n",
      "283:\tlearn: 0.2083909\ttest: 0.4521297\tbest: 0.4363514 (106)\ttotal: 660ms\tremaining: 1.66s\n",
      "284:\tlearn: 0.2079797\ttest: 0.4520638\tbest: 0.4363514 (106)\ttotal: 662ms\tremaining: 1.66s\n",
      "285:\tlearn: 0.2073301\ttest: 0.4520473\tbest: 0.4363514 (106)\ttotal: 664ms\tremaining: 1.66s\n",
      "286:\tlearn: 0.2070055\ttest: 0.4520743\tbest: 0.4363514 (106)\ttotal: 666ms\tremaining: 1.65s\n",
      "287:\tlearn: 0.2065701\ttest: 0.4517626\tbest: 0.4363514 (106)\ttotal: 668ms\tremaining: 1.65s\n",
      "288:\tlearn: 0.2064609\ttest: 0.4515300\tbest: 0.4363514 (106)\ttotal: 670ms\tremaining: 1.65s\n",
      "289:\tlearn: 0.2058856\ttest: 0.4518843\tbest: 0.4363514 (106)\ttotal: 672ms\tremaining: 1.64s\n",
      "290:\tlearn: 0.2052057\ttest: 0.4519170\tbest: 0.4363514 (106)\ttotal: 674ms\tremaining: 1.64s\n",
      "291:\tlearn: 0.2043383\ttest: 0.4522546\tbest: 0.4363514 (106)\ttotal: 676ms\tremaining: 1.64s\n",
      "292:\tlearn: 0.2040281\ttest: 0.4521094\tbest: 0.4363514 (106)\ttotal: 677ms\tremaining: 1.63s\n",
      "293:\tlearn: 0.2032880\ttest: 0.4524175\tbest: 0.4363514 (106)\ttotal: 679ms\tremaining: 1.63s\n",
      "294:\tlearn: 0.2027150\ttest: 0.4529163\tbest: 0.4363514 (106)\ttotal: 681ms\tremaining: 1.63s\n",
      "295:\tlearn: 0.2022672\ttest: 0.4531908\tbest: 0.4363514 (106)\ttotal: 683ms\tremaining: 1.63s\n",
      "296:\tlearn: 0.2018583\ttest: 0.4527495\tbest: 0.4363514 (106)\ttotal: 685ms\tremaining: 1.62s\n",
      "297:\tlearn: 0.2014482\ttest: 0.4530252\tbest: 0.4363514 (106)\ttotal: 687ms\tremaining: 1.62s\n",
      "298:\tlearn: 0.2009336\ttest: 0.4527167\tbest: 0.4363514 (106)\ttotal: 689ms\tremaining: 1.61s\n",
      "299:\tlearn: 0.2007395\ttest: 0.4526327\tbest: 0.4363514 (106)\ttotal: 691ms\tremaining: 1.61s\n",
      "300:\tlearn: 0.2004726\ttest: 0.4526401\tbest: 0.4363514 (106)\ttotal: 693ms\tremaining: 1.61s\n",
      "301:\tlearn: 0.2002143\ttest: 0.4524387\tbest: 0.4363514 (106)\ttotal: 695ms\tremaining: 1.6s\n",
      "302:\tlearn: 0.1998877\ttest: 0.4525091\tbest: 0.4363514 (106)\ttotal: 696ms\tremaining: 1.6s\n",
      "303:\tlearn: 0.1989768\ttest: 0.4529110\tbest: 0.4363514 (106)\ttotal: 698ms\tremaining: 1.6s\n",
      "304:\tlearn: 0.1984417\ttest: 0.4531065\tbest: 0.4363514 (106)\ttotal: 700ms\tremaining: 1.59s\n",
      "305:\tlearn: 0.1979858\ttest: 0.4533179\tbest: 0.4363514 (106)\ttotal: 702ms\tremaining: 1.59s\n",
      "306:\tlearn: 0.1974319\ttest: 0.4536345\tbest: 0.4363514 (106)\ttotal: 704ms\tremaining: 1.59s\n",
      "307:\tlearn: 0.1968759\ttest: 0.4537869\tbest: 0.4363514 (106)\ttotal: 705ms\tremaining: 1.58s\n",
      "308:\tlearn: 0.1964082\ttest: 0.4538151\tbest: 0.4363514 (106)\ttotal: 707ms\tremaining: 1.58s\n",
      "309:\tlearn: 0.1960348\ttest: 0.4537992\tbest: 0.4363514 (106)\ttotal: 709ms\tremaining: 1.58s\n",
      "310:\tlearn: 0.1956931\ttest: 0.4537830\tbest: 0.4363514 (106)\ttotal: 711ms\tremaining: 1.57s\n",
      "311:\tlearn: 0.1952884\ttest: 0.4541266\tbest: 0.4363514 (106)\ttotal: 713ms\tremaining: 1.57s\n",
      "312:\tlearn: 0.1946761\ttest: 0.4545587\tbest: 0.4363514 (106)\ttotal: 715ms\tremaining: 1.57s\n",
      "313:\tlearn: 0.1938975\ttest: 0.4547435\tbest: 0.4363514 (106)\ttotal: 717ms\tremaining: 1.57s\n",
      "314:\tlearn: 0.1932857\ttest: 0.4548969\tbest: 0.4363514 (106)\ttotal: 720ms\tremaining: 1.56s\n",
      "315:\tlearn: 0.1929085\ttest: 0.4545399\tbest: 0.4363514 (106)\ttotal: 722ms\tremaining: 1.56s\n",
      "316:\tlearn: 0.1922084\ttest: 0.4547784\tbest: 0.4363514 (106)\ttotal: 724ms\tremaining: 1.56s\n",
      "317:\tlearn: 0.1913781\ttest: 0.4548937\tbest: 0.4363514 (106)\ttotal: 726ms\tremaining: 1.56s\n",
      "318:\tlearn: 0.1910932\ttest: 0.4550077\tbest: 0.4363514 (106)\ttotal: 728ms\tremaining: 1.55s\n",
      "319:\tlearn: 0.1906808\ttest: 0.4546565\tbest: 0.4363514 (106)\ttotal: 730ms\tremaining: 1.55s\n",
      "320:\tlearn: 0.1900221\ttest: 0.4547886\tbest: 0.4363514 (106)\ttotal: 732ms\tremaining: 1.55s\n",
      "321:\tlearn: 0.1898280\ttest: 0.4548424\tbest: 0.4363514 (106)\ttotal: 734ms\tremaining: 1.54s\n",
      "322:\tlearn: 0.1894659\ttest: 0.4552204\tbest: 0.4363514 (106)\ttotal: 736ms\tremaining: 1.54s\n",
      "323:\tlearn: 0.1890764\ttest: 0.4552436\tbest: 0.4363514 (106)\ttotal: 738ms\tremaining: 1.54s\n",
      "324:\tlearn: 0.1885075\ttest: 0.4555242\tbest: 0.4363514 (106)\ttotal: 739ms\tremaining: 1.53s\n",
      "325:\tlearn: 0.1881846\ttest: 0.4560102\tbest: 0.4363514 (106)\ttotal: 741ms\tremaining: 1.53s\n",
      "326:\tlearn: 0.1877138\ttest: 0.4559027\tbest: 0.4363514 (106)\ttotal: 743ms\tremaining: 1.53s\n",
      "327:\tlearn: 0.1873724\ttest: 0.4564073\tbest: 0.4363514 (106)\ttotal: 745ms\tremaining: 1.53s\n",
      "328:\tlearn: 0.1871662\ttest: 0.4562180\tbest: 0.4363514 (106)\ttotal: 747ms\tremaining: 1.52s\n",
      "329:\tlearn: 0.1869011\ttest: 0.4564102\tbest: 0.4363514 (106)\ttotal: 749ms\tremaining: 1.52s\n",
      "330:\tlearn: 0.1863347\ttest: 0.4562937\tbest: 0.4363514 (106)\ttotal: 751ms\tremaining: 1.52s\n",
      "331:\tlearn: 0.1857619\ttest: 0.4561621\tbest: 0.4363514 (106)\ttotal: 753ms\tremaining: 1.51s\n",
      "332:\tlearn: 0.1853662\ttest: 0.4565038\tbest: 0.4363514 (106)\ttotal: 755ms\tremaining: 1.51s\n",
      "333:\tlearn: 0.1848100\ttest: 0.4567599\tbest: 0.4363514 (106)\ttotal: 757ms\tremaining: 1.51s\n",
      "334:\tlearn: 0.1845352\ttest: 0.4569348\tbest: 0.4363514 (106)\ttotal: 759ms\tremaining: 1.51s\n",
      "335:\tlearn: 0.1842074\ttest: 0.4569902\tbest: 0.4363514 (106)\ttotal: 761ms\tremaining: 1.5s\n",
      "336:\tlearn: 0.1835041\ttest: 0.4571623\tbest: 0.4363514 (106)\ttotal: 762ms\tremaining: 1.5s\n",
      "337:\tlearn: 0.1831790\ttest: 0.4572040\tbest: 0.4363514 (106)\ttotal: 764ms\tremaining: 1.5s\n",
      "338:\tlearn: 0.1829832\ttest: 0.4571824\tbest: 0.4363514 (106)\ttotal: 766ms\tremaining: 1.49s\n",
      "339:\tlearn: 0.1825464\ttest: 0.4572382\tbest: 0.4363514 (106)\ttotal: 768ms\tremaining: 1.49s\n",
      "340:\tlearn: 0.1822212\ttest: 0.4573316\tbest: 0.4363514 (106)\ttotal: 770ms\tremaining: 1.49s\n",
      "341:\tlearn: 0.1819411\ttest: 0.4572953\tbest: 0.4363514 (106)\ttotal: 772ms\tremaining: 1.48s\n",
      "342:\tlearn: 0.1815317\ttest: 0.4571005\tbest: 0.4363514 (106)\ttotal: 773ms\tremaining: 1.48s\n",
      "343:\tlearn: 0.1812472\ttest: 0.4567870\tbest: 0.4363514 (106)\ttotal: 775ms\tremaining: 1.48s\n",
      "344:\tlearn: 0.1808545\ttest: 0.4563876\tbest: 0.4363514 (106)\ttotal: 778ms\tremaining: 1.48s\n",
      "345:\tlearn: 0.1804272\ttest: 0.4574026\tbest: 0.4363514 (106)\ttotal: 780ms\tremaining: 1.48s\n",
      "346:\tlearn: 0.1799697\ttest: 0.4572284\tbest: 0.4363514 (106)\ttotal: 783ms\tremaining: 1.47s\n",
      "347:\tlearn: 0.1798476\ttest: 0.4571242\tbest: 0.4363514 (106)\ttotal: 786ms\tremaining: 1.47s\n",
      "348:\tlearn: 0.1795695\ttest: 0.4576688\tbest: 0.4363514 (106)\ttotal: 789ms\tremaining: 1.47s\n",
      "349:\tlearn: 0.1791541\ttest: 0.4572881\tbest: 0.4363514 (106)\ttotal: 791ms\tremaining: 1.47s\n",
      "350:\tlearn: 0.1787282\ttest: 0.4571021\tbest: 0.4363514 (106)\ttotal: 793ms\tremaining: 1.47s\n",
      "351:\tlearn: 0.1784349\ttest: 0.4569056\tbest: 0.4363514 (106)\ttotal: 796ms\tremaining: 1.46s\n",
      "352:\tlearn: 0.1782635\ttest: 0.4569388\tbest: 0.4363514 (106)\ttotal: 798ms\tremaining: 1.46s\n",
      "353:\tlearn: 0.1778359\ttest: 0.4566393\tbest: 0.4363514 (106)\ttotal: 801ms\tremaining: 1.46s\n",
      "354:\tlearn: 0.1773663\ttest: 0.4569385\tbest: 0.4363514 (106)\ttotal: 807ms\tremaining: 1.47s\n",
      "355:\tlearn: 0.1768654\ttest: 0.4570843\tbest: 0.4363514 (106)\ttotal: 810ms\tremaining: 1.47s\n",
      "356:\tlearn: 0.1762501\ttest: 0.4565556\tbest: 0.4363514 (106)\ttotal: 814ms\tremaining: 1.47s\n",
      "357:\tlearn: 0.1759877\ttest: 0.4566246\tbest: 0.4363514 (106)\ttotal: 816ms\tremaining: 1.46s\n",
      "358:\tlearn: 0.1755129\ttest: 0.4566642\tbest: 0.4363514 (106)\ttotal: 819ms\tremaining: 1.46s\n",
      "359:\tlearn: 0.1748637\ttest: 0.4566695\tbest: 0.4363514 (106)\ttotal: 821ms\tremaining: 1.46s\n",
      "360:\tlearn: 0.1747134\ttest: 0.4566472\tbest: 0.4363514 (106)\ttotal: 824ms\tremaining: 1.46s\n",
      "361:\tlearn: 0.1743447\ttest: 0.4567715\tbest: 0.4363514 (106)\ttotal: 827ms\tremaining: 1.46s\n",
      "362:\tlearn: 0.1742358\ttest: 0.4567108\tbest: 0.4363514 (106)\ttotal: 829ms\tremaining: 1.45s\n",
      "363:\tlearn: 0.1738876\ttest: 0.4564566\tbest: 0.4363514 (106)\ttotal: 831ms\tremaining: 1.45s\n",
      "364:\tlearn: 0.1738402\ttest: 0.4563724\tbest: 0.4363514 (106)\ttotal: 834ms\tremaining: 1.45s\n",
      "365:\tlearn: 0.1736590\ttest: 0.4563822\tbest: 0.4363514 (106)\ttotal: 836ms\tremaining: 1.45s\n",
      "366:\tlearn: 0.1730114\ttest: 0.4565933\tbest: 0.4363514 (106)\ttotal: 839ms\tremaining: 1.45s\n",
      "367:\tlearn: 0.1727332\ttest: 0.4565773\tbest: 0.4363514 (106)\ttotal: 841ms\tremaining: 1.44s\n",
      "368:\tlearn: 0.1724031\ttest: 0.4567320\tbest: 0.4363514 (106)\ttotal: 843ms\tremaining: 1.44s\n",
      "369:\tlearn: 0.1721747\ttest: 0.4568783\tbest: 0.4363514 (106)\ttotal: 846ms\tremaining: 1.44s\n",
      "370:\tlearn: 0.1719239\ttest: 0.4571615\tbest: 0.4363514 (106)\ttotal: 848ms\tremaining: 1.44s\n",
      "371:\tlearn: 0.1718252\ttest: 0.4572387\tbest: 0.4363514 (106)\ttotal: 852ms\tremaining: 1.44s\n",
      "372:\tlearn: 0.1712856\ttest: 0.4572418\tbest: 0.4363514 (106)\ttotal: 855ms\tremaining: 1.44s\n",
      "373:\tlearn: 0.1708401\ttest: 0.4572797\tbest: 0.4363514 (106)\ttotal: 857ms\tremaining: 1.43s\n",
      "374:\tlearn: 0.1703825\ttest: 0.4575675\tbest: 0.4363514 (106)\ttotal: 861ms\tremaining: 1.43s\n",
      "375:\tlearn: 0.1701213\ttest: 0.4576802\tbest: 0.4363514 (106)\ttotal: 863ms\tremaining: 1.43s\n",
      "376:\tlearn: 0.1694429\ttest: 0.4584179\tbest: 0.4363514 (106)\ttotal: 865ms\tremaining: 1.43s\n",
      "377:\tlearn: 0.1690213\ttest: 0.4587199\tbest: 0.4363514 (106)\ttotal: 868ms\tremaining: 1.43s\n",
      "378:\tlearn: 0.1687235\ttest: 0.4587732\tbest: 0.4363514 (106)\ttotal: 871ms\tremaining: 1.43s\n",
      "379:\tlearn: 0.1681972\ttest: 0.4587852\tbest: 0.4363514 (106)\ttotal: 874ms\tremaining: 1.43s\n",
      "380:\tlearn: 0.1681273\ttest: 0.4588821\tbest: 0.4363514 (106)\ttotal: 880ms\tremaining: 1.43s\n",
      "381:\tlearn: 0.1674794\ttest: 0.4589238\tbest: 0.4363514 (106)\ttotal: 884ms\tremaining: 1.43s\n",
      "382:\tlearn: 0.1666200\ttest: 0.4598685\tbest: 0.4363514 (106)\ttotal: 887ms\tremaining: 1.43s\n",
      "383:\tlearn: 0.1662965\ttest: 0.4601716\tbest: 0.4363514 (106)\ttotal: 890ms\tremaining: 1.43s\n",
      "384:\tlearn: 0.1662505\ttest: 0.4601467\tbest: 0.4363514 (106)\ttotal: 894ms\tremaining: 1.43s\n",
      "385:\tlearn: 0.1658747\ttest: 0.4604228\tbest: 0.4363514 (106)\ttotal: 899ms\tremaining: 1.43s\n",
      "386:\tlearn: 0.1655840\ttest: 0.4604077\tbest: 0.4363514 (106)\ttotal: 903ms\tremaining: 1.43s\n",
      "387:\tlearn: 0.1649770\ttest: 0.4605331\tbest: 0.4363514 (106)\ttotal: 906ms\tremaining: 1.43s\n",
      "388:\tlearn: 0.1644138\ttest: 0.4607804\tbest: 0.4363514 (106)\ttotal: 909ms\tremaining: 1.43s\n",
      "389:\tlearn: 0.1641043\ttest: 0.4604747\tbest: 0.4363514 (106)\ttotal: 914ms\tremaining: 1.43s\n"
     ]
    },
    {
     "name": "stdout",
     "output_type": "stream",
     "text": [
      "390:\tlearn: 0.1636206\ttest: 0.4614715\tbest: 0.4363514 (106)\ttotal: 963ms\tremaining: 1.5s\n",
      "391:\tlearn: 0.1633039\ttest: 0.4617718\tbest: 0.4363514 (106)\ttotal: 967ms\tremaining: 1.5s\n",
      "392:\tlearn: 0.1629987\ttest: 0.4617409\tbest: 0.4363514 (106)\ttotal: 970ms\tremaining: 1.5s\n",
      "393:\tlearn: 0.1624075\ttest: 0.4620555\tbest: 0.4363514 (106)\ttotal: 974ms\tremaining: 1.5s\n",
      "394:\tlearn: 0.1620491\ttest: 0.4623468\tbest: 0.4363514 (106)\ttotal: 978ms\tremaining: 1.5s\n",
      "395:\tlearn: 0.1614032\ttest: 0.4622057\tbest: 0.4363514 (106)\ttotal: 981ms\tremaining: 1.5s\n",
      "396:\tlearn: 0.1610475\ttest: 0.4620711\tbest: 0.4363514 (106)\ttotal: 985ms\tremaining: 1.5s\n",
      "397:\tlearn: 0.1605771\ttest: 0.4622542\tbest: 0.4363514 (106)\ttotal: 988ms\tremaining: 1.49s\n",
      "398:\tlearn: 0.1599493\ttest: 0.4623632\tbest: 0.4363514 (106)\ttotal: 991ms\tremaining: 1.49s\n",
      "399:\tlearn: 0.1597440\ttest: 0.4624046\tbest: 0.4363514 (106)\ttotal: 1.03s\tremaining: 1.54s\n",
      "400:\tlearn: 0.1595086\ttest: 0.4621479\tbest: 0.4363514 (106)\ttotal: 1.04s\tremaining: 1.56s\n",
      "401:\tlearn: 0.1594679\ttest: 0.4620524\tbest: 0.4363514 (106)\ttotal: 1.04s\tremaining: 1.55s\n",
      "402:\tlearn: 0.1591308\ttest: 0.4618513\tbest: 0.4363514 (106)\ttotal: 1.09s\tremaining: 1.61s\n",
      "403:\tlearn: 0.1589382\ttest: 0.4619023\tbest: 0.4363514 (106)\ttotal: 1.09s\tremaining: 1.61s\n",
      "404:\tlearn: 0.1583973\ttest: 0.4624409\tbest: 0.4363514 (106)\ttotal: 1.09s\tremaining: 1.61s\n",
      "405:\tlearn: 0.1581841\ttest: 0.4625539\tbest: 0.4363514 (106)\ttotal: 1.1s\tremaining: 1.61s\n",
      "406:\tlearn: 0.1576392\ttest: 0.4629277\tbest: 0.4363514 (106)\ttotal: 1.1s\tremaining: 1.6s\n",
      "407:\tlearn: 0.1574689\ttest: 0.4628296\tbest: 0.4363514 (106)\ttotal: 1.1s\tremaining: 1.6s\n",
      "408:\tlearn: 0.1566091\ttest: 0.4629760\tbest: 0.4363514 (106)\ttotal: 1.11s\tremaining: 1.6s\n",
      "409:\tlearn: 0.1561865\ttest: 0.4628688\tbest: 0.4363514 (106)\ttotal: 1.11s\tremaining: 1.6s\n",
      "410:\tlearn: 0.1560228\ttest: 0.4627288\tbest: 0.4363514 (106)\ttotal: 1.11s\tremaining: 1.59s\n",
      "411:\tlearn: 0.1554936\ttest: 0.4630246\tbest: 0.4363514 (106)\ttotal: 1.11s\tremaining: 1.59s\n",
      "412:\tlearn: 0.1551538\ttest: 0.4630808\tbest: 0.4363514 (106)\ttotal: 1.12s\tremaining: 1.59s\n",
      "413:\tlearn: 0.1548934\ttest: 0.4634478\tbest: 0.4363514 (106)\ttotal: 1.12s\tremaining: 1.59s\n",
      "414:\tlearn: 0.1547562\ttest: 0.4634940\tbest: 0.4363514 (106)\ttotal: 1.12s\tremaining: 1.58s\n",
      "415:\tlearn: 0.1545747\ttest: 0.4635026\tbest: 0.4363514 (106)\ttotal: 1.13s\tremaining: 1.58s\n",
      "416:\tlearn: 0.1541967\ttest: 0.4635480\tbest: 0.4363514 (106)\ttotal: 1.13s\tremaining: 1.58s\n",
      "417:\tlearn: 0.1538106\ttest: 0.4641148\tbest: 0.4363514 (106)\ttotal: 1.13s\tremaining: 1.58s\n",
      "418:\tlearn: 0.1536604\ttest: 0.4639799\tbest: 0.4363514 (106)\ttotal: 1.14s\tremaining: 1.58s\n",
      "419:\tlearn: 0.1535917\ttest: 0.4640401\tbest: 0.4363514 (106)\ttotal: 1.14s\tremaining: 1.57s\n",
      "420:\tlearn: 0.1532873\ttest: 0.4640154\tbest: 0.4363514 (106)\ttotal: 1.14s\tremaining: 1.57s\n",
      "421:\tlearn: 0.1530599\ttest: 0.4641537\tbest: 0.4363514 (106)\ttotal: 1.15s\tremaining: 1.57s\n",
      "422:\tlearn: 0.1524803\ttest: 0.4645404\tbest: 0.4363514 (106)\ttotal: 1.15s\tremaining: 1.57s\n",
      "423:\tlearn: 0.1518095\ttest: 0.4645484\tbest: 0.4363514 (106)\ttotal: 1.15s\tremaining: 1.57s\n",
      "424:\tlearn: 0.1512841\ttest: 0.4644950\tbest: 0.4363514 (106)\ttotal: 1.16s\tremaining: 1.57s\n",
      "425:\tlearn: 0.1505891\ttest: 0.4652378\tbest: 0.4363514 (106)\ttotal: 1.16s\tremaining: 1.56s\n",
      "426:\tlearn: 0.1505115\ttest: 0.4651582\tbest: 0.4363514 (106)\ttotal: 1.16s\tremaining: 1.56s\n",
      "427:\tlearn: 0.1501158\ttest: 0.4651791\tbest: 0.4363514 (106)\ttotal: 1.17s\tremaining: 1.56s\n",
      "428:\tlearn: 0.1496181\ttest: 0.4654131\tbest: 0.4363514 (106)\ttotal: 1.17s\tremaining: 1.56s\n",
      "429:\tlearn: 0.1491901\ttest: 0.4654630\tbest: 0.4363514 (106)\ttotal: 1.18s\tremaining: 1.56s\n",
      "430:\tlearn: 0.1488830\ttest: 0.4655023\tbest: 0.4363514 (106)\ttotal: 1.18s\tremaining: 1.56s\n",
      "431:\tlearn: 0.1485710\ttest: 0.4653184\tbest: 0.4363514 (106)\ttotal: 1.18s\tremaining: 1.55s\n",
      "432:\tlearn: 0.1483135\ttest: 0.4652299\tbest: 0.4363514 (106)\ttotal: 1.19s\tremaining: 1.55s\n",
      "433:\tlearn: 0.1481033\ttest: 0.4652970\tbest: 0.4363514 (106)\ttotal: 1.19s\tremaining: 1.55s\n",
      "434:\tlearn: 0.1479195\ttest: 0.4653677\tbest: 0.4363514 (106)\ttotal: 1.19s\tremaining: 1.55s\n",
      "435:\tlearn: 0.1478434\ttest: 0.4654667\tbest: 0.4363514 (106)\ttotal: 1.2s\tremaining: 1.55s\n",
      "436:\tlearn: 0.1476695\ttest: 0.4657910\tbest: 0.4363514 (106)\ttotal: 1.2s\tremaining: 1.54s\n",
      "437:\tlearn: 0.1471333\ttest: 0.4660280\tbest: 0.4363514 (106)\ttotal: 1.2s\tremaining: 1.54s\n",
      "438:\tlearn: 0.1468630\ttest: 0.4663118\tbest: 0.4363514 (106)\ttotal: 1.2s\tremaining: 1.54s\n",
      "439:\tlearn: 0.1466947\ttest: 0.4663209\tbest: 0.4363514 (106)\ttotal: 1.21s\tremaining: 1.54s\n",
      "440:\tlearn: 0.1464178\ttest: 0.4663040\tbest: 0.4363514 (106)\ttotal: 1.21s\tremaining: 1.53s\n",
      "441:\tlearn: 0.1459807\ttest: 0.4664726\tbest: 0.4363514 (106)\ttotal: 1.21s\tremaining: 1.53s\n",
      "442:\tlearn: 0.1457255\ttest: 0.4667349\tbest: 0.4363514 (106)\ttotal: 1.22s\tremaining: 1.53s\n",
      "443:\tlearn: 0.1456608\ttest: 0.4667258\tbest: 0.4363514 (106)\ttotal: 1.22s\tremaining: 1.52s\n",
      "444:\tlearn: 0.1455157\ttest: 0.4667390\tbest: 0.4363514 (106)\ttotal: 1.22s\tremaining: 1.52s\n",
      "445:\tlearn: 0.1448987\ttest: 0.4673478\tbest: 0.4363514 (106)\ttotal: 1.22s\tremaining: 1.52s\n",
      "446:\tlearn: 0.1442860\ttest: 0.4678410\tbest: 0.4363514 (106)\ttotal: 1.23s\tremaining: 1.52s\n",
      "447:\tlearn: 0.1440546\ttest: 0.4679966\tbest: 0.4363514 (106)\ttotal: 1.23s\tremaining: 1.51s\n",
      "448:\tlearn: 0.1437796\ttest: 0.4682065\tbest: 0.4363514 (106)\ttotal: 1.23s\tremaining: 1.51s\n",
      "449:\tlearn: 0.1436467\ttest: 0.4682671\tbest: 0.4363514 (106)\ttotal: 1.24s\tremaining: 1.51s\n",
      "450:\tlearn: 0.1432809\ttest: 0.4685085\tbest: 0.4363514 (106)\ttotal: 1.24s\tremaining: 1.51s\n",
      "451:\tlearn: 0.1431165\ttest: 0.4686760\tbest: 0.4363514 (106)\ttotal: 1.24s\tremaining: 1.51s\n",
      "452:\tlearn: 0.1426464\ttest: 0.4681830\tbest: 0.4363514 (106)\ttotal: 1.25s\tremaining: 1.5s\n",
      "453:\tlearn: 0.1425805\ttest: 0.4681886\tbest: 0.4363514 (106)\ttotal: 1.25s\tremaining: 1.5s\n",
      "454:\tlearn: 0.1421140\ttest: 0.4683296\tbest: 0.4363514 (106)\ttotal: 1.25s\tremaining: 1.5s\n",
      "455:\tlearn: 0.1416529\ttest: 0.4688066\tbest: 0.4363514 (106)\ttotal: 1.25s\tremaining: 1.5s\n",
      "456:\tlearn: 0.1414946\ttest: 0.4688123\tbest: 0.4363514 (106)\ttotal: 1.26s\tremaining: 1.5s\n",
      "457:\tlearn: 0.1411958\ttest: 0.4684615\tbest: 0.4363514 (106)\ttotal: 1.26s\tremaining: 1.49s\n",
      "458:\tlearn: 0.1409308\ttest: 0.4683819\tbest: 0.4363514 (106)\ttotal: 1.26s\tremaining: 1.49s\n",
      "459:\tlearn: 0.1408665\ttest: 0.4683816\tbest: 0.4363514 (106)\ttotal: 1.27s\tremaining: 1.49s\n",
      "460:\tlearn: 0.1404815\ttest: 0.4685112\tbest: 0.4363514 (106)\ttotal: 1.27s\tremaining: 1.49s\n",
      "461:\tlearn: 0.1397565\ttest: 0.4683244\tbest: 0.4363514 (106)\ttotal: 1.27s\tremaining: 1.48s\n",
      "462:\tlearn: 0.1395402\ttest: 0.4685363\tbest: 0.4363514 (106)\ttotal: 1.28s\tremaining: 1.48s\n",
      "463:\tlearn: 0.1393262\ttest: 0.4684078\tbest: 0.4363514 (106)\ttotal: 1.28s\tremaining: 1.48s\n",
      "464:\tlearn: 0.1390497\ttest: 0.4686941\tbest: 0.4363514 (106)\ttotal: 1.28s\tremaining: 1.48s\n",
      "465:\tlearn: 0.1389200\ttest: 0.4685676\tbest: 0.4363514 (106)\ttotal: 1.29s\tremaining: 1.47s\n",
      "466:\tlearn: 0.1387923\ttest: 0.4685668\tbest: 0.4363514 (106)\ttotal: 1.29s\tremaining: 1.47s\n",
      "467:\tlearn: 0.1383091\ttest: 0.4687429\tbest: 0.4363514 (106)\ttotal: 1.29s\tremaining: 1.47s\n",
      "468:\tlearn: 0.1378102\ttest: 0.4693534\tbest: 0.4363514 (106)\ttotal: 1.3s\tremaining: 1.47s\n",
      "469:\tlearn: 0.1372657\ttest: 0.4694402\tbest: 0.4363514 (106)\ttotal: 1.3s\tremaining: 1.47s\n",
      "470:\tlearn: 0.1372196\ttest: 0.4695888\tbest: 0.4363514 (106)\ttotal: 1.3s\tremaining: 1.47s\n",
      "471:\tlearn: 0.1370964\ttest: 0.4694702\tbest: 0.4363514 (106)\ttotal: 1.31s\tremaining: 1.46s\n",
      "472:\tlearn: 0.1367764\ttest: 0.4697554\tbest: 0.4363514 (106)\ttotal: 1.31s\tremaining: 1.46s\n",
      "473:\tlearn: 0.1364948\ttest: 0.4701211\tbest: 0.4363514 (106)\ttotal: 1.31s\tremaining: 1.46s\n",
      "474:\tlearn: 0.1363473\ttest: 0.4699221\tbest: 0.4363514 (106)\ttotal: 1.31s\tremaining: 1.45s\n",
      "475:\tlearn: 0.1358998\ttest: 0.4704481\tbest: 0.4363514 (106)\ttotal: 1.32s\tremaining: 1.45s\n",
      "476:\tlearn: 0.1356220\ttest: 0.4705053\tbest: 0.4363514 (106)\ttotal: 1.32s\tremaining: 1.45s\n",
      "477:\tlearn: 0.1354391\ttest: 0.4705845\tbest: 0.4363514 (106)\ttotal: 1.32s\tremaining: 1.45s\n",
      "478:\tlearn: 0.1347297\ttest: 0.4703481\tbest: 0.4363514 (106)\ttotal: 1.33s\tremaining: 1.44s\n",
      "479:\tlearn: 0.1345550\ttest: 0.4704303\tbest: 0.4363514 (106)\ttotal: 1.33s\tremaining: 1.44s\n",
      "480:\tlearn: 0.1344207\ttest: 0.4704956\tbest: 0.4363514 (106)\ttotal: 1.33s\tremaining: 1.44s\n",
      "481:\tlearn: 0.1340526\ttest: 0.4710437\tbest: 0.4363514 (106)\ttotal: 1.34s\tremaining: 1.44s\n",
      "482:\tlearn: 0.1337196\ttest: 0.4712464\tbest: 0.4363514 (106)\ttotal: 1.34s\tremaining: 1.43s\n",
      "483:\tlearn: 0.1333248\ttest: 0.4712459\tbest: 0.4363514 (106)\ttotal: 1.34s\tremaining: 1.43s\n",
      "484:\tlearn: 0.1326844\ttest: 0.4710976\tbest: 0.4363514 (106)\ttotal: 1.34s\tremaining: 1.43s\n",
      "485:\tlearn: 0.1324710\ttest: 0.4714876\tbest: 0.4363514 (106)\ttotal: 1.35s\tremaining: 1.43s\n",
      "486:\tlearn: 0.1321551\ttest: 0.4720117\tbest: 0.4363514 (106)\ttotal: 1.35s\tremaining: 1.42s\n",
      "487:\tlearn: 0.1317449\ttest: 0.4721418\tbest: 0.4363514 (106)\ttotal: 1.35s\tremaining: 1.42s\n",
      "488:\tlearn: 0.1313004\ttest: 0.4719657\tbest: 0.4363514 (106)\ttotal: 1.35s\tremaining: 1.42s\n",
      "489:\tlearn: 0.1310746\ttest: 0.4719744\tbest: 0.4363514 (106)\ttotal: 1.36s\tremaining: 1.41s\n",
      "490:\tlearn: 0.1310376\ttest: 0.4719506\tbest: 0.4363514 (106)\ttotal: 1.36s\tremaining: 1.41s\n",
      "491:\tlearn: 0.1305664\ttest: 0.4727518\tbest: 0.4363514 (106)\ttotal: 1.36s\tremaining: 1.41s\n",
      "492:\tlearn: 0.1304519\ttest: 0.4726370\tbest: 0.4363514 (106)\ttotal: 1.36s\tremaining: 1.4s\n",
      "493:\tlearn: 0.1301978\ttest: 0.4723245\tbest: 0.4363514 (106)\ttotal: 1.37s\tremaining: 1.4s\n",
      "494:\tlearn: 0.1301150\ttest: 0.4722668\tbest: 0.4363514 (106)\ttotal: 1.37s\tremaining: 1.4s\n",
      "495:\tlearn: 0.1294323\ttest: 0.4724678\tbest: 0.4363514 (106)\ttotal: 1.37s\tremaining: 1.39s\n",
      "496:\tlearn: 0.1294087\ttest: 0.4725012\tbest: 0.4363514 (106)\ttotal: 1.37s\tremaining: 1.39s\n",
      "497:\tlearn: 0.1289924\ttest: 0.4726568\tbest: 0.4363514 (106)\ttotal: 1.38s\tremaining: 1.39s\n",
      "498:\tlearn: 0.1289280\ttest: 0.4726801\tbest: 0.4363514 (106)\ttotal: 1.38s\tremaining: 1.38s\n",
      "499:\tlearn: 0.1284869\ttest: 0.4731051\tbest: 0.4363514 (106)\ttotal: 1.38s\tremaining: 1.38s\n",
      "500:\tlearn: 0.1282655\ttest: 0.4731172\tbest: 0.4363514 (106)\ttotal: 1.38s\tremaining: 1.38s\n",
      "501:\tlearn: 0.1280477\ttest: 0.4731103\tbest: 0.4363514 (106)\ttotal: 1.38s\tremaining: 1.37s\n",
      "502:\tlearn: 0.1279564\ttest: 0.4731415\tbest: 0.4363514 (106)\ttotal: 1.39s\tremaining: 1.37s\n",
      "503:\tlearn: 0.1276357\ttest: 0.4734396\tbest: 0.4363514 (106)\ttotal: 1.39s\tremaining: 1.37s\n",
      "504:\tlearn: 0.1270882\ttest: 0.4740222\tbest: 0.4363514 (106)\ttotal: 1.39s\tremaining: 1.36s\n",
      "505:\tlearn: 0.1269470\ttest: 0.4738678\tbest: 0.4363514 (106)\ttotal: 1.39s\tremaining: 1.36s\n",
      "506:\tlearn: 0.1266187\ttest: 0.4737903\tbest: 0.4363514 (106)\ttotal: 1.4s\tremaining: 1.36s\n",
      "507:\tlearn: 0.1265915\ttest: 0.4737879\tbest: 0.4363514 (106)\ttotal: 1.4s\tremaining: 1.35s\n",
      "508:\tlearn: 0.1265270\ttest: 0.4737677\tbest: 0.4363514 (106)\ttotal: 1.4s\tremaining: 1.35s\n",
      "509:\tlearn: 0.1263767\ttest: 0.4737697\tbest: 0.4363514 (106)\ttotal: 1.4s\tremaining: 1.35s\n",
      "510:\tlearn: 0.1259653\ttest: 0.4739347\tbest: 0.4363514 (106)\ttotal: 1.4s\tremaining: 1.34s\n",
      "511:\tlearn: 0.1255992\ttest: 0.4743496\tbest: 0.4363514 (106)\ttotal: 1.41s\tremaining: 1.34s\n",
      "512:\tlearn: 0.1252531\ttest: 0.4744295\tbest: 0.4363514 (106)\ttotal: 1.41s\tremaining: 1.34s\n",
      "513:\tlearn: 0.1251327\ttest: 0.4742499\tbest: 0.4363514 (106)\ttotal: 1.41s\tremaining: 1.33s\n",
      "514:\tlearn: 0.1250998\ttest: 0.4741669\tbest: 0.4363514 (106)\ttotal: 1.41s\tremaining: 1.33s\n",
      "515:\tlearn: 0.1247018\ttest: 0.4741778\tbest: 0.4363514 (106)\ttotal: 1.41s\tremaining: 1.32s\n",
      "516:\tlearn: 0.1243199\ttest: 0.4746727\tbest: 0.4363514 (106)\ttotal: 1.41s\tremaining: 1.32s\n",
      "517:\tlearn: 0.1241830\ttest: 0.4746900\tbest: 0.4363514 (106)\ttotal: 1.42s\tremaining: 1.32s\n",
      "518:\tlearn: 0.1240792\ttest: 0.4746809\tbest: 0.4363514 (106)\ttotal: 1.42s\tremaining: 1.31s\n",
      "519:\tlearn: 0.1236679\ttest: 0.4751233\tbest: 0.4363514 (106)\ttotal: 1.42s\tremaining: 1.31s\n",
      "520:\tlearn: 0.1231663\ttest: 0.4754530\tbest: 0.4363514 (106)\ttotal: 1.42s\tremaining: 1.31s\n",
      "521:\tlearn: 0.1225717\ttest: 0.4763292\tbest: 0.4363514 (106)\ttotal: 1.42s\tremaining: 1.3s\n",
      "522:\tlearn: 0.1221313\ttest: 0.4765945\tbest: 0.4363514 (106)\ttotal: 1.43s\tremaining: 1.3s\n",
      "523:\tlearn: 0.1218334\ttest: 0.4766100\tbest: 0.4363514 (106)\ttotal: 1.43s\tremaining: 1.3s\n",
      "524:\tlearn: 0.1214952\ttest: 0.4767553\tbest: 0.4363514 (106)\ttotal: 1.43s\tremaining: 1.29s\n",
      "525:\tlearn: 0.1214538\ttest: 0.4766587\tbest: 0.4363514 (106)\ttotal: 1.43s\tremaining: 1.29s\n",
      "526:\tlearn: 0.1212525\ttest: 0.4766589\tbest: 0.4363514 (106)\ttotal: 1.43s\tremaining: 1.29s\n",
      "527:\tlearn: 0.1211042\ttest: 0.4764556\tbest: 0.4363514 (106)\ttotal: 1.44s\tremaining: 1.28s\n",
      "528:\tlearn: 0.1206968\ttest: 0.4769061\tbest: 0.4363514 (106)\ttotal: 1.44s\tremaining: 1.28s\n",
      "529:\tlearn: 0.1205427\ttest: 0.4769854\tbest: 0.4363514 (106)\ttotal: 1.44s\tremaining: 1.28s\n",
      "530:\tlearn: 0.1199855\ttest: 0.4768750\tbest: 0.4363514 (106)\ttotal: 1.44s\tremaining: 1.27s\n",
      "531:\tlearn: 0.1196085\ttest: 0.4772521\tbest: 0.4363514 (106)\ttotal: 1.44s\tremaining: 1.27s\n"
     ]
    },
    {
     "name": "stdout",
     "output_type": "stream",
     "text": [
      "532:\tlearn: 0.1193148\ttest: 0.4775772\tbest: 0.4363514 (106)\ttotal: 1.45s\tremaining: 1.27s\n",
      "533:\tlearn: 0.1190077\ttest: 0.4773239\tbest: 0.4363514 (106)\ttotal: 1.45s\tremaining: 1.26s\n",
      "534:\tlearn: 0.1185581\ttest: 0.4774398\tbest: 0.4363514 (106)\ttotal: 1.45s\tremaining: 1.26s\n",
      "535:\tlearn: 0.1182781\ttest: 0.4776396\tbest: 0.4363514 (106)\ttotal: 1.45s\tremaining: 1.26s\n",
      "536:\tlearn: 0.1180720\ttest: 0.4778754\tbest: 0.4363514 (106)\ttotal: 1.46s\tremaining: 1.26s\n",
      "537:\tlearn: 0.1179670\ttest: 0.4778981\tbest: 0.4363514 (106)\ttotal: 1.46s\tremaining: 1.25s\n",
      "538:\tlearn: 0.1176412\ttest: 0.4779444\tbest: 0.4363514 (106)\ttotal: 1.46s\tremaining: 1.25s\n",
      "539:\tlearn: 0.1171834\ttest: 0.4779166\tbest: 0.4363514 (106)\ttotal: 1.47s\tremaining: 1.25s\n",
      "540:\tlearn: 0.1171234\ttest: 0.4779133\tbest: 0.4363514 (106)\ttotal: 1.47s\tremaining: 1.25s\n",
      "541:\tlearn: 0.1166539\ttest: 0.4782773\tbest: 0.4363514 (106)\ttotal: 1.47s\tremaining: 1.24s\n",
      "542:\tlearn: 0.1166423\ttest: 0.4782657\tbest: 0.4363514 (106)\ttotal: 1.47s\tremaining: 1.24s\n",
      "543:\tlearn: 0.1161873\ttest: 0.4788450\tbest: 0.4363514 (106)\ttotal: 1.47s\tremaining: 1.24s\n",
      "544:\tlearn: 0.1160596\ttest: 0.4788507\tbest: 0.4363514 (106)\ttotal: 1.48s\tremaining: 1.23s\n",
      "545:\tlearn: 0.1159152\ttest: 0.4789287\tbest: 0.4363514 (106)\ttotal: 1.48s\tremaining: 1.23s\n",
      "546:\tlearn: 0.1157967\ttest: 0.4789470\tbest: 0.4363514 (106)\ttotal: 1.48s\tremaining: 1.23s\n",
      "547:\tlearn: 0.1157040\ttest: 0.4787186\tbest: 0.4363514 (106)\ttotal: 1.49s\tremaining: 1.23s\n",
      "548:\tlearn: 0.1153553\ttest: 0.4790723\tbest: 0.4363514 (106)\ttotal: 1.49s\tremaining: 1.22s\n",
      "549:\tlearn: 0.1150621\ttest: 0.4790203\tbest: 0.4363514 (106)\ttotal: 1.49s\tremaining: 1.22s\n",
      "550:\tlearn: 0.1149821\ttest: 0.4790350\tbest: 0.4363514 (106)\ttotal: 1.49s\tremaining: 1.22s\n",
      "551:\tlearn: 0.1144856\ttest: 0.4788763\tbest: 0.4363514 (106)\ttotal: 1.5s\tremaining: 1.21s\n",
      "552:\tlearn: 0.1142599\ttest: 0.4790895\tbest: 0.4363514 (106)\ttotal: 1.5s\tremaining: 1.21s\n",
      "553:\tlearn: 0.1141728\ttest: 0.4789915\tbest: 0.4363514 (106)\ttotal: 1.5s\tremaining: 1.21s\n",
      "554:\tlearn: 0.1138440\ttest: 0.4792641\tbest: 0.4363514 (106)\ttotal: 1.5s\tremaining: 1.2s\n",
      "555:\tlearn: 0.1134238\ttest: 0.4794759\tbest: 0.4363514 (106)\ttotal: 1.5s\tremaining: 1.2s\n",
      "556:\tlearn: 0.1132420\ttest: 0.4795455\tbest: 0.4363514 (106)\ttotal: 1.51s\tremaining: 1.2s\n",
      "557:\tlearn: 0.1126302\ttest: 0.4800491\tbest: 0.4363514 (106)\ttotal: 1.51s\tremaining: 1.2s\n",
      "558:\tlearn: 0.1122492\ttest: 0.4801039\tbest: 0.4363514 (106)\ttotal: 1.51s\tremaining: 1.19s\n",
      "559:\tlearn: 0.1121487\ttest: 0.4802361\tbest: 0.4363514 (106)\ttotal: 1.51s\tremaining: 1.19s\n",
      "560:\tlearn: 0.1121361\ttest: 0.4802305\tbest: 0.4363514 (106)\ttotal: 1.52s\tremaining: 1.19s\n",
      "561:\tlearn: 0.1120745\ttest: 0.4802746\tbest: 0.4363514 (106)\ttotal: 1.52s\tremaining: 1.18s\n",
      "562:\tlearn: 0.1120651\ttest: 0.4803094\tbest: 0.4363514 (106)\ttotal: 1.52s\tremaining: 1.18s\n",
      "563:\tlearn: 0.1119795\ttest: 0.4803106\tbest: 0.4363514 (106)\ttotal: 1.52s\tremaining: 1.18s\n",
      "564:\tlearn: 0.1116436\ttest: 0.4806144\tbest: 0.4363514 (106)\ttotal: 1.52s\tremaining: 1.17s\n",
      "565:\tlearn: 0.1113987\ttest: 0.4808532\tbest: 0.4363514 (106)\ttotal: 1.53s\tremaining: 1.17s\n",
      "566:\tlearn: 0.1113146\ttest: 0.4806399\tbest: 0.4363514 (106)\ttotal: 1.53s\tremaining: 1.17s\n",
      "567:\tlearn: 0.1111098\ttest: 0.4808534\tbest: 0.4363514 (106)\ttotal: 1.53s\tremaining: 1.17s\n",
      "568:\tlearn: 0.1106350\ttest: 0.4808094\tbest: 0.4363514 (106)\ttotal: 1.53s\tremaining: 1.16s\n",
      "569:\tlearn: 0.1103109\ttest: 0.4809739\tbest: 0.4363514 (106)\ttotal: 1.53s\tremaining: 1.16s\n",
      "570:\tlearn: 0.1098947\ttest: 0.4815457\tbest: 0.4363514 (106)\ttotal: 1.54s\tremaining: 1.16s\n",
      "571:\tlearn: 0.1097058\ttest: 0.4818064\tbest: 0.4363514 (106)\ttotal: 1.54s\tremaining: 1.15s\n",
      "572:\tlearn: 0.1094268\ttest: 0.4821903\tbest: 0.4363514 (106)\ttotal: 1.54s\tremaining: 1.15s\n",
      "573:\tlearn: 0.1091028\ttest: 0.4826153\tbest: 0.4363514 (106)\ttotal: 1.54s\tremaining: 1.15s\n",
      "574:\tlearn: 0.1087790\ttest: 0.4829793\tbest: 0.4363514 (106)\ttotal: 1.55s\tremaining: 1.14s\n",
      "575:\tlearn: 0.1087226\ttest: 0.4830550\tbest: 0.4363514 (106)\ttotal: 1.55s\tremaining: 1.14s\n",
      "576:\tlearn: 0.1086981\ttest: 0.4830620\tbest: 0.4363514 (106)\ttotal: 1.55s\tremaining: 1.14s\n",
      "577:\tlearn: 0.1085409\ttest: 0.4832472\tbest: 0.4363514 (106)\ttotal: 1.55s\tremaining: 1.13s\n",
      "578:\tlearn: 0.1082991\ttest: 0.4834367\tbest: 0.4363514 (106)\ttotal: 1.55s\tremaining: 1.13s\n",
      "579:\tlearn: 0.1082445\ttest: 0.4834278\tbest: 0.4363514 (106)\ttotal: 1.56s\tremaining: 1.13s\n",
      "580:\tlearn: 0.1081399\ttest: 0.4833558\tbest: 0.4363514 (106)\ttotal: 1.56s\tremaining: 1.12s\n",
      "581:\tlearn: 0.1077948\ttest: 0.4834149\tbest: 0.4363514 (106)\ttotal: 1.56s\tremaining: 1.12s\n",
      "582:\tlearn: 0.1073617\ttest: 0.4837379\tbest: 0.4363514 (106)\ttotal: 1.56s\tremaining: 1.12s\n",
      "583:\tlearn: 0.1073462\ttest: 0.4837230\tbest: 0.4363514 (106)\ttotal: 1.56s\tremaining: 1.11s\n",
      "584:\tlearn: 0.1073152\ttest: 0.4837984\tbest: 0.4363514 (106)\ttotal: 1.57s\tremaining: 1.11s\n",
      "585:\tlearn: 0.1071651\ttest: 0.4837722\tbest: 0.4363514 (106)\ttotal: 1.57s\tremaining: 1.11s\n",
      "586:\tlearn: 0.1070150\ttest: 0.4835785\tbest: 0.4363514 (106)\ttotal: 1.57s\tremaining: 1.1s\n",
      "587:\tlearn: 0.1068497\ttest: 0.4839403\tbest: 0.4363514 (106)\ttotal: 1.57s\tremaining: 1.1s\n",
      "588:\tlearn: 0.1064292\ttest: 0.4840949\tbest: 0.4363514 (106)\ttotal: 1.57s\tremaining: 1.1s\n",
      "589:\tlearn: 0.1061387\ttest: 0.4842871\tbest: 0.4363514 (106)\ttotal: 1.58s\tremaining: 1.09s\n",
      "590:\tlearn: 0.1058261\ttest: 0.4844078\tbest: 0.4363514 (106)\ttotal: 1.58s\tremaining: 1.09s\n",
      "591:\tlearn: 0.1057784\ttest: 0.4844377\tbest: 0.4363514 (106)\ttotal: 1.58s\tremaining: 1.09s\n",
      "592:\tlearn: 0.1056193\ttest: 0.4843655\tbest: 0.4363514 (106)\ttotal: 1.58s\tremaining: 1.09s\n",
      "593:\tlearn: 0.1055470\ttest: 0.4844418\tbest: 0.4363514 (106)\ttotal: 1.59s\tremaining: 1.08s\n",
      "594:\tlearn: 0.1054087\ttest: 0.4845360\tbest: 0.4363514 (106)\ttotal: 1.59s\tremaining: 1.08s\n",
      "595:\tlearn: 0.1049272\ttest: 0.4844133\tbest: 0.4363514 (106)\ttotal: 1.59s\tremaining: 1.08s\n",
      "596:\tlearn: 0.1049041\ttest: 0.4843429\tbest: 0.4363514 (106)\ttotal: 1.59s\tremaining: 1.08s\n",
      "597:\tlearn: 0.1043348\ttest: 0.4847688\tbest: 0.4363514 (106)\ttotal: 1.6s\tremaining: 1.07s\n",
      "598:\tlearn: 0.1042661\ttest: 0.4847928\tbest: 0.4363514 (106)\ttotal: 1.6s\tremaining: 1.07s\n",
      "599:\tlearn: 0.1038754\ttest: 0.4848232\tbest: 0.4363514 (106)\ttotal: 1.6s\tremaining: 1.07s\n",
      "600:\tlearn: 0.1036566\ttest: 0.4846490\tbest: 0.4363514 (106)\ttotal: 1.6s\tremaining: 1.06s\n",
      "601:\tlearn: 0.1032862\ttest: 0.4847581\tbest: 0.4363514 (106)\ttotal: 1.61s\tremaining: 1.06s\n",
      "602:\tlearn: 0.1030376\ttest: 0.4847044\tbest: 0.4363514 (106)\ttotal: 1.61s\tremaining: 1.06s\n",
      "603:\tlearn: 0.1026216\ttest: 0.4846360\tbest: 0.4363514 (106)\ttotal: 1.61s\tremaining: 1.06s\n",
      "604:\tlearn: 0.1025414\ttest: 0.4846240\tbest: 0.4363514 (106)\ttotal: 1.61s\tremaining: 1.05s\n",
      "605:\tlearn: 0.1025203\ttest: 0.4846469\tbest: 0.4363514 (106)\ttotal: 1.62s\tremaining: 1.05s\n",
      "606:\tlearn: 0.1022121\ttest: 0.4844960\tbest: 0.4363514 (106)\ttotal: 1.62s\tremaining: 1.05s\n",
      "607:\tlearn: 0.1017814\ttest: 0.4845921\tbest: 0.4363514 (106)\ttotal: 1.62s\tremaining: 1.05s\n",
      "608:\tlearn: 0.1015638\ttest: 0.4847485\tbest: 0.4363514 (106)\ttotal: 1.62s\tremaining: 1.04s\n",
      "609:\tlearn: 0.1014402\ttest: 0.4846527\tbest: 0.4363514 (106)\ttotal: 1.63s\tremaining: 1.04s\n",
      "610:\tlearn: 0.1012838\ttest: 0.4846063\tbest: 0.4363514 (106)\ttotal: 1.63s\tremaining: 1.04s\n",
      "611:\tlearn: 0.1012387\ttest: 0.4847227\tbest: 0.4363514 (106)\ttotal: 1.63s\tremaining: 1.03s\n",
      "612:\tlearn: 0.1008442\ttest: 0.4846715\tbest: 0.4363514 (106)\ttotal: 1.64s\tremaining: 1.03s\n",
      "613:\tlearn: 0.1005416\ttest: 0.4853335\tbest: 0.4363514 (106)\ttotal: 1.64s\tremaining: 1.03s\n",
      "614:\tlearn: 0.1004506\ttest: 0.4854589\tbest: 0.4363514 (106)\ttotal: 1.64s\tremaining: 1.03s\n",
      "615:\tlearn: 0.1003075\ttest: 0.4853564\tbest: 0.4363514 (106)\ttotal: 1.64s\tremaining: 1.02s\n",
      "616:\tlearn: 0.0999788\ttest: 0.4855770\tbest: 0.4363514 (106)\ttotal: 1.65s\tremaining: 1.02s\n",
      "617:\tlearn: 0.0997908\ttest: 0.4855132\tbest: 0.4363514 (106)\ttotal: 1.65s\tremaining: 1.02s\n",
      "618:\tlearn: 0.0997197\ttest: 0.4854256\tbest: 0.4363514 (106)\ttotal: 1.65s\tremaining: 1.02s\n",
      "619:\tlearn: 0.0996990\ttest: 0.4854479\tbest: 0.4363514 (106)\ttotal: 1.65s\tremaining: 1.01s\n",
      "620:\tlearn: 0.0995830\ttest: 0.4853589\tbest: 0.4363514 (106)\ttotal: 1.66s\tremaining: 1.01s\n",
      "621:\tlearn: 0.0992740\ttest: 0.4854236\tbest: 0.4363514 (106)\ttotal: 1.66s\tremaining: 1.01s\n",
      "622:\tlearn: 0.0990821\ttest: 0.4852271\tbest: 0.4363514 (106)\ttotal: 1.66s\tremaining: 1s\n",
      "623:\tlearn: 0.0988825\ttest: 0.4853976\tbest: 0.4363514 (106)\ttotal: 1.66s\tremaining: 1s\n",
      "624:\tlearn: 0.0986270\ttest: 0.4855916\tbest: 0.4363514 (106)\ttotal: 1.66s\tremaining: 999ms\n",
      "625:\tlearn: 0.0986133\ttest: 0.4855717\tbest: 0.4363514 (106)\ttotal: 1.67s\tremaining: 996ms\n",
      "626:\tlearn: 0.0983307\ttest: 0.4859158\tbest: 0.4363514 (106)\ttotal: 1.67s\tremaining: 993ms\n",
      "627:\tlearn: 0.0980206\ttest: 0.4862052\tbest: 0.4363514 (106)\ttotal: 1.67s\tremaining: 991ms\n",
      "628:\tlearn: 0.0976586\ttest: 0.4869243\tbest: 0.4363514 (106)\ttotal: 1.67s\tremaining: 988ms\n",
      "629:\tlearn: 0.0976267\ttest: 0.4870037\tbest: 0.4363514 (106)\ttotal: 1.68s\tremaining: 985ms\n",
      "630:\tlearn: 0.0972487\ttest: 0.4871890\tbest: 0.4363514 (106)\ttotal: 1.68s\tremaining: 982ms\n",
      "631:\tlearn: 0.0969296\ttest: 0.4872104\tbest: 0.4363514 (106)\ttotal: 1.68s\tremaining: 980ms\n",
      "632:\tlearn: 0.0967758\ttest: 0.4874929\tbest: 0.4363514 (106)\ttotal: 1.69s\tremaining: 977ms\n",
      "633:\tlearn: 0.0964971\ttest: 0.4877944\tbest: 0.4363514 (106)\ttotal: 1.69s\tremaining: 974ms\n",
      "634:\tlearn: 0.0964211\ttest: 0.4878736\tbest: 0.4363514 (106)\ttotal: 1.69s\tremaining: 971ms\n",
      "635:\tlearn: 0.0961585\ttest: 0.4882500\tbest: 0.4363514 (106)\ttotal: 1.69s\tremaining: 968ms\n",
      "636:\tlearn: 0.0960301\ttest: 0.4881586\tbest: 0.4363514 (106)\ttotal: 1.69s\tremaining: 966ms\n",
      "637:\tlearn: 0.0959570\ttest: 0.4882383\tbest: 0.4363514 (106)\ttotal: 1.7s\tremaining: 963ms\n",
      "638:\tlearn: 0.0957905\ttest: 0.4881508\tbest: 0.4363514 (106)\ttotal: 1.7s\tremaining: 960ms\n",
      "639:\tlearn: 0.0956258\ttest: 0.4884426\tbest: 0.4363514 (106)\ttotal: 1.7s\tremaining: 957ms\n",
      "640:\tlearn: 0.0954574\ttest: 0.4882012\tbest: 0.4363514 (106)\ttotal: 1.7s\tremaining: 955ms\n",
      "641:\tlearn: 0.0951030\ttest: 0.4880971\tbest: 0.4363514 (106)\ttotal: 1.71s\tremaining: 952ms\n",
      "642:\tlearn: 0.0950223\ttest: 0.4879520\tbest: 0.4363514 (106)\ttotal: 1.71s\tremaining: 950ms\n",
      "643:\tlearn: 0.0948585\ttest: 0.4880131\tbest: 0.4363514 (106)\ttotal: 1.71s\tremaining: 947ms\n",
      "644:\tlearn: 0.0946942\ttest: 0.4880736\tbest: 0.4363514 (106)\ttotal: 1.72s\tremaining: 944ms\n",
      "645:\tlearn: 0.0945067\ttest: 0.4880706\tbest: 0.4363514 (106)\ttotal: 1.72s\tremaining: 941ms\n",
      "646:\tlearn: 0.0942061\ttest: 0.4886319\tbest: 0.4363514 (106)\ttotal: 1.72s\tremaining: 938ms\n",
      "647:\tlearn: 0.0940304\ttest: 0.4890857\tbest: 0.4363514 (106)\ttotal: 1.72s\tremaining: 935ms\n",
      "648:\tlearn: 0.0939669\ttest: 0.4888922\tbest: 0.4363514 (106)\ttotal: 1.72s\tremaining: 932ms\n",
      "649:\tlearn: 0.0939056\ttest: 0.4887034\tbest: 0.4363514 (106)\ttotal: 1.73s\tremaining: 929ms\n",
      "650:\tlearn: 0.0936344\ttest: 0.4889359\tbest: 0.4363514 (106)\ttotal: 1.73s\tremaining: 927ms\n",
      "651:\tlearn: 0.0932476\ttest: 0.4891771\tbest: 0.4363514 (106)\ttotal: 1.73s\tremaining: 924ms\n",
      "652:\tlearn: 0.0930047\ttest: 0.4894189\tbest: 0.4363514 (106)\ttotal: 1.73s\tremaining: 921ms\n",
      "653:\tlearn: 0.0927543\ttest: 0.4897003\tbest: 0.4363514 (106)\ttotal: 1.74s\tremaining: 918ms\n",
      "654:\tlearn: 0.0925039\ttest: 0.4899300\tbest: 0.4363514 (106)\ttotal: 1.74s\tremaining: 915ms\n",
      "655:\tlearn: 0.0922812\ttest: 0.4899865\tbest: 0.4363514 (106)\ttotal: 1.74s\tremaining: 912ms\n",
      "656:\tlearn: 0.0921311\ttest: 0.4897697\tbest: 0.4363514 (106)\ttotal: 1.74s\tremaining: 909ms\n",
      "657:\tlearn: 0.0918883\ttest: 0.4902856\tbest: 0.4363514 (106)\ttotal: 1.74s\tremaining: 906ms\n",
      "658:\tlearn: 0.0917324\ttest: 0.4903121\tbest: 0.4363514 (106)\ttotal: 1.75s\tremaining: 903ms\n",
      "659:\tlearn: 0.0914462\ttest: 0.4901353\tbest: 0.4363514 (106)\ttotal: 1.75s\tremaining: 900ms\n",
      "660:\tlearn: 0.0911334\ttest: 0.4904722\tbest: 0.4363514 (106)\ttotal: 1.75s\tremaining: 897ms\n",
      "661:\tlearn: 0.0909716\ttest: 0.4907594\tbest: 0.4363514 (106)\ttotal: 1.75s\tremaining: 894ms\n",
      "662:\tlearn: 0.0909119\ttest: 0.4905732\tbest: 0.4363514 (106)\ttotal: 1.75s\tremaining: 891ms\n",
      "663:\tlearn: 0.0908721\ttest: 0.4905682\tbest: 0.4363514 (106)\ttotal: 1.75s\tremaining: 888ms\n",
      "664:\tlearn: 0.0907849\ttest: 0.4905847\tbest: 0.4363514 (106)\ttotal: 1.76s\tremaining: 885ms\n"
     ]
    },
    {
     "name": "stdout",
     "output_type": "stream",
     "text": [
      "665:\tlearn: 0.0905882\ttest: 0.4904411\tbest: 0.4363514 (106)\ttotal: 1.76s\tremaining: 884ms\n",
      "666:\tlearn: 0.0904132\ttest: 0.4907225\tbest: 0.4363514 (106)\ttotal: 1.76s\tremaining: 881ms\n",
      "667:\tlearn: 0.0901371\ttest: 0.4905379\tbest: 0.4363514 (106)\ttotal: 1.77s\tremaining: 878ms\n",
      "668:\tlearn: 0.0898992\ttest: 0.4909602\tbest: 0.4363514 (106)\ttotal: 1.77s\tremaining: 876ms\n",
      "669:\tlearn: 0.0895797\ttest: 0.4915347\tbest: 0.4363514 (106)\ttotal: 1.77s\tremaining: 873ms\n",
      "670:\tlearn: 0.0893622\ttest: 0.4919357\tbest: 0.4363514 (106)\ttotal: 1.77s\tremaining: 870ms\n",
      "671:\tlearn: 0.0892553\ttest: 0.4921246\tbest: 0.4363514 (106)\ttotal: 1.78s\tremaining: 867ms\n",
      "672:\tlearn: 0.0891369\ttest: 0.4921441\tbest: 0.4363514 (106)\ttotal: 1.78s\tremaining: 865ms\n",
      "673:\tlearn: 0.0890287\ttest: 0.4923769\tbest: 0.4363514 (106)\ttotal: 1.78s\tremaining: 862ms\n",
      "674:\tlearn: 0.0888425\ttest: 0.4925979\tbest: 0.4363514 (106)\ttotal: 1.79s\tremaining: 860ms\n",
      "675:\tlearn: 0.0887742\ttest: 0.4926086\tbest: 0.4363514 (106)\ttotal: 1.79s\tremaining: 858ms\n",
      "676:\tlearn: 0.0887153\ttest: 0.4926314\tbest: 0.4363514 (106)\ttotal: 1.79s\tremaining: 855ms\n",
      "677:\tlearn: 0.0885889\ttest: 0.4928020\tbest: 0.4363514 (106)\ttotal: 1.79s\tremaining: 853ms\n",
      "678:\tlearn: 0.0883933\ttest: 0.4933311\tbest: 0.4363514 (106)\ttotal: 1.8s\tremaining: 850ms\n",
      "679:\tlearn: 0.0881769\ttest: 0.4933914\tbest: 0.4363514 (106)\ttotal: 1.8s\tremaining: 848ms\n",
      "680:\tlearn: 0.0880706\ttest: 0.4935465\tbest: 0.4363514 (106)\ttotal: 1.8s\tremaining: 846ms\n",
      "681:\tlearn: 0.0878095\ttest: 0.4933756\tbest: 0.4363514 (106)\ttotal: 1.81s\tremaining: 843ms\n",
      "682:\tlearn: 0.0875428\ttest: 0.4936095\tbest: 0.4363514 (106)\ttotal: 1.81s\tremaining: 840ms\n",
      "683:\tlearn: 0.0874844\ttest: 0.4935609\tbest: 0.4363514 (106)\ttotal: 1.81s\tremaining: 838ms\n",
      "684:\tlearn: 0.0874392\ttest: 0.4934758\tbest: 0.4363514 (106)\ttotal: 1.82s\tremaining: 835ms\n",
      "685:\tlearn: 0.0873590\ttest: 0.4934870\tbest: 0.4363514 (106)\ttotal: 1.82s\tremaining: 833ms\n",
      "686:\tlearn: 0.0872035\ttest: 0.4933220\tbest: 0.4363514 (106)\ttotal: 1.82s\tremaining: 830ms\n",
      "687:\tlearn: 0.0871278\ttest: 0.4933829\tbest: 0.4363514 (106)\ttotal: 1.82s\tremaining: 827ms\n",
      "688:\tlearn: 0.0870337\ttest: 0.4935469\tbest: 0.4363514 (106)\ttotal: 1.83s\tremaining: 824ms\n",
      "689:\tlearn: 0.0869814\ttest: 0.4933743\tbest: 0.4363514 (106)\ttotal: 1.83s\tremaining: 822ms\n",
      "690:\tlearn: 0.0867377\ttest: 0.4937757\tbest: 0.4363514 (106)\ttotal: 1.83s\tremaining: 819ms\n",
      "691:\tlearn: 0.0865869\ttest: 0.4937066\tbest: 0.4363514 (106)\ttotal: 1.83s\tremaining: 817ms\n",
      "692:\tlearn: 0.0865357\ttest: 0.4936353\tbest: 0.4363514 (106)\ttotal: 1.84s\tremaining: 814ms\n",
      "693:\tlearn: 0.0863954\ttest: 0.4936915\tbest: 0.4363514 (106)\ttotal: 1.84s\tremaining: 811ms\n",
      "694:\tlearn: 0.0860400\ttest: 0.4944431\tbest: 0.4363514 (106)\ttotal: 1.84s\tremaining: 809ms\n",
      "695:\tlearn: 0.0857348\ttest: 0.4951748\tbest: 0.4363514 (106)\ttotal: 1.84s\tremaining: 806ms\n",
      "696:\tlearn: 0.0856269\ttest: 0.4951251\tbest: 0.4363514 (106)\ttotal: 1.85s\tremaining: 803ms\n",
      "697:\tlearn: 0.0854831\ttest: 0.4950592\tbest: 0.4363514 (106)\ttotal: 1.85s\tremaining: 801ms\n",
      "698:\tlearn: 0.0853031\ttest: 0.4954945\tbest: 0.4363514 (106)\ttotal: 1.85s\tremaining: 798ms\n",
      "699:\tlearn: 0.0850396\ttest: 0.4955590\tbest: 0.4363514 (106)\ttotal: 1.85s\tremaining: 795ms\n",
      "700:\tlearn: 0.0849497\ttest: 0.4954730\tbest: 0.4363514 (106)\ttotal: 1.86s\tremaining: 793ms\n",
      "701:\tlearn: 0.0847478\ttest: 0.4955385\tbest: 0.4363514 (106)\ttotal: 1.86s\tremaining: 790ms\n",
      "702:\tlearn: 0.0845232\ttest: 0.4959073\tbest: 0.4363514 (106)\ttotal: 1.86s\tremaining: 787ms\n",
      "703:\tlearn: 0.0843641\ttest: 0.4959023\tbest: 0.4363514 (106)\ttotal: 1.86s\tremaining: 785ms\n",
      "704:\tlearn: 0.0842323\ttest: 0.4960119\tbest: 0.4363514 (106)\ttotal: 1.87s\tremaining: 782ms\n",
      "705:\tlearn: 0.0840314\ttest: 0.4961450\tbest: 0.4363514 (106)\ttotal: 1.87s\tremaining: 779ms\n",
      "706:\tlearn: 0.0838905\ttest: 0.4960000\tbest: 0.4363514 (106)\ttotal: 1.87s\tremaining: 777ms\n",
      "707:\tlearn: 0.0837712\ttest: 0.4962318\tbest: 0.4363514 (106)\ttotal: 1.88s\tremaining: 774ms\n",
      "708:\tlearn: 0.0836649\ttest: 0.4962608\tbest: 0.4363514 (106)\ttotal: 1.88s\tremaining: 771ms\n",
      "709:\tlearn: 0.0836078\ttest: 0.4962574\tbest: 0.4363514 (106)\ttotal: 1.88s\tremaining: 768ms\n",
      "710:\tlearn: 0.0835591\ttest: 0.4961891\tbest: 0.4363514 (106)\ttotal: 1.88s\tremaining: 765ms\n",
      "711:\tlearn: 0.0835063\ttest: 0.4960767\tbest: 0.4363514 (106)\ttotal: 1.88s\tremaining: 762ms\n",
      "712:\tlearn: 0.0833733\ttest: 0.4959428\tbest: 0.4363514 (106)\ttotal: 1.89s\tremaining: 759ms\n",
      "713:\tlearn: 0.0830388\ttest: 0.4960399\tbest: 0.4363514 (106)\ttotal: 1.89s\tremaining: 756ms\n",
      "714:\tlearn: 0.0828543\ttest: 0.4961133\tbest: 0.4363514 (106)\ttotal: 1.89s\tremaining: 753ms\n",
      "715:\tlearn: 0.0828205\ttest: 0.4961220\tbest: 0.4363514 (106)\ttotal: 1.89s\tremaining: 750ms\n",
      "716:\tlearn: 0.0827726\ttest: 0.4960545\tbest: 0.4363514 (106)\ttotal: 1.89s\tremaining: 747ms\n",
      "717:\tlearn: 0.0826814\ttest: 0.4961739\tbest: 0.4363514 (106)\ttotal: 1.9s\tremaining: 744ms\n",
      "718:\tlearn: 0.0826500\ttest: 0.4961765\tbest: 0.4363514 (106)\ttotal: 1.9s\tremaining: 741ms\n",
      "719:\tlearn: 0.0825438\ttest: 0.4962400\tbest: 0.4363514 (106)\ttotal: 1.9s\tremaining: 739ms\n",
      "720:\tlearn: 0.0822589\ttest: 0.4969160\tbest: 0.4363514 (106)\ttotal: 1.9s\tremaining: 736ms\n",
      "721:\tlearn: 0.0821308\ttest: 0.4967295\tbest: 0.4363514 (106)\ttotal: 1.9s\tremaining: 733ms\n",
      "722:\tlearn: 0.0819734\ttest: 0.4967218\tbest: 0.4363514 (106)\ttotal: 1.9s\tremaining: 730ms\n",
      "723:\tlearn: 0.0817861\ttest: 0.4967964\tbest: 0.4363514 (106)\ttotal: 1.91s\tremaining: 727ms\n",
      "724:\tlearn: 0.0816518\ttest: 0.4968007\tbest: 0.4363514 (106)\ttotal: 1.91s\tremaining: 724ms\n",
      "725:\tlearn: 0.0813458\ttest: 0.4967716\tbest: 0.4363514 (106)\ttotal: 1.91s\tremaining: 721ms\n",
      "726:\tlearn: 0.0812771\ttest: 0.4968466\tbest: 0.4363514 (106)\ttotal: 1.91s\tremaining: 718ms\n",
      "727:\tlearn: 0.0812464\ttest: 0.4969582\tbest: 0.4363514 (106)\ttotal: 1.91s\tremaining: 715ms\n",
      "728:\tlearn: 0.0810444\ttest: 0.4973868\tbest: 0.4363514 (106)\ttotal: 1.92s\tremaining: 712ms\n",
      "729:\tlearn: 0.0810087\ttest: 0.4974557\tbest: 0.4363514 (106)\ttotal: 1.92s\tremaining: 710ms\n",
      "730:\tlearn: 0.0807906\ttest: 0.4978558\tbest: 0.4363514 (106)\ttotal: 1.92s\tremaining: 707ms\n",
      "731:\tlearn: 0.0806726\ttest: 0.4978776\tbest: 0.4363514 (106)\ttotal: 1.92s\tremaining: 705ms\n",
      "732:\tlearn: 0.0803680\ttest: 0.4981138\tbest: 0.4363514 (106)\ttotal: 1.93s\tremaining: 702ms\n",
      "733:\tlearn: 0.0801859\ttest: 0.4981982\tbest: 0.4363514 (106)\ttotal: 1.93s\tremaining: 699ms\n",
      "734:\tlearn: 0.0799753\ttest: 0.4986911\tbest: 0.4363514 (106)\ttotal: 1.93s\tremaining: 696ms\n",
      "735:\tlearn: 0.0798861\ttest: 0.4988402\tbest: 0.4363514 (106)\ttotal: 1.93s\tremaining: 694ms\n",
      "736:\tlearn: 0.0797970\ttest: 0.4987391\tbest: 0.4363514 (106)\ttotal: 1.94s\tremaining: 691ms\n",
      "737:\tlearn: 0.0797193\ttest: 0.4986711\tbest: 0.4363514 (106)\ttotal: 1.94s\tremaining: 688ms\n",
      "738:\tlearn: 0.0795504\ttest: 0.4986493\tbest: 0.4363514 (106)\ttotal: 1.94s\tremaining: 686ms\n",
      "739:\tlearn: 0.0793555\ttest: 0.4987890\tbest: 0.4363514 (106)\ttotal: 1.94s\tremaining: 683ms\n",
      "740:\tlearn: 0.0792613\ttest: 0.4988060\tbest: 0.4363514 (106)\ttotal: 1.95s\tremaining: 680ms\n",
      "741:\tlearn: 0.0789731\ttest: 0.4989968\tbest: 0.4363514 (106)\ttotal: 1.95s\tremaining: 678ms\n",
      "742:\tlearn: 0.0789034\ttest: 0.4989820\tbest: 0.4363514 (106)\ttotal: 1.95s\tremaining: 675ms\n",
      "743:\tlearn: 0.0788182\ttest: 0.4991326\tbest: 0.4363514 (106)\ttotal: 1.95s\tremaining: 673ms\n",
      "744:\tlearn: 0.0786252\ttest: 0.4992665\tbest: 0.4363514 (106)\ttotal: 1.96s\tremaining: 670ms\n",
      "745:\tlearn: 0.0784263\ttest: 0.4991866\tbest: 0.4363514 (106)\ttotal: 1.96s\tremaining: 668ms\n",
      "746:\tlearn: 0.0783380\ttest: 0.4993919\tbest: 0.4363514 (106)\ttotal: 1.96s\tremaining: 665ms\n",
      "747:\tlearn: 0.0781273\ttest: 0.4996254\tbest: 0.4363514 (106)\ttotal: 1.97s\tremaining: 662ms\n",
      "748:\tlearn: 0.0780704\ttest: 0.4995152\tbest: 0.4363514 (106)\ttotal: 1.97s\tremaining: 659ms\n",
      "749:\tlearn: 0.0778483\ttest: 0.4997682\tbest: 0.4363514 (106)\ttotal: 1.97s\tremaining: 657ms\n",
      "750:\tlearn: 0.0776458\ttest: 0.4996349\tbest: 0.4363514 (106)\ttotal: 1.97s\tremaining: 654ms\n",
      "751:\tlearn: 0.0775232\ttest: 0.4999960\tbest: 0.4363514 (106)\ttotal: 1.97s\tremaining: 651ms\n",
      "752:\tlearn: 0.0772627\ttest: 0.5006621\tbest: 0.4363514 (106)\ttotal: 1.98s\tremaining: 648ms\n",
      "753:\tlearn: 0.0771823\ttest: 0.5004835\tbest: 0.4363514 (106)\ttotal: 1.98s\tremaining: 646ms\n",
      "754:\tlearn: 0.0770659\ttest: 0.5003684\tbest: 0.4363514 (106)\ttotal: 1.98s\tremaining: 643ms\n",
      "755:\tlearn: 0.0768383\ttest: 0.5007669\tbest: 0.4363514 (106)\ttotal: 1.98s\tremaining: 640ms\n",
      "756:\tlearn: 0.0765990\ttest: 0.5009814\tbest: 0.4363514 (106)\ttotal: 1.99s\tremaining: 638ms\n",
      "757:\tlearn: 0.0765040\ttest: 0.5009290\tbest: 0.4363514 (106)\ttotal: 1.99s\tremaining: 635ms\n",
      "758:\tlearn: 0.0762331\ttest: 0.5012116\tbest: 0.4363514 (106)\ttotal: 1.99s\tremaining: 632ms\n",
      "759:\tlearn: 0.0760606\ttest: 0.5014386\tbest: 0.4363514 (106)\ttotal: 1.99s\tremaining: 629ms\n",
      "760:\tlearn: 0.0759749\ttest: 0.5016259\tbest: 0.4363514 (106)\ttotal: 1.99s\tremaining: 626ms\n",
      "761:\tlearn: 0.0758627\ttest: 0.5015730\tbest: 0.4363514 (106)\ttotal: 2s\tremaining: 624ms\n",
      "762:\tlearn: 0.0756776\ttest: 0.5020205\tbest: 0.4363514 (106)\ttotal: 2s\tremaining: 621ms\n",
      "763:\tlearn: 0.0755878\ttest: 0.5020547\tbest: 0.4363514 (106)\ttotal: 2s\tremaining: 618ms\n",
      "764:\tlearn: 0.0755056\ttest: 0.5022425\tbest: 0.4363514 (106)\ttotal: 2s\tremaining: 615ms\n",
      "765:\tlearn: 0.0753849\ttest: 0.5025464\tbest: 0.4363514 (106)\ttotal: 2s\tremaining: 612ms\n",
      "766:\tlearn: 0.0752605\ttest: 0.5024661\tbest: 0.4363514 (106)\ttotal: 2s\tremaining: 609ms\n",
      "767:\tlearn: 0.0752176\ttest: 0.5024462\tbest: 0.4363514 (106)\ttotal: 2.01s\tremaining: 607ms\n",
      "768:\tlearn: 0.0752034\ttest: 0.5023901\tbest: 0.4363514 (106)\ttotal: 2.01s\tremaining: 604ms\n",
      "769:\tlearn: 0.0750775\ttest: 0.5024852\tbest: 0.4363514 (106)\ttotal: 2.01s\tremaining: 601ms\n",
      "770:\tlearn: 0.0749192\ttest: 0.5029194\tbest: 0.4363514 (106)\ttotal: 2.01s\tremaining: 598ms\n",
      "771:\tlearn: 0.0748140\ttest: 0.5028731\tbest: 0.4363514 (106)\ttotal: 2.02s\tremaining: 595ms\n",
      "772:\tlearn: 0.0747237\ttest: 0.5028199\tbest: 0.4363514 (106)\ttotal: 2.02s\tremaining: 593ms\n",
      "773:\tlearn: 0.0746454\ttest: 0.5030067\tbest: 0.4363514 (106)\ttotal: 2.02s\tremaining: 590ms\n",
      "774:\tlearn: 0.0745325\ttest: 0.5030554\tbest: 0.4363514 (106)\ttotal: 2.02s\tremaining: 587ms\n",
      "775:\tlearn: 0.0744033\ttest: 0.5030592\tbest: 0.4363514 (106)\ttotal: 2.02s\tremaining: 584ms\n",
      "776:\tlearn: 0.0743603\ttest: 0.5029980\tbest: 0.4363514 (106)\ttotal: 2.02s\tremaining: 581ms\n",
      "777:\tlearn: 0.0741041\ttest: 0.5037675\tbest: 0.4363514 (106)\ttotal: 2.03s\tremaining: 579ms\n",
      "778:\tlearn: 0.0739734\ttest: 0.5035704\tbest: 0.4363514 (106)\ttotal: 2.03s\tremaining: 576ms\n",
      "779:\tlearn: 0.0738595\ttest: 0.5034982\tbest: 0.4363514 (106)\ttotal: 2.03s\tremaining: 573ms\n",
      "780:\tlearn: 0.0737585\ttest: 0.5034200\tbest: 0.4363514 (106)\ttotal: 2.03s\tremaining: 570ms\n",
      "781:\tlearn: 0.0735084\ttest: 0.5037251\tbest: 0.4363514 (106)\ttotal: 2.04s\tremaining: 567ms\n",
      "782:\tlearn: 0.0734047\ttest: 0.5039711\tbest: 0.4363514 (106)\ttotal: 2.04s\tremaining: 565ms\n",
      "783:\tlearn: 0.0732948\ttest: 0.5039025\tbest: 0.4363514 (106)\ttotal: 2.04s\tremaining: 562ms\n",
      "784:\tlearn: 0.0732863\ttest: 0.5038749\tbest: 0.4363514 (106)\ttotal: 2.04s\tremaining: 559ms\n",
      "785:\tlearn: 0.0732447\ttest: 0.5038139\tbest: 0.4363514 (106)\ttotal: 2.04s\tremaining: 556ms\n",
      "786:\tlearn: 0.0730497\ttest: 0.5039597\tbest: 0.4363514 (106)\ttotal: 2.04s\tremaining: 553ms\n",
      "787:\tlearn: 0.0729611\ttest: 0.5039217\tbest: 0.4363514 (106)\ttotal: 2.05s\tremaining: 551ms\n",
      "788:\tlearn: 0.0728727\ttest: 0.5038091\tbest: 0.4363514 (106)\ttotal: 2.05s\tremaining: 548ms\n",
      "789:\tlearn: 0.0727348\ttest: 0.5040385\tbest: 0.4363514 (106)\ttotal: 2.05s\tremaining: 545ms\n",
      "790:\tlearn: 0.0725451\ttest: 0.5043298\tbest: 0.4363514 (106)\ttotal: 2.05s\tremaining: 542ms\n",
      "791:\tlearn: 0.0724414\ttest: 0.5042239\tbest: 0.4363514 (106)\ttotal: 2.05s\tremaining: 539ms\n",
      "792:\tlearn: 0.0723158\ttest: 0.5043828\tbest: 0.4363514 (106)\ttotal: 2.06s\tremaining: 537ms\n",
      "793:\tlearn: 0.0722128\ttest: 0.5043406\tbest: 0.4363514 (106)\ttotal: 2.06s\tremaining: 534ms\n",
      "794:\tlearn: 0.0719217\ttest: 0.5051553\tbest: 0.4363514 (106)\ttotal: 2.06s\tremaining: 531ms\n",
      "795:\tlearn: 0.0717249\ttest: 0.5052348\tbest: 0.4363514 (106)\ttotal: 2.06s\tremaining: 528ms\n",
      "796:\tlearn: 0.0715849\ttest: 0.5056584\tbest: 0.4363514 (106)\ttotal: 2.06s\tremaining: 526ms\n",
      "797:\tlearn: 0.0714229\ttest: 0.5056765\tbest: 0.4363514 (106)\ttotal: 2.06s\tremaining: 523ms\n",
      "798:\tlearn: 0.0713243\ttest: 0.5055799\tbest: 0.4363514 (106)\ttotal: 2.07s\tremaining: 520ms\n",
      "799:\tlearn: 0.0712194\ttest: 0.5056633\tbest: 0.4363514 (106)\ttotal: 2.07s\tremaining: 517ms\n",
      "800:\tlearn: 0.0711864\ttest: 0.5056216\tbest: 0.4363514 (106)\ttotal: 2.07s\tremaining: 515ms\n",
      "801:\tlearn: 0.0710926\ttest: 0.5055328\tbest: 0.4363514 (106)\ttotal: 2.07s\tremaining: 512ms\n",
      "802:\tlearn: 0.0710402\ttest: 0.5057151\tbest: 0.4363514 (106)\ttotal: 2.08s\tremaining: 509ms\n"
     ]
    },
    {
     "name": "stdout",
     "output_type": "stream",
     "text": [
      "803:\tlearn: 0.0708436\ttest: 0.5059538\tbest: 0.4363514 (106)\ttotal: 2.08s\tremaining: 507ms\n",
      "804:\tlearn: 0.0708138\ttest: 0.5060432\tbest: 0.4363514 (106)\ttotal: 2.08s\tremaining: 504ms\n",
      "805:\tlearn: 0.0706249\ttest: 0.5062849\tbest: 0.4363514 (106)\ttotal: 2.08s\tremaining: 501ms\n",
      "806:\tlearn: 0.0704528\ttest: 0.5061677\tbest: 0.4363514 (106)\ttotal: 2.08s\tremaining: 499ms\n",
      "807:\tlearn: 0.0704196\ttest: 0.5061567\tbest: 0.4363514 (106)\ttotal: 2.09s\tremaining: 496ms\n",
      "808:\tlearn: 0.0702797\ttest: 0.5060980\tbest: 0.4363514 (106)\ttotal: 2.09s\tremaining: 494ms\n",
      "809:\tlearn: 0.0701966\ttest: 0.5062390\tbest: 0.4363514 (106)\ttotal: 2.09s\tremaining: 491ms\n",
      "810:\tlearn: 0.0700013\ttest: 0.5065289\tbest: 0.4363514 (106)\ttotal: 2.1s\tremaining: 488ms\n",
      "811:\tlearn: 0.0698595\ttest: 0.5069555\tbest: 0.4363514 (106)\ttotal: 2.1s\tremaining: 486ms\n",
      "812:\tlearn: 0.0698333\ttest: 0.5069097\tbest: 0.4363514 (106)\ttotal: 2.1s\tremaining: 483ms\n",
      "813:\tlearn: 0.0697545\ttest: 0.5068805\tbest: 0.4363514 (106)\ttotal: 2.1s\tremaining: 481ms\n",
      "814:\tlearn: 0.0696235\ttest: 0.5069756\tbest: 0.4363514 (106)\ttotal: 2.1s\tremaining: 478ms\n",
      "815:\tlearn: 0.0695997\ttest: 0.5069803\tbest: 0.4363514 (106)\ttotal: 2.11s\tremaining: 475ms\n",
      "816:\tlearn: 0.0693471\ttest: 0.5076580\tbest: 0.4363514 (106)\ttotal: 2.11s\tremaining: 473ms\n",
      "817:\tlearn: 0.0690967\ttest: 0.5077759\tbest: 0.4363514 (106)\ttotal: 2.11s\tremaining: 470ms\n",
      "818:\tlearn: 0.0690003\ttest: 0.5079564\tbest: 0.4363514 (106)\ttotal: 2.12s\tremaining: 468ms\n",
      "819:\tlearn: 0.0688777\ttest: 0.5079794\tbest: 0.4363514 (106)\ttotal: 2.12s\tremaining: 465ms\n",
      "820:\tlearn: 0.0688106\ttest: 0.5079153\tbest: 0.4363514 (106)\ttotal: 2.12s\tremaining: 463ms\n",
      "821:\tlearn: 0.0686670\ttest: 0.5080640\tbest: 0.4363514 (106)\ttotal: 2.12s\tremaining: 460ms\n",
      "822:\tlearn: 0.0685756\ttest: 0.5081249\tbest: 0.4363514 (106)\ttotal: 2.13s\tremaining: 458ms\n",
      "823:\tlearn: 0.0684455\ttest: 0.5082153\tbest: 0.4363514 (106)\ttotal: 2.13s\tremaining: 455ms\n",
      "824:\tlearn: 0.0682837\ttest: 0.5087007\tbest: 0.4363514 (106)\ttotal: 2.13s\tremaining: 452ms\n",
      "825:\tlearn: 0.0682240\ttest: 0.5088853\tbest: 0.4363514 (106)\ttotal: 2.13s\tremaining: 450ms\n",
      "826:\tlearn: 0.0681206\ttest: 0.5092184\tbest: 0.4363514 (106)\ttotal: 2.14s\tremaining: 447ms\n",
      "827:\tlearn: 0.0681166\ttest: 0.5092149\tbest: 0.4363514 (106)\ttotal: 2.14s\tremaining: 444ms\n",
      "828:\tlearn: 0.0680524\ttest: 0.5093597\tbest: 0.4363514 (106)\ttotal: 2.14s\tremaining: 442ms\n",
      "829:\tlearn: 0.0679902\ttest: 0.5095038\tbest: 0.4363514 (106)\ttotal: 2.14s\tremaining: 439ms\n",
      "830:\tlearn: 0.0679206\ttest: 0.5096074\tbest: 0.4363514 (106)\ttotal: 2.15s\tremaining: 437ms\n",
      "831:\tlearn: 0.0678933\ttest: 0.5096444\tbest: 0.4363514 (106)\ttotal: 2.15s\tremaining: 434ms\n",
      "832:\tlearn: 0.0678538\ttest: 0.5095417\tbest: 0.4363514 (106)\ttotal: 2.15s\tremaining: 431ms\n",
      "833:\tlearn: 0.0677934\ttest: 0.5096851\tbest: 0.4363514 (106)\ttotal: 2.15s\tremaining: 429ms\n",
      "834:\tlearn: 0.0677325\ttest: 0.5098454\tbest: 0.4363514 (106)\ttotal: 2.16s\tremaining: 426ms\n",
      "835:\tlearn: 0.0675149\ttest: 0.5105748\tbest: 0.4363514 (106)\ttotal: 2.16s\tremaining: 423ms\n",
      "836:\tlearn: 0.0674482\ttest: 0.5106770\tbest: 0.4363514 (106)\ttotal: 2.16s\tremaining: 421ms\n",
      "837:\tlearn: 0.0673208\ttest: 0.5106232\tbest: 0.4363514 (106)\ttotal: 2.16s\tremaining: 418ms\n",
      "838:\tlearn: 0.0671938\ttest: 0.5106994\tbest: 0.4363514 (106)\ttotal: 2.16s\tremaining: 415ms\n",
      "839:\tlearn: 0.0671427\ttest: 0.5106583\tbest: 0.4363514 (106)\ttotal: 2.17s\tremaining: 413ms\n",
      "840:\tlearn: 0.0670460\ttest: 0.5108161\tbest: 0.4363514 (106)\ttotal: 2.17s\tremaining: 410ms\n",
      "841:\tlearn: 0.0668980\ttest: 0.5107516\tbest: 0.4363514 (106)\ttotal: 2.17s\tremaining: 407ms\n",
      "842:\tlearn: 0.0667854\ttest: 0.5109569\tbest: 0.4363514 (106)\ttotal: 2.17s\tremaining: 405ms\n",
      "843:\tlearn: 0.0666658\ttest: 0.5112447\tbest: 0.4363514 (106)\ttotal: 2.17s\tremaining: 402ms\n",
      "844:\tlearn: 0.0666302\ttest: 0.5111810\tbest: 0.4363514 (106)\ttotal: 2.18s\tremaining: 400ms\n",
      "845:\tlearn: 0.0665136\ttest: 0.5115819\tbest: 0.4363514 (106)\ttotal: 2.18s\tremaining: 397ms\n",
      "846:\tlearn: 0.0663895\ttest: 0.5120619\tbest: 0.4363514 (106)\ttotal: 2.18s\tremaining: 394ms\n",
      "847:\tlearn: 0.0663585\ttest: 0.5120687\tbest: 0.4363514 (106)\ttotal: 2.18s\tremaining: 392ms\n",
      "848:\tlearn: 0.0663241\ttest: 0.5120065\tbest: 0.4363514 (106)\ttotal: 2.19s\tremaining: 389ms\n",
      "849:\tlearn: 0.0661187\ttest: 0.5115861\tbest: 0.4363514 (106)\ttotal: 2.19s\tremaining: 386ms\n",
      "850:\tlearn: 0.0660822\ttest: 0.5115335\tbest: 0.4363514 (106)\ttotal: 2.19s\tremaining: 384ms\n",
      "851:\tlearn: 0.0659846\ttest: 0.5115958\tbest: 0.4363514 (106)\ttotal: 2.19s\tremaining: 381ms\n",
      "852:\tlearn: 0.0658890\ttest: 0.5118219\tbest: 0.4363514 (106)\ttotal: 2.19s\tremaining: 378ms\n",
      "853:\tlearn: 0.0658068\ttest: 0.5118750\tbest: 0.4363514 (106)\ttotal: 2.2s\tremaining: 376ms\n",
      "854:\tlearn: 0.0657951\ttest: 0.5118197\tbest: 0.4363514 (106)\ttotal: 2.2s\tremaining: 373ms\n",
      "855:\tlearn: 0.0656386\ttest: 0.5120366\tbest: 0.4363514 (106)\ttotal: 2.2s\tremaining: 370ms\n",
      "856:\tlearn: 0.0655851\ttest: 0.5122204\tbest: 0.4363514 (106)\ttotal: 2.2s\tremaining: 367ms\n",
      "857:\tlearn: 0.0654704\ttest: 0.5126276\tbest: 0.4363514 (106)\ttotal: 2.2s\tremaining: 365ms\n",
      "858:\tlearn: 0.0653972\ttest: 0.5125856\tbest: 0.4363514 (106)\ttotal: 2.21s\tremaining: 362ms\n",
      "859:\tlearn: 0.0652369\ttest: 0.5128109\tbest: 0.4363514 (106)\ttotal: 2.21s\tremaining: 359ms\n",
      "860:\tlearn: 0.0650646\ttest: 0.5130228\tbest: 0.4363514 (106)\ttotal: 2.21s\tremaining: 357ms\n",
      "861:\tlearn: 0.0649687\ttest: 0.5129612\tbest: 0.4363514 (106)\ttotal: 2.21s\tremaining: 354ms\n",
      "862:\tlearn: 0.0648513\ttest: 0.5130379\tbest: 0.4363514 (106)\ttotal: 2.21s\tremaining: 351ms\n",
      "863:\tlearn: 0.0646969\ttest: 0.5136254\tbest: 0.4363514 (106)\ttotal: 2.21s\tremaining: 349ms\n",
      "864:\tlearn: 0.0646234\ttest: 0.5136786\tbest: 0.4363514 (106)\ttotal: 2.22s\tremaining: 346ms\n",
      "865:\tlearn: 0.0645954\ttest: 0.5136504\tbest: 0.4363514 (106)\ttotal: 2.22s\tremaining: 343ms\n",
      "866:\tlearn: 0.0644275\ttest: 0.5141646\tbest: 0.4363514 (106)\ttotal: 2.22s\tremaining: 341ms\n",
      "867:\tlearn: 0.0644175\ttest: 0.5141488\tbest: 0.4363514 (106)\ttotal: 2.22s\tremaining: 338ms\n",
      "868:\tlearn: 0.0642996\ttest: 0.5141017\tbest: 0.4363514 (106)\ttotal: 2.22s\tremaining: 335ms\n",
      "869:\tlearn: 0.0642650\ttest: 0.5140505\tbest: 0.4363514 (106)\ttotal: 2.23s\tremaining: 333ms\n",
      "870:\tlearn: 0.0642099\ttest: 0.5141516\tbest: 0.4363514 (106)\ttotal: 2.23s\tremaining: 330ms\n",
      "871:\tlearn: 0.0641216\ttest: 0.5143758\tbest: 0.4363514 (106)\ttotal: 2.23s\tremaining: 328ms\n",
      "872:\tlearn: 0.0640888\ttest: 0.5142753\tbest: 0.4363514 (106)\ttotal: 2.23s\tremaining: 325ms\n",
      "873:\tlearn: 0.0639843\ttest: 0.5140849\tbest: 0.4363514 (106)\ttotal: 2.24s\tremaining: 322ms\n",
      "874:\tlearn: 0.0638465\ttest: 0.5142984\tbest: 0.4363514 (106)\ttotal: 2.24s\tremaining: 320ms\n",
      "875:\tlearn: 0.0636767\ttest: 0.5141831\tbest: 0.4363514 (106)\ttotal: 2.24s\tremaining: 317ms\n",
      "876:\tlearn: 0.0634852\ttest: 0.5145725\tbest: 0.4363514 (106)\ttotal: 2.25s\tremaining: 315ms\n",
      "877:\tlearn: 0.0634550\ttest: 0.5145651\tbest: 0.4363514 (106)\ttotal: 2.25s\tremaining: 312ms\n",
      "878:\tlearn: 0.0634329\ttest: 0.5145249\tbest: 0.4363514 (106)\ttotal: 2.25s\tremaining: 310ms\n",
      "879:\tlearn: 0.0633865\ttest: 0.5146169\tbest: 0.4363514 (106)\ttotal: 2.25s\tremaining: 307ms\n",
      "880:\tlearn: 0.0633786\ttest: 0.5145946\tbest: 0.4363514 (106)\ttotal: 2.25s\tremaining: 305ms\n",
      "881:\tlearn: 0.0632838\ttest: 0.5146732\tbest: 0.4363514 (106)\ttotal: 2.26s\tremaining: 302ms\n",
      "882:\tlearn: 0.0631558\ttest: 0.5148331\tbest: 0.4363514 (106)\ttotal: 2.26s\tremaining: 299ms\n",
      "883:\tlearn: 0.0630460\ttest: 0.5151161\tbest: 0.4363514 (106)\ttotal: 2.26s\tremaining: 297ms\n",
      "884:\tlearn: 0.0630039\ttest: 0.5151823\tbest: 0.4363514 (106)\ttotal: 2.27s\tremaining: 294ms\n",
      "885:\tlearn: 0.0628740\ttest: 0.5148952\tbest: 0.4363514 (106)\ttotal: 2.27s\tremaining: 292ms\n",
      "886:\tlearn: 0.0627551\ttest: 0.5149479\tbest: 0.4363514 (106)\ttotal: 2.27s\tremaining: 289ms\n",
      "887:\tlearn: 0.0627009\ttest: 0.5150422\tbest: 0.4363514 (106)\ttotal: 2.27s\tremaining: 287ms\n",
      "888:\tlearn: 0.0625974\ttest: 0.5148679\tbest: 0.4363514 (106)\ttotal: 2.27s\tremaining: 284ms\n",
      "889:\tlearn: 0.0624559\ttest: 0.5154450\tbest: 0.4363514 (106)\ttotal: 2.28s\tremaining: 281ms\n",
      "890:\tlearn: 0.0623719\ttest: 0.5155438\tbest: 0.4363514 (106)\ttotal: 2.28s\tremaining: 279ms\n",
      "891:\tlearn: 0.0622623\ttest: 0.5153624\tbest: 0.4363514 (106)\ttotal: 2.28s\tremaining: 276ms\n",
      "892:\tlearn: 0.0621361\ttest: 0.5156364\tbest: 0.4363514 (106)\ttotal: 2.28s\tremaining: 273ms\n",
      "893:\tlearn: 0.0620333\ttest: 0.5159630\tbest: 0.4363514 (106)\ttotal: 2.28s\tremaining: 271ms\n",
      "894:\tlearn: 0.0620092\ttest: 0.5159527\tbest: 0.4363514 (106)\ttotal: 2.29s\tremaining: 268ms\n",
      "895:\tlearn: 0.0618601\ttest: 0.5163510\tbest: 0.4363514 (106)\ttotal: 2.29s\tremaining: 266ms\n",
      "896:\tlearn: 0.0617160\ttest: 0.5169449\tbest: 0.4363514 (106)\ttotal: 2.29s\tremaining: 263ms\n",
      "897:\tlearn: 0.0616758\ttest: 0.5170415\tbest: 0.4363514 (106)\ttotal: 2.29s\tremaining: 260ms\n",
      "898:\tlearn: 0.0615767\ttest: 0.5172352\tbest: 0.4363514 (106)\ttotal: 2.29s\tremaining: 258ms\n",
      "899:\tlearn: 0.0615488\ttest: 0.5172289\tbest: 0.4363514 (106)\ttotal: 2.29s\tremaining: 255ms\n",
      "900:\tlearn: 0.0613646\ttest: 0.5176416\tbest: 0.4363514 (106)\ttotal: 2.3s\tremaining: 252ms\n",
      "901:\tlearn: 0.0612962\ttest: 0.5176379\tbest: 0.4363514 (106)\ttotal: 2.3s\tremaining: 250ms\n",
      "902:\tlearn: 0.0611149\ttest: 0.5183416\tbest: 0.4363514 (106)\ttotal: 2.3s\tremaining: 247ms\n",
      "903:\tlearn: 0.0610108\ttest: 0.5184212\tbest: 0.4363514 (106)\ttotal: 2.3s\tremaining: 245ms\n",
      "904:\tlearn: 0.0608299\ttest: 0.5185942\tbest: 0.4363514 (106)\ttotal: 2.31s\tremaining: 242ms\n",
      "905:\tlearn: 0.0608212\ttest: 0.5185485\tbest: 0.4363514 (106)\ttotal: 2.31s\tremaining: 239ms\n",
      "906:\tlearn: 0.0607147\ttest: 0.5185079\tbest: 0.4363514 (106)\ttotal: 2.31s\tremaining: 237ms\n",
      "907:\tlearn: 0.0605171\ttest: 0.5184853\tbest: 0.4363514 (106)\ttotal: 2.31s\tremaining: 234ms\n",
      "908:\tlearn: 0.0603955\ttest: 0.5187925\tbest: 0.4363514 (106)\ttotal: 2.31s\tremaining: 232ms\n",
      "909:\tlearn: 0.0603561\ttest: 0.5187846\tbest: 0.4363514 (106)\ttotal: 2.31s\tremaining: 229ms\n",
      "910:\tlearn: 0.0603478\ttest: 0.5188159\tbest: 0.4363514 (106)\ttotal: 2.32s\tremaining: 226ms\n",
      "911:\tlearn: 0.0603379\ttest: 0.5187688\tbest: 0.4363514 (106)\ttotal: 2.32s\tremaining: 224ms\n",
      "912:\tlearn: 0.0601048\ttest: 0.5194011\tbest: 0.4363514 (106)\ttotal: 2.32s\tremaining: 221ms\n",
      "913:\tlearn: 0.0600030\ttest: 0.5194830\tbest: 0.4363514 (106)\ttotal: 2.32s\tremaining: 219ms\n",
      "914:\tlearn: 0.0599079\ttest: 0.5193193\tbest: 0.4363514 (106)\ttotal: 2.32s\tremaining: 216ms\n",
      "915:\tlearn: 0.0598779\ttest: 0.5192219\tbest: 0.4363514 (106)\ttotal: 2.33s\tremaining: 213ms\n",
      "916:\tlearn: 0.0598145\ttest: 0.5191778\tbest: 0.4363514 (106)\ttotal: 2.33s\tremaining: 211ms\n",
      "917:\tlearn: 0.0597329\ttest: 0.5195054\tbest: 0.4363514 (106)\ttotal: 2.33s\tremaining: 208ms\n",
      "918:\tlearn: 0.0596557\ttest: 0.5198307\tbest: 0.4363514 (106)\ttotal: 2.33s\tremaining: 206ms\n",
      "919:\tlearn: 0.0595753\ttest: 0.5202736\tbest: 0.4363514 (106)\ttotal: 2.33s\tremaining: 203ms\n",
      "920:\tlearn: 0.0595189\ttest: 0.5204367\tbest: 0.4363514 (106)\ttotal: 2.33s\tremaining: 200ms\n",
      "921:\tlearn: 0.0593905\ttest: 0.5205312\tbest: 0.4363514 (106)\ttotal: 2.34s\tremaining: 198ms\n",
      "922:\tlearn: 0.0593707\ttest: 0.5205047\tbest: 0.4363514 (106)\ttotal: 2.34s\tremaining: 195ms\n",
      "923:\tlearn: 0.0592557\ttest: 0.5205021\tbest: 0.4363514 (106)\ttotal: 2.34s\tremaining: 193ms\n",
      "924:\tlearn: 0.0590629\ttest: 0.5204937\tbest: 0.4363514 (106)\ttotal: 2.34s\tremaining: 190ms\n",
      "925:\tlearn: 0.0589699\ttest: 0.5206438\tbest: 0.4363514 (106)\ttotal: 2.35s\tremaining: 187ms\n",
      "926:\tlearn: 0.0587306\ttest: 0.5210760\tbest: 0.4363514 (106)\ttotal: 2.35s\tremaining: 185ms\n",
      "927:\tlearn: 0.0587241\ttest: 0.5210971\tbest: 0.4363514 (106)\ttotal: 2.35s\tremaining: 182ms\n",
      "928:\tlearn: 0.0587029\ttest: 0.5212285\tbest: 0.4363514 (106)\ttotal: 2.35s\tremaining: 180ms\n",
      "929:\tlearn: 0.0586936\ttest: 0.5211838\tbest: 0.4363514 (106)\ttotal: 2.35s\tremaining: 177ms\n",
      "930:\tlearn: 0.0585087\ttest: 0.5213905\tbest: 0.4363514 (106)\ttotal: 2.36s\tremaining: 175ms\n",
      "931:\tlearn: 0.0584865\ttest: 0.5213584\tbest: 0.4363514 (106)\ttotal: 2.36s\tremaining: 172ms\n",
      "932:\tlearn: 0.0584156\ttest: 0.5214949\tbest: 0.4363514 (106)\ttotal: 2.36s\tremaining: 170ms\n",
      "933:\tlearn: 0.0583855\ttest: 0.5214575\tbest: 0.4363514 (106)\ttotal: 2.36s\tremaining: 167ms\n",
      "934:\tlearn: 0.0583393\ttest: 0.5217514\tbest: 0.4363514 (106)\ttotal: 2.36s\tremaining: 164ms\n",
      "935:\tlearn: 0.0581689\ttest: 0.5220580\tbest: 0.4363514 (106)\ttotal: 2.37s\tremaining: 162ms\n",
      "936:\tlearn: 0.0580420\ttest: 0.5219454\tbest: 0.4363514 (106)\ttotal: 2.37s\tremaining: 159ms\n",
      "937:\tlearn: 0.0579869\ttest: 0.5220515\tbest: 0.4363514 (106)\ttotal: 2.37s\tremaining: 157ms\n",
      "938:\tlearn: 0.0578994\ttest: 0.5222118\tbest: 0.4363514 (106)\ttotal: 2.37s\tremaining: 154ms\n",
      "939:\tlearn: 0.0577828\ttest: 0.5224022\tbest: 0.4363514 (106)\ttotal: 2.37s\tremaining: 151ms\n",
      "940:\tlearn: 0.0577750\ttest: 0.5223560\tbest: 0.4363514 (106)\ttotal: 2.38s\tremaining: 149ms\n",
      "941:\tlearn: 0.0577040\ttest: 0.5223205\tbest: 0.4363514 (106)\ttotal: 2.38s\tremaining: 146ms\n",
      "942:\tlearn: 0.0575973\ttest: 0.5222281\tbest: 0.4363514 (106)\ttotal: 2.38s\tremaining: 144ms\n",
      "943:\tlearn: 0.0575185\ttest: 0.5225367\tbest: 0.4363514 (106)\ttotal: 2.38s\tremaining: 141ms\n",
      "944:\tlearn: 0.0574618\ttest: 0.5223888\tbest: 0.4363514 (106)\ttotal: 2.38s\tremaining: 139ms\n",
      "945:\tlearn: 0.0574005\ttest: 0.5223720\tbest: 0.4363514 (106)\ttotal: 2.38s\tremaining: 136ms\n",
      "946:\tlearn: 0.0573622\ttest: 0.5223659\tbest: 0.4363514 (106)\ttotal: 2.39s\tremaining: 134ms\n",
      "947:\tlearn: 0.0573398\ttest: 0.5223967\tbest: 0.4363514 (106)\ttotal: 2.39s\tremaining: 131ms\n",
      "948:\tlearn: 0.0572088\ttest: 0.5222950\tbest: 0.4363514 (106)\ttotal: 2.39s\tremaining: 128ms\n"
     ]
    },
    {
     "name": "stdout",
     "output_type": "stream",
     "text": [
      "949:\tlearn: 0.0570526\ttest: 0.5224761\tbest: 0.4363514 (106)\ttotal: 2.39s\tremaining: 126ms\n",
      "950:\tlearn: 0.0569607\ttest: 0.5225126\tbest: 0.4363514 (106)\ttotal: 2.4s\tremaining: 123ms\n",
      "951:\tlearn: 0.0568524\ttest: 0.5224336\tbest: 0.4363514 (106)\ttotal: 2.4s\tremaining: 121ms\n",
      "952:\tlearn: 0.0567131\ttest: 0.5225408\tbest: 0.4363514 (106)\ttotal: 2.4s\tremaining: 118ms\n",
      "953:\tlearn: 0.0565551\ttest: 0.5224780\tbest: 0.4363514 (106)\ttotal: 2.4s\tremaining: 116ms\n",
      "954:\tlearn: 0.0565065\ttest: 0.5225690\tbest: 0.4363514 (106)\ttotal: 2.4s\tremaining: 113ms\n",
      "955:\tlearn: 0.0563456\ttest: 0.5227478\tbest: 0.4363514 (106)\ttotal: 2.41s\tremaining: 111ms\n",
      "956:\tlearn: 0.0562577\ttest: 0.5227875\tbest: 0.4363514 (106)\ttotal: 2.41s\tremaining: 108ms\n",
      "957:\tlearn: 0.0561850\ttest: 0.5227915\tbest: 0.4363514 (106)\ttotal: 2.41s\tremaining: 106ms\n",
      "958:\tlearn: 0.0561284\ttest: 0.5227522\tbest: 0.4363514 (106)\ttotal: 2.42s\tremaining: 103ms\n",
      "959:\tlearn: 0.0560943\ttest: 0.5227748\tbest: 0.4363514 (106)\ttotal: 2.42s\tremaining: 101ms\n",
      "960:\tlearn: 0.0559097\ttest: 0.5229027\tbest: 0.4363514 (106)\ttotal: 2.42s\tremaining: 98.3ms\n",
      "961:\tlearn: 0.0558308\ttest: 0.5227642\tbest: 0.4363514 (106)\ttotal: 2.42s\tremaining: 95.7ms\n",
      "962:\tlearn: 0.0557739\ttest: 0.5229349\tbest: 0.4363514 (106)\ttotal: 2.43s\tremaining: 93.2ms\n",
      "963:\tlearn: 0.0557517\ttest: 0.5229704\tbest: 0.4363514 (106)\ttotal: 2.43s\tremaining: 90.7ms\n",
      "964:\tlearn: 0.0556566\ttest: 0.5229287\tbest: 0.4363514 (106)\ttotal: 2.43s\tremaining: 88.2ms\n",
      "965:\tlearn: 0.0555820\ttest: 0.5232217\tbest: 0.4363514 (106)\ttotal: 2.43s\tremaining: 85.6ms\n",
      "966:\tlearn: 0.0555212\ttest: 0.5231922\tbest: 0.4363514 (106)\ttotal: 2.44s\tremaining: 83.1ms\n",
      "967:\tlearn: 0.0554186\ttest: 0.5234357\tbest: 0.4363514 (106)\ttotal: 2.44s\tremaining: 80.6ms\n",
      "968:\tlearn: 0.0553593\ttest: 0.5234070\tbest: 0.4363514 (106)\ttotal: 2.44s\tremaining: 78ms\n",
      "969:\tlearn: 0.0552337\ttest: 0.5238567\tbest: 0.4363514 (106)\ttotal: 2.44s\tremaining: 75.5ms\n",
      "970:\tlearn: 0.0550871\ttest: 0.5239755\tbest: 0.4363514 (106)\ttotal: 2.44s\tremaining: 73ms\n",
      "971:\tlearn: 0.0550603\ttest: 0.5239629\tbest: 0.4363514 (106)\ttotal: 2.44s\tremaining: 70.4ms\n",
      "972:\tlearn: 0.0549802\ttest: 0.5239909\tbest: 0.4363514 (106)\ttotal: 2.45s\tremaining: 67.9ms\n",
      "973:\tlearn: 0.0549410\ttest: 0.5242991\tbest: 0.4363514 (106)\ttotal: 2.45s\tremaining: 65.4ms\n",
      "974:\tlearn: 0.0548829\ttest: 0.5242720\tbest: 0.4363514 (106)\ttotal: 2.45s\tremaining: 62.8ms\n",
      "975:\tlearn: 0.0547462\ttest: 0.5244923\tbest: 0.4363514 (106)\ttotal: 2.45s\tremaining: 60.3ms\n",
      "976:\tlearn: 0.0547086\ttest: 0.5245843\tbest: 0.4363514 (106)\ttotal: 2.46s\tremaining: 57.8ms\n",
      "977:\tlearn: 0.0546640\ttest: 0.5246716\tbest: 0.4363514 (106)\ttotal: 2.46s\tremaining: 55.3ms\n",
      "978:\tlearn: 0.0546444\ttest: 0.5246494\tbest: 0.4363514 (106)\ttotal: 2.46s\tremaining: 52.7ms\n",
      "979:\tlearn: 0.0545556\ttest: 0.5247507\tbest: 0.4363514 (106)\ttotal: 2.46s\tremaining: 50.2ms\n",
      "980:\tlearn: 0.0544995\ttest: 0.5247236\tbest: 0.4363514 (106)\ttotal: 2.46s\tremaining: 47.7ms\n",
      "981:\tlearn: 0.0544539\ttest: 0.5248993\tbest: 0.4363514 (106)\ttotal: 2.46s\tremaining: 45.2ms\n",
      "982:\tlearn: 0.0542925\ttest: 0.5254373\tbest: 0.4363514 (106)\ttotal: 2.47s\tremaining: 42.7ms\n",
      "983:\tlearn: 0.0542159\ttest: 0.5255214\tbest: 0.4363514 (106)\ttotal: 2.47s\tremaining: 40.1ms\n",
      "984:\tlearn: 0.0541776\ttest: 0.5258265\tbest: 0.4363514 (106)\ttotal: 2.47s\tremaining: 37.6ms\n",
      "985:\tlearn: 0.0541693\ttest: 0.5257842\tbest: 0.4363514 (106)\ttotal: 2.47s\tremaining: 35.1ms\n",
      "986:\tlearn: 0.0541105\ttest: 0.5258814\tbest: 0.4363514 (106)\ttotal: 2.47s\tremaining: 32.6ms\n",
      "987:\tlearn: 0.0540072\ttest: 0.5258372\tbest: 0.4363514 (106)\ttotal: 2.48s\tremaining: 30.1ms\n",
      "988:\tlearn: 0.0539910\ttest: 0.5258061\tbest: 0.4363514 (106)\ttotal: 2.48s\tremaining: 27.6ms\n",
      "989:\tlearn: 0.0539237\ttest: 0.5258623\tbest: 0.4363514 (106)\ttotal: 2.48s\tremaining: 25ms\n",
      "990:\tlearn: 0.0538082\ttest: 0.5259583\tbest: 0.4363514 (106)\ttotal: 2.48s\tremaining: 22.5ms\n",
      "991:\tlearn: 0.0536723\ttest: 0.5263779\tbest: 0.4363514 (106)\ttotal: 2.48s\tremaining: 20ms\n",
      "992:\tlearn: 0.0536644\ttest: 0.5263969\tbest: 0.4363514 (106)\ttotal: 2.48s\tremaining: 17.5ms\n",
      "993:\tlearn: 0.0536447\ttest: 0.5263797\tbest: 0.4363514 (106)\ttotal: 2.49s\tremaining: 15ms\n",
      "994:\tlearn: 0.0535227\ttest: 0.5265185\tbest: 0.4363514 (106)\ttotal: 2.49s\tremaining: 12.5ms\n",
      "995:\tlearn: 0.0533987\ttest: 0.5267548\tbest: 0.4363514 (106)\ttotal: 2.49s\tremaining: 10ms\n",
      "996:\tlearn: 0.0533495\ttest: 0.5269113\tbest: 0.4363514 (106)\ttotal: 2.49s\tremaining: 7.5ms\n",
      "997:\tlearn: 0.0533312\ttest: 0.5268892\tbest: 0.4363514 (106)\ttotal: 2.5s\tremaining: 5ms\n",
      "998:\tlearn: 0.0532124\ttest: 0.5269133\tbest: 0.4363514 (106)\ttotal: 2.5s\tremaining: 2.5ms\n",
      "999:\tlearn: 0.0531200\ttest: 0.5270740\tbest: 0.4363514 (106)\ttotal: 2.5s\tremaining: 0us\n",
      "\n",
      "bestTest = 0.4363514008\n",
      "bestIteration = 106\n",
      "\n",
      "Shrink model to first 107 iterations.\n"
     ]
    },
    {
     "data": {
      "text/plain": [
       "0.819047619047619"
      ]
     },
     "execution_count": 199,
     "metadata": {},
     "output_type": "execute_result"
    }
   ],
   "source": [
    "from catboost import CatBoostClassifier\n",
    "model=CatBoostClassifier()\n",
    "categorical_features_indices = np.where(train_X.dtypes != np.float)[0]\n",
    "model.fit(train_X,train_y,cat_features=(categorical_features_indices),eval_set=(test_X, test_y))\n",
    "model.score(test_X,test_y)"
   ]
  },
  {
   "cell_type": "code",
   "execution_count": null,
   "metadata": {},
   "outputs": [],
   "source": []
  },
  {
   "cell_type": "code",
   "execution_count": null,
   "metadata": {},
   "outputs": [],
   "source": []
  },
  {
   "cell_type": "markdown",
   "metadata": {},
   "source": [
    "## Support Vector Machines (SVC)"
   ]
  },
  {
   "cell_type": "markdown",
   "metadata": {},
   "source": [
    "##### Important Tuning Parameters for Support Vector Classifier: \n",
    "- C - C is the penalty parameter of the error term. It controls the trade off between smooth decision boundary and classifying the training points correctly\n",
    "- class_weight - Weights associated with classes in the form class_label : Weight. If not given, all classes are supposed to have weight one.\n",
    "- degree - degree is a parameter used when kernel is set to poly. It’s basically the degree of the polynomial used to find the hyperplane to split the data.\n",
    "- gamma - kernel coefficient for rbf, ploy and sigmoid to handle non-linear classification\n",
    "- kernel - This selects the type of hyperplane used to separate the data.\n",
    "- tol - tolerance for stopping criterion."
   ]
  },
  {
   "cell_type": "code",
   "execution_count": 1,
   "metadata": {},
   "outputs": [],
   "source": [
    "#sklern.svm\n",
    "from sklearn.svm import LinearSVC, LinearSVR, SVC, SVR"
   ]
  },
  {
   "cell_type": "code",
   "execution_count": null,
   "metadata": {},
   "outputs": [],
   "source": [
    "model = SVC(kernel='rbf', class_weight='balanced', probability=True)"
   ]
  },
  {
   "cell_type": "code",
   "execution_count": null,
   "metadata": {},
   "outputs": [],
   "source": [
    "model.fit(train_X, train_y)"
   ]
  },
  {
   "cell_type": "code",
   "execution_count": null,
   "metadata": {},
   "outputs": [],
   "source": [
    "#Train data - AUC Score\n",
    "print(metrics.roc_auc_score(train_y, pd.DataFrame(model.predict_proba(train_X))[1]))\n",
    "\n",
    "#Test data - AUC Score\n",
    "print(metrics.roc_auc_score(test_y, pd.DataFrame(model.predict_proba(test_X))[1]))"
   ]
  },
  {
   "cell_type": "code",
   "execution_count": null,
   "metadata": {},
   "outputs": [],
   "source": [
    "from sklearn.model_selection import GridSearchCV\n",
    "param_grid = {'C': [1, 5, 10, 50],\n",
    "              'kernel': ['rbf', 'poly', 'linear'],\n",
    "             'degree' :[1,2,3] }\n",
    "model = SVC()\n",
    "grid = GridSearchCV(model, param_grid)\n",
    "\n",
    "grid.fit(train_X, train_y)"
   ]
  },
  {
   "cell_type": "code",
   "execution_count": null,
   "metadata": {},
   "outputs": [],
   "source": [
    "print(grid.best_params_)"
   ]
  },
  {
   "cell_type": "code",
   "execution_count": null,
   "metadata": {},
   "outputs": [],
   "source": [
    "model = grid.best_estimator_\n",
    "yfit = model.predict(test_X)"
   ]
  },
  {
   "cell_type": "code",
   "execution_count": null,
   "metadata": {},
   "outputs": [],
   "source": [
    "from sklearn.metrics import classification_report\n",
    "print(classification_report(test_y, yfit))"
   ]
  },
  {
   "cell_type": "markdown",
   "metadata": {},
   "source": [
    "## Artificial Neural Networks (ANN) using sklearn"
   ]
  },
  {
   "cell_type": "markdown",
   "metadata": {},
   "source": [
    "##### Important Tuning Parameters for ANN using SKLearn: \n",
    "- hidden_layer_size - The number of neurons in the hidden layer.\n",
    "- learning_rate - option to use different learning rate for weight updates.\n",
    "- max_iter - maximum number of iterations. This will decide  when to stop the solver, either the solver converges or this maximum number of iterations.\n",
    "- momentum - momentum for gradient descent update. This will try to avoid trap the local minimum.\n",
    "- solver - The option to choose different algorithm for weight optimization.\n",
    "- batch_size - size of minibatches for stochastic optimizer. This is the option that will decide how much samples will be used in online learning\n",
    "- alpha - This parameter controls the regularization which help avoiding Overfitting.\n",
    "- activation - This is to define different activation functions."
   ]
  },
  {
   "cell_type": "code",
   "execution_count": null,
   "metadata": {},
   "outputs": [],
   "source": [
    "from sklearn.neural_network import MLPClassifier, MLPRegressor"
   ]
  },
  {
   "cell_type": "code",
   "execution_count": null,
   "metadata": {},
   "outputs": [],
   "source": [
    "from sklearn.preprocessing import StandardScaler\n",
    "scaler = StandardScaler()\n",
    "# Fit only to the training data\n",
    "scaler.fit(train_X)"
   ]
  },
  {
   "cell_type": "code",
   "execution_count": null,
   "metadata": {},
   "outputs": [],
   "source": [
    "# Now apply the transformations to the data:\n",
    "train_X = scaler.transform(train_X)\n",
    "test_X = scaler.transform(test_X)"
   ]
  },
  {
   "cell_type": "code",
   "execution_count": null,
   "metadata": {},
   "outputs": [],
   "source": [
    "MLPClassifier?"
   ]
  },
  {
   "cell_type": "code",
   "execution_count": null,
   "metadata": {},
   "outputs": [],
   "source": [
    "mlp = MLPClassifier(hidden_layer_sizes=(30,30,30))"
   ]
  },
  {
   "cell_type": "code",
   "execution_count": null,
   "metadata": {},
   "outputs": [],
   "source": [
    "mlp.fit(train_X,train_y)"
   ]
  },
  {
   "cell_type": "code",
   "execution_count": null,
   "metadata": {},
   "outputs": [],
   "source": [
    "predictions = mlp.predict(test_X)"
   ]
  },
  {
   "cell_type": "code",
   "execution_count": null,
   "metadata": {},
   "outputs": [],
   "source": [
    "test_X.shape"
   ]
  },
  {
   "cell_type": "code",
   "execution_count": null,
   "metadata": {},
   "outputs": [],
   "source": [
    "from sklearn.metrics import classification_report,confusion_matrix\n",
    "print(confusion_matrix(test_y,predictions))"
   ]
  },
  {
   "cell_type": "code",
   "execution_count": null,
   "metadata": {},
   "outputs": [],
   "source": [
    "print(classification_report(test_y,predictions))"
   ]
  },
  {
   "cell_type": "code",
   "execution_count": null,
   "metadata": {},
   "outputs": [],
   "source": [
    "mlp.coefs_"
   ]
  },
  {
   "cell_type": "code",
   "execution_count": null,
   "metadata": {},
   "outputs": [],
   "source": [
    "len(mlp.coefs_)"
   ]
  },
  {
   "cell_type": "markdown",
   "metadata": {},
   "source": [
    "### ANN using Keras"
   ]
  },
  {
   "cell_type": "markdown",
   "metadata": {},
   "source": [
    "##### Important Tuning Parameters for ANN using SKLearn: \n",
    "- Define Architecture by adding layers and number of nuerons\n",
    "- learning_rate - option to use different learning rate for weight updates.\n",
    "- nb_epochs - maximum number of epochs\n",
    "- Optimizer - The option to choose different algorithm for weight optimization.\n",
    "- batch_size - size of minibatches for stochastic optimizer. This is the option that will decide how much samples will be used in online learning\n",
    "- loss - The option to choos different loss functions\n",
    "- activation - This is to define different activation functions.\n",
    "- metrics - this is to define metric to compare train & test accuracies"
   ]
  },
  {
   "cell_type": "code",
   "execution_count": null,
   "metadata": {},
   "outputs": [],
   "source": [
    "# Importing the Keras libraries and packages\n",
    "import keras                        #you need to install keras using pip install keras, pip install tensorflow\n",
    "from keras.models import Sequential\n",
    "from keras.layers import Dense"
   ]
  },
  {
   "cell_type": "code",
   "execution_count": null,
   "metadata": {},
   "outputs": [],
   "source": [
    "from sklearn.preprocessing import StandardScaler"
   ]
  },
  {
   "cell_type": "code",
   "execution_count": null,
   "metadata": {},
   "outputs": [],
   "source": [
    "train_X, test_X, train_y, test_y = train_test_split(X, y, test_size=0.3, random_state=123)"
   ]
  },
  {
   "cell_type": "code",
   "execution_count": null,
   "metadata": {},
   "outputs": [],
   "source": [
    "#Standardization of data\n",
    "sc = StandardScaler()\n",
    "std_data = sc.fit_transform(train_X)"
   ]
  },
  {
   "cell_type": "code",
   "execution_count": null,
   "metadata": {},
   "outputs": [],
   "source": [
    "std_data_train = pd.DataFrame(std_data, columns=train_X.columns, index = train_X.index )"
   ]
  },
  {
   "cell_type": "code",
   "execution_count": null,
   "metadata": {},
   "outputs": [],
   "source": [
    "std_data_test = pd.DataFrame(sc.transform(test_X), columns=test_X.columns, index = test_X.index )"
   ]
  },
  {
   "cell_type": "code",
   "execution_count": null,
   "metadata": {},
   "outputs": [],
   "source": [
    "std_data_train.shape"
   ]
  },
  {
   "cell_type": "markdown",
   "metadata": {},
   "source": [
    "### Define ANN"
   ]
  },
  {
   "cell_type": "code",
   "execution_count": null,
   "metadata": {},
   "outputs": [],
   "source": [
    "#Initializing Neural Network\n",
    "classifier = Sequential()"
   ]
  },
  {
   "cell_type": "code",
   "execution_count": null,
   "metadata": {},
   "outputs": [],
   "source": [
    "# Adding the input layer and the first hidden layer\n",
    "classifier.add(Dense(output_dim = 10, init = 'uniform', activation = 'relu', input_dim = 5))\n",
    "# Adding the second hidden layer\n",
    "classifier.add(Dense(output_dim = 10, init = 'uniform', activation = 'relu'))\n",
    "# Adding the output layer\n",
    "classifier.add(Dense(output_dim = 1, init = 'uniform', activation = 'sigmoid'))"
   ]
  },
  {
   "cell_type": "code",
   "execution_count": null,
   "metadata": {},
   "outputs": [],
   "source": [
    "# Compiling Neural Network\n",
    "classifier.compile(optimizer = 'sgd', loss = 'binary_crossentropy', metrics = ['accuracy'])\n",
    "#Regression\n",
    "#classifier.compile(optimizer = 'sgd', loss = 'mse', metrics = ['r2'])"
   ]
  },
  {
   "cell_type": "code",
   "execution_count": null,
   "metadata": {},
   "outputs": [],
   "source": [
    "classifier.summary()"
   ]
  },
  {
   "cell_type": "code",
   "execution_count": null,
   "metadata": {},
   "outputs": [],
   "source": [
    "std_data_train.shape"
   ]
  },
  {
   "cell_type": "code",
   "execution_count": null,
   "metadata": {},
   "outputs": [],
   "source": [
    "# Fitting our model \n",
    "classifier.fit(std_data_train, train_y, batch_size = 10, nb_epoch = 100)"
   ]
  },
  {
   "cell_type": "code",
   "execution_count": null,
   "metadata": {},
   "outputs": [],
   "source": [
    "classifier.get_weights()"
   ]
  },
  {
   "cell_type": "markdown",
   "metadata": {},
   "source": [
    "#### Train"
   ]
  },
  {
   "cell_type": "code",
   "execution_count": null,
   "metadata": {},
   "outputs": [],
   "source": [
    "from sklearn.metrics import confusion_matrix, classification_report"
   ]
  },
  {
   "cell_type": "code",
   "execution_count": null,
   "metadata": {},
   "outputs": [],
   "source": [
    "# Predicting the Train set results\n",
    "y_pred_train = classifier.predict(std_data_train)"
   ]
  },
  {
   "cell_type": "code",
   "execution_count": null,
   "metadata": {},
   "outputs": [],
   "source": [
    "y_pred_train = (y_pred_train > 0.11)"
   ]
  },
  {
   "cell_type": "code",
   "execution_count": null,
   "metadata": {},
   "outputs": [],
   "source": [
    "# Creating the Confusion Matrix\n",
    "cm_train = confusion_matrix(train_y, y_pred_train)"
   ]
  },
  {
   "cell_type": "code",
   "execution_count": null,
   "metadata": {},
   "outputs": [],
   "source": [
    "cm_train"
   ]
  },
  {
   "cell_type": "code",
   "execution_count": null,
   "metadata": {},
   "outputs": [],
   "source": [
    "print(classification_report(train_y, y_pred_train))"
   ]
  },
  {
   "cell_type": "markdown",
   "metadata": {},
   "source": [
    "#### Test"
   ]
  },
  {
   "cell_type": "code",
   "execution_count": null,
   "metadata": {},
   "outputs": [],
   "source": [
    "# Predicting the Test set results\n",
    "y_pred = classifier.predict(std_data_test)\n",
    "y_pred = (y_pred > 0.11)"
   ]
  },
  {
   "cell_type": "code",
   "execution_count": null,
   "metadata": {},
   "outputs": [],
   "source": [
    "# Creating the Confusion Matrix\n",
    "cm = confusion_matrix(test_y, y_pred)"
   ]
  },
  {
   "cell_type": "code",
   "execution_count": null,
   "metadata": {},
   "outputs": [],
   "source": [
    "cm"
   ]
  },
  {
   "cell_type": "code",
   "execution_count": null,
   "metadata": {},
   "outputs": [],
   "source": [
    "print(classification_report(test_y, y_pred))"
   ]
  },
  {
   "cell_type": "markdown",
   "metadata": {},
   "source": [
    "###### ----------------------------------------------------------------------------------------- End ---------------------------------------------------------------------------------------------------------------######"
   ]
  },
  {
   "cell_type": "code",
   "execution_count": null,
   "metadata": {},
   "outputs": [],
   "source": []
  }
 ],
 "metadata": {
  "kernelspec": {
   "display_name": "Python 3 (ipykernel)",
   "language": "python",
   "name": "python3"
  },
  "language_info": {
   "codemirror_mode": {
    "name": "ipython",
    "version": 3
   },
   "file_extension": ".py",
   "mimetype": "text/x-python",
   "name": "python",
   "nbconvert_exporter": "python",
   "pygments_lexer": "ipython3",
   "version": "3.9.13"
  },
  "varInspector": {
   "cols": {
    "lenName": 16,
    "lenType": 16,
    "lenVar": 40
   },
   "kernels_config": {
    "python": {
     "delete_cmd_postfix": "",
     "delete_cmd_prefix": "del ",
     "library": "var_list.py",
     "varRefreshCmd": "print(var_dic_list())"
    },
    "r": {
     "delete_cmd_postfix": ") ",
     "delete_cmd_prefix": "rm(",
     "library": "var_list.r",
     "varRefreshCmd": "cat(var_dic_list()) "
    }
   },
   "types_to_exclude": [
    "module",
    "function",
    "builtin_function_or_method",
    "instance",
    "_Feature"
   ],
   "window_display": false
  }
 },
 "nbformat": 4,
 "nbformat_minor": 2
}
